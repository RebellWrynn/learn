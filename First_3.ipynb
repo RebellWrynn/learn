{
 "cells": [
  {
   "cell_type": "markdown",
   "metadata": {},
   "source": [
    "# задание от 16.12.2024"
   ]
  },
  {
   "cell_type": "markdown",
   "metadata": {},
   "source": [
    "### Задание 1. \n",
    "\n",
    "- освоить markdown.\n",
    "\n",
    "- освоил markdown."
   ]
  },
  {
   "cell_type": "code",
   "execution_count": 6,
   "metadata": {},
   "outputs": [],
   "source": [
    "a = 25"
   ]
  },
  {
   "cell_type": "code",
   "execution_count": 7,
   "metadata": {},
   "outputs": [
    {
     "name": "stdout",
     "output_type": "stream",
     "text": [
      "25\n"
     ]
    }
   ],
   "source": [
    "print(a)"
   ]
  },
  {
   "cell_type": "markdown",
   "metadata": {},
   "source": [
    "### Задание 2.\n",
    "\n",
    "Переменные.\n",
    "\n",
    "#### Переменные в С++\n",
    "\n",
    "валидный идетнификатор переменной, это последовательность одного или многих букв, цифр или нижних подчеркиваний. Пробелы, знаки пунктуации и символы не могут использоваться для имени переменной  \n",
    "\n",
    "Переменные в c++ чувствительны к регистру, поэтому переменная A и a , это две разные переменные \n",
    "\n",
    "в c++ есть ключевые слова, из за которых нельзя задавать переменные с такими именами:"
   ]
  },
  {
   "cell_type": "code",
   "execution_count": 8,
   "metadata": {},
   "outputs": [
    {
     "ename": "SyntaxError",
     "evalue": "invalid syntax (3203124928.py, line 1)",
     "output_type": "error",
     "traceback": [
      "\u001b[1;36m  Cell \u001b[1;32mIn[8], line 1\u001b[1;36m\u001b[0m\n\u001b[1;33m    alignas, alignof, and, and_eq, asm, auto, bitand, bitor, bool, break, case, catch, char, char16_t, char32_t, class, compl, const, constexpr, const_cast, continue, decltype, default, delete, do, double, dynamic_cast, else, enum, explicit, export, extern, false, float, for, friend, goto, if, inline, int, long, mutable, namespace, new, noexcept, not, not_eq, nullptr, operator, or, or_eq, private, protected, public, register, reinterpret_cast, return, short, signed, sizeof, static, static_assert, static_cast, struct, switch, template, this, thread_local, throw, true, try, typedef, typeid, typename, union, unsigned, using, virtual, void, volatile, wchar_t, while, xor, xor_eq\u001b[0m\n\u001b[1;37m                      ^\u001b[0m\n\u001b[1;31mSyntaxError\u001b[0m\u001b[1;31m:\u001b[0m invalid syntax\n"
     ]
    }
   ],
   "source": [
    "alignas, alignof, and, and_eq, asm, auto, bitand, bitor, bool, break, case, catch, char, char16_t, char32_t, class, compl, const, constexpr, const_cast, continue, decltype, default, delete, do, double, dynamic_cast, else, enum, explicit, export, extern, false, float, for, friend, goto, if, inline, int, long, mutable, namespace, new, noexcept, not, not_eq, nullptr, operator, or, or_eq, private, protected, public, register, reinterpret_cast, return, short, signed, sizeof, static, static_assert, static_cast, struct, switch, template, this, thread_local, throw, true, try, typedef, typeid, typename, union, unsigned, using, virtual, void, volatile, wchar_t, while, xor, xor_eq"
   ]
  },
  {
   "cell_type": "markdown",
   "metadata": {},
   "source": [
    "значения переменных расположены где-то на пк, в виде бинарного кода. Программе не нужно знать конкретное расположение хранение переменных, она просто вызывает их по имени из ос, когда нужно.Программе нужно знать какие данные хранятся в переменной. Потому что хранить число это не тоже самое, что и хранить букву, потому что они интерпретируются по разному и занимают разный объем памяти\n",
    "\n",
    "фундаментальные типы данных:\n",
    "- character types: они могут представлять один символ, например «A» или «$». Самый простой тип — char, который представляет собой однобайтовый символ. Другие типы также предусмотрены для более широких символов.\n",
    "- numericial integer types: они могут хранить целое число, например 7 или 1024. Они существуют в различных размерах и могут быть как знаковыми, так и беззнаковыми, в зависимости от того, поддерживают ли они отрицательные значения или нет.\n",
    "- floating-point types: они могут представлять действительные значения, например 3,14 или 0,01, с разным уровнем точности, в зависимости от того, какой из трех типов с плавающей запятой используется.\n",
    "- boolean type: Логический тип, известный в C++ как bool, может представлять только одно из двух состояний: true или false.\n",
    "\n",
    "Описанные выше типы (символы, целые числа, числа с плавающей запятой и логические значения) вместе называются арифметическими типами. Но существуют два дополнительных фундаментальных типа: void, который указывает на отсутствие типа; и тип nullptr, который является специальным типом указателя\n",
    "\n",
    "Есть еще один фундоментальный тип данных, string, он может хранить последовательность букв, слов или предложений \n",
    "\n",
    "Значение переменной можно объявить как в начале кода и не присваивать ей значение(она будет неопределенной пока не получит значение), так и переед ее использованием \n",
    "\n",
    "Переменную можно инициализировать разными способами:\n",
    "- int x = 0;\n",
    "- int x (0);\n",
    "- int x {0};\n",
    "\n",
    "Когда инициализируется новая переменная, компилятор может автоматически определить тип переменной с помощью инициализатора. Для этого достаточно использовать auto в качестве спецификатора типа переменной:"
   ]
  },
  {
   "cell_type": "code",
   "execution_count": null,
   "metadata": {},
   "outputs": [],
   "source": [
    "int foo = 0;\n",
    "auto bar = foo;  // the same as: int bar = foo;"
   ]
  },
  {
   "cell_type": "markdown",
   "metadata": {},
   "source": [
    "в c++  типизация статическая(т.е. тип переменной определяется заранее, до запуска программы)\n",
    "\n",
    "\n",
    "\n",
    "#### Переменные в Питон.\n",
    "\n",
    "питон это язык с динамической типизацией(т.е тип переменной определяется во время исполнения программы)\n",
    "\n",
    "я не смог найти больше уникальной информации по питону, они как будто идентичные за исключением предложения выше\n",
    "\n",
    "В чём разница и что общее в переменных в питон и в С++?\n",
    "\n",
    "- питон не требует явного объявления переменной перед ее использованием. Переменная создается при первой инициализации(в то время, как c++ требует)\n",
    "- В обоих языках переменные используются для хранения данных, которые могут быть использованы и изменены на протяжении выполнения программы\n",
    "- В обоих языках для именования переменных применяются идентификаторы, которые могут содержать буквы, цифры и символы, такие как подчеркивание, но не могут начинаться с цифры.\n",
    "- Python: Динамически типизированный язык. Это означает, что тип переменной определяется во время выполнения. Вы можете присвоить переменной значение любого типа, и она может изменять свой тип\n",
    "- C++: Статически типизированный язык. Тип переменной необходимо определить на этапе компиляции. Это требует указания типа переменной во время ее объявления\n",
    "- Python: Переменные могут быть объявлены без указания типа, просто присвоением значения\n",
    "- C++: Переменные должны быть объявлены с указанием типа их данных\n",
    "- оба языка чувствительны к регистрам\n",
    "- переменные в обоих языках могут быть локальными(внутри одной функции), глобальными(внутри файла)\n",
    "\n",
    "https://cplusplus.com/\n",
    "\n",
    "30 строк.\n",
    "\n",
    "Выделите три главных пункта они должны быть одинаковы в двух языках.\n",
    "- У переменных одни и те же типы \n",
    "- Переменные состоят из имени и значения. При этом они хранят в себе не само значение, а ссылку на его адрес в памяти\n",
    "- значение в переменных могут изменятся во время процесса программы \n",
    "\n",
    "больше информации по переменным я не смог найти \n",
    "\n",
    "### Задание 2.\n",
    "Функция, устройство.\n",
    "\n",
    "Функция — это группа операторов, которым присвоено имя и которые можно вызвать из определенного места программы\n",
    "\n",
    "Описать устройство функции.\n",
    "\n",
    "в c++ устройство функции выглядит так: \n",
    "\n",
    "type name ( parameter1, parameter2, ...) { statements }\n",
    "\n",
    "Где:\n",
    "- type тип значения, возвращаемого функцией.\n",
    "- name идентификатор, которым называется функция.\n",
    "- parameters (может быть много): параметр- переменные самой функции  . Назначение параметров — разрешить передачу аргументов функции из того места, откуда она вызывается..\n",
    "- statements тело функции. Это блок, в котором пишутся действия функции.\n",
    "\n",
    "\n",
    "\n",
    "Напишите функцию на С++"
   ]
  },
  {
   "cell_type": "code",
   "execution_count": null,
   "metadata": {},
   "outputs": [],
   "source": [
    "int main()\n",
    "{\n",
    "    int a\n",
    "    float b,c;\n",
    "    a = 2;\n",
    "    b = 3.5 ;\n",
    "    c = a + b;\n",
    "    cout << c;\n",
    "    return 0;"
   ]
  },
  {
   "cell_type": "markdown",
   "metadata": {},
   "source": [
    "И напишите функцию на питон"
   ]
  },
  {
   "cell_type": "code",
   "execution_count": 4,
   "metadata": {},
   "outputs": [],
   "source": [
    "def main():\n",
    "    a=2\n",
    "    b=3.5\n",
    "    c= a + b\n",
    "    return(c)"
   ]
  },
  {
   "cell_type": "markdown",
   "metadata": {},
   "source": [
    "Примените то, что Вы делали ранее описывали, но на реальных функциях.\n",
    "\n",
    "Найдите общее.\n",
    "\n",
    "В обоих языках можно вносить параметры, есть \"тело функции\", Есть имя идентификатор функции, и обе функции должны что то возвращать"
   ]
  },
  {
   "cell_type": "markdown",
   "metadata": {},
   "source": [
    "###  Задание 3.\n",
    "\n",
    "Что такое исключения(называют ошибками)\n",
    "errorsa\n",
    "\n",
    "это объекты, которые хранят данные о возникшей проблеме. Они возникают, когда программа не может продолжать выполнять запрошенную операцию"
   ]
  },
  {
   "cell_type": "code",
   "execution_count": 7,
   "metadata": {},
   "outputs": [
    {
     "data": {
      "text/plain": [
       "25"
      ]
     },
     "execution_count": 7,
     "metadata": {},
     "output_type": "execute_result"
    }
   ],
   "source": [
    "a"
   ]
  },
  {
   "cell_type": "code",
   "execution_count": 1,
   "metadata": {},
   "outputs": [
    {
     "ename": "<class 'NameError'>",
     "evalue": "name 'm' is not defined",
     "output_type": "error",
     "traceback": [
      "\u001b[0;31m---------------------------------------------------------------------------\u001b[0m",
      "\u001b[0;31mNameError\u001b[0m                                 Traceback (most recent call last)",
      "Cell \u001b[0;32mIn[1], line 1\u001b[0m\n\u001b[0;32m----> 1\u001b[0m \u001b[43mm\u001b[49m\n",
      "\u001b[0;31mNameError\u001b[0m: name 'm' is not defined"
     ]
    }
   ],
   "source": [
    "m"
   ]
  },
  {
   "cell_type": "markdown",
   "metadata": {},
   "source": [
    "исключение выше говорит, что переменной с именем m не найдено"
   ]
  },
  {
   "cell_type": "markdown",
   "metadata": {},
   "source": [
    "5-7 исключений, объясните хотя бы 3"
   ]
  },
  {
   "cell_type": "code",
   "execution_count": 12,
   "metadata": {},
   "outputs": [
    {
     "ename": "<class 'TypeError'>",
     "evalue": "int() argument must be a string, a bytes-like object or a real number, not 'type'",
     "output_type": "error",
     "traceback": [
      "\u001b[0;31m---------------------------------------------------------------------------\u001b[0m",
      "\u001b[0;31mTypeError\u001b[0m                                 Traceback (most recent call last)",
      "Cell \u001b[0;32mIn[12], line 1\u001b[0m\n\u001b[0;32m----> 1\u001b[0m m \u001b[38;5;241m=\u001b[39m \u001b[38;5;28;43mint\u001b[39;49m\u001b[43m(\u001b[49m\u001b[38;5;28;43mfloat\u001b[39;49m\u001b[43m)\u001b[49m\n",
      "\u001b[0;31mTypeError\u001b[0m: int() argument must be a string, a bytes-like object or a real number, not 'type'"
     ]
    }
   ],
   "source": [
    "m = int(float)"
   ]
  },
  {
   "cell_type": "code",
   "execution_count": 13,
   "metadata": {},
   "outputs": [
    {
     "ename": "<class 'ValueError'>",
     "evalue": "invalid literal for int() with base 10: 'float'",
     "output_type": "error",
     "traceback": [
      "\u001b[0;31m---------------------------------------------------------------------------\u001b[0m",
      "\u001b[0;31mValueError\u001b[0m                                Traceback (most recent call last)",
      "Cell \u001b[0;32mIn[13], line 1\u001b[0m\n\u001b[0;32m----> 1\u001b[0m m \u001b[38;5;241m=\u001b[39m \u001b[38;5;28;43mint\u001b[39;49m\u001b[43m(\u001b[49m\u001b[38;5;124;43m\"\u001b[39;49m\u001b[38;5;124;43mfloat\u001b[39;49m\u001b[38;5;124;43m\"\u001b[39;49m\u001b[43m)\u001b[49m\n",
      "\u001b[0;31mValueError\u001b[0m: invalid literal for int() with base 10: 'float'"
     ]
    }
   ],
   "source": [
    "m = int(\"float\")"
   ]
  },
  {
   "cell_type": "code",
   "execution_count": 14,
   "metadata": {},
   "outputs": [
    {
     "ename": "<class 'TypeError'>",
     "evalue": "can only concatenate str (not \"int\") to str",
     "output_type": "error",
     "traceback": [
      "\u001b[0;31m---------------------------------------------------------------------------\u001b[0m",
      "\u001b[0;31mTypeError\u001b[0m                                 Traceback (most recent call last)",
      "Cell \u001b[0;32mIn[14], line 1\u001b[0m\n\u001b[0;32m----> 1\u001b[0m с\u001b[38;5;241m=\u001b[39m \u001b[38;5;124;43m\"\u001b[39;49m\u001b[38;5;124;43m2\u001b[39;49m\u001b[38;5;124;43m\"\u001b[39;49m\u001b[43m \u001b[49m\u001b[38;5;241;43m+\u001b[39;49m\u001b[43m \u001b[49m\u001b[38;5;241;43m2\u001b[39;49m\n",
      "\u001b[0;31mTypeError\u001b[0m: can only concatenate str (not \"int\") to str"
     ]
    }
   ],
   "source": [
    "с= \"2\" + 2"
   ]
  },
  {
   "cell_type": "markdown",
   "metadata": {},
   "source": [
    "исключение выше говорит, что строку нельзя складывать с числом"
   ]
  },
  {
   "cell_type": "code",
   "execution_count": 17,
   "metadata": {},
   "outputs": [
    {
     "ename": "<class 'ZeroDivisionError'>",
     "evalue": "division by zero",
     "output_type": "error",
     "traceback": [
      "\u001b[0;31m---------------------------------------------------------------------------\u001b[0m",
      "\u001b[0;31mZeroDivisionError\u001b[0m                         Traceback (most recent call last)",
      "Cell \u001b[0;32mIn[17], line 1\u001b[0m\n\u001b[0;32m----> 1\u001b[0m c \u001b[38;5;241m=\u001b[39m \u001b[38;5;241;43m1\u001b[39;49m\u001b[38;5;241;43m/\u001b[39;49m\u001b[38;5;241;43m0\u001b[39;49m\n",
      "\u001b[0;31mZeroDivisionError\u001b[0m: division by zero"
     ]
    }
   ],
   "source": [
    "c = 1/0"
   ]
  },
  {
   "cell_type": "markdown",
   "metadata": {},
   "source": [
    "исключение выше говорит, что на 0 делить нельзя"
   ]
  },
  {
   "cell_type": "code",
   "execution_count": 3,
   "metadata": {},
   "outputs": [
    {
     "ename": "<class 'SyntaxError'>",
     "evalue": "invalid syntax (<ipython-input-3-2b688bc740d7>, line 1)",
     "output_type": "error",
     "traceback": [
      "\u001b[0;36m  Cell \u001b[0;32mIn[3], line 1\u001b[0;36m\u001b[0m\n\u001b[0;31m    while True print('Hello world')\u001b[0m\n\u001b[0m               ^\u001b[0m\n\u001b[0;31mSyntaxError\u001b[0m\u001b[0;31m:\u001b[0m invalid syntax\n"
     ]
    }
   ],
   "source": [
    "while True print('Hello world')"
   ]
  },
  {
   "cell_type": "markdown",
   "metadata": {},
   "source": [
    "исключение выше говорит, что нарушен синтаксис написания команды, а именно, пропущено \":\", нарушена конструкция написания цикла"
   ]
  },
  {
   "cell_type": "markdown",
   "metadata": {},
   "source": [
    "# Задание от 31.12.2024"
   ]
  },
  {
   "cell_type": "markdown",
   "metadata": {},
   "source": [
    "\n",
    "### Задание 1. Тuп определяет набор возможных операций и значений, выполняемых над объектом.\n",
    "\n",
    "Объект - пока не трогаем.\n",
    "\n",
    "https://docs.python.org/3/reference/datamodel.html#objects-values-and-types\n",
    "\n",
    "### Задание 2. Параметры позиционные и именованные.\n",
    "\n",
    "**Достичь в параметрах следующего:**\n",
    "\n",
    "- чтение на лету.\n",
    "- Вызов.\n",
    "- Исключения.\n",
    "\n",
    "https://docs.python.org/3/tutorial/controlflow.html#defining-functions\n",
    "\n",
    "https://docs.python.org/3/tutorial/controlflow.html#special-parameters\n",
    "\n",
    "\n",
    "позиционные параметры: Это параметры, заначения которых указываются подряд. Их указывают в \"отделе параметров\", как параметры, которые идут после \"/\"\n",
    "\n",
    "так же есть именованные параметры в которых две звездочки **. Это тот же самый именованный параметр, но он используется в массивах , тогда как * в переменных"
   ]
  },
  {
   "cell_type": "code",
   "execution_count": null,
   "metadata": {},
   "outputs": [],
   "source": [
    "def pos_only_arg(arg, /):\n",
    "    print(arg)\n",
    "\n",
    "pos_only_arg(1) #такой ввод значения принимается\n",
    "\n",
    "pos_only_arg(arg=1) #такой ввод значения выдаст исключение тк параметр позиционный и должен вводиться , как показано выше \n"
   ]
  },
  {
   "cell_type": "markdown",
   "metadata": {},
   "source": [
    "\n",
    "именованые параметры: Это параметры, заначения которых указываются по имени параметра . Их указывают в \"отделе параметров\", как параметры, которые перед \"*\"\n"
   ]
  },
  {
   "cell_type": "code",
   "execution_count": null,
   "metadata": {},
   "outputs": [],
   "source": [
    "def kwd_only_arg(*, arg):\n",
    "    print(arg)\n",
    "\n",
    "kwd_only_arg(1) #такой ввод значения выдаст исключение тк параметр именованый и должен вводиться , как показано ниже\n",
    "\n",
    "kwd_only_arg(arg=1) #такой ввод значения принимается"
   ]
  },
  {
   "cell_type": "markdown",
   "metadata": {},
   "source": [
    "- считывание на лету.(не знаю как передать то, что я считываю на лету, но могу написать то, что сначала идут позиционные,после / \"смешаные\" , а после * именованные  )\n",
    "- Вызов.(тут я ничего не понял, потому что в видео, вы показывали кусок кода ниже и свое непонимание я напишу там же через комментарий)"
   ]
  },
  {
   "cell_type": "code",
   "execution_count": null,
   "metadata": {},
   "outputs": [],
   "source": [
    "def get_object_or_404(klass, *args, **kwargs):\n",
    "    \"\"\"\n",
    "    Use get() to return an object, or raise an Http404 exception if the object\n",
    "    does not exist.\n",
    "\n",
    "    klass may be a Model, Manager, or QuerySet object. All other passed\n",
    "    arguments and keyword arguments are used in the get() query.\n",
    "\n",
    "    Like with QuerySet.get(), MultipleObjectsReturned is raised if more than\n",
    "    one object is found.\n",
    "    \"\"\"\n",
    "    queryset = _get_queryset(klass) #вот переменной присваивается функция с \"смешанным\" параметром klass\n",
    "    if not hasattr(queryset, \"get\"):\n",
    "        klass__name = (\n",
    "            klass.__name__ if isinstance(klass, type) else klass.__class__.__name__\n",
    "        )\n",
    "        raise ValueError(\n",
    "            \"First argument to get_object_or_404() must be a Model, Manager, \"\n",
    "            \"or QuerySet, not '%s'.\" % klass__name\n",
    "        )\n",
    "    try:\n",
    "        return queryset.get(*args, **kwargs) # здесь уже вызов переменной, но параметры уже другие и вот на этом моменте я не могу сообразить \n",
    "    except queryset.model.DoesNotExist:\n",
    "        raise Http404(\n",
    "            \"No %s matches the given query.\" % queryset.model._meta.object_name\n",
    "        )"
   ]
  },
  {
   "cell_type": "markdown",
   "metadata": {},
   "source": [
    "\n",
    "- Исключения.(я не понимаю как сделать ввод, значений в функцию, поэтому просто скопирую текст из документации и опишу ошибку, как я ее понимаю )"
   ]
  },
  {
   "cell_type": "code",
   "execution_count": null,
   "metadata": {},
   "outputs": [],
   "source": [
    "#исключение появилось тк параметр не может принимать значение больше одного раза \n",
    "def function(a):\n",
    "\n",
    "    pass\n",
    "\n",
    "\n",
    "function(0, a=0)\n",
    "Traceback (most recent call last):\n",
    "  File \"<stdin>\", line 1, in <module>\n",
    "TypeError: function() got multiple values for argument 'a'"
   ]
  },
  {
   "cell_type": "code",
   "execution_count": 2,
   "metadata": {},
   "outputs": [
    {
     "ename": "SyntaxError",
     "evalue": "invalid syntax. Perhaps you forgot a comma? (3645510740.py, line 6)",
     "output_type": "error",
     "traceback": [
      "\u001b[0;36m  Cell \u001b[0;32mIn[2], line 6\u001b[0;36m\u001b[0m\n\u001b[0;31m    Traceback (most recent call last):\u001b[0m\n\u001b[0m               ^\u001b[0m\n\u001b[0;31mSyntaxError\u001b[0m\u001b[0;31m:\u001b[0m invalid syntax. Perhaps you forgot a comma?\n"
     ]
    }
   ],
   "source": [
    "def combined_example(pos_only, /, standard, *, kwd_only):\n",
    "\n",
    "    print(pos_only, standard, kwd_only)\n",
    "\n",
    "combined_example(1, 2, 3)\n",
    "Traceback (most recent call last):\n",
    "  File \"<stdin>\", line 1, in <module>\n",
    "TypeError: combined_example() takes 2 positional arguments but 3 were given #исключение появилось из за того, что в именованый параметр пытались ввести значение , как в  позиционный \n",
    "\n",
    "combined_example(1, 2, kwd_only=3)\n",
    "1 2 3#ошибки нет тк средний параметр может быть либо позиционным ,либо именованным \n",
    "\n",
    "combined_example(1, standard=2, kwd_only=3)\n",
    "1 2 3#ошибки нет тк средний параметр может быть либо позиционным ,либо именованным \n",
    "\n",
    "combined_example(pos_only=1, standard=2, kwd_only=3)\n",
    "Traceback (most recent call last):\n",
    "  File \"<stdin>\", line 1, in <module>\n",
    "TypeError: combined_example() got some positional-only arguments passed as keyword arguments: 'pos_only'#исключение появилось из за того, что в позиционный параметр пытались ввести значение , как в именованный"
   ]
  },
  {
   "cell_type": "code",
   "execution_count": null,
   "metadata": {},
   "outputs": [],
   "source": [
    "def foo(name, **kwds):\n",
    "    return 'name' in kwds\n",
    "\n",
    "foo(1, **{'name': 2})\n",
    "Traceback (most recent call last):\n",
    "  File \"<stdin>\", line 1, in <module>\n",
    "TypeError: foo() got multiple values for argument 'name'#исключение возникло из за того, что первый параметр воспринимается , как именной, и поэтому возникает конфликт между повторяющимся 'name'\n",
    "\n",
    "#решается конвертированием первого параметра в позиционный "
   ]
  },
  {
   "cell_type": "markdown",
   "metadata": {},
   "source": []
  },
  {
   "cell_type": "markdown",
   "metadata": {},
   "source": [
    "# Задание от 8.01.2025"
   ]
  },
  {
   "cell_type": "markdown",
   "metadata": {},
   "source": [
    "\n",
    "\n",
    "\n",
    "### Задание 1. \n",
    "Мы знаем, что **Тuп определяет набор возможных операций и значений, выполняемых над объектом.**\n",
    "\n",
    "часть первая:\n",
    "\n",
    "Напишите функции питон и начните делать действия несовевместимые, например от чисел отнимать строки.\n",
    "Получите исключения и поясните.\n",
    "\n",
    "пример: 75 - \"Привет\" (используйте и другие операции вычитания, деление)\n",
    "\n",
    "Когда мы знаем, что такое тип, то есть, **что делать с объектом**, именно это мы подразумеваем.\n",
    "\n",
    "теперь нам нужно понять. что такое объект?\n",
    "\n",
    "### Объект участок памяти, в котором хранится ******** определенного ****.\n",
    "\n",
    "### Задание 2.\n",
    "\n",
    "Прочитать и описать параметры:\n",
    "\n",
    "https://github.com/django/django/blob/stable/5.1.x/django/shortcuts.py#L65\n",
    "\n",
    "строка 18\n",
    "\n",
    "строка 52\n",
    "\n",
    "строка 65\n",
    "\n",
    "Есть в этом коде параметры. которые Вы не знаете, опишите их.\n",
    "\n",
    "# Задание 3.\n",
    "\n",
    "Написать функцию С++ и функцию Питон\n",
    "\n",
    "И посмотреть на параметры, что общего, в чём различие.\n",
    "\n",
    "Рассказать со стороны типа, что видите отталкиваясь от С++, что там в параметрах с типом.\n",
    "И что в птион в параметрах с типом?\n",
    "\n",
    "### Задание 3.\n",
    "\n",
    "\n",
    "**расписать разметку Бекуса Наура.**\n",
    "\n",
    "https://docs.python.org/3/reference/introduction.html#notation\n",
    "\n",
    "https://docs.python.org/3/reference/compound_stmts.html#function-definitions\n",
    "\n",
    "\n"
   ]
  },
  {
   "cell_type": "markdown",
   "metadata": {},
   "source": [
    "### Задание 4. Переделать параметры и получить исключения и объяснить.\n",
    "В этот раз используйте эту функцию.\n",
    "И разберитесь как может передоваться позиционнный параметры.\n",
    "Параметры. то, что в скобках.\n",
    "То что передаётся аргумент и никак по другому."
   ]
  },
  {
   "cell_type": "code",
   "execution_count": 1,
   "metadata": {},
   "outputs": [],
   "source": [
    "# https://docs.python.org/3/glossary.html\n",
    "\n",
    "\n",
    "def combined_example3(pos_only,  standard,  kwd_only):\n",
    "    print(pos_only, standard, kwd_only)\n",
    "    \n",
    "def combined_example2(pos_only=\"\", standard,  kwd_only):\n",
    "    print(pos_only, standard, kwd_only)\n",
    "\n",
    "\n",
    "def combined_example1(pos_only, /, standard, *, kwd_only):\n",
    "\n",
    "    print(pos_only, standard, kwd_only)\n"
   ]
  },
  {
   "cell_type": "code",
   "execution_count": 22,
   "metadata": {},
   "outputs": [
    {
     "ename": "SyntaxError",
     "evalue": "positional argument follows keyword argument (2459688105.py, line 1)",
     "output_type": "error",
     "traceback": [
      "\u001b[1;36m  Cell \u001b[1;32mIn[22], line 1\u001b[1;36m\u001b[0m\n\u001b[1;33m    combined_example3(pos_only=\"d\", 2, 1)\u001b[0m\n\u001b[1;37m                                        ^\u001b[0m\n\u001b[1;31mSyntaxError\u001b[0m\u001b[1;31m:\u001b[0m positional argument follows keyword argument\n"
     ]
    }
   ],
   "source": [
    "combined_example3(pos_only=\"d\", 2, 1)"
   ]
  },
  {
   "cell_type": "code",
   "execution_count": 24,
   "metadata": {},
   "outputs": [
    {
     "ename": "TypeError",
     "evalue": "combined_example2() got multiple values for argument 'standard'",
     "output_type": "error",
     "traceback": [
      "\u001b[1;31m---------------------------------------------------------------------------\u001b[0m",
      "\u001b[1;31mTypeError\u001b[0m                                 Traceback (most recent call last)",
      "Cell \u001b[1;32mIn[24], line 1\u001b[0m\n\u001b[1;32m----> 1\u001b[0m \u001b[43mcombined_example2\u001b[49m\u001b[43m(\u001b[49m\u001b[38;5;241;43m2\u001b[39;49m\u001b[43m,\u001b[49m\u001b[43m \u001b[49m\u001b[38;5;241;43m1\u001b[39;49m\u001b[43m,\u001b[49m\u001b[43m \u001b[49m\u001b[43mstandard\u001b[49m\u001b[38;5;241;43m=\u001b[39;49m\u001b[38;5;241;43m3\u001b[39;49m\u001b[43m)\u001b[49m\n",
      "\u001b[1;31mTypeError\u001b[0m: combined_example2() got multiple values for argument 'standard'"
     ]
    }
   ],
   "source": [
    "combined_example2(2, 1, standard=3)"
   ]
  },
  {
   "cell_type": "markdown",
   "metadata": {},
   "source": [
    "исключение возникло из за того, что нарушена последовательность передачи аргументов(сначала позиционный, )"
   ]
  },
  {
   "cell_type": "code",
   "execution_count": 19,
   "metadata": {},
   "outputs": [
    {
     "ename": "TypeError",
     "evalue": "combined_example2() takes 1 positional argument but 3 were given",
     "output_type": "error",
     "traceback": [
      "\u001b[1;31m---------------------------------------------------------------------------\u001b[0m",
      "\u001b[1;31mTypeError\u001b[0m                                 Traceback (most recent call last)",
      "Cell \u001b[1;32mIn[19], line 1\u001b[0m\n\u001b[1;32m----> 1\u001b[0m \u001b[43mcombined_example2\u001b[49m\u001b[43m(\u001b[49m\u001b[38;5;241;43m1\u001b[39;49m\u001b[43m,\u001b[49m\u001b[43m \u001b[49m\u001b[38;5;241;43m1\u001b[39;49m\u001b[43m,\u001b[49m\u001b[43m \u001b[49m\u001b[38;5;241;43m1\u001b[39;49m\u001b[43m)\u001b[49m\n",
      "\u001b[1;31mTypeError\u001b[0m: combined_example2() takes 1 positional argument but 3 were given"
     ]
    }
   ],
   "source": [
    "combined_example2(1, 1, 1)"
   ]
  },
  {
   "cell_type": "markdown",
   "metadata": {},
   "source": [
    "это исключение возникло из за того, "
   ]
  },
  {
   "cell_type": "code",
   "execution_count": 13,
   "metadata": {},
   "outputs": [
    {
     "ename": "TypeError",
     "evalue": "combined_example1() missing 2 required positional arguments: 'pos_only' and 'standard'",
     "output_type": "error",
     "traceback": [
      "\u001b[1;31m---------------------------------------------------------------------------\u001b[0m",
      "\u001b[1;31mTypeError\u001b[0m                                 Traceback (most recent call last)",
      "Cell \u001b[1;32mIn[13], line 1\u001b[0m\n\u001b[1;32m----> 1\u001b[0m \u001b[43mcombined_example1\u001b[49m\u001b[43m(\u001b[49m\u001b[43m)\u001b[49m\n",
      "\u001b[1;31mTypeError\u001b[0m: combined_example1() missing 2 required positional arguments: 'pos_only' and 'standard'"
     ]
    }
   ],
   "source": [
    "combined_example1()"
   ]
  },
  {
   "cell_type": "markdown",
   "metadata": {},
   "source": [
    "Это исключение появилось из за того, что отсутсвуют три вида аргументов "
   ]
  },
  {
   "cell_type": "code",
   "execution_count": 13,
   "metadata": {},
   "outputs": [
    {
     "ename": "TypeError",
     "evalue": "combined_example1() missing 1 required keyword-only argument: 'kwd_only'",
     "output_type": "error",
     "traceback": [
      "\u001b[0;31m---------------------------------------------------------------------------\u001b[0m",
      "\u001b[0;31mTypeError\u001b[0m                                 Traceback (most recent call last)",
      "Cell \u001b[0;32mIn[13], line 1\u001b[0m\n\u001b[0;32m----> 1\u001b[0m \u001b[43mcombined_example1\u001b[49m\u001b[43m(\u001b[49m\u001b[38;5;241;43m255\u001b[39;49m\u001b[43m,\u001b[49m\u001b[43m \u001b[49m\u001b[38;5;241;43m256\u001b[39;49m\u001b[43m)\u001b[49m\n",
      "\u001b[0;31mTypeError\u001b[0m: combined_example1() missing 1 required keyword-only argument: 'kwd_only'"
     ]
    }
   ],
   "source": [
    "combined_example1(255, 256)"
   ]
  },
  {
   "cell_type": "markdown",
   "metadata": {},
   "source": [
    "Это исключение появилось из за того, что отсутсвует именованный аргумент "
   ]
  },
  {
   "cell_type": "code",
   "execution_count": 14,
   "metadata": {},
   "outputs": [
    {
     "ename": "TypeError",
     "evalue": "combined_example1() takes 2 positional arguments but 3 were given",
     "output_type": "error",
     "traceback": [
      "\u001b[0;31m---------------------------------------------------------------------------\u001b[0m",
      "\u001b[0;31mTypeError\u001b[0m                                 Traceback (most recent call last)",
      "Cell \u001b[0;32mIn[14], line 1\u001b[0m\n\u001b[0;32m----> 1\u001b[0m \u001b[43mcombined_example1\u001b[49m\u001b[43m(\u001b[49m\u001b[38;5;241;43m255\u001b[39;49m\u001b[43m,\u001b[49m\u001b[43m \u001b[49m\u001b[38;5;241;43m256\u001b[39;49m\u001b[43m,\u001b[49m\u001b[43m \u001b[49m\u001b[38;5;124;43m\"\u001b[39;49m\u001b[38;5;124;43m\"\u001b[39;49m\u001b[43m)\u001b[49m\n",
      "\u001b[0;31mTypeError\u001b[0m: combined_example1() takes 2 positional arguments but 3 were given"
     ]
    }
   ],
   "source": [
    "combined_example1(255, 256, \"\")"
   ]
  },
  {
   "cell_type": "markdown",
   "metadata": {},
   "source": [
    "Это исключение появилось из за того, что синтаксис передачи именованного аргумента другой (может не понятно выразился, передача должна происходить через kwd_only=\"\") "
   ]
  },
  {
   "cell_type": "code",
   "execution_count": 15,
   "metadata": {},
   "outputs": [
    {
     "name": "stdout",
     "output_type": "stream",
     "text": [
      "255 256 \n"
     ]
    }
   ],
   "source": [
    "combined_example1(255, 256, kwd_only = \"\")"
   ]
  },
  {
   "cell_type": "code",
   "execution_count": 16,
   "metadata": {},
   "outputs": [
    {
     "ename": "TypeError",
     "evalue": "combined_example1() got an unexpected keyword argument 'kwd_only2'",
     "output_type": "error",
     "traceback": [
      "\u001b[0;31m---------------------------------------------------------------------------\u001b[0m",
      "\u001b[0;31mTypeError\u001b[0m                                 Traceback (most recent call last)",
      "Cell \u001b[0;32mIn[16], line 1\u001b[0m\n\u001b[0;32m----> 1\u001b[0m \u001b[43mcombined_example1\u001b[49m\u001b[43m(\u001b[49m\u001b[38;5;241;43m255\u001b[39;49m\u001b[43m,\u001b[49m\u001b[43m \u001b[49m\u001b[38;5;241;43m256\u001b[39;49m\u001b[43m,\u001b[49m\u001b[43m \u001b[49m\u001b[43mkwd_only2\u001b[49m\u001b[43m \u001b[49m\u001b[38;5;241;43m=\u001b[39;49m\u001b[43m \u001b[49m\u001b[38;5;124;43m\"\u001b[39;49m\u001b[38;5;124;43m\"\u001b[39;49m\u001b[43m)\u001b[49m\n",
      "\u001b[0;31mTypeError\u001b[0m: combined_example1() got an unexpected keyword argument 'kwd_only2'"
     ]
    }
   ],
   "source": [
    "combined_example1(255, 256, kwd_only2 = \"\")"
   ]
  },
  {
   "cell_type": "markdown",
   "metadata": {},
   "source": [
    "Это исключение появилось из за того, что введен именованный параметр, который отсутствует в функции"
   ]
  },
  {
   "cell_type": "code",
   "execution_count": 12,
   "metadata": {},
   "outputs": [
    {
     "ename": "TypeError",
     "evalue": "combined_example1() missing 1 required positional argument: 'pos_only'",
     "output_type": "error",
     "traceback": [
      "\u001b[1;31m---------------------------------------------------------------------------\u001b[0m",
      "\u001b[1;31mTypeError\u001b[0m                                 Traceback (most recent call last)",
      "Cell \u001b[1;32mIn[12], line 1\u001b[0m\n\u001b[1;32m----> 1\u001b[0m \u001b[43mcombined_example1\u001b[49m\u001b[43m(\u001b[49m\u001b[43mstandard\u001b[49m\u001b[38;5;241;43m=\u001b[39;49m\u001b[38;5;241;43m1\u001b[39;49m\u001b[43m,\u001b[49m\u001b[43mkwd_only\u001b[49m\u001b[38;5;241;43m=\u001b[39;49m\u001b[38;5;241;43m1\u001b[39;49m\u001b[43m)\u001b[49m\n",
      "\u001b[1;31mTypeError\u001b[0m: combined_example1() missing 1 required positional argument: 'pos_only'"
     ]
    }
   ],
   "source": [
    "combined_example1(standard= 1,kwd_only= 1)"
   ]
  },
  {
   "cell_type": "markdown",
   "metadata": {},
   "source": [
    "Это исключение появилось из за того, что отсутствует позиционный аргумент"
   ]
  },
  {
   "cell_type": "code",
   "execution_count": 15,
   "metadata": {},
   "outputs": [
    {
     "ename": "SyntaxError",
     "evalue": "positional argument follows keyword argument (3330736.py, line 1)",
     "output_type": "error",
     "traceback": [
      "\u001b[1;36m  Cell \u001b[1;32mIn[15], line 1\u001b[1;36m\u001b[0m\n\u001b[1;33m    combined_example1(kwd_only=1, 1,standard= 1)\u001b[0m\n\u001b[1;37m                                               ^\u001b[0m\n\u001b[1;31mSyntaxError\u001b[0m\u001b[1;31m:\u001b[0m positional argument follows keyword argument\n"
     ]
    }
   ],
   "source": [
    "combined_example1(kwd_only=1, 1,standard= 1)"
   ]
  },
  {
   "cell_type": "markdown",
   "metadata": {},
   "source": [
    "Это исключение появилось из за того, что параметры введены в неправильной последовательности"
   ]
  },
  {
   "cell_type": "code",
   "execution_count": 16,
   "metadata": {},
   "outputs": [
    {
     "ename": "SyntaxError",
     "evalue": "positional argument follows keyword argument (698557790.py, line 1)",
     "output_type": "error",
     "traceback": [
      "\u001b[1;36m  Cell \u001b[1;32mIn[16], line 1\u001b[1;36m\u001b[0m\n\u001b[1;33m    combined_example1(standard= 1, kwd_only=1, 1)\u001b[0m\n\u001b[1;37m                                                ^\u001b[0m\n\u001b[1;31mSyntaxError\u001b[0m\u001b[1;31m:\u001b[0m positional argument follows keyword argument\n"
     ]
    }
   ],
   "source": [
    "combined_example1(standard= 1, kwd_only=1, 1)"
   ]
  },
  {
   "cell_type": "markdown",
   "metadata": {},
   "source": [
    "Это исключение появилось из за того, что параметры введены в неправильной последовательности"
   ]
  },
  {
   "cell_type": "code",
   "execution_count": null,
   "metadata": {},
   "outputs": [],
   "source": [
    "a = \"\""
   ]
  },
  {
   "cell_type": "code",
   "execution_count": 18,
   "metadata": {},
   "outputs": [
    {
     "data": {
      "text/plain": [
       "str"
      ]
     },
     "execution_count": 18,
     "metadata": {},
     "output_type": "execute_result"
    }
   ],
   "source": [
    "type(a)"
   ]
  },
  {
   "cell_type": "code",
   "execution_count": 19,
   "metadata": {},
   "outputs": [
    {
     "data": {
      "text/plain": [
       "type"
      ]
     },
     "execution_count": 19,
     "metadata": {},
     "output_type": "execute_result"
    }
   ],
   "source": [
    "type(str)"
   ]
  },
  {
   "cell_type": "code",
   "execution_count": null,
   "metadata": {},
   "outputs": [],
   "source": []
  }
 ],
 "metadata": {
  "kernelspec": {
   "display_name": "Python 3",
   "language": "python",
   "name": "python3"
  },
  "language_info": {
   "codemirror_mode": {
    "name": "ipython",
    "version": 3
   },
   "file_extension": ".py",
   "mimetype": "text/x-python",
   "name": "python",
   "nbconvert_exporter": "python",
   "pygments_lexer": "ipython3",
   "version": "3.13.1"
  }
 },
 "nbformat": 4,
 "nbformat_minor": 4
}
