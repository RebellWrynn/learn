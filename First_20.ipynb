{
 "cells": [
  {
   "cell_type": "markdown",
   "metadata": {},
   "source": [
    "# задание от 16.12.2024"
   ]
  },
  {
   "cell_type": "markdown",
   "metadata": {},
   "source": [
    "### Задание 1. \n",
    "\n",
    "- освоить markdown.\n",
    "\n",
    "- освоил markdown."
   ]
  },
  {
   "cell_type": "code",
   "execution_count": 1,
   "metadata": {},
   "outputs": [],
   "source": [
    "a = 25"
   ]
  },
  {
   "cell_type": "code",
   "execution_count": 7,
   "metadata": {},
   "outputs": [
    {
     "name": "stdout",
     "output_type": "stream",
     "text": [
      "25\n"
     ]
    }
   ],
   "source": [
    "print(a)"
   ]
  },
  {
   "cell_type": "markdown",
   "metadata": {},
   "source": [
    "### Задание 2.\n",
    "\n",
    "Переменные.\n",
    "\n",
    "#### Переменные в С++\n",
    "\n",
    "валидный идетнификатор переменной, это последовательность одного или многих букв, цифр или нижних подчеркиваний. Пробелы, знаки пунктуации и символы не могут использоваться для имени переменной  \n",
    "\n",
    "Переменные в c++ чувствительны к регистру, поэтому переменная A и a , это две разные переменные \n",
    "\n",
    "в c++ есть ключевые слова, из за которых нельзя задавать переменные с такими именами:"
   ]
  },
  {
   "cell_type": "code",
   "execution_count": 8,
   "metadata": {},
   "outputs": [
    {
     "ename": "SyntaxError",
     "evalue": "invalid syntax (3203124928.py, line 1)",
     "output_type": "error",
     "traceback": [
      "\u001b[1;36m  Cell \u001b[1;32mIn[8], line 1\u001b[1;36m\u001b[0m\n\u001b[1;33m    alignas, alignof, and, and_eq, asm, auto, bitand, bitor, bool, break, case, catch, char, char16_t, char32_t, class, compl, const, constexpr, const_cast, continue, decltype, default, delete, do, double, dynamic_cast, else, enum, explicit, export, extern, false, float, for, friend, goto, if, inline, int, long, mutable, namespace, new, noexcept, not, not_eq, nullptr, operator, or, or_eq, private, protected, public, register, reinterpret_cast, return, short, signed, sizeof, static, static_assert, static_cast, struct, switch, template, this, thread_local, throw, true, try, typedef, typeid, typename, union, unsigned, using, virtual, void, volatile, wchar_t, while, xor, xor_eq\u001b[0m\n\u001b[1;37m                      ^\u001b[0m\n\u001b[1;31mSyntaxError\u001b[0m\u001b[1;31m:\u001b[0m invalid syntax\n"
     ]
    }
   ],
   "source": [
    "alignas, alignof, and, and_eq, asm, auto, bitand, bitor, bool, break, case, catch, char, char16_t, char32_t, class, compl, const, constexpr, const_cast, continue, decltype, default, delete, do, double, dynamic_cast, else, enum, explicit, export, extern, false, float, for, friend, goto, if, inline, int, long, mutable, namespace, new, noexcept, not, not_eq, nullptr, operator, or, or_eq, private, protected, public, register, reinterpret_cast, return, short, signed, sizeof, static, static_assert, static_cast, struct, switch, template, this, thread_local, throw, true, try, typedef, typeid, typename, union, unsigned, using, virtual, void, volatile, wchar_t, while, xor, xor_eq"
   ]
  },
  {
   "cell_type": "markdown",
   "metadata": {},
   "source": [
    "значения переменных расположены где-то на пк, в виде бинарного кода. Программе не нужно знать конкретное расположение хранение переменных, она просто вызывает их по имени из ос, когда нужно.Программе нужно знать какие данные хранятся в переменной. Потому что хранить число это не тоже самое, что и хранить букву, потому что они интерпретируются по разному и занимают разный объем памяти\n",
    "\n",
    "фундаментальные типы данных:\n",
    "- character types: они могут представлять один символ, например «A» или «$». Самый простой тип — char, который представляет собой однобайтовый символ. Другие типы также предусмотрены для более широких символов.\n",
    "- numericial integer types: они могут хранить целое число, например 7 или 1024. Они существуют в различных размерах и могут быть как знаковыми, так и беззнаковыми, в зависимости от того, поддерживают ли они отрицательные значения или нет.\n",
    "- floating-point types: они могут представлять действительные значения, например 3,14 или 0,01, с разным уровнем точности, в зависимости от того, какой из трех типов с плавающей запятой используется.\n",
    "- boolean type: Логический тип, известный в C++ как bool, может представлять только одно из двух состояний: true или false.\n",
    "\n",
    "Описанные выше типы (символы, целые числа, числа с плавающей запятой и логические значения) вместе называются арифметическими типами. Но существуют два дополнительных фундаментальных типа: void, который указывает на отсутствие типа; и тип nullptr, который является специальным типом указателя\n",
    "\n",
    "Есть еще один фундоментальный тип данных, string, он может хранить последовательность букв, слов или предложений \n",
    "\n",
    "Значение переменной можно объявить как в начале кода и не присваивать ей значение(она будет неопределенной пока не получит значение), так и переед ее использованием \n",
    "\n",
    "Переменную можно инициализировать разными способами:\n",
    "- int x = 0;\n",
    "- int x (0);\n",
    "- int x {0};\n",
    "\n",
    "Когда инициализируется новая переменная, компилятор может автоматически определить тип переменной с помощью инициализатора. Для этого достаточно использовать auto в качестве спецификатора типа переменной:"
   ]
  },
  {
   "cell_type": "code",
   "execution_count": null,
   "metadata": {},
   "outputs": [],
   "source": [
    "int foo = 0;\n",
    "auto bar = foo;  // the same as: int bar = foo;"
   ]
  },
  {
   "cell_type": "markdown",
   "metadata": {},
   "source": [
    "в c++  типизация статическая(т.е. тип переменной определяется заранее, до запуска программы)\n",
    "\n",
    "\n",
    "\n",
    "#### Переменные в Питон.\n",
    "\n",
    "питон это язык с динамической типизацией(т.е тип переменной определяется во время исполнения программы)\n",
    "\n",
    "я не смог найти больше уникальной информации по питону, они как будто идентичные за исключением предложения выше\n",
    "\n",
    "В чём разница и что общее в переменных в питон и в С++?\n",
    "\n",
    "- питон не требует явного объявления переменной перед ее использованием. Переменная создается при первой инициализации(в то время, как c++ требует)\n",
    "- В обоих языках переменные используются для хранения данных, которые могут быть использованы и изменены на протяжении выполнения программы\n",
    "- В обоих языках для именования переменных применяются идентификаторы, которые могут содержать буквы, цифры и символы, такие как подчеркивание, но не могут начинаться с цифры.\n",
    "- Python: Динамически типизированный язык. Это означает, что тип переменной определяется во время выполнения. Вы можете присвоить переменной значение любого типа, и она может изменять свой тип\n",
    "- C++: Статически типизированный язык. Тип переменной необходимо определить на этапе компиляции. Это требует указания типа переменной во время ее объявления\n",
    "- Python: Переменные могут быть объявлены без указания типа, просто присвоением значения\n",
    "- C++: Переменные должны быть объявлены с указанием типа их данных\n",
    "- оба языка чувствительны к регистрам\n",
    "- переменные в обоих языках могут быть локальными(внутри одной функции), глобальными(внутри файла)\n",
    "\n",
    "https://cplusplus.com/\n",
    "\n",
    "30 строк.\n",
    "\n",
    "Выделите три главных пункта они должны быть одинаковы в двух языках.\n",
    "- У переменных одни и те же типы \n",
    "- Переменные состоят из имени и значения. При этом они хранят в себе не само значение, а ссылку на его адрес в памяти\n",
    "- значение в переменных могут изменятся во время процесса программы \n",
    "\n",
    "больше информации по переменным я не смог найти \n",
    "\n",
    "### Задание 2.\n",
    "Функция, устройство.\n",
    "\n",
    "Функция — это группа операторов, которым присвоено имя и которые можно вызвать из определенного места программы\n",
    "\n",
    "Описать устройство функции.\n",
    "\n",
    "в c++ устройство функции выглядит так: \n",
    "\n",
    "type name ( parameter1, parameter2, ...) { statements }\n",
    "\n",
    "Где:\n",
    "- type тип значения, возвращаемого функцией.\n",
    "- name идентификатор, которым называется функция.\n",
    "- parameters (может быть много): параметр- переменные самой функции  . Назначение параметров — разрешить передачу аргументов функции из того места, откуда она вызывается..\n",
    "- statements тело функции. Это блок, в котором пишутся действия функции.\n",
    "\n",
    "\n",
    "\n",
    "Напишите функцию на С++"
   ]
  },
  {
   "cell_type": "code",
   "execution_count": null,
   "metadata": {},
   "outputs": [],
   "source": [
    "int main()\n",
    "{\n",
    "    int a\n",
    "    float b,c;\n",
    "    a = 2;\n",
    "    b = 3.5 ;\n",
    "    c = a + b;\n",
    "    cout << c;\n",
    "    return 0;"
   ]
  },
  {
   "cell_type": "markdown",
   "metadata": {},
   "source": [
    "И напишите функцию на питон"
   ]
  },
  {
   "cell_type": "code",
   "execution_count": 4,
   "metadata": {},
   "outputs": [],
   "source": [
    "def main():\n",
    "    a=2\n",
    "    b=3.5\n",
    "    c= a + b\n",
    "    return(c)"
   ]
  },
  {
   "cell_type": "markdown",
   "metadata": {},
   "source": [
    "Примените то, что Вы делали ранее описывали, но на реальных функциях.\n",
    "\n",
    "Найдите общее.\n",
    "\n",
    "В обоих языках можно вносить параметры, есть \"тело функции\", Есть имя идентификатор функции, и обе функции должны что то возвращать"
   ]
  },
  {
   "cell_type": "markdown",
   "metadata": {},
   "source": [
    "###  Задание 3.\n",
    "\n",
    "Что такое исключения(называют ошибками)\n",
    "errorsa\n",
    "\n",
    "это объекты, которые хранят данные о возникшей проблеме. Они возникают, когда программа не может продолжать выполнять запрошенную операцию"
   ]
  },
  {
   "cell_type": "code",
   "execution_count": 7,
   "metadata": {},
   "outputs": [
    {
     "data": {
      "text/plain": [
       "25"
      ]
     },
     "execution_count": 7,
     "metadata": {},
     "output_type": "execute_result"
    }
   ],
   "source": [
    "a"
   ]
  },
  {
   "cell_type": "code",
   "execution_count": 1,
   "metadata": {},
   "outputs": [
    {
     "ename": "<class 'NameError'>",
     "evalue": "name 'm' is not defined",
     "output_type": "error",
     "traceback": [
      "\u001b[0;31m---------------------------------------------------------------------------\u001b[0m",
      "\u001b[0;31mNameError\u001b[0m                                 Traceback (most recent call last)",
      "Cell \u001b[0;32mIn[1], line 1\u001b[0m\n\u001b[0;32m----> 1\u001b[0m \u001b[43mm\u001b[49m\n",
      "\u001b[0;31mNameError\u001b[0m: name 'm' is not defined"
     ]
    }
   ],
   "source": [
    "m"
   ]
  },
  {
   "cell_type": "markdown",
   "metadata": {},
   "source": [
    "исключение выше говорит, что переменной с именем m не найдено"
   ]
  },
  {
   "cell_type": "markdown",
   "metadata": {},
   "source": [
    "5-7 исключений, объясните хотя бы 3"
   ]
  },
  {
   "cell_type": "code",
   "execution_count": 12,
   "metadata": {},
   "outputs": [
    {
     "ename": "<class 'TypeError'>",
     "evalue": "int() argument must be a string, a bytes-like object or a real number, not 'type'",
     "output_type": "error",
     "traceback": [
      "\u001b[0;31m---------------------------------------------------------------------------\u001b[0m",
      "\u001b[0;31mTypeError\u001b[0m                                 Traceback (most recent call last)",
      "Cell \u001b[0;32mIn[12], line 1\u001b[0m\n\u001b[0;32m----> 1\u001b[0m m \u001b[38;5;241m=\u001b[39m \u001b[38;5;28;43mint\u001b[39;49m\u001b[43m(\u001b[49m\u001b[38;5;28;43mfloat\u001b[39;49m\u001b[43m)\u001b[49m\n",
      "\u001b[0;31mTypeError\u001b[0m: int() argument must be a string, a bytes-like object or a real number, not 'type'"
     ]
    }
   ],
   "source": [
    "m = int(float)"
   ]
  },
  {
   "cell_type": "code",
   "execution_count": 13,
   "metadata": {},
   "outputs": [
    {
     "ename": "<class 'ValueError'>",
     "evalue": "invalid literal for int() with base 10: 'float'",
     "output_type": "error",
     "traceback": [
      "\u001b[0;31m---------------------------------------------------------------------------\u001b[0m",
      "\u001b[0;31mValueError\u001b[0m                                Traceback (most recent call last)",
      "Cell \u001b[0;32mIn[13], line 1\u001b[0m\n\u001b[0;32m----> 1\u001b[0m m \u001b[38;5;241m=\u001b[39m \u001b[38;5;28;43mint\u001b[39;49m\u001b[43m(\u001b[49m\u001b[38;5;124;43m\"\u001b[39;49m\u001b[38;5;124;43mfloat\u001b[39;49m\u001b[38;5;124;43m\"\u001b[39;49m\u001b[43m)\u001b[49m\n",
      "\u001b[0;31mValueError\u001b[0m: invalid literal for int() with base 10: 'float'"
     ]
    }
   ],
   "source": [
    "m = int(\"float\")"
   ]
  },
  {
   "cell_type": "code",
   "execution_count": 14,
   "metadata": {},
   "outputs": [
    {
     "ename": "<class 'TypeError'>",
     "evalue": "can only concatenate str (not \"int\") to str",
     "output_type": "error",
     "traceback": [
      "\u001b[0;31m---------------------------------------------------------------------------\u001b[0m",
      "\u001b[0;31mTypeError\u001b[0m                                 Traceback (most recent call last)",
      "Cell \u001b[0;32mIn[14], line 1\u001b[0m\n\u001b[0;32m----> 1\u001b[0m с\u001b[38;5;241m=\u001b[39m \u001b[38;5;124;43m\"\u001b[39;49m\u001b[38;5;124;43m2\u001b[39;49m\u001b[38;5;124;43m\"\u001b[39;49m\u001b[43m \u001b[49m\u001b[38;5;241;43m+\u001b[39;49m\u001b[43m \u001b[49m\u001b[38;5;241;43m2\u001b[39;49m\n",
      "\u001b[0;31mTypeError\u001b[0m: can only concatenate str (not \"int\") to str"
     ]
    }
   ],
   "source": [
    "с= \"2\" + 2"
   ]
  },
  {
   "cell_type": "markdown",
   "metadata": {},
   "source": [
    "исключение выше говорит, что строку нельзя складывать с числом"
   ]
  },
  {
   "cell_type": "code",
   "execution_count": 17,
   "metadata": {},
   "outputs": [
    {
     "ename": "<class 'ZeroDivisionError'>",
     "evalue": "division by zero",
     "output_type": "error",
     "traceback": [
      "\u001b[0;31m---------------------------------------------------------------------------\u001b[0m",
      "\u001b[0;31mZeroDivisionError\u001b[0m                         Traceback (most recent call last)",
      "Cell \u001b[0;32mIn[17], line 1\u001b[0m\n\u001b[0;32m----> 1\u001b[0m c \u001b[38;5;241m=\u001b[39m \u001b[38;5;241;43m1\u001b[39;49m\u001b[38;5;241;43m/\u001b[39;49m\u001b[38;5;241;43m0\u001b[39;49m\n",
      "\u001b[0;31mZeroDivisionError\u001b[0m: division by zero"
     ]
    }
   ],
   "source": [
    "c = 1/0"
   ]
  },
  {
   "cell_type": "markdown",
   "metadata": {},
   "source": [
    "исключение выше говорит, что на 0 делить нельзя"
   ]
  },
  {
   "cell_type": "code",
   "execution_count": 3,
   "metadata": {},
   "outputs": [
    {
     "ename": "<class 'SyntaxError'>",
     "evalue": "invalid syntax (<ipython-input-3-2b688bc740d7>, line 1)",
     "output_type": "error",
     "traceback": [
      "\u001b[0;36m  Cell \u001b[0;32mIn[3], line 1\u001b[0;36m\u001b[0m\n\u001b[0;31m    while True print('Hello world')\u001b[0m\n\u001b[0m               ^\u001b[0m\n\u001b[0;31mSyntaxError\u001b[0m\u001b[0;31m:\u001b[0m invalid syntax\n"
     ]
    }
   ],
   "source": [
    "while True print('Hello world')"
   ]
  },
  {
   "cell_type": "markdown",
   "metadata": {},
   "source": [
    "исключение выше говорит, что нарушен синтаксис написания команды, а именно, пропущено \":\", нарушена конструкция написания цикла"
   ]
  },
  {
   "cell_type": "markdown",
   "metadata": {},
   "source": [
    "# Задание от 31.12.2024"
   ]
  },
  {
   "cell_type": "markdown",
   "metadata": {},
   "source": [
    "\n",
    "### Задание 1. Тuп определяет набор возможных операций и значений, выполняемых над объектом.\n",
    "\n",
    "Объект - пока не трогаем.\n",
    "\n",
    "https://docs.python.org/3/reference/datamodel.html#objects-values-and-types\n",
    "\n",
    "### Задание 2. Параметры позиционные и именованные.\n",
    "\n",
    "**Достичь в параметрах следующего:**\n",
    "\n",
    "- чтение на лету.\n",
    "- Вызов.\n",
    "- Исключения.\n",
    "\n",
    "https://docs.python.org/3/tutorial/controlflow.html#defining-functions\n",
    "\n",
    "https://docs.python.org/3/tutorial/controlflow.html#special-parameters\n",
    "\n",
    "\n",
    "позиционные параметры: Это параметры, заначения которых указываются подряд. Их указывают в \"отделе параметров\", как параметры, которые идут после \"/\"\n",
    "\n",
    "так же есть именованные параметры в которых две звездочки **. Это тот же самый именованный параметр, но он используется в массивах , тогда как * в переменных"
   ]
  },
  {
   "cell_type": "code",
   "execution_count": null,
   "metadata": {},
   "outputs": [],
   "source": [
    "def pos_only_arg(arg, /):\n",
    "    print(arg)\n",
    "\n",
    "pos_only_arg(1) #такой ввод значения принимается\n",
    "\n",
    "pos_only_arg(arg=1) #такой ввод значения выдаст исключение тк параметр позиционный и должен вводиться , как показано выше \n"
   ]
  },
  {
   "cell_type": "markdown",
   "metadata": {},
   "source": [
    "\n",
    "именованые параметры: Это параметры, заначения которых указываются по имени параметра . Их указывают в \"отделе параметров\", как параметры, которые перед \"*\"\n"
   ]
  },
  {
   "cell_type": "code",
   "execution_count": null,
   "metadata": {},
   "outputs": [],
   "source": [
    "def kwd_only_arg(*, arg):\n",
    "    print(arg)\n",
    "\n",
    "kwd_only_arg(1) #такой ввод значения выдаст исключение тк параметр именованный и должен вводиться , как показано ниже\n",
    "\n",
    "kwd_only_arg(arg=1) #такой ввод значения принимается"
   ]
  },
  {
   "cell_type": "markdown",
   "metadata": {},
   "source": [
    "- считывание на лету.(не знаю как передать то, что я считываю на лету, но могу написать то, что сначала идут позиционные,после / \"смешаные\" , а после * именованные  )\n",
    "- Вызов.(тут я ничего не понял, потому что в видео, вы показывали кусок кода ниже и свое непонимание я напишу там же через комментарий)"
   ]
  },
  {
   "cell_type": "code",
   "execution_count": null,
   "metadata": {},
   "outputs": [],
   "source": [
    "def get_object_or_404(klass, *args, **kwargs):\n",
    "    \"\"\"\n",
    "    Use get() to return an object, or raise an Http404 exception if the object\n",
    "    does not exist.\n",
    "\n",
    "    klass may be a Model, Manager, or QuerySet object. All other passed\n",
    "    arguments and keyword arguments are used in the get() query.\n",
    "\n",
    "    Like with QuerySet.get(), MultipleObjectsReturned is raised if more than\n",
    "    one object is found.\n",
    "    \"\"\"\n",
    "    queryset = _get_queryset(klass) #вот переменной присваивается функция с \"смешанным\" параметром klass\n",
    "    if not hasattr(queryset, \"get\"):\n",
    "        klass__name = (\n",
    "            klass.__name__ if isinstance(klass, type) else klass.__class__.__name__\n",
    "        )\n",
    "        raise ValueError(\n",
    "            \"First argument to get_object_or_404() must be a Model, Manager, \"\n",
    "            \"or QuerySet, not '%s'.\" % klass__name\n",
    "        )\n",
    "    try:\n",
    "        return queryset.get(*args, **kwargs) # здесь уже вызов переменной, но параметры уже другие и вот на этом моменте я не могу сообразить \n",
    "    except queryset.model.DoesNotExist:\n",
    "        raise Http404(\n",
    "            \"No %s matches the given query.\" % queryset.model._meta.object_name\n",
    "        )"
   ]
  },
  {
   "cell_type": "markdown",
   "metadata": {},
   "source": [
    "\n",
    "- Исключения.(я не понимаю как сделать ввод, значений в функцию, поэтому просто скопирую текст из документации и опишу ошибку, как я ее понимаю )"
   ]
  },
  {
   "cell_type": "code",
   "execution_count": null,
   "metadata": {},
   "outputs": [],
   "source": [
    "#исключение появилось тк параметр не может принимать значение больше одного раза \n",
    "def function(a):\n",
    "\n",
    "    pass\n",
    "\n",
    "\n",
    "function(0, a=0)\n",
    "Traceback (most recent call last):\n",
    "  File \"<stdin>\", line 1, in <module>\n",
    "TypeError: function() got multiple values for argument 'a'"
   ]
  },
  {
   "cell_type": "code",
   "execution_count": 2,
   "metadata": {},
   "outputs": [
    {
     "ename": "SyntaxError",
     "evalue": "invalid syntax. Perhaps you forgot a comma? (3645510740.py, line 6)",
     "output_type": "error",
     "traceback": [
      "\u001b[0;36m  Cell \u001b[0;32mIn[2], line 6\u001b[0;36m\u001b[0m\n\u001b[0;31m    Traceback (most recent call last):\u001b[0m\n\u001b[0m               ^\u001b[0m\n\u001b[0;31mSyntaxError\u001b[0m\u001b[0;31m:\u001b[0m invalid syntax. Perhaps you forgot a comma?\n"
     ]
    }
   ],
   "source": [
    "def combined_example(pos_only, /, standard, *, kwd_only):\n",
    "\n",
    "    print(pos_only, standard, kwd_only)\n",
    "\n",
    "combined_example(1, 2, 3)\n",
    "Traceback (most recent call last):\n",
    "  File \"<stdin>\", line 1, in <module>\n",
    "TypeError: combined_example() takes 2 positional arguments but 3 were given #исключение появилось из за того, что в именованный параметр пытались ввести значение , как в  позиционный \n",
    "\n",
    "combined_example(1, 2, kwd_only=3)\n",
    "1 2 3#ошибки нет тк средний параметр может быть либо позиционным ,либо именованным \n",
    "\n",
    "combined_example(1, standard=2, kwd_only=3)\n",
    "1 2 3#ошибки нет тк средний параметр может быть либо позиционным ,либо именованным \n",
    "\n",
    "combined_example(pos_only=1, standard=2, kwd_only=3)\n",
    "Traceback (most recent call last):\n",
    "  File \"<stdin>\", line 1, in <module>\n",
    "TypeError: combined_example() got some positional-only arguments passed as keyword arguments: 'pos_only'#исключение появилось из за того, что в позиционный параметр пытались ввести значение , как в именованный"
   ]
  },
  {
   "cell_type": "code",
   "execution_count": null,
   "metadata": {},
   "outputs": [],
   "source": [
    "def foo(name, **kwds):\n",
    "    return 'name' in kwds\n",
    "\n",
    "foo(1, **{'name': 2})\n",
    "Traceback (most recent call last):\n",
    "  File \"<stdin>\", line 1, in <module>\n",
    "TypeError: foo() got multiple values for argument 'name'#исключение возникло из за того, что первый параметр воспринимается , как именной, и поэтому возникает конфликт между повторяющимся 'name'\n",
    "\n",
    "#решается конвертированием первого параметра в позиционный "
   ]
  },
  {
   "cell_type": "markdown",
   "metadata": {},
   "source": []
  },
  {
   "cell_type": "markdown",
   "metadata": {},
   "source": [
    "# Задание от 8.01.2025"
   ]
  },
  {
   "cell_type": "markdown",
   "metadata": {},
   "source": [
    "\n",
    "\n",
    "\n",
    "### Задание 1. \n",
    "Мы знаем, что **Тuп определяет набор возможных операций и значений, выполняемых над объектом.**\n",
    "\n",
    "часть первая:\n",
    "\n",
    "Напишите функции питон и начните делать действия несовевместимые, например от чисел отнимать строки.\n",
    "Получите исключения и поясните.\n",
    "\n",
    "пример: 75 - \"Привет\" (используйте и другие операции вычитания, деление)"
   ]
  },
  {
   "cell_type": "code",
   "execution_count": 6,
   "metadata": {},
   "outputs": [
    {
     "ename": "TypeError",
     "evalue": "unsupported operand type(s) for /: 'int' and 'str'",
     "output_type": "error",
     "traceback": [
      "\u001b[1;31m---------------------------------------------------------------------------\u001b[0m",
      "\u001b[1;31mTypeError\u001b[0m                                 Traceback (most recent call last)",
      "Cell \u001b[1;32mIn[6], line 7\u001b[0m\n\u001b[0;32m      4\u001b[0m     result\u001b[38;5;241m=\u001b[39m a\u001b[38;5;241m/\u001b[39mb\n\u001b[0;32m      5\u001b[0m     \u001b[38;5;28;01mreturn\u001b[39;00m(result)\n\u001b[1;32m----> 7\u001b[0m \u001b[43mfunc\u001b[49m\u001b[43m(\u001b[49m\u001b[43m)\u001b[49m\n",
      "Cell \u001b[1;32mIn[6], line 4\u001b[0m, in \u001b[0;36mfunc\u001b[1;34m()\u001b[0m\n\u001b[0;32m      2\u001b[0m a\u001b[38;5;241m=\u001b[39m\u001b[38;5;28mint\u001b[39m(\u001b[38;5;241m70\u001b[39m)\n\u001b[0;32m      3\u001b[0m b\u001b[38;5;241m=\u001b[39m\u001b[38;5;28mstr\u001b[39m(\u001b[38;5;124m\"\u001b[39m\u001b[38;5;124mhello\u001b[39m\u001b[38;5;124m\"\u001b[39m)\n\u001b[1;32m----> 4\u001b[0m result\u001b[38;5;241m=\u001b[39m \u001b[43ma\u001b[49m\u001b[38;5;241;43m/\u001b[39;49m\u001b[43mb\u001b[49m\n\u001b[0;32m      5\u001b[0m \u001b[38;5;28;01mreturn\u001b[39;00m(result)\n",
      "\u001b[1;31mTypeError\u001b[0m: unsupported operand type(s) for /: 'int' and 'str'"
     ]
    }
   ],
   "source": [
    "def func ():\n",
    "    a=int(70)\n",
    "    b=str(\"hello\")\n",
    "    result= a/b\n",
    "\n",
    "func()"
   ]
  },
  {
   "cell_type": "markdown",
   "metadata": {},
   "source": [
    "В этом случае, исключение появилось из за того, целое число невозможно разделить на строку "
   ]
  },
  {
   "cell_type": "code",
   "execution_count": 20,
   "metadata": {},
   "outputs": [
    {
     "ename": "TypeError",
     "evalue": "unsupported operand type(s) for -: 'int' and 'str'",
     "output_type": "error",
     "traceback": [
      "\u001b[1;31m---------------------------------------------------------------------------\u001b[0m",
      "\u001b[1;31mTypeError\u001b[0m                                 Traceback (most recent call last)",
      "Cell \u001b[1;32mIn[20], line 6\u001b[0m\n\u001b[0;32m      3\u001b[0m     b\u001b[38;5;241m=\u001b[39m\u001b[38;5;28mstr\u001b[39m(\u001b[38;5;124m\"\u001b[39m\u001b[38;5;124mhello\u001b[39m\u001b[38;5;124m\"\u001b[39m)\n\u001b[0;32m      4\u001b[0m     result\u001b[38;5;241m=\u001b[39m a\u001b[38;5;241m-\u001b[39mb\n\u001b[1;32m----> 6\u001b[0m \u001b[43mfunc1\u001b[49m\u001b[43m(\u001b[49m\u001b[43m)\u001b[49m\n",
      "Cell \u001b[1;32mIn[20], line 4\u001b[0m, in \u001b[0;36mfunc1\u001b[1;34m()\u001b[0m\n\u001b[0;32m      2\u001b[0m a\u001b[38;5;241m=\u001b[39m\u001b[38;5;28mint\u001b[39m(\u001b[38;5;241m70\u001b[39m)\n\u001b[0;32m      3\u001b[0m b\u001b[38;5;241m=\u001b[39m\u001b[38;5;28mstr\u001b[39m(\u001b[38;5;124m\"\u001b[39m\u001b[38;5;124mhello\u001b[39m\u001b[38;5;124m\"\u001b[39m)\n\u001b[1;32m----> 4\u001b[0m result\u001b[38;5;241m=\u001b[39m \u001b[43ma\u001b[49m\u001b[38;5;241;43m-\u001b[39;49m\u001b[43mb\u001b[49m\n",
      "\u001b[1;31mTypeError\u001b[0m: unsupported operand type(s) for -: 'int' and 'str'"
     ]
    }
   ],
   "source": [
    "def func1 ():\n",
    "    a=int(70)\n",
    "    b=str(\"hello\")\n",
    "    result= a-b\n",
    "\n",
    "func1()"
   ]
  },
  {
   "cell_type": "markdown",
   "metadata": {},
   "source": [
    "В этом случае, исключение появилось из за того, из целого чила невозможно вычесть строку"
   ]
  },
  {
   "cell_type": "markdown",
   "metadata": {},
   "source": [
    "Когда мы знаем, что такое тип, то есть, **что делать с объектом**, именно это мы подразумеваем.\n",
    "\n",
    "теперь нам нужно понять. что такое объект?\n",
    "\n",
    "### Объект участок памяти, в котором хранится данные(переменная) определенного типа.\n",
    "\n",
    "### Задание 2.\n",
    "\n",
    "Прочитать и описать параметры:\n",
    "\n",
    "https://github.com/django/django/blob/stable/5.1.x/django/shortcuts.py#L65\n",
    "\n",
    "строка 18\n",
    "параметры: \n",
    "- request. Это позиционный или именованный параметр(там нет  * или /). Это функция из другого файла\n",
    "- template_name. Это позиционный или именованный параметр(там нет  * или /). Это константа \n",
    "- context=None. Это позиционный или именованный параметр(там нет  * или /). Это функция, None означает, что изначально этот параметр без значения\n",
    "- content_type=None. Это позиционный или именованный параметр(там нет  * или /). Это константа, None означает, что изначально этот параметр без значения\n",
    "- status=None. Это позиционный или именованный параметр(там нет  * или /). Это константа, None означает, что изначально этот параметр без значения\n",
    "- using=None. Это позиционный или именованный параметр(там нет  * или /). Это фукнция, None означает, что изначально этот параметр без значения\n",
    "\n",
    "строка 52\n",
    "- klass. Это позиционный или именованный параметр(там нет  * или /). Это константа \n",
    "\n",
    "строка 65\n",
    "- klass. Это позиционный или именованный параметр(там нет  * или /). Это константа \n",
    "- *args, Это именованный параметр, Это константа\n",
    "- **kwargs, Это именнованый параметр(массив)\n",
    "\n",
    "Есть в этом коде параметры. которые Вы не знаете, опишите их.\n",
    "\n",
    "# Задание 3.\n",
    "\n",
    "Написать функцию С++ и функцию Питон"
   ]
  },
  {
   "cell_type": "markdown",
   "metadata": {},
   "source": [
    "c++:"
   ]
  },
  {
   "cell_type": "code",
   "execution_count": null,
   "metadata": {},
   "outputs": [],
   "source": [
    "int sum1(int a, int b){\n",
    "    int c;\n",
    "    c = a-b;\n",
    "    return c;\n",
    "}"
   ]
  },
  {
   "cell_type": "markdown",
   "metadata": {},
   "source": [
    "Python:"
   ]
  },
  {
   "cell_type": "code",
   "execution_count": 9,
   "metadata": {},
   "outputs": [
    {
     "data": {
      "text/plain": [
       "5"
      ]
     },
     "execution_count": 9,
     "metadata": {},
     "output_type": "execute_result"
    }
   ],
   "source": [
    "def sum2(a, b):\n",
    "    c= a - b\n",
    "    return (c)\n",
    "\n",
    "sum2(7,2)"
   ]
  },
  {
   "cell_type": "markdown",
   "metadata": {},
   "source": [
    "\n",
    "\n",
    "И посмотреть на параметры, что общего, в чём различие.\n",
    "\n",
    "Рассказать со стороны типа, что видите отталкиваясь от С++, что там в параметрах с типом.\n",
    "И что в птион в параметрах с типом?\n",
    "\n",
    "Отличие заключается в том, что в c++ присутствует сторая типизация для параметров(для функции тоже), а в питоне типы определяются автоматически и поэтому их не надо вводить.\n",
    "\n",
    "### Задание 3.\n",
    "\n",
    "\n",
    "**расписать разметку Бекуса Наура.**\n",
    "\n",
    "https://docs.python.org/3/reference/introduction.html#notation\n",
    "\n",
    "https://docs.python.org/3/reference/compound_stmts.html#function-definitions\n",
    "\n",
    "\n",
    "разметка:\n",
    "- ::= , означает, что символ слева необходимо заменить выражением справа.\n",
    "- | , используется для обозначение альтернативы.\n",
    "- \"*\" , означает ноль или более повторений предыдущего элемента.\n",
    "- \"+\" , означает одно или несколько повторений предыдущего элемента.\n",
    "- (), означает одно или более вхождений (другими словами, заключенная фраза является обязательной).\n",
    "- [] , означает ноль или одно вхождение (другими словами, заключенная фраза не является обязательной).\n",
    "- <...> , то что заключено между угловых скобок означает описание.\n",
    "- \":\", то что заключено в ковычки означает , что находящийся внутри них символ, должен использоваться там же, где и поставлен в ковычках, в синтаксисе\n"
   ]
  },
  {
   "cell_type": "markdown",
   "metadata": {},
   "source": [
    "### Задание 4. Переделать параметры и получить исключения и объяснить.\n",
    "В этот раз используйте эту функцию.\n",
    "И разберитесь как может передоваться позиционнный параметры.\n",
    "Параметры. то, что в скобках.\n",
    "То что передаётся аргумент и никак по другому."
   ]
  },
  {
   "cell_type": "code",
   "execution_count": 2,
   "metadata": {},
   "outputs": [],
   "source": [
    "# https://docs.python.org/3/glossary.html\n",
    "\n",
    "\n",
    "def combined_example3(pos_only,  standard,  kwd_only):\n",
    "    print(pos_only, standard, kwd_only)\n",
    "    \n",
    "def combined_example2(standard,  kwd_only, pos_only=\"\"):\n",
    "    print(pos_only, standard, kwd_only)\n",
    "\n",
    "\n",
    "def combined_example1(pos_only, /, standard, *, kwd_only):\n",
    "\n",
    "    print(pos_only, standard, kwd_only)\n"
   ]
  },
  {
   "cell_type": "code",
   "execution_count": 12,
   "metadata": {},
   "outputs": [
    {
     "ename": "TypeError",
     "evalue": "combined_example3() got multiple values for argument 'pos_only'",
     "output_type": "error",
     "traceback": [
      "\u001b[1;31m---------------------------------------------------------------------------\u001b[0m",
      "\u001b[1;31mTypeError\u001b[0m                                 Traceback (most recent call last)",
      "Cell \u001b[1;32mIn[12], line 1\u001b[0m\n\u001b[1;32m----> 1\u001b[0m \u001b[43mcombined_example3\u001b[49m\u001b[43m(\u001b[49m\u001b[38;5;241;43m1\u001b[39;49m\u001b[43m,\u001b[49m\u001b[43m \u001b[49m\u001b[38;5;241;43m2\u001b[39;49m\u001b[43m,\u001b[49m\u001b[43m \u001b[49m\u001b[43mpos_only\u001b[49m\u001b[38;5;241;43m=\u001b[39;49m\u001b[38;5;124;43m\"\u001b[39;49m\u001b[38;5;124;43md\u001b[39;49m\u001b[38;5;124;43m\"\u001b[39;49m\u001b[43m)\u001b[49m\n",
      "\u001b[1;31mTypeError\u001b[0m: combined_example3() got multiple values for argument 'pos_only'"
     ]
    }
   ],
   "source": [
    "combined_example3(1, 2, pos_only=\"d\")"
   ]
  },
  {
   "cell_type": "markdown",
   "metadata": {},
   "source": [
    "ошибка заключается в том, что в параметр аргумент может записываться только один раз, а здесь два раза"
   ]
  },
  {
   "cell_type": "code",
   "execution_count": 17,
   "metadata": {},
   "outputs": [
    {
     "name": "stdout",
     "output_type": "stream",
     "text": [
      "1 2 d\n"
     ]
    }
   ],
   "source": [
    "combined_example3(standard=\"2\", pos_only=\"1\", kwd_only=\"d\")"
   ]
  },
  {
   "cell_type": "code",
   "execution_count": 32,
   "metadata": {},
   "outputs": [
    {
     "ename": "TypeError",
     "evalue": "combined_example2() got multiple values for argument 'standard'",
     "output_type": "error",
     "traceback": [
      "\u001b[1;31m---------------------------------------------------------------------------\u001b[0m",
      "\u001b[1;31mTypeError\u001b[0m                                 Traceback (most recent call last)",
      "Cell \u001b[1;32mIn[32], line 1\u001b[0m\n\u001b[1;32m----> 1\u001b[0m \u001b[43mcombined_example2\u001b[49m\u001b[43m(\u001b[49m\u001b[38;5;241;43m2\u001b[39;49m\u001b[43m,\u001b[49m\u001b[43m \u001b[49m\u001b[38;5;241;43m1\u001b[39;49m\u001b[43m,\u001b[49m\u001b[43m \u001b[49m\u001b[43mstandard\u001b[49m\u001b[38;5;241;43m=\u001b[39;49m\u001b[38;5;241;43m3\u001b[39;49m\u001b[43m)\u001b[49m\n",
      "\u001b[1;31mTypeError\u001b[0m: combined_example2() got multiple values for argument 'standard'"
     ]
    }
   ],
   "source": [
    "combined_example2(2, 1, standard=3)"
   ]
  },
  {
   "cell_type": "markdown",
   "metadata": {},
   "source": [
    "исключение возникло из за того, что нарушена последовательность передачи аргументов(сначала позиционный, )"
   ]
  },
  {
   "cell_type": "code",
   "execution_count": 13,
   "metadata": {},
   "outputs": [
    {
     "ename": "TypeError",
     "evalue": "combined_example1() missing 2 required positional arguments: 'pos_only' and 'standard'",
     "output_type": "error",
     "traceback": [
      "\u001b[1;31m---------------------------------------------------------------------------\u001b[0m",
      "\u001b[1;31mTypeError\u001b[0m                                 Traceback (most recent call last)",
      "Cell \u001b[1;32mIn[13], line 1\u001b[0m\n\u001b[1;32m----> 1\u001b[0m \u001b[43mcombined_example1\u001b[49m\u001b[43m(\u001b[49m\u001b[43m)\u001b[49m\n",
      "\u001b[1;31mTypeError\u001b[0m: combined_example1() missing 2 required positional arguments: 'pos_only' and 'standard'"
     ]
    }
   ],
   "source": [
    "combined_example1()"
   ]
  },
  {
   "cell_type": "markdown",
   "metadata": {},
   "source": [
    "Это исключение появилось из за того, что отсутсвуют три вида аргументов "
   ]
  },
  {
   "cell_type": "code",
   "execution_count": 13,
   "metadata": {},
   "outputs": [
    {
     "ename": "TypeError",
     "evalue": "combined_example1() missing 1 required keyword-only argument: 'kwd_only'",
     "output_type": "error",
     "traceback": [
      "\u001b[0;31m---------------------------------------------------------------------------\u001b[0m",
      "\u001b[0;31mTypeError\u001b[0m                                 Traceback (most recent call last)",
      "Cell \u001b[0;32mIn[13], line 1\u001b[0m\n\u001b[0;32m----> 1\u001b[0m \u001b[43mcombined_example1\u001b[49m\u001b[43m(\u001b[49m\u001b[38;5;241;43m255\u001b[39;49m\u001b[43m,\u001b[49m\u001b[43m \u001b[49m\u001b[38;5;241;43m256\u001b[39;49m\u001b[43m)\u001b[49m\n",
      "\u001b[0;31mTypeError\u001b[0m: combined_example1() missing 1 required keyword-only argument: 'kwd_only'"
     ]
    }
   ],
   "source": [
    "combined_example1(255, 256)"
   ]
  },
  {
   "cell_type": "markdown",
   "metadata": {},
   "source": [
    "Это исключение появилось из за того, что отсутсвует именованный аргумент "
   ]
  },
  {
   "cell_type": "code",
   "execution_count": 14,
   "metadata": {},
   "outputs": [
    {
     "ename": "TypeError",
     "evalue": "combined_example1() takes 2 positional arguments but 3 were given",
     "output_type": "error",
     "traceback": [
      "\u001b[0;31m---------------------------------------------------------------------------\u001b[0m",
      "\u001b[0;31mTypeError\u001b[0m                                 Traceback (most recent call last)",
      "Cell \u001b[0;32mIn[14], line 1\u001b[0m\n\u001b[0;32m----> 1\u001b[0m \u001b[43mcombined_example1\u001b[49m\u001b[43m(\u001b[49m\u001b[38;5;241;43m255\u001b[39;49m\u001b[43m,\u001b[49m\u001b[43m \u001b[49m\u001b[38;5;241;43m256\u001b[39;49m\u001b[43m,\u001b[49m\u001b[43m \u001b[49m\u001b[38;5;124;43m\"\u001b[39;49m\u001b[38;5;124;43m\"\u001b[39;49m\u001b[43m)\u001b[49m\n",
      "\u001b[0;31mTypeError\u001b[0m: combined_example1() takes 2 positional arguments but 3 were given"
     ]
    }
   ],
   "source": [
    "combined_example1(255, 256, \"\")"
   ]
  },
  {
   "cell_type": "markdown",
   "metadata": {},
   "source": [
    "Это исключение появилось из за того, что синтаксис передачи именованного аргумента другой (может не понятно выразился, передача должна происходить через kwd_only=\"\") "
   ]
  },
  {
   "cell_type": "code",
   "execution_count": 15,
   "metadata": {},
   "outputs": [
    {
     "name": "stdout",
     "output_type": "stream",
     "text": [
      "255 256 \n"
     ]
    }
   ],
   "source": [
    "combined_example1(255, 256, kwd_only = \"\")"
   ]
  },
  {
   "cell_type": "code",
   "execution_count": 16,
   "metadata": {},
   "outputs": [
    {
     "ename": "TypeError",
     "evalue": "combined_example1() got an unexpected keyword argument 'kwd_only2'",
     "output_type": "error",
     "traceback": [
      "\u001b[0;31m---------------------------------------------------------------------------\u001b[0m",
      "\u001b[0;31mTypeError\u001b[0m                                 Traceback (most recent call last)",
      "Cell \u001b[0;32mIn[16], line 1\u001b[0m\n\u001b[0;32m----> 1\u001b[0m \u001b[43mcombined_example1\u001b[49m\u001b[43m(\u001b[49m\u001b[38;5;241;43m255\u001b[39;49m\u001b[43m,\u001b[49m\u001b[43m \u001b[49m\u001b[38;5;241;43m256\u001b[39;49m\u001b[43m,\u001b[49m\u001b[43m \u001b[49m\u001b[43mkwd_only2\u001b[49m\u001b[43m \u001b[49m\u001b[38;5;241;43m=\u001b[39;49m\u001b[43m \u001b[49m\u001b[38;5;124;43m\"\u001b[39;49m\u001b[38;5;124;43m\"\u001b[39;49m\u001b[43m)\u001b[49m\n",
      "\u001b[0;31mTypeError\u001b[0m: combined_example1() got an unexpected keyword argument 'kwd_only2'"
     ]
    }
   ],
   "source": [
    "combined_example1(255, 256, kwd_only2 = \"\")"
   ]
  },
  {
   "cell_type": "markdown",
   "metadata": {},
   "source": [
    "Это исключение появилось из за того, что введен именованный параметр, который отсутствует в функции"
   ]
  },
  {
   "cell_type": "code",
   "execution_count": 12,
   "metadata": {},
   "outputs": [
    {
     "ename": "TypeError",
     "evalue": "combined_example1() missing 1 required positional argument: 'pos_only'",
     "output_type": "error",
     "traceback": [
      "\u001b[1;31m---------------------------------------------------------------------------\u001b[0m",
      "\u001b[1;31mTypeError\u001b[0m                                 Traceback (most recent call last)",
      "Cell \u001b[1;32mIn[12], line 1\u001b[0m\n\u001b[1;32m----> 1\u001b[0m \u001b[43mcombined_example1\u001b[49m\u001b[43m(\u001b[49m\u001b[43mstandard\u001b[49m\u001b[38;5;241;43m=\u001b[39;49m\u001b[38;5;241;43m1\u001b[39;49m\u001b[43m,\u001b[49m\u001b[43mkwd_only\u001b[49m\u001b[38;5;241;43m=\u001b[39;49m\u001b[38;5;241;43m1\u001b[39;49m\u001b[43m)\u001b[49m\n",
      "\u001b[1;31mTypeError\u001b[0m: combined_example1() missing 1 required positional argument: 'pos_only'"
     ]
    }
   ],
   "source": [
    "combined_example1(standard= 1,kwd_only= 1)"
   ]
  },
  {
   "cell_type": "markdown",
   "metadata": {},
   "source": [
    "Это исключение появилось из за того, что отсутствует позиционный аргумент"
   ]
  },
  {
   "cell_type": "code",
   "execution_count": 15,
   "metadata": {},
   "outputs": [
    {
     "ename": "SyntaxError",
     "evalue": "positional argument follows keyword argument (3330736.py, line 1)",
     "output_type": "error",
     "traceback": [
      "\u001b[1;36m  Cell \u001b[1;32mIn[15], line 1\u001b[1;36m\u001b[0m\n\u001b[1;33m    combined_example1(kwd_only=1, 1,standard= 1)\u001b[0m\n\u001b[1;37m                                               ^\u001b[0m\n\u001b[1;31mSyntaxError\u001b[0m\u001b[1;31m:\u001b[0m positional argument follows keyword argument\n"
     ]
    }
   ],
   "source": [
    "combined_example1(kwd_only=1, 1,standard= 1)"
   ]
  },
  {
   "cell_type": "markdown",
   "metadata": {},
   "source": [
    "Это исключение появилось из за того, что параметры введены в неправильной последовательности"
   ]
  },
  {
   "cell_type": "code",
   "execution_count": 4,
   "metadata": {},
   "outputs": [
    {
     "ename": "SyntaxError",
     "evalue": "positional argument follows keyword argument (698557790.py, line 1)",
     "output_type": "error",
     "traceback": [
      "\u001b[1;36m  Cell \u001b[1;32mIn[4], line 1\u001b[1;36m\u001b[0m\n\u001b[1;33m    combined_example1(standard= 1, kwd_only=1, 1)\u001b[0m\n\u001b[1;37m                                                ^\u001b[0m\n\u001b[1;31mSyntaxError\u001b[0m\u001b[1;31m:\u001b[0m positional argument follows keyword argument\n"
     ]
    }
   ],
   "source": [
    "combined_example1(standard= 1, kwd_only=1, 1)"
   ]
  },
  {
   "cell_type": "markdown",
   "metadata": {},
   "source": [
    "Это исключение появилось из за того, что параметры введены в неправильной последовательности"
   ]
  },
  {
   "cell_type": "code",
   "execution_count": null,
   "metadata": {},
   "outputs": [],
   "source": [
    "a = \"\""
   ]
  },
  {
   "cell_type": "code",
   "execution_count": 18,
   "metadata": {},
   "outputs": [
    {
     "data": {
      "text/plain": [
       "str"
      ]
     },
     "execution_count": 18,
     "metadata": {},
     "output_type": "execute_result"
    }
   ],
   "source": [
    "type(a)"
   ]
  },
  {
   "cell_type": "code",
   "execution_count": 19,
   "metadata": {},
   "outputs": [
    {
     "data": {
      "text/plain": [
       "type"
      ]
     },
     "execution_count": 19,
     "metadata": {},
     "output_type": "execute_result"
    }
   ],
   "source": [
    "type(str)"
   ]
  },
  {
   "cell_type": "markdown",
   "metadata": {},
   "source": [
    "# задание от 15.01.2025"
   ]
  },
  {
   "cell_type": "markdown",
   "metadata": {},
   "source": [
    "**НЕ верно/дать верное определение**: Объект участок памяти, в котором хранится значение определенного типа.\n",
    "\n",
    "https://docs.python.org/3/reference/datamodel.html#objects-values-and-types\n",
    "\n",
    "### Разобраться с позиционными и именованными и привести примеры.\n",
    "\n",
    "Как Вы отличите позиционные и именованные параметры?\n",
    "\n",
    "Именованный параметр идет через присвоение (знак =), а тк позиционный параметр, это не именованный, то нужно действовать от обратного. Т.Е. если у параметра нет знака присвоения, то это позиционный параметр \n",
    "\n",
    "https://docs.python.org/3/tutorial/controlflow.html#defining-functions"
   ]
  },
  {
   "cell_type": "code",
   "execution_count": 4,
   "metadata": {},
   "outputs": [],
   "source": [
    "def qwe(*,common):\n",
    "    print (common)\n",
    "\n",
    "def qwe1(common, /):\n",
    "    print (common)\n",
    "\n",
    "'def qwe2(common= \"\", common1):'\n",
    "'print (common)' #тут будет ошибка тк сначала идут позиционные параметры, а потом именованные\n",
    "\n",
    "def qwe2(common1, common= \"\"):\n",
    "    print (common,common1)"
   ]
  },
  {
   "cell_type": "code",
   "execution_count": 6,
   "metadata": {},
   "outputs": [
    {
     "ename": "TypeError",
     "evalue": "qwe() takes 0 positional arguments but 1 was given",
     "output_type": "error",
     "traceback": [
      "\u001b[1;31m---------------------------------------------------------------------------\u001b[0m",
      "\u001b[1;31mTypeError\u001b[0m                                 Traceback (most recent call last)",
      "Cell \u001b[1;32mIn[6], line 1\u001b[0m\n\u001b[1;32m----> 1\u001b[0m \u001b[43mqwe\u001b[49m\u001b[43m(\u001b[49m\u001b[38;5;241;43m1\u001b[39;49m\u001b[43m)\u001b[49m\n",
      "\u001b[1;31mTypeError\u001b[0m: qwe() takes 0 positional arguments but 1 was given"
     ]
    }
   ],
   "source": [
    "qwe(1)"
   ]
  },
  {
   "cell_type": "markdown",
   "metadata": {},
   "source": [
    "исключение сработало, потому что в функции могут быть только именованные параметры, а в аргумет введен позиционный"
   ]
  },
  {
   "cell_type": "code",
   "execution_count": 7,
   "metadata": {},
   "outputs": [
    {
     "name": "stdout",
     "output_type": "stream",
     "text": [
      "1\n"
     ]
    }
   ],
   "source": [
    "qwe(common=1)"
   ]
  },
  {
   "cell_type": "code",
   "execution_count": 9,
   "metadata": {},
   "outputs": [
    {
     "ename": "TypeError",
     "evalue": "qwe1() got some positional-only arguments passed as keyword arguments: 'common'",
     "output_type": "error",
     "traceback": [
      "\u001b[1;31m---------------------------------------------------------------------------\u001b[0m",
      "\u001b[1;31mTypeError\u001b[0m                                 Traceback (most recent call last)",
      "Cell \u001b[1;32mIn[9], line 1\u001b[0m\n\u001b[1;32m----> 1\u001b[0m \u001b[43mqwe1\u001b[49m\u001b[43m(\u001b[49m\u001b[43mcommon\u001b[49m\u001b[38;5;241;43m=\u001b[39;49m\u001b[38;5;241;43m1\u001b[39;49m\u001b[43m)\u001b[49m\n",
      "\u001b[1;31mTypeError\u001b[0m: qwe1() got some positional-only arguments passed as keyword arguments: 'common'"
     ]
    }
   ],
   "source": [
    "qwe1(common=1)"
   ]
  },
  {
   "cell_type": "code",
   "execution_count": null,
   "metadata": {},
   "outputs": [],
   "source": [
    "исключение сработало, потому что в функции могут быть только позиционные параметры, а в аргумет введен именованный"
   ]
  },
  {
   "cell_type": "code",
   "execution_count": 10,
   "metadata": {},
   "outputs": [
    {
     "name": "stdout",
     "output_type": "stream",
     "text": [
      "1\n"
     ]
    }
   ],
   "source": [
    "qwe1(1)"
   ]
  },
  {
   "cell_type": "markdown",
   "metadata": {},
   "source": [
    "\n",
    "\n",
    "\n",
    "\n",
    "### Какой тип у параметра класс в данный момент?\n",
    "\n",
    "`def get_object_or_404(klass, *args, **kwargs):`\n",
    "\n",
    "Как показать в коде?\n",
    "type()\n",
    "\n",
    "я не понимаю как показать в коде через type, у меня получилось доказать только через исключение"
   ]
  },
  {
   "cell_type": "code",
   "execution_count": 7,
   "metadata": {},
   "outputs": [],
   "source": [
    "def get_object_or_404(klass, *args, **kwargs):\n",
    "    print(type(klass))"
   ]
  },
  {
   "cell_type": "code",
   "execution_count": 14,
   "metadata": {},
   "outputs": [
    {
     "name": "stdout",
     "output_type": "stream",
     "text": [
      "<class 'int'>\n"
     ]
    }
   ],
   "source": [
    "get_object_or_404(1,1,1)"
   ]
  },
  {
   "cell_type": "code",
   "execution_count": 9,
   "metadata": {},
   "outputs": [
    {
     "ename": "TypeError",
     "evalue": "get_object_or_404() got multiple values for argument 'klass'",
     "output_type": "error",
     "traceback": [
      "\u001b[1;31m---------------------------------------------------------------------------\u001b[0m",
      "\u001b[1;31mTypeError\u001b[0m                                 Traceback (most recent call last)",
      "Cell \u001b[1;32mIn[9], line 1\u001b[0m\n\u001b[1;32m----> 1\u001b[0m \u001b[43mget_object_or_404\u001b[49m\u001b[43m(\u001b[49m\u001b[38;5;241;43m1\u001b[39;49m\u001b[43m,\u001b[49m\u001b[38;5;241;43m1\u001b[39;49m\u001b[43m,\u001b[49m\u001b[43mklass\u001b[49m\u001b[38;5;241;43m=\u001b[39;49m\u001b[38;5;124;43m'\u001b[39;49m\u001b[38;5;124;43m1\u001b[39;49m\u001b[38;5;124;43m'\u001b[39;49m\u001b[43m)\u001b[49m \n",
      "\u001b[1;31mTypeError\u001b[0m: get_object_or_404() got multiple values for argument 'klass'"
     ]
    }
   ],
   "source": [
    "get_object_or_404(1,1,klass='1') "
   ]
  },
  {
   "cell_type": "markdown",
   "metadata": {},
   "source": [
    "исключение появилось, потому что klass это позиционный параметр, и он задался при первом аргументе, а потом получил второе значение при попытке передачи именованного аргумента(аргумент может заносится в параметр только один раз)"
   ]
  },
  {
   "cell_type": "code",
   "execution_count": 12,
   "metadata": {},
   "outputs": [
    {
     "ename": "SyntaxError",
     "evalue": "positional argument follows keyword argument (4115536778.py, line 1)",
     "output_type": "error",
     "traceback": [
      "\u001b[1;36m  Cell \u001b[1;32mIn[12], line 1\u001b[1;36m\u001b[0m\n\u001b[1;33m    get_object_or_404(klass='1',1,1)\u001b[0m\n\u001b[1;37m                                   ^\u001b[0m\n\u001b[1;31mSyntaxError\u001b[0m\u001b[1;31m:\u001b[0m positional argument follows keyword argument\n"
     ]
    }
   ],
   "source": [
    "get_object_or_404(klass='1',1,1) "
   ]
  },
  {
   "cell_type": "markdown",
   "metadata": {},
   "source": [
    "ошибка появилась тк сначала идут позиционные аргументы, а только потом именованные "
   ]
  },
  {
   "cell_type": "code",
   "execution_count": 1,
   "metadata": {},
   "outputs": [
    {
     "ename": "NameError",
     "evalue": "name 'var' is not defined",
     "output_type": "error",
     "traceback": [
      "\u001b[0;31m---------------------------------------------------------------------------\u001b[0m",
      "\u001b[0;31mNameError\u001b[0m                                 Traceback (most recent call last)",
      "Cell \u001b[0;32mIn[1], line 1\u001b[0m\n\u001b[0;32m----> 1\u001b[0m \u001b[43mvar\u001b[49m\n",
      "\u001b[0;31mNameError\u001b[0m: name 'var' is not defined"
     ]
    }
   ],
   "source": [
    "var"
   ]
  },
  {
   "cell_type": "code",
   "execution_count": 1,
   "metadata": {},
   "outputs": [],
   "source": [
    "def main(request):\n",
    "    pass"
   ]
  },
  {
   "cell_type": "code",
   "execution_count": 4,
   "metadata": {},
   "outputs": [
    {
     "ename": "TypeError",
     "evalue": "main() missing 1 required positional argument: 'request'",
     "output_type": "error",
     "traceback": [
      "\u001b[1;31m---------------------------------------------------------------------------\u001b[0m",
      "\u001b[1;31mTypeError\u001b[0m                                 Traceback (most recent call last)",
      "Cell \u001b[1;32mIn[4], line 1\u001b[0m\n\u001b[1;32m----> 1\u001b[0m \u001b[43mmain\u001b[49m\u001b[43m(\u001b[49m\u001b[43m)\u001b[49m\n",
      "\u001b[1;31mTypeError\u001b[0m: main() missing 1 required positional argument: 'request'"
     ]
    }
   ],
   "source": [
    "main()"
   ]
  },
  {
   "cell_type": "code",
   "execution_count": 3,
   "metadata": {},
   "outputs": [],
   "source": [
    "main(\"\")"
   ]
  },
  {
   "cell_type": "code",
   "execution_count": 4,
   "metadata": {},
   "outputs": [],
   "source": [
    "main(request=\"\")"
   ]
  },
  {
   "cell_type": "code",
   "execution_count": 2,
   "metadata": {},
   "outputs": [],
   "source": [
    "def main2(request, /):\n",
    "    pass"
   ]
  },
  {
   "cell_type": "code",
   "execution_count": 4,
   "metadata": {},
   "outputs": [
    {
     "ename": "TypeError",
     "evalue": "main2() got some positional-only arguments passed as keyword arguments: 'request'",
     "output_type": "error",
     "traceback": [
      "\u001b[0;31m---------------------------------------------------------------------------\u001b[0m",
      "\u001b[0;31mTypeError\u001b[0m                                 Traceback (most recent call last)",
      "Cell \u001b[0;32mIn[4], line 1\u001b[0m\n\u001b[0;32m----> 1\u001b[0m \u001b[43mmain2\u001b[49m\u001b[43m(\u001b[49m\u001b[43mrequest\u001b[49m\u001b[38;5;241;43m=\u001b[39;49m\u001b[38;5;124;43m\"\u001b[39;49m\u001b[38;5;124;43m\"\u001b[39;49m\u001b[43m)\u001b[49m\n",
      "\u001b[0;31mTypeError\u001b[0m: main2() got some positional-only arguments passed as keyword arguments: 'request'"
     ]
    }
   ],
   "source": [
    "main2(request=\"\")"
   ]
  },
  {
   "cell_type": "code",
   "execution_count": 6,
   "metadata": {},
   "outputs": [],
   "source": [
    "main2(\"\")"
   ]
  },
  {
   "cell_type": "code",
   "execution_count": 8,
   "metadata": {},
   "outputs": [],
   "source": [
    "# Правильно ли работае язык\n",
    "\n",
    "class A:\n",
    "    def __init__(self,param):\n",
    "        sels.param = param\n",
    "\n",
    "    def main(param1, param2):\n",
    "        param = param1 + param2\n",
    "        return param"
   ]
  },
  {
   "cell_type": "code",
   "execution_count": 9,
   "metadata": {},
   "outputs": [],
   "source": [
    "a = A"
   ]
  },
  {
   "cell_type": "code",
   "execution_count": 10,
   "metadata": {},
   "outputs": [
    {
     "data": {
      "text/plain": [
       "<function __main__.A.main(param1, param2)>"
      ]
     },
     "execution_count": 10,
     "metadata": {},
     "output_type": "execute_result"
    }
   ],
   "source": [
    "a.main"
   ]
  },
  {
   "cell_type": "code",
   "execution_count": 11,
   "metadata": {},
   "outputs": [
    {
     "ename": "TypeError",
     "evalue": "A.main() missing 2 required positional arguments: 'param1' and 'param2'",
     "output_type": "error",
     "traceback": [
      "\u001b[0;31m---------------------------------------------------------------------------\u001b[0m",
      "\u001b[0;31mTypeError\u001b[0m                                 Traceback (most recent call last)",
      "Cell \u001b[0;32mIn[11], line 1\u001b[0m\n\u001b[0;32m----> 1\u001b[0m \u001b[43ma\u001b[49m\u001b[38;5;241;43m.\u001b[39;49m\u001b[43mmain\u001b[49m\u001b[43m(\u001b[49m\u001b[43m)\u001b[49m\n",
      "\u001b[0;31mTypeError\u001b[0m: A.main() missing 2 required positional arguments: 'param1' and 'param2'"
     ]
    }
   ],
   "source": [
    "a.main()"
   ]
  },
  {
   "cell_type": "code",
   "execution_count": 12,
   "metadata": {},
   "outputs": [
    {
     "data": {
      "text/plain": [
       "6"
      ]
     },
     "execution_count": 12,
     "metadata": {},
     "output_type": "execute_result"
    }
   ],
   "source": [
    "a.main(1,5)"
   ]
  },
  {
   "cell_type": "code",
   "execution_count": 13,
   "metadata": {},
   "outputs": [
    {
     "ename": "TypeError",
     "evalue": "A.__init__() missing 1 required positional argument: 'param'",
     "output_type": "error",
     "traceback": [
      "\u001b[0;31m---------------------------------------------------------------------------\u001b[0m",
      "\u001b[0;31mTypeError\u001b[0m                                 Traceback (most recent call last)",
      "Cell \u001b[0;32mIn[13], line 1\u001b[0m\n\u001b[0;32m----> 1\u001b[0m a \u001b[38;5;241m=\u001b[39m \u001b[43mA\u001b[49m\u001b[43m(\u001b[49m\u001b[43m)\u001b[49m\n",
      "\u001b[0;31mTypeError\u001b[0m: A.__init__() missing 1 required positional argument: 'param'"
     ]
    }
   ],
   "source": [
    "a = A()"
   ]
  },
  {
   "cell_type": "code",
   "execution_count": 14,
   "metadata": {},
   "outputs": [
    {
     "ename": "NameError",
     "evalue": "name 'sels' is not defined",
     "output_type": "error",
     "traceback": [
      "\u001b[0;31m---------------------------------------------------------------------------\u001b[0m",
      "\u001b[0;31mNameError\u001b[0m                                 Traceback (most recent call last)",
      "Cell \u001b[0;32mIn[14], line 1\u001b[0m\n\u001b[0;32m----> 1\u001b[0m a \u001b[38;5;241m=\u001b[39m \u001b[43mA\u001b[49m\u001b[43m(\u001b[49m\u001b[38;5;241;43m5\u001b[39;49m\u001b[43m)\u001b[49m\n",
      "Cell \u001b[0;32mIn[8], line 5\u001b[0m, in \u001b[0;36mA.__init__\u001b[0;34m(self, param)\u001b[0m\n\u001b[1;32m      4\u001b[0m \u001b[38;5;28;01mdef\u001b[39;00m \u001b[38;5;21m__init__\u001b[39m(\u001b[38;5;28mself\u001b[39m,param):\n\u001b[0;32m----> 5\u001b[0m     \u001b[43msels\u001b[49m\u001b[38;5;241m.\u001b[39mparam \u001b[38;5;241m=\u001b[39m param\n",
      "\u001b[0;31mNameError\u001b[0m: name 'sels' is not defined"
     ]
    }
   ],
   "source": [
    "a = A(5)"
   ]
  },
  {
   "cell_type": "code",
   "execution_count": 15,
   "metadata": {},
   "outputs": [
    {
     "ename": "TypeError",
     "evalue": "A.__init__() takes 2 positional arguments but 3 were given",
     "output_type": "error",
     "traceback": [
      "\u001b[0;31m---------------------------------------------------------------------------\u001b[0m",
      "\u001b[0;31mTypeError\u001b[0m                                 Traceback (most recent call last)",
      "Cell \u001b[0;32mIn[15], line 1\u001b[0m\n\u001b[0;32m----> 1\u001b[0m a \u001b[38;5;241m=\u001b[39m \u001b[43mA\u001b[49m\u001b[43m(\u001b[49m\u001b[38;5;241;43m5\u001b[39;49m\u001b[43m,\u001b[49m\u001b[38;5;241;43m5\u001b[39;49m\u001b[43m)\u001b[49m\n",
      "\u001b[0;31mTypeError\u001b[0m: A.__init__() takes 2 positional arguments but 3 were given"
     ]
    }
   ],
   "source": [
    "a = A(5,5)"
   ]
  },
  {
   "cell_type": "markdown",
   "metadata": {},
   "source": [
    "# Задание от 22.01.25\n",
    "\n",
    "https://spb-tut.ru/%D0%BD%D0%BE%D0%B2%D0%BE%D1%81%D1%82%D0%B8/%D1%81%D0%BE%D0%B1%D1%8B%D1%82%D0%B8%D1%8F/%D0%B2%D1%81%D0%B5-%D1%80%D0%B0%D0%B2%D0%BD%D0%BE-%D0%BD%D0%B5-%D0%BF%D0%BE%D0%BB%D1%83%D1%87%D0%B8%D1%82%D1%81%D1%8F-%D1%81%D1%82%D0%B0%D1%82%D1%8C-%D0%BF%D1%80%D0%BE%D0%B3%D1%80%D0%B0%D0%BC%D0%BC%D0%B8%D1%81%D1%82%D0%BE%D0%BC-python-%D0%BF%D0%BE%D0%BA%D0%B0-%D0%BD%D0%B5-%D0%B8%D0%B7%D0%BC%D0%B5%D0%BD%D0%B8%D0%BC-%D0%B2%D0%BE%D1%82-%D1%8D%D1%82%D0%BE/"
   ]
  },
  {
   "cell_type": "code",
   "execution_count": 2,
   "metadata": {},
   "outputs": [],
   "source": [
    "def main(param, param2, param3=\"\", param4=None):\n",
    "    output = param + param2 + param3 + param4\n",
    "    return output"
   ]
  },
  {
   "cell_type": "code",
   "execution_count": 3,
   "metadata": {},
   "outputs": [
    {
     "ename": "TypeError",
     "evalue": "main() missing 2 required positional arguments: 'param' and 'param2'",
     "output_type": "error",
     "traceback": [
      "\u001b[0;31m---------------------------------------------------------------------------\u001b[0m",
      "\u001b[0;31mTypeError\u001b[0m                                 Traceback (most recent call last)",
      "Cell \u001b[0;32mIn[3], line 1\u001b[0m\n\u001b[0;32m----> 1\u001b[0m \u001b[43mmain\u001b[49m\u001b[43m(\u001b[49m\u001b[43m)\u001b[49m\n",
      "\u001b[0;31mTypeError\u001b[0m: main() missing 2 required positional arguments: 'param' and 'param2'"
     ]
    }
   ],
   "source": [
    "main()"
   ]
  },
  {
   "cell_type": "code",
   "execution_count": 4,
   "metadata": {},
   "outputs": [
    {
     "ename": "TypeError",
     "evalue": "unsupported operand type(s) for +: 'int' and 'str'",
     "output_type": "error",
     "traceback": [
      "\u001b[0;31m---------------------------------------------------------------------------\u001b[0m",
      "\u001b[0;31mTypeError\u001b[0m                                 Traceback (most recent call last)",
      "Cell \u001b[0;32mIn[4], line 1\u001b[0m\n\u001b[0;32m----> 1\u001b[0m \u001b[43mmain\u001b[49m\u001b[43m(\u001b[49m\u001b[38;5;241;43m1\u001b[39;49m\u001b[43m,\u001b[49m\u001b[43m \u001b[49m\u001b[38;5;241;43m2\u001b[39;49m\u001b[43m,\u001b[49m\u001b[43m \u001b[49m\u001b[43m)\u001b[49m\n",
      "Cell \u001b[0;32mIn[2], line 2\u001b[0m, in \u001b[0;36mmain\u001b[0;34m(param, param2, param3, param4)\u001b[0m\n\u001b[1;32m      1\u001b[0m \u001b[38;5;28;01mdef\u001b[39;00m \u001b[38;5;21mmain\u001b[39m(param, param2, param3\u001b[38;5;241m=\u001b[39m\u001b[38;5;124m\"\u001b[39m\u001b[38;5;124m\"\u001b[39m, param4\u001b[38;5;241m=\u001b[39m\u001b[38;5;28;01mNone\u001b[39;00m):\n\u001b[0;32m----> 2\u001b[0m     output \u001b[38;5;241m=\u001b[39m \u001b[43mparam\u001b[49m\u001b[43m \u001b[49m\u001b[38;5;241;43m+\u001b[39;49m\u001b[43m \u001b[49m\u001b[43mparam2\u001b[49m\u001b[43m \u001b[49m\u001b[38;5;241;43m+\u001b[39;49m\u001b[43m \u001b[49m\u001b[43mparam3\u001b[49m \u001b[38;5;241m+\u001b[39m param4\n\u001b[1;32m      3\u001b[0m     \u001b[38;5;28;01mreturn\u001b[39;00m output\n",
      "\u001b[0;31mTypeError\u001b[0m: unsupported operand type(s) for +: 'int' and 'str'"
     ]
    }
   ],
   "source": [
    "main(1, 2, )"
   ]
  },
  {
   "cell_type": "code",
   "execution_count": 5,
   "metadata": {},
   "outputs": [
    {
     "ename": "TypeError",
     "evalue": "can only concatenate str (not \"NoneType\") to str",
     "output_type": "error",
     "traceback": [
      "\u001b[0;31m---------------------------------------------------------------------------\u001b[0m",
      "\u001b[0;31mTypeError\u001b[0m                                 Traceback (most recent call last)",
      "Cell \u001b[0;32mIn[5], line 1\u001b[0m\n\u001b[0;32m----> 1\u001b[0m \u001b[43mmain\u001b[49m\u001b[43m(\u001b[49m\u001b[38;5;124;43m'\u001b[39;49m\u001b[38;5;124;43m1\u001b[39;49m\u001b[38;5;124;43m'\u001b[39;49m\u001b[43m,\u001b[49m\u001b[43m \u001b[49m\u001b[38;5;124;43m'\u001b[39;49m\u001b[38;5;124;43m2\u001b[39;49m\u001b[38;5;124;43m'\u001b[39;49m\u001b[43m \u001b[49m\u001b[43m)\u001b[49m\n",
      "Cell \u001b[0;32mIn[2], line 2\u001b[0m, in \u001b[0;36mmain\u001b[0;34m(param, param2, param3, param4)\u001b[0m\n\u001b[1;32m      1\u001b[0m \u001b[38;5;28;01mdef\u001b[39;00m \u001b[38;5;21mmain\u001b[39m(param, param2, param3\u001b[38;5;241m=\u001b[39m\u001b[38;5;124m\"\u001b[39m\u001b[38;5;124m\"\u001b[39m, param4\u001b[38;5;241m=\u001b[39m\u001b[38;5;28;01mNone\u001b[39;00m):\n\u001b[0;32m----> 2\u001b[0m     output \u001b[38;5;241m=\u001b[39m \u001b[43mparam\u001b[49m\u001b[43m \u001b[49m\u001b[38;5;241;43m+\u001b[39;49m\u001b[43m \u001b[49m\u001b[43mparam2\u001b[49m\u001b[43m \u001b[49m\u001b[38;5;241;43m+\u001b[39;49m\u001b[43m \u001b[49m\u001b[43mparam3\u001b[49m\u001b[43m \u001b[49m\u001b[38;5;241;43m+\u001b[39;49m\u001b[43m \u001b[49m\u001b[43mparam4\u001b[49m\n\u001b[1;32m      3\u001b[0m     \u001b[38;5;28;01mreturn\u001b[39;00m output\n",
      "\u001b[0;31mTypeError\u001b[0m: can only concatenate str (not \"NoneType\") to str"
     ]
    }
   ],
   "source": [
    "main('1', '2' )"
   ]
  },
  {
   "cell_type": "code",
   "execution_count": 2,
   "metadata": {},
   "outputs": [],
   "source": [
    "def main2(param, param2, param3, param4):\n",
    "    output = param + param2 + param3 + param4\n",
    "    return output"
   ]
  },
  {
   "cell_type": "code",
   "execution_count": 7,
   "metadata": {},
   "outputs": [
    {
     "data": {
      "text/plain": [
       "'1111'"
      ]
     },
     "execution_count": 7,
     "metadata": {},
     "output_type": "execute_result"
    }
   ],
   "source": [
    "main2('1', '1', '1', '1',)"
   ]
  },
  {
   "cell_type": "code",
   "execution_count": 8,
   "metadata": {},
   "outputs": [
    {
     "data": {
      "text/plain": [
       "10"
      ]
     },
     "execution_count": 8,
     "metadata": {},
     "output_type": "execute_result"
    }
   ],
   "source": [
    "main(1, 2, 3, 4)"
   ]
  },
  {
   "cell_type": "markdown",
   "metadata": {},
   "source": [
    "Здравствуйте. Я в каком-то замешательстве)). Все шло, не знаю,\n",
    "насколько хорошо или нет, но вдруг оказался в \"-1\" и я не знаю\n",
    "причину.\n",
    "Последнее домашнее задание так повлияло или нет, или еще что-то. То,\n",
    "что пользовался поиском и чатгпт, так я и не скрывал (здесь принял к\n",
    "сведению).\n",
    "Мне не хватает обратной связи по ДЗ, особенно где задаю вопросы."
   ]
  },
  {
   "cell_type": "markdown",
   "metadata": {},
   "source": [
    "\n",
    "   python array\n",
    "\n",
    "   https://docs.python.org/3/library/array.html\n",
    "\n",
    "   https://docs.python.org/3/glossary.html#term-sequence\n",
    "   \n",
    "1/ Numpy - array. \n",
    "- создаём (все возможные метлды)\n",
    "- песчитываем\n",
    "- извлекаем\n",
    "- преобразуем\n",
    "- смотрим методы\n",
    "- \n",
    "Pandas\n",
    "PySpark DataFrame\n",
    "\n",
    "\n",
    "#### js\n",
    "массивы в  js могут содержать сочетание различных типов данных\n",
    "\n",
    "https://developer.mozilla.org/en-US/docs/Web/JavaScript/Reference/Global_Objects/Array\n",
    "\n",
    "При добавлении значения с \"отдаленным\" индексом от существующего, значения между двумя этими индексами заполняются пустыми значениями.Как в примере ниже:  "
   ]
  },
  {
   "cell_type": "code",
   "execution_count": null,
   "metadata": {},
   "outputs": [],
   "source": [
    "fruits[5] = \"mango\";\n",
    "console.log(fruits[5]); // 'mango'\n",
    "console.log(Object.keys(fruits)); // ['0', '1', '2', '5']\n",
    "console.log(fruits.length); // 6\n",
    "\n",
    "\n",
    "fruits.length = 10;\n",
    "console.log(fruits); // ['banana', 'apple', 'peach', empty x 2, 'mango', empty x 4]\n",
    "console.log(Object.keys(fruits)); // ['0', '1', '2', '5']\n",
    "console.log(fruits.length); // 10\n",
    "console.log(fruits[8]); // undefined"
   ]
  },
  {
   "cell_type": "markdown",
   "metadata": {},
   "source": [
    "Создание массива:"
   ]
  },
  {
   "cell_type": "code",
   "execution_count": null,
   "metadata": {},
   "outputs": [],
   "source": [
    "// 'fruits' array created using array literal notation.\n",
    "const fruits = [\"Apple\", \"Banana\"];\n",
    "console.log(fruits.length);\n",
    "// 2\n",
    "\n",
    "// 'fruits2' array created using the Array() constructor.\n",
    "const fruits2 = new Array(\"Apple\", \"Banana\");\n",
    "console.log(fruits2.length);\n",
    "// 2\n",
    "\n",
    "// 'fruits3' array created using String.prototype.split().\n",
    "const fruits3 = \"Apple, Banana\".split(\", \");\n",
    "console.log(fruits3.length);\n",
    "// 2"
   ]
  },
  {
   "cell_type": "markdown",
   "metadata": {},
   "source": [
    "извлечение из массива :"
   ]
  },
  {
   "cell_type": "code",
   "execution_count": null,
   "metadata": {},
   "outputs": [],
   "source": [
    "const fruits = [\"Apple\", \"Banana\"];\n",
    "\n",
    "// The index of an array's first element is always 0.\n",
    "fruits[0]; // Apple\n",
    "\n",
    "// The index of an array's second element is always 1.\n",
    "fruits[1]; // Banana\n",
    "\n",
    "// The index of an array's last element is always one\n",
    "// less than the length of the array.\n",
    "fruits[fruits.length - 1]; // Banana\n",
    "\n",
    "// Using an index number larger than the array's length\n",
    "// returns 'undefined'.\n",
    "fruits[99]; // undefined"
   ]
  },
  {
   "cell_type": "markdown",
   "metadata": {},
   "source": [
    "\n",
    "\n",
    "#### java\n",
    "\n",
    "Как только объект массива создается, его длина никогда не меняется. Чтобы сделать массивную переменную, относящуюся к массиву различной длины, для переменной должна быть назначена ссылка на другой массив.\n",
    "\n",
    "Если переменная массива v имеет тип A [], где a является эталонным типом, то V может содержать ссылку на экземпляр любого типа массива B [], при условии, что B может быть назначен A. Это может привести к запуску- временное исключение на более позднем задании\n",
    "\n",
    "https://docs.oracle.com/javase/specs/jls/se6/html/arrays.html\n",
    "\n",
    "\n",
    "Создание массива:"
   ]
  },
  {
   "cell_type": "code",
   "execution_count": null,
   "metadata": {},
   "outputs": [],
   "source": [
    "// create an array of integers\n",
    "anArray = new int[10];\n",
    "\n",
    "int[] anArray = { \n",
    "    100, 200, 300,\n",
    "    400, 500, 600, \n",
    "    700, 800, 900, 1000\n",
    "};"
   ]
  },
  {
   "cell_type": "markdown",
   "metadata": {},
   "source": [
    "Ввод значений в массив:"
   ]
  },
  {
   "cell_type": "code",
   "execution_count": null,
   "metadata": {},
   "outputs": [],
   "source": [
    "anArray[0] = 100; // initialize first element\n",
    "anArray[1] = 200; // initialize second element\n",
    "anArray[2] = 300; // and so forth"
   ]
  },
  {
   "cell_type": "markdown",
   "metadata": {},
   "source": [
    "\n",
    "\n",
    "#### c++\n",
    " Массив представляет собой серию элементов того же типа, размещенных в смежных местах памяти, на которые можно ссылаться индивидуально, добавив индекс к уникальному идентификатору.\n",
    "\n",
    " В C++ массив индекс элемента массиива начинается с 0, а не с 1\n",
    "\n",
    " массив должен быть объявлен перед испольованием \n",
    " \n",
    " имеет такой синтаксис: type name [elements];\n",
    "\n",
    " Где:\n",
    " - type : общий тип данных в массиве\n",
    " - name : идентификатор поля  \n",
    " - elements : количество элементов\n",
    "\n",
    "элементы заносятся в массив через фигурные скобки :"
   ]
  },
  {
   "cell_type": "code",
   "execution_count": null,
   "metadata": {},
   "outputs": [],
   "source": [
    "\n",
    "int foo [5] = { 16, 2, 77, 40, 12071 };"
   ]
  },
  {
   "cell_type": "markdown",
   "metadata": {},
   "source": [
    "Если занести меньше элементов в массив , то оставшаяся часть отведенная под элементы, будет заполнена нулями\n",
    "\n",
    "Так же , можно не задавать колличество элементов, а просто вводить эти элементы в фигурные скобки\n",
    "\n",
    "\n",
    "Наконец, эволюция C++ привела к принятию универсальной инициализации и для массивов. Следовательно, знак равенства между объявлением и инициализатором больше не нужен. Оба эти утверждения эквивалентны:\n"
   ]
  },
  {
   "cell_type": "code",
   "execution_count": null,
   "metadata": {},
   "outputs": [],
   "source": [
    "\n",
    "int foo[] = { 10, 20, 30 };\n",
    "int foo[] { 10, 20, 30 };"
   ]
  },
  {
   "cell_type": "markdown",
   "metadata": {},
   "source": [
    "Чтобы записать элемент в массив используется такой синтаксис: name[index] = values"
   ]
  },
  {
   "cell_type": "code",
   "execution_count": null,
   "metadata": {},
   "outputs": [],
   "source": [
    "foo [2] = 75"
   ]
  },
  {
   "cell_type": "markdown",
   "metadata": {},
   "source": [
    "Тк многомерные массивы просто перемножаются, то два массива ниже эквивалентны"
   ]
  },
  {
   "cell_type": "code",
   "execution_count": null,
   "metadata": {},
   "outputs": [],
   "source": [
    "int jimmy [3][5];   // is equivalent to\n",
    "int jimmy [15];     // (3 * 5 = 15) "
   ]
  },
  {
   "cell_type": "markdown",
   "metadata": {},
   "source": [
    "извлечение из массива:"
   ]
  },
  {
   "cell_type": "code",
   "execution_count": null,
   "metadata": {},
   "outputs": [],
   "source": [
    "foo [2] = 75;\n",
    "\n",
    "x = foo[2]"
   ]
  },
  {
   "cell_type": "markdown",
   "metadata": {},
   "source": [
    "\n",
    "\n",
    "\n",
    "Создание массива\n",
    "\n",
    "массив создается через такой синтаксис : array(typecode[, initializer])"
   ]
  },
  {
   "cell_type": "code",
   "execution_count": null,
   "metadata": {},
   "outputs": [],
   "source": [
    "array81(int[1,2,3])"
   ]
  },
  {
   "cell_type": "markdown",
   "metadata": {},
   "source": [
    "\n",
    "\n",
    "Извлечение из массива\n",
    "\n",
    "\n",
    "\n",
    "Хранение\n",
    "перегон между pandas -> DataFrme\n",
    "               Data -> Pandas\n",
    "\n",
    "\n",
    "### списки пайтон.\n",
    "\n",
    "Список в пайтон нужен для группироки значений\n",
    "\n",
    "Списки могут содержать элементы разных типов, но обычно они одного типа\n",
    "\n",
    "пример списка:"
   ]
  },
  {
   "cell_type": "code",
   "execution_count": 1,
   "metadata": {},
   "outputs": [],
   "source": [
    "squares = [1, 4, 9, 16, 25]"
   ]
  },
  {
   "cell_type": "markdown",
   "metadata": {},
   "source": [
    "списки можно индексировать с отрицательным значением:"
   ]
  },
  {
   "cell_type": "code",
   "execution_count": 2,
   "metadata": {},
   "outputs": [
    {
     "data": {
      "text/plain": [
       "[9, 16, 25]"
      ]
     },
     "execution_count": 2,
     "metadata": {},
     "output_type": "execute_result"
    }
   ],
   "source": [
    "squares[-3:]"
   ]
  },
  {
   "cell_type": "markdown",
   "metadata": {},
   "source": [
    "Списки также поддерживают такие операции, как объединение"
   ]
  },
  {
   "cell_type": "code",
   "execution_count": 3,
   "metadata": {},
   "outputs": [
    {
     "data": {
      "text/plain": [
       "[1, 4, 9, 16, 25, 36, 49, 64, 81, 100]"
      ]
     },
     "execution_count": 3,
     "metadata": {},
     "output_type": "execute_result"
    }
   ],
   "source": [
    "squares + [36, 49, 64, 81, 100]"
   ]
  },
  {
   "cell_type": "markdown",
   "metadata": {},
   "source": [
    "значения в списке можно менять :"
   ]
  },
  {
   "cell_type": "code",
   "execution_count": null,
   "metadata": {},
   "outputs": [],
   "source": [
    "squares[3] = 64 "
   ]
  },
  {
   "cell_type": "markdown",
   "metadata": {},
   "source": [
    "через .append можно добавлять значения в список"
   ]
  },
  {
   "cell_type": "code",
   "execution_count": null,
   "metadata": {},
   "outputs": [],
   "source": [
    "squares.append(216) "
   ]
  },
  {
   "cell_type": "markdown",
   "metadata": {},
   "source": [
    "Также возможно назначение фрагментам, и это может даже изменить размер списка или полностью очистить его:"
   ]
  },
  {
   "cell_type": "code",
   "execution_count": null,
   "metadata": {},
   "outputs": [],
   "source": [
    "letters = ['a', 'b', 'c', 'd', 'e', 'f', 'g']\n",
    "\n",
    "letters\n",
    "['a', 'b', 'c', 'd', 'e', 'f', 'g']\n",
    "\n",
    "# replace some values\n",
    "\n",
    "letters[2:5] = ['C', 'D', 'E']\n",
    "\n",
    "letters\n",
    "['a', 'b', 'C', 'D', 'E', 'f', 'g']\n",
    "\n",
    "# now remove them\n",
    "\n",
    "letters[2:5] = []\n",
    "\n",
    "letters\n",
    "['a', 'b', 'f', 'g']\n",
    "\n",
    "# clear the list by replacing all the elements with an empty list\n",
    "\n",
    "letters[:] = []\n",
    "\n",
    "letters\n",
    "[]"
   ]
  },
  {
   "cell_type": "markdown",
   "metadata": {},
   "source": [
    "через len можно посчитать длину списка"
   ]
  },
  {
   "cell_type": "code",
   "execution_count": null,
   "metadata": {},
   "outputs": [],
   "source": [
    "letters = ['a', 'b', 'c', 'd']\n",
    "\n",
    "len(letters)\n",
    "4"
   ]
  },
  {
   "cell_type": "markdown",
   "metadata": {},
   "source": [
    "Можно вкладывать списки (создавать списки, содержащие другие списки)"
   ]
  },
  {
   "cell_type": "code",
   "execution_count": null,
   "metadata": {},
   "outputs": [],
   "source": [
    "a = ['a', 'b', 'c']\n",
    "\n",
    "n = [1, 2, 3]\n",
    "\n",
    "x = [a, n]\n",
    "\n",
    "x\n",
    "[['a', 'b', 'c'], [1, 2, 3]]\n",
    "\n",
    "x[0]\n",
    "['a', 'b', 'c']\n",
    "\n",
    "x[0][1]\n",
    "'b'"
   ]
  },
  {
   "cell_type": "markdown",
   "metadata": {},
   "source": [
    "\n",
    "\n",
    "\n",
    "array\n",
    "list\n",
    "\n",
    "Разница между массивом и списком в пайтон заключается в том, что в список можно занести несколько типов данных, а в массив только конкретный тип, который указывается в во вермя создания объекта с помощью кода типа , который представляет собой один символ\n",
    "вот ссылка на таблицу символов( https://docs.python.org/3/library/array.html )\n",
    "\n",
    "set\n",
    "\n"
   ]
  },
  {
   "cell_type": "markdown",
   "metadata": {},
   "source": [
    "# Задание от 30.01.2025"
   ]
  },
  {
   "cell_type": "markdown",
   "metadata": {},
   "source": [
    "Здравствуйте, вот мое дз.Тут все изначально у меня пошло не очень, взялся за учебу поздно, да еще и такие слова , как \"метод\", \"экземпляр\", которые я не знаю.\n",
    "\n",
    "Посмотрите это видео, что бы понять как приходят к написанию кода. Вы точно сможете, если не оставите и хватит терпения.\n",
    "\n",
    "https://www.youtube.com/watch?v=yGcJjQ6jYiQ\n",
    "\n",
    "-------------------\n",
    "\n",
    "Задание, что такое `__main__`\n",
    "\n",
    "`__main__` имя среды верхнего уровня программы.  Верхний уровень- окружение с которого начинается вход в программу, в нем прописаны все остальные модули, которые нужны программе\n",
    "\n",
    "C++ любую функцию."
   ]
  },
  {
   "cell_type": "code",
   "execution_count": null,
   "metadata": {},
   "outputs": [],
   "source": [
    "int main(int a,int b)\n",
    "{    \n",
    "    int sum;\n",
    "    sum = a + b;\n",
    "    retun sum\n",
    "}"
   ]
  },
  {
   "cell_type": "markdown",
   "metadata": {},
   "source": [
    "\n",
    "Опишите\n",
    "\n",
    "--------------------------\n",
    "\n",
    "Тuп определяет набор возможных действий и значений, выполняемых над объектом.\n",
    "\n",
    "Что будем подразумевать под словом тип.\n",
    "\n",
    "Тип это характеристика любого объекта, которая дает понять, что можно делать с ним(это тоже самое, что и выше, но как будто больше и не напишешь)\n",
    "\n",
    "### Функция  С++\n",
    "\n",
    "Функция это задаваемая последовательность действий с идентификатором в виде определенного имени, ее можно вызвать в любом месте программы\n",
    "\n",
    "Функция в c++ имеет вот такой синтаксис:\n",
    "\n",
    "type name ( parameter1, parameter2, ...) { statements }\n",
    "\n",
    "Где:\n",
    "- type тип значения, возвращаемого функцией.\n",
    "- name является идентификатором, с помощью которого функция может быть вызвана.\n",
    "- parameters (столько, сколько необходимо): Каждый параметр состоит из типа, за которым следует идентификатор, причем каждый параметр отделен от следующего запятой. Каждый параметр очень похож на обычное объявление переменной (например: int x), и фактически действует внутри функции как обычная переменная, которая является локальной для функции. Цель параметров состоит в том, чтобы разрешить передачу аргументов функции из места, где она вызывается.\n",
    "- statements это тело функции. Это блок операторов, окруженных скобками {}, в которых указывается, что на самом деле выполняет функция. \n",
    "\n",
    "\n",
    "Переменная С++\n",
    "\n",
    "Переменная это значение хранимое в памяти пк, которое можно изменить. Она имеет тип , и это говорит о том, что на нее можно воздействовать разными способами в соответствии с типом"
   ]
  },
  {
   "cell_type": "markdown",
   "metadata": {},
   "source": [
    "https://docs.python.org/3/reference/datamodel.html#objects-values-and-types\n",
    "Показать тип в Питон"
   ]
  },
  {
   "cell_type": "code",
   "execution_count": 55,
   "metadata": {},
   "outputs": [
    {
     "name": "stdout",
     "output_type": "stream",
     "text": [
      "<class 'int'>\n",
      "<class 'str'>\n",
      "<class 'float'>\n",
      "2\n",
      "<class 'int'>\n"
     ]
    }
   ],
   "source": [
    "c=int(1)\n",
    "cfloat=1.5\n",
    "d=\"ivan\"\n",
    "cint=int(2.6)\n",
    "\n",
    "\n",
    "print(type(c))\n",
    "print(type(d))\n",
    "print(type(cfloat))\n",
    "print(cint)\n",
    "print(type(cint))"
   ]
  },
  {
   "cell_type": "markdown",
   "metadata": {},
   "source": [
    "\n",
    "\n",
    "Пишите пару функций\n",
    "переменные\n",
    "Числа и строки, делайте несовместимые вещи.\n",
    "\n",
    "1 / \"Ivan\""
   ]
  },
  {
   "cell_type": "code",
   "execution_count": 39,
   "metadata": {},
   "outputs": [],
   "source": [
    "def div(First, Second=\"\"):\n",
    "    sum = str(First) + Second\n",
    "    print (sum)\n",
    "\n",
    "def div1(First, Second=\"\"):\n",
    "    sum = First + Second\n",
    "    print (sum)"
   ]
  },
  {
   "cell_type": "code",
   "execution_count": 40,
   "metadata": {},
   "outputs": [
    {
     "ename": "TypeError",
     "evalue": "unsupported operand type(s) for +: 'int' and 'str'",
     "output_type": "error",
     "traceback": [
      "\u001b[1;31m---------------------------------------------------------------------------\u001b[0m",
      "\u001b[1;31mTypeError\u001b[0m                                 Traceback (most recent call last)",
      "Cell \u001b[1;32mIn[40], line 1\u001b[0m\n\u001b[1;32m----> 1\u001b[0m \u001b[43mdiv1\u001b[49m\u001b[43m(\u001b[49m\u001b[38;5;241;43m1\u001b[39;49m\u001b[43m)\u001b[49m\n",
      "Cell \u001b[1;32mIn[39], line 6\u001b[0m, in \u001b[0;36mdiv1\u001b[1;34m(First, Second)\u001b[0m\n\u001b[0;32m      5\u001b[0m \u001b[38;5;28;01mdef\u001b[39;00m\u001b[38;5;250m \u001b[39m\u001b[38;5;21mdiv1\u001b[39m(First, Second\u001b[38;5;241m=\u001b[39m\u001b[38;5;124m\"\u001b[39m\u001b[38;5;124m\"\u001b[39m):\n\u001b[1;32m----> 6\u001b[0m     \u001b[38;5;28msum\u001b[39m \u001b[38;5;241m=\u001b[39m \u001b[43mFirst\u001b[49m\u001b[43m \u001b[49m\u001b[38;5;241;43m+\u001b[39;49m\u001b[43m \u001b[49m\u001b[43mSecond\u001b[49m\n\u001b[0;32m      7\u001b[0m     \u001b[38;5;28mprint\u001b[39m (\u001b[38;5;28msum\u001b[39m)\n",
      "\u001b[1;31mTypeError\u001b[0m: unsupported operand type(s) for +: 'int' and 'str'"
     ]
    }
   ],
   "source": [
    "div1(1)"
   ]
  },
  {
   "cell_type": "markdown",
   "metadata": {},
   "source": [
    "исключение возникло из за того, что с значениями разных типов нельзя производить операции"
   ]
  },
  {
   "cell_type": "code",
   "execution_count": 8,
   "metadata": {},
   "outputs": [
    {
     "name": "stdout",
     "output_type": "stream",
     "text": [
      "1f\n"
     ]
    }
   ],
   "source": [
    "div(1,Second=\"f\")"
   ]
  },
  {
   "cell_type": "code",
   "execution_count": 6,
   "metadata": {},
   "outputs": [
    {
     "ename": "NameError",
     "evalue": "name 'ivan' is not defined",
     "output_type": "error",
     "traceback": [
      "\u001b[1;31m---------------------------------------------------------------------------\u001b[0m",
      "\u001b[1;31mNameError\u001b[0m                                 Traceback (most recent call last)",
      "Cell \u001b[1;32mIn[6], line 1\u001b[0m\n\u001b[1;32m----> 1\u001b[0m div(\u001b[43mivan\u001b[49m,Second\u001b[38;5;241m=\u001b[39m\u001b[38;5;124m\"\u001b[39m\u001b[38;5;124mf\u001b[39m\u001b[38;5;124m\"\u001b[39m)\n",
      "\u001b[1;31mNameError\u001b[0m: name 'ivan' is not defined"
     ]
    }
   ],
   "source": [
    "div(ivan,Second=\"f\")"
   ]
  },
  {
   "cell_type": "markdown",
   "metadata": {},
   "source": [
    "исключение возникло из за того, что тк аргумент не в \"\", то ожидалось число, но аргумент с типом инт выглядит как строка"
   ]
  },
  {
   "cell_type": "code",
   "execution_count": 7,
   "metadata": {},
   "outputs": [
    {
     "name": "stdout",
     "output_type": "stream",
     "text": [
      "ivanf\n"
     ]
    }
   ],
   "source": [
    "div(\"ivan\",Second=\"f\")"
   ]
  },
  {
   "cell_type": "code",
   "execution_count": 3,
   "metadata": {},
   "outputs": [
    {
     "ename": "TypeError",
     "evalue": "can only concatenate str (not \"int\") to str",
     "output_type": "error",
     "traceback": [
      "\u001b[1;31m---------------------------------------------------------------------------\u001b[0m",
      "\u001b[1;31mTypeError\u001b[0m                                 Traceback (most recent call last)",
      "Cell \u001b[1;32mIn[3], line 1\u001b[0m\n\u001b[1;32m----> 1\u001b[0m \u001b[43mdiv\u001b[49m\u001b[43m(\u001b[49m\u001b[38;5;124;43m\"\u001b[39;49m\u001b[38;5;124;43mivan\u001b[39;49m\u001b[38;5;124;43m\"\u001b[39;49m\u001b[43m,\u001b[49m\u001b[43mSecond\u001b[49m\u001b[38;5;241;43m=\u001b[39;49m\u001b[38;5;241;43m1\u001b[39;49m\u001b[43m)\u001b[49m\n",
      "Cell \u001b[1;32mIn[1], line 2\u001b[0m, in \u001b[0;36mdiv\u001b[1;34m(First, Second)\u001b[0m\n\u001b[0;32m      1\u001b[0m \u001b[38;5;28;01mdef\u001b[39;00m\u001b[38;5;250m \u001b[39m\u001b[38;5;21mdiv\u001b[39m(First, Second\u001b[38;5;241m=\u001b[39m\u001b[38;5;124m\"\u001b[39m\u001b[38;5;124m\"\u001b[39m):\n\u001b[1;32m----> 2\u001b[0m     \u001b[38;5;28msum\u001b[39m \u001b[38;5;241m=\u001b[39m \u001b[38;5;28;43mstr\u001b[39;49m\u001b[43m(\u001b[49m\u001b[43mFirst\u001b[49m\u001b[43m)\u001b[49m\u001b[43m \u001b[49m\u001b[38;5;241;43m+\u001b[39;49m\u001b[43m \u001b[49m\u001b[43mSecond\u001b[49m\n\u001b[0;32m      3\u001b[0m     \u001b[38;5;28mprint\u001b[39m (\u001b[38;5;28msum\u001b[39m)\n",
      "\u001b[1;31mTypeError\u001b[0m: can only concatenate str (not \"int\") to str"
     ]
    }
   ],
   "source": [
    "div(\"ivan\",Second=1)"
   ]
  },
  {
   "cell_type": "markdown",
   "metadata": {},
   "source": [
    "исключение возникло из за того, что строки можно объеденять только со строками"
   ]
  },
  {
   "cell_type": "markdown",
   "metadata": {},
   "source": [
    "\n",
    "\n",
    "\n",
    "\n",
    "\n",
    "\n",
    "\n",
    "\n",
    "-------------------\n",
    "\n",
    "\n",
    "Доброго времени суток!\n",
    "Подготовил домашнее задание, постарался учесть все ваши рекомендации. К слову про исключения. \n",
    "Я ведь с ними конечно же сталкиваюсь🙂, даже если их не проставляю в конечном виде.\n",
    "Просто я думал что какой смыл в том что я правлю мелкие вещи которые и так очевидны.\n",
    "\n",
    "------------------------------\n",
    "\n",
    "```python\n",
    "queryset = Book.objects.filter(title__startswith=\"M\")\n",
    "\n",
    "queryset - ссылается на значение справа\n",
    "Book - имя класса\n",
    "objects - имя аттрибута класса Book\n",
    "filter - имя метода которое пренадлежит аттрибуту objects\n",
    "title__startswith=\"M\" - параметр который передается в метод filter.\n",
    "\n",
    "Возможно аттрибут objects ссылается на объект имеющий метод filter, например:\n",
    "```"
   ]
  },
  {
   "cell_type": "code",
   "execution_count": 1,
   "metadata": {},
   "outputs": [],
   "source": [
    "class A:\n",
    "    def __init__(self, param):\n",
    "        self.param = param\n",
    "\n",
    "    def main(param, param2, param3):\n",
    "        param = param2 + param3\n",
    "        return param\n",
    "    "
   ]
  },
  {
   "cell_type": "code",
   "execution_count": 2,
   "metadata": {},
   "outputs": [],
   "source": [
    "a = A"
   ]
  },
  {
   "cell_type": "code",
   "execution_count": 3,
   "metadata": {},
   "outputs": [
    {
     "ename": "TypeError",
     "evalue": "A.__init__() missing 1 required positional argument: 'param'",
     "output_type": "error",
     "traceback": [
      "\u001b[0;31m---------------------------------------------------------------------------\u001b[0m",
      "\u001b[0;31mTypeError\u001b[0m                                 Traceback (most recent call last)",
      "Cell \u001b[0;32mIn[3], line 1\u001b[0m\n\u001b[0;32m----> 1\u001b[0m b \u001b[38;5;241m=\u001b[39m \u001b[43mA\u001b[49m\u001b[43m(\u001b[49m\u001b[43m)\u001b[49m\n",
      "\u001b[0;31mTypeError\u001b[0m: A.__init__() missing 1 required positional argument: 'param'"
     ]
    }
   ],
   "source": [
    "b = A()"
   ]
  },
  {
   "cell_type": "code",
   "execution_count": 7,
   "metadata": {},
   "outputs": [],
   "source": [
    "b = A(2)"
   ]
  },
  {
   "cell_type": "code",
   "execution_count": 4,
   "metadata": {},
   "outputs": [
    {
     "data": {
      "text/plain": [
       "__main__.A"
      ]
     },
     "execution_count": 4,
     "metadata": {},
     "output_type": "execute_result"
    }
   ],
   "source": [
    "a"
   ]
  },
  {
   "cell_type": "code",
   "execution_count": 8,
   "metadata": {},
   "outputs": [
    {
     "data": {
      "text/plain": [
       "<__main__.A at 0x7d5a0cd271d0>"
      ]
     },
     "execution_count": 8,
     "metadata": {},
     "output_type": "execute_result"
    }
   ],
   "source": [
    "b"
   ]
  },
  {
   "cell_type": "code",
   "execution_count": 12,
   "metadata": {},
   "outputs": [
    {
     "data": {
      "text/plain": [
       "<function __main__.A.main(param, param2, param3)>"
      ]
     },
     "execution_count": 12,
     "metadata": {},
     "output_type": "execute_result"
    }
   ],
   "source": [
    "a.main"
   ]
  },
  {
   "cell_type": "code",
   "execution_count": 9,
   "metadata": {},
   "outputs": [
    {
     "ename": "TypeError",
     "evalue": "'A' object is not callable",
     "output_type": "error",
     "traceback": [
      "\u001b[0;31m---------------------------------------------------------------------------\u001b[0m",
      "\u001b[0;31mTypeError\u001b[0m                                 Traceback (most recent call last)",
      "Cell \u001b[0;32mIn[9], line 1\u001b[0m\n\u001b[0;32m----> 1\u001b[0m \u001b[43mb\u001b[49m\u001b[43m(\u001b[49m\u001b[43m)\u001b[49m\n",
      "\u001b[0;31mTypeError\u001b[0m: 'A' object is not callable"
     ]
    }
   ],
   "source": [
    "b()"
   ]
  },
  {
   "cell_type": "code",
   "execution_count": 10,
   "metadata": {},
   "outputs": [
    {
     "ename": "TypeError",
     "evalue": "A.main() missing 3 required positional arguments: 'param', 'param2', and 'param3'",
     "output_type": "error",
     "traceback": [
      "\u001b[0;31m---------------------------------------------------------------------------\u001b[0m",
      "\u001b[0;31mTypeError\u001b[0m                                 Traceback (most recent call last)",
      "Cell \u001b[0;32mIn[10], line 1\u001b[0m\n\u001b[0;32m----> 1\u001b[0m \u001b[43ma\u001b[49m\u001b[38;5;241;43m.\u001b[39;49m\u001b[43mmain\u001b[49m\u001b[43m(\u001b[49m\u001b[43m)\u001b[49m\n",
      "\u001b[0;31mTypeError\u001b[0m: A.main() missing 3 required positional arguments: 'param', 'param2', and 'param3'"
     ]
    }
   ],
   "source": [
    "a.main()"
   ]
  },
  {
   "cell_type": "code",
   "execution_count": 11,
   "metadata": {},
   "outputs": [
    {
     "data": {
      "text/plain": [
       "<bound method A.main of <__main__.A object at 0x7d5a0cd271d0>>"
      ]
     },
     "execution_count": 11,
     "metadata": {},
     "output_type": "execute_result"
    }
   ],
   "source": [
    "b.main"
   ]
  },
  {
   "cell_type": "code",
   "execution_count": 13,
   "metadata": {},
   "outputs": [
    {
     "ename": "TypeError",
     "evalue": "A.main() missing 2 required positional arguments: 'param2' and 'param3'",
     "output_type": "error",
     "traceback": [
      "\u001b[0;31m---------------------------------------------------------------------------\u001b[0m",
      "\u001b[0;31mTypeError\u001b[0m                                 Traceback (most recent call last)",
      "Cell \u001b[0;32mIn[13], line 1\u001b[0m\n\u001b[0;32m----> 1\u001b[0m \u001b[43mb\u001b[49m\u001b[38;5;241;43m.\u001b[39;49m\u001b[43mmain\u001b[49m\u001b[43m(\u001b[49m\u001b[43m)\u001b[49m\n",
      "\u001b[0;31mTypeError\u001b[0m: A.main() missing 2 required positional arguments: 'param2' and 'param3'"
     ]
    }
   ],
   "source": [
    "b.main()"
   ]
  },
  {
   "cell_type": "code",
   "execution_count": 14,
   "metadata": {},
   "outputs": [
    {
     "ename": "TypeError",
     "evalue": "A.main() takes 3 positional arguments but 4 were given",
     "output_type": "error",
     "traceback": [
      "\u001b[0;31m---------------------------------------------------------------------------\u001b[0m",
      "\u001b[0;31mTypeError\u001b[0m                                 Traceback (most recent call last)",
      "Cell \u001b[0;32mIn[14], line 1\u001b[0m\n\u001b[0;32m----> 1\u001b[0m \u001b[43mb\u001b[49m\u001b[38;5;241;43m.\u001b[39;49m\u001b[43mmain\u001b[49m\u001b[43m(\u001b[49m\u001b[38;5;241;43m1\u001b[39;49m\u001b[43m,\u001b[49m\u001b[43m \u001b[49m\u001b[38;5;241;43m5\u001b[39;49m\u001b[43m,\u001b[49m\u001b[43m \u001b[49m\u001b[38;5;241;43m17\u001b[39;49m\u001b[43m)\u001b[49m\n",
      "\u001b[0;31mTypeError\u001b[0m: A.main() takes 3 positional arguments but 4 were given"
     ]
    }
   ],
   "source": [
    "b.main(1, 5, 17)"
   ]
  },
  {
   "cell_type": "markdown",
   "metadata": {},
   "source": [
    "Здравствуйте. Спасибо за видео и пояснения. Опыт написания понятного\n",
    "кода - нарабатывается и Ваши замечания очень для меня ценны! Обид не\n",
    "может быть!! Тут нужно ногами пинать ))\n",
    "Возьму за образец Django и Toga. Картинка с пояснениями.\n",
    "И еще один ужас шлю )) Код рабочий. Вот тут он и для меня полный\n",
    "кошмар )) Хотя старался его писать, но он понятен только для писателя\n",
    ")) и то пока не отвернулся ))\n",
    "Как его запустить напишу в следующий раз."
   ]
  },
  {
   "cell_type": "markdown",
   "metadata": {},
   "source": [
    "# Задание от 05.02.2025"
   ]
  },
  {
   "cell_type": "markdown",
   "metadata": {},
   "source": [
    "### Задание 1.\n",
    "\n",
    "`__main__`\n",
    "\n",
    "https://docs.python.org/3/library/__main__.html\n",
    "\n",
    "Разобрать конструкцию:\n",
    "\n",
    "`if __name__ == \"__main__\":`\n",
    "\n",
    "https://docs.python.org/3/library/stdtypes.html#definition.__name__\n",
    "\n",
    "`__name__` это функция, которая выводит имя класса, функции, метода , дескриптора или экземпляра генератора  =>если функция с выводом имени имеет значение `\"__main__\"`, то это значит, что код в среде верхнего уровня программы и можно проводить операции, отталкиваясь от этого\n",
    "\n",
    "Соответственно, эта запись звучит так: Если это верхний уровень программы, то выполнить: .....\n",
    "\n",
    "\n",
    "\n",
    "### Задание 2.\n",
    "\n",
    "\n",
    "•Объект\n",
    "участок памяти, в котором хранится значения определенного типа.\n",
    "\n",
    "https://docs.python.org/3/reference/datamodel.html#objects-values-and-types\n",
    "\n",
    "### Задание 3.\n",
    "\n",
    "https://github.com/django/django/blob/stable/5.1.x/django/shortcuts.py#L65\n",
    "\n",
    "def get_object_or_404(klass, *args, **kwargs): - прочитать праметры и сделать выводы.\n",
    "\n",
    "у параметра klass нет знака присвоения, значит он обязательный и позиционный\n",
    "\n",
    "https://docs.python.org/3/tutorial/controlflow.html#arbitrary-argument-lists\n",
    "\n",
    "А остальные два параметра ,как вы говорили, это поиск остальных данных , который может даже не увенчаться успехом\n",
    "\n",
    "*args -собирает все остальные аргументы, которые передаются в функцию(они должны быть именованными)\n",
    "\n",
    "**kwargs - параметр словаря \n",
    "\n",
    "https://docs.python.org/3/library/functions.html#hasattr\n",
    "\n",
    "hasattr() - рассказать о ней и написать пример.\n",
    "\n",
    "Аргументы — объект и строка. Результат — True если строка является именем одного из атрибутов объекта, False если нет. (Это реализуется путем вызова и проверки того, вызывается ли исключение или нет.)getattr(object, name)AttributeError\n",
    "hasattr() имеет вот такой синтаксис синтаксис :\n",
    "\n",
    " hasattr(object, name)\n",
    "\n",
    "Где:\n",
    "- object: \n",
    "- name: имя с типом строка\n",
    "\n",
    "Эта функция возвращает true,если строка является именем объекта , и false, если нет "
   ]
  },
  {
   "cell_type": "code",
   "execution_count": 1,
   "metadata": {},
   "outputs": [
    {
     "ename": "NameError",
     "evalue": "name 'name' is not defined",
     "output_type": "error",
     "traceback": [
      "\u001b[1;31m---------------------------------------------------------------------------\u001b[0m",
      "\u001b[1;31mNameError\u001b[0m                                 Traceback (most recent call last)",
      "Cell \u001b[1;32mIn[1], line 1\u001b[0m\n\u001b[1;32m----> 1\u001b[0m \u001b[38;5;28mhasattr\u001b[39m(\u001b[38;5;28mobject\u001b[39m, \u001b[43mname\u001b[49m)\n",
      "\u001b[1;31mNameError\u001b[0m: name 'name' is not defined"
     ]
    }
   ],
   "source": [
    "hasattr(object, name)"
   ]
  },
  {
   "cell_type": "markdown",
   "metadata": {},
   "source": [
    "исключение вышло из за того, что второй объект должен быть строкой"
   ]
  },
  {
   "cell_type": "code",
   "execution_count": 52,
   "metadata": {},
   "outputs": [],
   "source": [
    "\n",
    "\n",
    "def test1(cool=\"cool\"):\n",
    "    if hasattr(cool, \"cool\"):\n",
    "        print (\"ok\")\n",
    "    else:\n",
    "        print (\"not ok\")"
   ]
  },
  {
   "cell_type": "code",
   "execution_count": 54,
   "metadata": {},
   "outputs": [
    {
     "name": "stdout",
     "output_type": "stream",
     "text": [
      "not ok\n"
     ]
    }
   ],
   "source": [
    "test1(cool=\"cool\")"
   ]
  },
  {
   "cell_type": "markdown",
   "metadata": {},
   "source": [
    "после этого всего , что я перепробывал, чтобы мне не выдало результат true или false, я не выдержал и полез в поисковик, посмотрел на примеры, они все через class пусть я не знаю, что такое класс(на дилетантский взгляд, это \"контейнер для переменных, функций и тд\"), но таким образом я хотя бы смог показать функцию"
   ]
  },
  {
   "cell_type": "code",
   "execution_count": 57,
   "metadata": {},
   "outputs": [
    {
     "data": {
      "text/plain": [
       "True"
      ]
     },
     "execution_count": 57,
     "metadata": {},
     "output_type": "execute_result"
    }
   ],
   "source": [
    "class a:\n",
    "    age=1 \n",
    "\n",
    "hasattr (a, \"age\")"
   ]
  },
  {
   "cell_type": "code",
   "execution_count": 58,
   "metadata": {},
   "outputs": [
    {
     "data": {
      "text/plain": [
       "False"
      ]
     },
     "execution_count": 58,
     "metadata": {},
     "output_type": "execute_result"
    }
   ],
   "source": [
    "hasattr (a, \"age1\")"
   ]
  },
  {
   "cell_type": "code",
   "execution_count": 59,
   "metadata": {},
   "outputs": [
    {
     "ename": "NameError",
     "evalue": "name 'a1' is not defined",
     "output_type": "error",
     "traceback": [
      "\u001b[1;31m---------------------------------------------------------------------------\u001b[0m",
      "\u001b[1;31mNameError\u001b[0m                                 Traceback (most recent call last)",
      "Cell \u001b[1;32mIn[59], line 1\u001b[0m\n\u001b[1;32m----> 1\u001b[0m \u001b[38;5;28mhasattr\u001b[39m (\u001b[43ma1\u001b[49m, \u001b[38;5;124m\"\u001b[39m\u001b[38;5;124mage\u001b[39m\u001b[38;5;124m\"\u001b[39m)\n",
      "\u001b[1;31mNameError\u001b[0m: name 'a1' is not defined"
     ]
    }
   ],
   "source": [
    "hasattr (a1, \"age\")"
   ]
  },
  {
   "cell_type": "code",
   "execution_count": null,
   "metadata": {},
   "outputs": [],
   "source": [
    "исключение вылезло из за того, что нет такого объекта"
   ]
  },
  {
   "cell_type": "markdown",
   "metadata": {},
   "source": [
    "\n",
    " \n",
    "\n",
    "### Задание 4.\n",
    "\n",
    "https://docs.python.org/3/faq/programming.html#what-is-a-method\n",
    "\n",
    "Метод что это?\n",
    "\n",
    "Так называется функция , которая находится в классе\n",
    "\n",
    "https://cplusplus.com/doc/tutorial/functions/\n",
    "Функкция что это?\n",
    "\n",
    "функция это группа значений, с которыми выполняются действия прописаные в теле функции . Она имеет имя и ее можно вызвать из любого места программы \n",
    "\n",
    "Отличия.\n",
    "\n",
    "Метод  это фукнция, которая хранится в классе . Если метод вызван как атрибут экземпляра этого класса, он получит объект экземпляра в качестве своего первого аргумента (который обычно называется self)(я это не понимаю, но как будто тут основная разница ). А функция это группа значений, с которыми выполняются действия прописаные в теле функции . Она имеет имя и ее можно вызвать из любого места программы \n",
    "\n",
    "\n",
    "\n",
    "\n",
    "\n",
    "\n",
    "\n",
    "\n"
   ]
  },
  {
   "cell_type": "markdown",
   "metadata": {},
   "source": [
    "# Задание от 12.02.2025"
   ]
  },
  {
   "cell_type": "markdown",
   "metadata": {},
   "source": [
    "### Задание 1\n",
    "\n",
    "модули\n",
    "https://docs.python.org/3/tutorial/modules.html#tut-modules\n",
    "\n",
    "модуль это файл .py , в котором содержатся функции и переменные. Функции или переменные из модуля можно импортировать в другой файл. Это делается через from и import, который пишется в начале каждого файла.\n",
    "\n",
    "Из модуля можно импортировать , как файл в целом, так и его конкретную функцию"
   ]
  },
  {
   "cell_type": "code",
   "execution_count": 29,
   "metadata": {},
   "outputs": [
    {
     "ename": "ModuleNotFoundError",
     "evalue": "No module named 'fibo'",
     "output_type": "error",
     "traceback": [
      "\u001b[1;31m---------------------------------------------------------------------------\u001b[0m",
      "\u001b[1;31mModuleNotFoundError\u001b[0m                       Traceback (most recent call last)",
      "Cell \u001b[1;32mIn[29], line 1\u001b[0m\n\u001b[1;32m----> 1\u001b[0m \u001b[38;5;28;01mfrom\u001b[39;00m\u001b[38;5;250m \u001b[39m\u001b[38;5;21;01mfibo\u001b[39;00m\u001b[38;5;250m \u001b[39m\u001b[38;5;28;01mimport\u001b[39;00m fib1\n",
      "\u001b[1;31mModuleNotFoundError\u001b[0m: No module named 'fibo'"
     ]
    }
   ],
   "source": [
    "from fibo import fib1"
   ]
  },
  {
   "cell_type": "markdown",
   "metadata": {},
   "source": [
    "исключение возникло, тк нет файла fibo.py"
   ]
  },
  {
   "cell_type": "markdown",
   "metadata": {},
   "source": [
    "чтобы скопировать файл полностью, нужно написать : from \"файл\" import *, но без имен, которые начинаются с нижнего подчеркивания, тк оно вводит неизвестный набор имен в интерпритатор\n",
    "\n",
    "Некоторые модули изначально встроены в пайтон, их можно найти тут https://docs.python.org/3/library/index.html\n",
    "\n",
    "некоторые встроены в интерпритатор(например sys)"
   ]
  },
  {
   "cell_type": "code",
   "execution_count": 5,
   "metadata": {},
   "outputs": [],
   "source": [
    "import sys"
   ]
  },
  {
   "cell_type": "code",
   "execution_count": 6,
   "metadata": {},
   "outputs": [],
   "source": [
    "sys.ps1 = 'C> '"
   ]
  },
  {
   "cell_type": "code",
   "execution_count": 7,
   "metadata": {},
   "outputs": [
    {
     "data": {
      "text/plain": [
       "'C> '"
      ]
     },
     "execution_count": 7,
     "metadata": {},
     "output_type": "execute_result"
    }
   ],
   "source": [
    "sys.ps1 "
   ]
  },
  {
   "cell_type": "code",
   "execution_count": 8,
   "metadata": {},
   "outputs": [
    {
     "data": {
      "text/plain": [
       "'Out: '"
      ]
     },
     "execution_count": 8,
     "metadata": {},
     "output_type": "execute_result"
    }
   ],
   "source": [
    "sys.ps3"
   ]
  },
  {
   "cell_type": "code",
   "execution_count": 9,
   "metadata": {},
   "outputs": [
    {
     "ename": "AttributeError",
     "evalue": "module 'sys' has no attribute 'ps4'",
     "output_type": "error",
     "traceback": [
      "\u001b[0;31m---------------------------------------------------------------------------\u001b[0m",
      "\u001b[0;31mAttributeError\u001b[0m                            Traceback (most recent call last)",
      "Cell \u001b[0;32mIn[9], line 1\u001b[0m\n\u001b[0;32m----> 1\u001b[0m \u001b[43msys\u001b[49m\u001b[38;5;241;43m.\u001b[39;49m\u001b[43mps4\u001b[49m\n",
      "\u001b[0;31mAttributeError\u001b[0m: module 'sys' has no attribute 'ps4'"
     ]
    }
   ],
   "source": [
    "sys.ps4"
   ]
  },
  {
   "cell_type": "code",
   "execution_count": 8,
   "metadata": {},
   "outputs": [
    {
     "name": "stdout",
     "output_type": "stream",
     "text": [
      "linux\n"
     ]
    }
   ],
   "source": [
    "print (sys.platform)"
   ]
  },
  {
   "cell_type": "code",
   "execution_count": 11,
   "metadata": {},
   "outputs": [
    {
     "data": {
      "text/plain": [
       "'C> '"
      ]
     },
     "execution_count": 11,
     "metadata": {},
     "output_type": "execute_result"
    }
   ],
   "source": [
    "sys.ps1\n"
   ]
  },
  {
   "cell_type": "markdown",
   "metadata": {},
   "source": [
    "я заглядывал через ctrl в  sys __init__, там нет ps3(ps1 есть и я даже могу на него перейти через ctrl), но на ps3 не возникает ошибка, а на ps4 возникает, не понял почему"
   ]
  },
  {
   "cell_type": "markdown",
   "metadata": {},
   "source": [
    "функция dir показывает, какие имена есть в модуле и выдает их список"
   ]
  },
  {
   "cell_type": "code",
   "execution_count": 38,
   "metadata": {},
   "outputs": [
    {
     "data": {
      "text/plain": [
       "['__breakpointhook__',\n",
       " '__displayhook__',\n",
       " '__doc__',\n",
       " '__excepthook__',\n",
       " '__interactivehook__',\n",
       " '__loader__',\n",
       " '__name__',\n",
       " '__package__',\n",
       " '__spec__',\n",
       " '__stderr__',\n",
       " '__stdin__',\n",
       " '__stdout__',\n",
       " '__unraisablehook__',\n",
       " '_base_executable',\n",
       " '_clear_type_cache',\n",
       " '_current_exceptions',\n",
       " '_current_frames',\n",
       " '_debugmallocstats',\n",
       " '_enablelegacywindowsfsencoding',\n",
       " '_framework',\n",
       " '_getframe',\n",
       " '_getframemodulename',\n",
       " '_git',\n",
       " '_home',\n",
       " '_setprofileallthreads',\n",
       " '_settraceallthreads',\n",
       " '_stdlib_dir',\n",
       " '_vpath',\n",
       " '_xoptions',\n",
       " 'activate_stack_trampoline',\n",
       " 'addaudithook',\n",
       " 'api_version',\n",
       " 'argv',\n",
       " 'audit',\n",
       " 'base_exec_prefix',\n",
       " 'base_prefix',\n",
       " 'breakpointhook',\n",
       " 'builtin_module_names',\n",
       " 'byteorder',\n",
       " 'call_tracing',\n",
       " 'copyright',\n",
       " 'deactivate_stack_trampoline',\n",
       " 'displayhook',\n",
       " 'dllhandle',\n",
       " 'dont_write_bytecode',\n",
       " 'exc_info',\n",
       " 'excepthook',\n",
       " 'exception',\n",
       " 'exec_prefix',\n",
       " 'executable',\n",
       " 'exit',\n",
       " 'flags',\n",
       " 'float_info',\n",
       " 'float_repr_style',\n",
       " 'get_asyncgen_hooks',\n",
       " 'get_coroutine_origin_tracking_depth',\n",
       " 'get_int_max_str_digits',\n",
       " 'getallocatedblocks',\n",
       " 'getdefaultencoding',\n",
       " 'getfilesystemencodeerrors',\n",
       " 'getfilesystemencoding',\n",
       " 'getprofile',\n",
       " 'getrecursionlimit',\n",
       " 'getrefcount',\n",
       " 'getsizeof',\n",
       " 'getswitchinterval',\n",
       " 'gettrace',\n",
       " 'getunicodeinternedsize',\n",
       " 'getwindowsversion',\n",
       " 'hash_info',\n",
       " 'hexversion',\n",
       " 'implementation',\n",
       " 'int_info',\n",
       " 'intern',\n",
       " 'is_finalizing',\n",
       " 'is_stack_trampoline_active',\n",
       " 'last_exc',\n",
       " 'last_traceback',\n",
       " 'last_type',\n",
       " 'last_value',\n",
       " 'maxsize',\n",
       " 'maxunicode',\n",
       " 'meta_path',\n",
       " 'modules',\n",
       " 'monitoring',\n",
       " 'orig_argv',\n",
       " 'path',\n",
       " 'path_hooks',\n",
       " 'path_importer_cache',\n",
       " 'platform',\n",
       " 'platlibdir',\n",
       " 'prefix',\n",
       " 'ps1',\n",
       " 'ps2',\n",
       " 'ps3',\n",
       " 'pycache_prefix',\n",
       " 'set_asyncgen_hooks',\n",
       " 'set_coroutine_origin_tracking_depth',\n",
       " 'set_int_max_str_digits',\n",
       " 'setprofile',\n",
       " 'setrecursionlimit',\n",
       " 'setswitchinterval',\n",
       " 'settrace',\n",
       " 'stderr',\n",
       " 'stdin',\n",
       " 'stdlib_module_names',\n",
       " 'stdout',\n",
       " 'thread_info',\n",
       " 'unraisablehook',\n",
       " 'version',\n",
       " 'version_info',\n",
       " 'warnoptions',\n",
       " 'winver']"
      ]
     },
     "execution_count": 38,
     "metadata": {},
     "output_type": "execute_result"
    }
   ],
   "source": [
    "dir(sys)"
   ]
  },
  {
   "cell_type": "markdown",
   "metadata": {},
   "source": [
    "Без аргументов dir()выводит список имен, которые  определены в данный момент:"
   ]
  },
  {
   "cell_type": "code",
   "execution_count": 40,
   "metadata": {},
   "outputs": [
    {
     "data": {
      "text/plain": [
       "['In',\n",
       " 'Out',\n",
       " '_',\n",
       " '_31',\n",
       " '_32',\n",
       " '_36',\n",
       " '_38',\n",
       " '_39',\n",
       " '__',\n",
       " '___',\n",
       " '__builtin__',\n",
       " '__builtins__',\n",
       " '__doc__',\n",
       " '__loader__',\n",
       " '__name__',\n",
       " '__package__',\n",
       " '__spec__',\n",
       " '__vsc_ipynb_file__',\n",
       " '_dh',\n",
       " '_i',\n",
       " '_i1',\n",
       " '_i10',\n",
       " '_i11',\n",
       " '_i12',\n",
       " '_i13',\n",
       " '_i14',\n",
       " '_i15',\n",
       " '_i16',\n",
       " '_i17',\n",
       " '_i18',\n",
       " '_i19',\n",
       " '_i2',\n",
       " '_i20',\n",
       " '_i21',\n",
       " '_i22',\n",
       " '_i23',\n",
       " '_i24',\n",
       " '_i25',\n",
       " '_i26',\n",
       " '_i27',\n",
       " '_i28',\n",
       " '_i29',\n",
       " '_i3',\n",
       " '_i30',\n",
       " '_i31',\n",
       " '_i32',\n",
       " '_i33',\n",
       " '_i34',\n",
       " '_i35',\n",
       " '_i36',\n",
       " '_i37',\n",
       " '_i38',\n",
       " '_i39',\n",
       " '_i4',\n",
       " '_i40',\n",
       " '_i5',\n",
       " '_i6',\n",
       " '_i7',\n",
       " '_i8',\n",
       " '_i9',\n",
       " '_ih',\n",
       " '_ii',\n",
       " '_iii',\n",
       " '_oh',\n",
       " 'd',\n",
       " 'div',\n",
       " 'e',\n",
       " 'exit',\n",
       " 'get_ipython',\n",
       " 'minus',\n",
       " 'open',\n",
       " 'quit',\n",
       " 'sum',\n",
       " 'sys']"
      ]
     },
     "execution_count": 40,
     "metadata": {},
     "output_type": "execute_result"
    }
   ],
   "source": [
    "dir()"
   ]
  },
  {
   "cell_type": "markdown",
   "metadata": {},
   "source": [
    "так же существуют пакеты с подмодулями, которые позволяют не беспокоится о дублировании имен переменных(модуля и подмодуля)\n",
    "\n",
    "например:"
   ]
  },
  {
   "cell_type": "code",
   "execution_count": null,
   "metadata": {},
   "outputs": [],
   "source": [
    "sound/                          Top-level package\n",
    "      __init__.py               Initialize the sound package\n",
    "      formats/                  Subpackage for file format conversions\n",
    "              __init__.py\n",
    "              wavread.py\n",
    "              wavwrite.py\n",
    "              aiffread.py\n",
    "              aiffwrite.py\n",
    "              auread.py\n",
    "              auwrite.py\n",
    "              ...\n",
    "      effects/                  Subpackage for sound effects\n",
    "              __init__.py\n",
    "              echo.py\n",
    "              surround.py\n",
    "              reverse.py\n",
    "              ...\n",
    "      filters/                  Subpackage for filters\n",
    "              __init__.py\n",
    "              equalizer.py\n",
    "              vocoder.py\n",
    "              karaoke.py\n",
    "              ..."
   ]
  },
  {
   "cell_type": "markdown",
   "metadata": {},
   "source": [
    "в этом случае, чтобы импортировать echo.py нужно :"
   ]
  },
  {
   "cell_type": "code",
   "execution_count": null,
   "metadata": {},
   "outputs": [],
   "source": [
    "import sound.effects.echo"
   ]
  },
  {
   "cell_type": "markdown",
   "metadata": {},
   "source": [
    "\n",
    "\n",
    "### Задание 2.\n",
    "Написать код и вывести тип\n",
    "попробуйте получить исключения.(проджелайте действия над числом и строкой, разделите их)\n",
    "https://docs.python.org/3/reference/datamodel.html#objects-values-and-types\n",
    "\n",
    "* Тип определяет набор возможных значений и операций, выполняемых над\n",
    "объектом.\n",
    "\n",
    "* Объект — участок памяти, в котором хранится значение определенного типа."
   ]
  },
  {
   "cell_type": "code",
   "execution_count": 27,
   "metadata": {},
   "outputs": [],
   "source": [
    "d=\"hel\"\n",
    "e=\"lo\"\n",
    "\n",
    "def div (a,b):\n",
    "    c= a/b\n",
    "    print(c,\"тип:\",type(c))\n",
    "\n",
    "def sum (a,b):\n",
    "    c= a+b\n",
    "    print(c,\"тип:\",type(c))"
   ]
  },
  {
   "cell_type": "code",
   "execution_count": 17,
   "metadata": {},
   "outputs": [
    {
     "name": "stdout",
     "output_type": "stream",
     "text": [
      "0.5 тип: <class 'float'>\n"
     ]
    }
   ],
   "source": [
    "div(1,2)"
   ]
  },
  {
   "cell_type": "code",
   "execution_count": 18,
   "metadata": {},
   "outputs": [
    {
     "ename": "TypeError",
     "evalue": "unsupported operand type(s) for /: 'str' and 'str'",
     "output_type": "error",
     "traceback": [
      "\u001b[1;31m---------------------------------------------------------------------------\u001b[0m",
      "\u001b[1;31mTypeError\u001b[0m                                 Traceback (most recent call last)",
      "Cell \u001b[1;32mIn[18], line 1\u001b[0m\n\u001b[1;32m----> 1\u001b[0m \u001b[43mdiv\u001b[49m\u001b[43m \u001b[49m\u001b[43m(\u001b[49m\u001b[38;5;124;43m\"\u001b[39;49m\u001b[38;5;124;43m1\u001b[39;49m\u001b[38;5;124;43m\"\u001b[39;49m\u001b[43m,\u001b[49m\u001b[38;5;124;43m\"\u001b[39;49m\u001b[38;5;124;43m2\u001b[39;49m\u001b[38;5;124;43m\"\u001b[39;49m\u001b[43m)\u001b[49m\n",
      "Cell \u001b[1;32mIn[16], line 2\u001b[0m, in \u001b[0;36mdiv\u001b[1;34m(a, b)\u001b[0m\n\u001b[0;32m      1\u001b[0m \u001b[38;5;28;01mdef\u001b[39;00m\u001b[38;5;250m \u001b[39m\u001b[38;5;21mdiv\u001b[39m (a,b):\n\u001b[1;32m----> 2\u001b[0m     c\u001b[38;5;241m=\u001b[39m \u001b[43ma\u001b[49m\u001b[38;5;241;43m/\u001b[39;49m\u001b[43mb\u001b[49m\n\u001b[0;32m      3\u001b[0m     \u001b[38;5;28mprint\u001b[39m(c,\u001b[38;5;124m\"\u001b[39m\u001b[38;5;124mтип:\u001b[39m\u001b[38;5;124m\"\u001b[39m,\u001b[38;5;28mtype\u001b[39m(c))\n",
      "\u001b[1;31mTypeError\u001b[0m: unsupported operand type(s) for /: 'str' and 'str'"
     ]
    }
   ],
   "source": [
    "div (\"1\",\"2\")"
   ]
  },
  {
   "cell_type": "markdown",
   "metadata": {},
   "source": [
    "исключение возникло, потому что нельзя разделить строку на строку(как и в реальной жизни)"
   ]
  },
  {
   "cell_type": "code",
   "execution_count": 19,
   "metadata": {},
   "outputs": [
    {
     "ename": "TypeError",
     "evalue": "unsupported operand type(s) for /: 'int' and 'str'",
     "output_type": "error",
     "traceback": [
      "\u001b[1;31m---------------------------------------------------------------------------\u001b[0m",
      "\u001b[1;31mTypeError\u001b[0m                                 Traceback (most recent call last)",
      "Cell \u001b[1;32mIn[19], line 1\u001b[0m\n\u001b[1;32m----> 1\u001b[0m \u001b[43mdiv\u001b[49m\u001b[43m \u001b[49m\u001b[43m(\u001b[49m\u001b[38;5;241;43m1\u001b[39;49m\u001b[43m,\u001b[49m\u001b[38;5;124;43m\"\u001b[39;49m\u001b[38;5;124;43m2\u001b[39;49m\u001b[38;5;124;43m\"\u001b[39;49m\u001b[43m)\u001b[49m\n",
      "Cell \u001b[1;32mIn[16], line 2\u001b[0m, in \u001b[0;36mdiv\u001b[1;34m(a, b)\u001b[0m\n\u001b[0;32m      1\u001b[0m \u001b[38;5;28;01mdef\u001b[39;00m\u001b[38;5;250m \u001b[39m\u001b[38;5;21mdiv\u001b[39m (a,b):\n\u001b[1;32m----> 2\u001b[0m     c\u001b[38;5;241m=\u001b[39m \u001b[43ma\u001b[49m\u001b[38;5;241;43m/\u001b[39;49m\u001b[43mb\u001b[49m\n\u001b[0;32m      3\u001b[0m     \u001b[38;5;28mprint\u001b[39m(c,\u001b[38;5;124m\"\u001b[39m\u001b[38;5;124mтип:\u001b[39m\u001b[38;5;124m\"\u001b[39m,\u001b[38;5;28mtype\u001b[39m(c))\n",
      "\u001b[1;31mTypeError\u001b[0m: unsupported operand type(s) for /: 'int' and 'str'"
     ]
    }
   ],
   "source": [
    "div (1,\"2\")"
   ]
  },
  {
   "cell_type": "markdown",
   "metadata": {},
   "source": [
    "исключение возникло, потому что нельзя разделить тип данных числа, на тип данных строка (хотел бы написать, как и в реальной жизни, но слово \"привет\", разделить на 2 составные части я смогу)"
   ]
  },
  {
   "cell_type": "code",
   "execution_count": 20,
   "metadata": {},
   "outputs": [
    {
     "ename": "NameError",
     "evalue": "name 'a' is not defined",
     "output_type": "error",
     "traceback": [
      "\u001b[1;31m---------------------------------------------------------------------------\u001b[0m",
      "\u001b[1;31mNameError\u001b[0m                                 Traceback (most recent call last)",
      "Cell \u001b[1;32mIn[20], line 1\u001b[0m\n\u001b[1;32m----> 1\u001b[0m \u001b[38;5;28msum\u001b[39m(\u001b[43ma\u001b[49m,b)\n",
      "\u001b[1;31mNameError\u001b[0m: name 'a' is not defined"
     ]
    }
   ],
   "source": [
    "sum(a,b)"
   ]
  },
  {
   "cell_type": "markdown",
   "metadata": {},
   "source": [
    "исключение возникло, потому что объекта не существует"
   ]
  },
  {
   "cell_type": "code",
   "execution_count": 28,
   "metadata": {},
   "outputs": [
    {
     "name": "stdout",
     "output_type": "stream",
     "text": [
      "hello тип: <class 'str'>\n"
     ]
    }
   ],
   "source": [
    "sum(d,e)"
   ]
  },
  {
   "cell_type": "code",
   "execution_count": 23,
   "metadata": {},
   "outputs": [
    {
     "name": "stdout",
     "output_type": "stream",
     "text": [
      "ab тип: <class 'str'>\n"
     ]
    }
   ],
   "source": [
    "sum(\"a\",\"b\")"
   ]
  },
  {
   "cell_type": "code",
   "execution_count": 23,
   "metadata": {},
   "outputs": [
    {
     "name": "stdout",
     "output_type": "stream",
     "text": [
      "\n"
     ]
    },
    {
     "data": {
      "text/plain": [
       "NoneType"
      ]
     },
     "execution_count": 23,
     "metadata": {},
     "output_type": "execute_result"
    }
   ],
   "source": [
    "type(print())"
   ]
  },
  {
   "cell_type": "markdown",
   "metadata": {},
   "source": [
    "\n",
    "\n",
    "### Задание 3.\n",
    "ведро с шариками.\n",
    "соты - к списку.\n",
    "соты но с шарами\n",
    "несколько операций\n",
    "\n",
    "list\n",
    "\n",
    "\n",
    "обязательно проверьте на тип.\n",
    "\n",
    "\n",
    "https://docs.python.org/3/library/stdtypes.html#lists\n",
    "\n",
    "https://docs.python.org/3/tutorial/introduction.html#lists"
   ]
  },
  {
   "cell_type": "code",
   "execution_count": 9,
   "metadata": {},
   "outputs": [
    {
     "ename": "TypeError",
     "evalue": "list expected at most 1 argument, got 3",
     "output_type": "error",
     "traceback": [
      "\u001b[0;31m---------------------------------------------------------------------------\u001b[0m",
      "\u001b[0;31mTypeError\u001b[0m                                 Traceback (most recent call last)",
      "Cell \u001b[0;32mIn[9], line 1\u001b[0m\n\u001b[0;32m----> 1\u001b[0m \u001b[38;5;28;43mlist\u001b[39;49m\u001b[43m(\u001b[49m\u001b[38;5;241;43m1\u001b[39;49m\u001b[43m,\u001b[49m\u001b[38;5;241;43m2\u001b[39;49m\u001b[43m,\u001b[49m\u001b[38;5;241;43m3\u001b[39;49m\u001b[43m)\u001b[49m\n",
      "\u001b[0;31mTypeError\u001b[0m: list expected at most 1 argument, got 3"
     ]
    }
   ],
   "source": [
    "list(1,2,3)"
   ]
  },
  {
   "cell_type": "markdown",
   "metadata": {},
   "source": [
    "исключение возникло из за того, что лист выводиться только одним объектом"
   ]
  },
  {
   "cell_type": "code",
   "execution_count": 8,
   "metadata": {},
   "outputs": [
    {
     "data": {
      "text/plain": [
       "[1, 2, 3]"
      ]
     },
     "execution_count": 8,
     "metadata": {},
     "output_type": "execute_result"
    }
   ],
   "source": [
    "list((1,2,3))"
   ]
  },
  {
   "cell_type": "code",
   "execution_count": 13,
   "metadata": {},
   "outputs": [
    {
     "data": {
      "text/plain": [
       "[1, 'two', 3]"
      ]
     },
     "execution_count": 13,
     "metadata": {},
     "output_type": "execute_result"
    }
   ],
   "source": [
    "list((1,\"two\",3))"
   ]
  },
  {
   "cell_type": "code",
   "execution_count": 36,
   "metadata": {},
   "outputs": [
    {
     "data": {
      "text/plain": [
       "list"
      ]
     },
     "execution_count": 36,
     "metadata": {},
     "output_type": "execute_result"
    }
   ],
   "source": [
    "type(list((1,\"two\",3)))"
   ]
  },
  {
   "cell_type": "markdown",
   "metadata": {},
   "source": [
    "тут я наткнулся, но разницы не понял между тем, что ниже"
   ]
  },
  {
   "cell_type": "code",
   "execution_count": 35,
   "metadata": {},
   "outputs": [
    {
     "name": "stdout",
     "output_type": "stream",
     "text": [
      "<class 'list'>\n"
     ]
    }
   ],
   "source": [
    "a=list((1,\"two\",3))\n",
    "print(type(a))"
   ]
  },
  {
   "cell_type": "markdown",
   "metadata": {},
   "source": [
    "тут я наткнулся, но разницы не понял между тем, что выше"
   ]
  },
  {
   "cell_type": "code",
   "execution_count": 15,
   "metadata": {},
   "outputs": [
    {
     "name": "stdout",
     "output_type": "stream",
     "text": [
      "[1, 'two', 3, 3, 'two', 1]\n"
     ]
    }
   ],
   "source": [
    "a=list((1,\"two\",3))\n",
    "b=list((3,\"two\",1))\n",
    "c=a+b\n",
    "print (c)"
   ]
  },
  {
   "cell_type": "code",
   "execution_count": 37,
   "metadata": {},
   "outputs": [
    {
     "ename": "TypeError",
     "evalue": "can only concatenate list (not \"int\") to list",
     "output_type": "error",
     "traceback": [
      "\u001b[0;31m---------------------------------------------------------------------------\u001b[0m",
      "\u001b[0;31mTypeError\u001b[0m                                 Traceback (most recent call last)",
      "Cell \u001b[0;32mIn[37], line 2\u001b[0m\n\u001b[1;32m      1\u001b[0m a\u001b[38;5;241m=\u001b[39m\u001b[38;5;28mlist\u001b[39m((\u001b[38;5;241m1\u001b[39m,\u001b[38;5;124m\"\u001b[39m\u001b[38;5;124mtwo\u001b[39m\u001b[38;5;124m\"\u001b[39m,\u001b[38;5;241m3\u001b[39m))\n\u001b[0;32m----> 2\u001b[0m c\u001b[38;5;241m=\u001b[39m\u001b[43ma\u001b[49m\u001b[38;5;241;43m+\u001b[39;49m\u001b[38;5;241;43m1\u001b[39;49m\n\u001b[1;32m      3\u001b[0m \u001b[38;5;28mprint\u001b[39m (c)\n",
      "\u001b[0;31mTypeError\u001b[0m: can only concatenate list (not \"int\") to list"
     ]
    }
   ],
   "source": [
    "a=list((1,\"two\",3))\n",
    "c=a+1\n",
    "print (c)"
   ]
  },
  {
   "cell_type": "markdown",
   "metadata": {},
   "source": [
    "исключение состоит в том, что нельзя проводить операции типа лист с типом инт"
   ]
  },
  {
   "cell_type": "code",
   "execution_count": 17,
   "metadata": {},
   "outputs": [
    {
     "ename": "TypeError",
     "evalue": "unsupported operand type(s) for /: 'list' and 'list'",
     "output_type": "error",
     "traceback": [
      "\u001b[0;31m---------------------------------------------------------------------------\u001b[0m",
      "\u001b[0;31mTypeError\u001b[0m                                 Traceback (most recent call last)",
      "Cell \u001b[0;32mIn[17], line 3\u001b[0m\n\u001b[1;32m      1\u001b[0m a\u001b[38;5;241m=\u001b[39m\u001b[38;5;28mlist\u001b[39m((\u001b[38;5;241m1\u001b[39m,\u001b[38;5;124m\"\u001b[39m\u001b[38;5;124mtwo\u001b[39m\u001b[38;5;124m\"\u001b[39m,\u001b[38;5;241m3\u001b[39m))\n\u001b[1;32m      2\u001b[0m b\u001b[38;5;241m=\u001b[39m\u001b[38;5;28mlist\u001b[39m((\u001b[38;5;241m3\u001b[39m,\u001b[38;5;124m\"\u001b[39m\u001b[38;5;124mtwo\u001b[39m\u001b[38;5;124m\"\u001b[39m,\u001b[38;5;241m1\u001b[39m))\n\u001b[0;32m----> 3\u001b[0m c\u001b[38;5;241m=\u001b[39m\u001b[43ma\u001b[49m\u001b[38;5;241;43m/\u001b[39;49m\u001b[43mb\u001b[49m\n\u001b[1;32m      4\u001b[0m \u001b[38;5;28mprint\u001b[39m (c)\n",
      "\u001b[0;31mTypeError\u001b[0m: unsupported operand type(s) for /: 'list' and 'list'"
     ]
    }
   ],
   "source": [
    "a=list((1,\"two\",3))\n",
    "b=list((3,\"two\",1))\n",
    "c=a/b\n",
    "print (c)"
   ]
  },
  {
   "cell_type": "markdown",
   "metadata": {},
   "source": [
    "исключение состоит в том, что тип лист не поддерживает деление "
   ]
  },
  {
   "cell_type": "code",
   "execution_count": 18,
   "metadata": {},
   "outputs": [
    {
     "ename": "TypeError",
     "evalue": "unsupported operand type(s) for -: 'list' and 'list'",
     "output_type": "error",
     "traceback": [
      "\u001b[0;31m---------------------------------------------------------------------------\u001b[0m",
      "\u001b[0;31mTypeError\u001b[0m                                 Traceback (most recent call last)",
      "Cell \u001b[0;32mIn[18], line 3\u001b[0m\n\u001b[1;32m      1\u001b[0m a\u001b[38;5;241m=\u001b[39m\u001b[38;5;28mlist\u001b[39m((\u001b[38;5;241m1\u001b[39m,\u001b[38;5;124m\"\u001b[39m\u001b[38;5;124mtwo\u001b[39m\u001b[38;5;124m\"\u001b[39m,\u001b[38;5;241m3\u001b[39m))\n\u001b[1;32m      2\u001b[0m b\u001b[38;5;241m=\u001b[39m\u001b[38;5;28mlist\u001b[39m((\u001b[38;5;241m3\u001b[39m,\u001b[38;5;124m\"\u001b[39m\u001b[38;5;124mtwo\u001b[39m\u001b[38;5;124m\"\u001b[39m,\u001b[38;5;241m1\u001b[39m))\n\u001b[0;32m----> 3\u001b[0m c\u001b[38;5;241m=\u001b[39m\u001b[43ma\u001b[49m\u001b[38;5;241;43m-\u001b[39;49m\u001b[43mb\u001b[49m\n\u001b[1;32m      4\u001b[0m \u001b[38;5;28mprint\u001b[39m (c)\n",
      "\u001b[0;31mTypeError\u001b[0m: unsupported operand type(s) for -: 'list' and 'list'"
     ]
    }
   ],
   "source": [
    "a=list((1,\"two\",3))\n",
    "b=list((3,\"two\",1))\n",
    "c=a-b\n",
    "print (c)"
   ]
  },
  {
   "cell_type": "markdown",
   "metadata": {},
   "source": [
    "исключение состоит в том, что тип лист не поддерживает вычитание"
   ]
  },
  {
   "cell_type": "code",
   "execution_count": 32,
   "metadata": {},
   "outputs": [
    {
     "name": "stdout",
     "output_type": "stream",
     "text": [
      "['1', '2', '3', 'z', 'x', 'c']\n"
     ]
    }
   ],
   "source": [
    "a=list('zxc')\n",
    "b=list(\"123\")\n",
    "print (b+a)"
   ]
  },
  {
   "cell_type": "code",
   "execution_count": 38,
   "metadata": {},
   "outputs": [
    {
     "data": {
      "text/plain": [
       "[]"
      ]
     },
     "execution_count": 38,
     "metadata": {},
     "output_type": "execute_result"
    }
   ],
   "source": [
    "list()"
   ]
  },
  {
   "cell_type": "code",
   "execution_count": 48,
   "metadata": {},
   "outputs": [
    {
     "name": "stdout",
     "output_type": "stream",
     "text": [
      "1\n"
     ]
    }
   ],
   "source": [
    "squares = [1, 4, 9, 16, 25]\n",
    "print (squares[0])"
   ]
  },
  {
   "cell_type": "code",
   "execution_count": 2,
   "metadata": {},
   "outputs": [
    {
     "name": "stdout",
     "output_type": "stream",
     "text": [
      "9\n",
      "<class 'list'>\n"
     ]
    }
   ],
   "source": [
    "squares = [1, 4, 9, 16, 25]\n",
    "print (squares[-3])\n",
    "print(type(squares))"
   ]
  },
  {
   "cell_type": "code",
   "execution_count": 51,
   "metadata": {},
   "outputs": [
    {
     "name": "stdout",
     "output_type": "stream",
     "text": [
      "[9, 16, 25]\n"
     ]
    }
   ],
   "source": [
    "squares = [1, 4, 9, 16, 25]\n",
    "print (squares[-3:])"
   ]
  },
  {
   "cell_type": "code",
   "execution_count": 6,
   "metadata": {},
   "outputs": [
    {
     "name": "stdout",
     "output_type": "stream",
     "text": [
      "[1, 4]\n"
     ]
    }
   ],
   "source": [
    "squares = [1, 4, 9, 16, 25]\n",
    "print (squares[:-3])"
   ]
  },
  {
   "cell_type": "code",
   "execution_count": 52,
   "metadata": {},
   "outputs": [
    {
     "name": "stdout",
     "output_type": "stream",
     "text": [
      "[1, 4, 9, 16, 25]\n"
     ]
    }
   ],
   "source": [
    "squares = [1, 4, 9, 16, 25]\n",
    "print (squares[:])"
   ]
  },
  {
   "cell_type": "code",
   "execution_count": 5,
   "metadata": {},
   "outputs": [
    {
     "name": "stdout",
     "output_type": "stream",
     "text": [
      "[1, 4, 9, 16, 25]\n"
     ]
    }
   ],
   "source": [
    "squares = [1, 4, 9, 16, 25]\n",
    "print (squares)"
   ]
  },
  {
   "cell_type": "code",
   "execution_count": 8,
   "metadata": {},
   "outputs": [
    {
     "name": "stdout",
     "output_type": "stream",
     "text": [
      "[1, 4, 9, 16, 25, 'abc']\n"
     ]
    }
   ],
   "source": [
    "squares = [1, 4, 9, 16, 25]\n",
    "squares1 = [\"abc\"]\n",
    "print (squares+squares1)"
   ]
  },
  {
   "cell_type": "code",
   "execution_count": 10,
   "metadata": {},
   "outputs": [
    {
     "name": "stdout",
     "output_type": "stream",
     "text": [
      "[1, 4, 9, 16, 25, 'a', 'b', 'c']\n"
     ]
    }
   ],
   "source": [
    "squares = [1, 4, 9, 16, 25]\n",
    "squares1 = [\"a\",\"b\",\"c\"]\n",
    "print (squares+squares1)"
   ]
  },
  {
   "cell_type": "code",
   "execution_count": 11,
   "metadata": {},
   "outputs": [
    {
     "name": "stdout",
     "output_type": "stream",
     "text": [
      "[1, 4, 'abc', 16, 25]\n"
     ]
    }
   ],
   "source": [
    "squares = [1, 4, 9, 16, 25]\n",
    "squares1 = [\"abc\"]\n",
    "squares[2:3] = squares1\n",
    "print (squares)"
   ]
  },
  {
   "cell_type": "code",
   "execution_count": 14,
   "metadata": {},
   "outputs": [
    {
     "name": "stdout",
     "output_type": "stream",
     "text": [
      "[1, 4, 'abc']\n"
     ]
    }
   ],
   "source": [
    "squares = [1, 4, 9, 16, 25]\n",
    "squares1 = [\"abc\"]\n",
    "squares[2:] = squares1\n",
    "print (squares)"
   ]
  },
  {
   "cell_type": "code",
   "execution_count": 17,
   "metadata": {},
   "outputs": [
    {
     "ename": "TypeError",
     "evalue": "list indices must be integers or slices, not float",
     "output_type": "error",
     "traceback": [
      "\u001b[1;31m---------------------------------------------------------------------------\u001b[0m",
      "\u001b[1;31mTypeError\u001b[0m                                 Traceback (most recent call last)",
      "Cell \u001b[1;32mIn[17], line 3\u001b[0m\n\u001b[0;32m      1\u001b[0m squares \u001b[38;5;241m=\u001b[39m [\u001b[38;5;241m1\u001b[39m, \u001b[38;5;241m4\u001b[39m, \u001b[38;5;241m9\u001b[39m, \u001b[38;5;241m16\u001b[39m, \u001b[38;5;241m25\u001b[39m]\n\u001b[0;32m      2\u001b[0m squares1 \u001b[38;5;241m=\u001b[39m [\u001b[38;5;124m\"\u001b[39m\u001b[38;5;124mabc\u001b[39m\u001b[38;5;124m\"\u001b[39m]\n\u001b[1;32m----> 3\u001b[0m \u001b[43msquares\u001b[49m\u001b[43m[\u001b[49m\u001b[38;5;241;43m2.5\u001b[39;49m\u001b[43m]\u001b[49m \u001b[38;5;241m=\u001b[39m squares1\n\u001b[0;32m      4\u001b[0m \u001b[38;5;28mprint\u001b[39m (squares)\n",
      "\u001b[1;31mTypeError\u001b[0m: list indices must be integers or slices, not float"
     ]
    }
   ],
   "source": [
    "squares = [1, 4, 9, 16, 25]\n",
    "squares1 = [\"abc\"]\n",
    "squares[2.5] = squares1\n",
    "print (squares)"
   ]
  },
  {
   "cell_type": "markdown",
   "metadata": {},
   "source": [
    "исключение возникло из за того, что лист не может быть типа float"
   ]
  },
  {
   "cell_type": "code",
   "execution_count": null,
   "metadata": {},
   "outputs": [],
   "source": [
    "squares = [1, 4, 9, 16, 25]\n",
    "squares1 = [\"abc\"]\n",
    "squares[2:3] = squares1\n",
    "print (squares)"
   ]
  },
  {
   "cell_type": "code",
   "execution_count": 54,
   "metadata": {},
   "outputs": [
    {
     "ename": "TypeError",
     "evalue": "list indices must be integers or slices, not str",
     "output_type": "error",
     "traceback": [
      "\u001b[0;31m---------------------------------------------------------------------------\u001b[0m",
      "\u001b[0;31mTypeError\u001b[0m                                 Traceback (most recent call last)",
      "Cell \u001b[0;32mIn[54], line 2\u001b[0m\n\u001b[1;32m      1\u001b[0m squares \u001b[38;5;241m=\u001b[39m [\u001b[38;5;241m1\u001b[39m, \u001b[38;5;241m4\u001b[39m, \u001b[38;5;241m9\u001b[39m, \u001b[38;5;241m16\u001b[39m, \u001b[38;5;241m25\u001b[39m]\n\u001b[0;32m----> 2\u001b[0m \u001b[38;5;28mprint\u001b[39m (\u001b[43msquares\u001b[49m\u001b[43m[\u001b[49m\u001b[38;5;124;43m\"\u001b[39;49m\u001b[38;5;124;43m\"\u001b[39;49m\u001b[43m]\u001b[49m)\n",
      "\u001b[0;31mTypeError\u001b[0m: list indices must be integers or slices, not str"
     ]
    }
   ],
   "source": [
    "squares = [1, 4, 9, 16, 25]\n",
    "print (squares[\"\"])"
   ]
  },
  {
   "cell_type": "markdown",
   "metadata": {},
   "source": [
    "исключение возникло , потому что лист не может быть строкой"
   ]
  },
  {
   "cell_type": "markdown",
   "metadata": {},
   "source": [
    "Присваивание в Python не копирует данные,когда присваивается список переменной, то переменная ссылается на существующий список "
   ]
  },
  {
   "cell_type": "code",
   "execution_count": 57,
   "metadata": {},
   "outputs": [
    {
     "name": "stdout",
     "output_type": "stream",
     "text": [
      "['Red', 'Green', 'Blue', 'Alph']\n"
     ]
    }
   ],
   "source": [
    "rgb = [\"Red\", \"Green\", \"Blue\"]\n",
    "\n",
    "rgba = rgb\n",
    "\n",
    "rgba.append(\"Alph\")\n",
    "\n",
    "print(rgb)"
   ]
  },
  {
   "cell_type": "code",
   "execution_count": 59,
   "metadata": {},
   "outputs": [
    {
     "name": "stdout",
     "output_type": "stream",
     "text": [
      "['Red', 'GREEN', 'BLUE', 'Blue', 'Black']\n"
     ]
    }
   ],
   "source": [
    "rgb = [\"Red\", \"Green\", \"Blue\", \"Black\"]\n",
    "\n",
    "rgb[1:2]= [\"GREEN\", \"BLUE\"]\n",
    "\n",
    "print(rgb)"
   ]
  },
  {
   "cell_type": "code",
   "execution_count": 1,
   "metadata": {},
   "outputs": [
    {
     "name": "stdout",
     "output_type": "stream",
     "text": [
      "['Red', 'GREEN', 1, 'Blue', 'Black']\n"
     ]
    }
   ],
   "source": [
    "rgb = [\"Red\", \"Green\", \"Blue\", \"Black\"]\n",
    "\n",
    "rgb[1:2]= [\"GREEN\", 1]\n",
    "\n",
    "print(rgb)"
   ]
  },
  {
   "cell_type": "code",
   "execution_count": 3,
   "metadata": {},
   "outputs": [
    {
     "name": "stdout",
     "output_type": "stream",
     "text": [
      "['Red', 'Blue', 'Black']\n"
     ]
    }
   ],
   "source": [
    "rgb = [\"Red\", \"Green\", \"Blue\", \"Black\"]\n",
    "\n",
    "rgb[1:2]= []\n",
    "\n",
    "print(rgb)"
   ]
  },
  {
   "cell_type": "code",
   "execution_count": 27,
   "metadata": {},
   "outputs": [
    {
     "name": "stdout",
     "output_type": "stream",
     "text": [
      "<class 'list'>\n",
      "[[1, 2, 3], ['a', 'b']]\n",
      "2\n"
     ]
    }
   ],
   "source": [
    "list1=[1,2,3]\n",
    "list2=[\"a\",\"b\"]\n",
    "listsum=[list1,list2]\n",
    "print(type(listsum))\n",
    "print(listsum)\n",
    "print(listsum[0][1])"
   ]
  },
  {
   "cell_type": "markdown",
   "metadata": {},
   "source": [
    "### Задание 4\n",
    "\n",
    "https://docs.python.org/3/library/functions.html#isinstance\n",
    "\n",
    "\n",
    "isinstance это проверка типа. Функция возвращает true , если второй параметр совпадает с типом первого параметра, иначе, результат будет false.\n",
    "\n",
    " Cинтаксис этой функции вот такой : isinstance(object, classinfo)\n",
    "\n",
    "isinstance()\n",
    "с исключениями.\n"
   ]
  },
  {
   "cell_type": "code",
   "execution_count": 29,
   "metadata": {},
   "outputs": [],
   "source": [
    "class v:\n",
    "    age=int(1)"
   ]
  },
  {
   "cell_type": "code",
   "execution_count": 44,
   "metadata": {},
   "outputs": [
    {
     "data": {
      "text/plain": [
       "type"
      ]
     },
     "execution_count": 44,
     "metadata": {},
     "output_type": "execute_result"
    }
   ],
   "source": [
    "type(v)"
   ]
  },
  {
   "cell_type": "code",
   "execution_count": 45,
   "metadata": {},
   "outputs": [
    {
     "data": {
      "text/plain": [
       "True"
      ]
     },
     "execution_count": 45,
     "metadata": {},
     "output_type": "execute_result"
    }
   ],
   "source": [
    "isinstance(v, type )"
   ]
  },
  {
   "cell_type": "code",
   "execution_count": 30,
   "metadata": {},
   "outputs": [
    {
     "data": {
      "text/plain": [
       "False"
      ]
     },
     "execution_count": 30,
     "metadata": {},
     "output_type": "execute_result"
    }
   ],
   "source": [
    "isinstance(v, int)"
   ]
  },
  {
   "cell_type": "code",
   "execution_count": 31,
   "metadata": {},
   "outputs": [
    {
     "ename": "TypeError",
     "evalue": "isinstance() arg 2 must be a type, a tuple of types, or a union",
     "output_type": "error",
     "traceback": [
      "\u001b[1;31m---------------------------------------------------------------------------\u001b[0m",
      "\u001b[1;31mTypeError\u001b[0m                                 Traceback (most recent call last)",
      "Cell \u001b[1;32mIn[31], line 1\u001b[0m\n\u001b[1;32m----> 1\u001b[0m \u001b[38;5;28;43misinstance\u001b[39;49m\u001b[43m(\u001b[49m\u001b[43mv\u001b[49m\u001b[43m,\u001b[49m\u001b[43m \u001b[49m\u001b[38;5;241;43m1\u001b[39;49m\u001b[43m)\u001b[49m\n",
      "\u001b[1;31mTypeError\u001b[0m: isinstance() arg 2 must be a type, a tuple of types, or a union"
     ]
    }
   ],
   "source": [
    "isinstance(v, 1)"
   ]
  },
  {
   "cell_type": "markdown",
   "metadata": {},
   "source": [
    "исключение возникло, тк второй аргумент это не тип"
   ]
  },
  {
   "cell_type": "code",
   "execution_count": 33,
   "metadata": {},
   "outputs": [],
   "source": [
    "to=\"str\""
   ]
  },
  {
   "cell_type": "code",
   "execution_count": 34,
   "metadata": {},
   "outputs": [
    {
     "data": {
      "text/plain": [
       "True"
      ]
     },
     "execution_count": 34,
     "metadata": {},
     "output_type": "execute_result"
    }
   ],
   "source": [
    "isinstance(to,str)"
   ]
  },
  {
   "cell_type": "code",
   "execution_count": 35,
   "metadata": {},
   "outputs": [
    {
     "data": {
      "text/plain": [
       "True"
      ]
     },
     "execution_count": 35,
     "metadata": {},
     "output_type": "execute_result"
    }
   ],
   "source": [
    "isinstance(\"to\",str)"
   ]
  },
  {
   "cell_type": "code",
   "execution_count": 36,
   "metadata": {},
   "outputs": [
    {
     "data": {
      "text/plain": [
       "True"
      ]
     },
     "execution_count": 36,
     "metadata": {},
     "output_type": "execute_result"
    }
   ],
   "source": [
    "isinstance(str,type)"
   ]
  },
  {
   "cell_type": "markdown",
   "metadata": {},
   "source": [
    "у меня нет в голове понимания, как можно поломать эту функцию, кроме как засунуть во второй аргумент не тип или не существующий объект в первый аргумент . Буду рад, если вы откроете мне глаза."
   ]
  },
  {
   "cell_type": "code",
   "execution_count": 1,
   "metadata": {},
   "outputs": [],
   "source": [
    "def main(param):\n",
    "    pass"
   ]
  },
  {
   "cell_type": "code",
   "execution_count": 2,
   "metadata": {},
   "outputs": [
    {
     "data": {
      "text/plain": [
       "<function __main__.main(param)>"
      ]
     },
     "execution_count": 2,
     "metadata": {},
     "output_type": "execute_result"
    }
   ],
   "source": [
    "main"
   ]
  },
  {
   "cell_type": "code",
   "execution_count": 3,
   "metadata": {},
   "outputs": [
    {
     "ename": "NameError",
     "evalue": "name 'get' is not defined",
     "output_type": "error",
     "traceback": [
      "\u001b[0;31m---------------------------------------------------------------------------\u001b[0m",
      "\u001b[0;31mNameError\u001b[0m                                 Traceback (most recent call last)",
      "Cell \u001b[0;32mIn[3], line 1\u001b[0m\n\u001b[0;32m----> 1\u001b[0m \u001b[43mget\u001b[49m\n",
      "\u001b[0;31mNameError\u001b[0m: name 'get' is not defined"
     ]
    }
   ],
   "source": [
    "get"
   ]
  },
  {
   "cell_type": "code",
   "execution_count": 4,
   "metadata": {},
   "outputs": [
    {
     "data": {
      "text/plain": [
       "'get'"
      ]
     },
     "execution_count": 4,
     "metadata": {},
     "output_type": "execute_result"
    }
   ],
   "source": [
    "\"get\""
   ]
  },
  {
   "cell_type": "code",
   "execution_count": 5,
   "metadata": {},
   "outputs": [],
   "source": [
    "a = \"get\""
   ]
  },
  {
   "cell_type": "code",
   "execution_count": 6,
   "metadata": {},
   "outputs": [
    {
     "data": {
      "text/plain": [
       "'get'"
      ]
     },
     "execution_count": 6,
     "metadata": {},
     "output_type": "execute_result"
    }
   ],
   "source": [
    "a"
   ]
  },
  {
   "cell_type": "code",
   "execution_count": 7,
   "metadata": {},
   "outputs": [
    {
     "data": {
      "text/plain": [
       "str"
      ]
     },
     "execution_count": 7,
     "metadata": {},
     "output_type": "execute_result"
    }
   ],
   "source": [
    "type(a)"
   ]
  },
  {
   "cell_type": "code",
   "execution_count": 8,
   "metadata": {},
   "outputs": [
    {
     "data": {
      "text/plain": [
       "type"
      ]
     },
     "execution_count": 8,
     "metadata": {},
     "output_type": "execute_result"
    }
   ],
   "source": [
    "type(str)"
   ]
  },
  {
   "cell_type": "code",
   "execution_count": 11,
   "metadata": {},
   "outputs": [],
   "source": [
    "class A:\n",
    "    def __init__(self, param1):\n",
    "        self.param1 = param1\n",
    "\n",
    "    def first(self,param, param2):\n",
    "        a = param + param2\n",
    "        return a\n",
    "\n",
    "    def two(param1, param2, parm3):\n",
    "        param1 = param2 + parm3\n",
    "        return param1\n",
    "\n",
    "    def tt():\n",
    "        pass\n",
    "        \n",
    "    def tt2(sss):\n",
    "        \n",
    "        pass"
   ]
  },
  {
   "cell_type": "code",
   "execution_count": 12,
   "metadata": {},
   "outputs": [
    {
     "ename": "TypeError",
     "evalue": "A.__init__() missing 1 required positional argument: 'param1'",
     "output_type": "error",
     "traceback": [
      "\u001b[0;31m---------------------------------------------------------------------------\u001b[0m",
      "\u001b[0;31mTypeError\u001b[0m                                 Traceback (most recent call last)",
      "Cell \u001b[0;32mIn[12], line 1\u001b[0m\n\u001b[0;32m----> 1\u001b[0m a \u001b[38;5;241m=\u001b[39m \u001b[43mA\u001b[49m\u001b[43m(\u001b[49m\u001b[43m)\u001b[49m\n",
      "\u001b[0;31mTypeError\u001b[0m: A.__init__() missing 1 required positional argument: 'param1'"
     ]
    }
   ],
   "source": [
    "a = A()"
   ]
  },
  {
   "cell_type": "code",
   "execution_count": 14,
   "metadata": {},
   "outputs": [],
   "source": [
    "a1 = A"
   ]
  },
  {
   "cell_type": "code",
   "execution_count": 15,
   "metadata": {},
   "outputs": [],
   "source": [
    "a = A(1)"
   ]
  },
  {
   "cell_type": "code",
   "execution_count": 16,
   "metadata": {},
   "outputs": [
    {
     "data": {
      "text/plain": [
       "<bound method A.first of <__main__.A object at 0x73e4fa4c9250>>"
      ]
     },
     "execution_count": 16,
     "metadata": {},
     "output_type": "execute_result"
    }
   ],
   "source": [
    "a.first"
   ]
  },
  {
   "cell_type": "code",
   "execution_count": 17,
   "metadata": {},
   "outputs": [
    {
     "data": {
      "text/plain": [
       "<function __main__.A.first(self, param, param2)>"
      ]
     },
     "execution_count": 17,
     "metadata": {},
     "output_type": "execute_result"
    }
   ],
   "source": [
    "a1.first"
   ]
  },
  {
   "cell_type": "code",
   "execution_count": 18,
   "metadata": {},
   "outputs": [
    {
     "ename": "TypeError",
     "evalue": "A.first() missing 2 required positional arguments: 'param' and 'param2'",
     "output_type": "error",
     "traceback": [
      "\u001b[0;31m---------------------------------------------------------------------------\u001b[0m",
      "\u001b[0;31mTypeError\u001b[0m                                 Traceback (most recent call last)",
      "Cell \u001b[0;32mIn[18], line 1\u001b[0m\n\u001b[0;32m----> 1\u001b[0m \u001b[43ma\u001b[49m\u001b[38;5;241;43m.\u001b[39;49m\u001b[43mfirst\u001b[49m\u001b[43m(\u001b[49m\u001b[43m)\u001b[49m\n",
      "\u001b[0;31mTypeError\u001b[0m: A.first() missing 2 required positional arguments: 'param' and 'param2'"
     ]
    }
   ],
   "source": [
    "a.first()"
   ]
  },
  {
   "cell_type": "code",
   "execution_count": 19,
   "metadata": {},
   "outputs": [
    {
     "ename": "TypeError",
     "evalue": "A.two() missing 2 required positional arguments: 'param2' and 'parm3'",
     "output_type": "error",
     "traceback": [
      "\u001b[0;31m---------------------------------------------------------------------------\u001b[0m",
      "\u001b[0;31mTypeError\u001b[0m                                 Traceback (most recent call last)",
      "Cell \u001b[0;32mIn[19], line 1\u001b[0m\n\u001b[0;32m----> 1\u001b[0m \u001b[43ma\u001b[49m\u001b[38;5;241;43m.\u001b[39;49m\u001b[43mtwo\u001b[49m\u001b[43m(\u001b[49m\u001b[43m)\u001b[49m\n",
      "\u001b[0;31mTypeError\u001b[0m: A.two() missing 2 required positional arguments: 'param2' and 'parm3'"
     ]
    }
   ],
   "source": [
    "a.two()"
   ]
  },
  {
   "cell_type": "code",
   "execution_count": 20,
   "metadata": {},
   "outputs": [
    {
     "data": {
      "text/plain": [
       "3"
      ]
     },
     "execution_count": 20,
     "metadata": {},
     "output_type": "execute_result"
    }
   ],
   "source": [
    "a.two(1, 2)"
   ]
  },
  {
   "cell_type": "code",
   "execution_count": 21,
   "metadata": {},
   "outputs": [
    {
     "ename": "TypeError",
     "evalue": "A.two() takes 3 positional arguments but 4 were given",
     "output_type": "error",
     "traceback": [
      "\u001b[0;31m---------------------------------------------------------------------------\u001b[0m",
      "\u001b[0;31mTypeError\u001b[0m                                 Traceback (most recent call last)",
      "Cell \u001b[0;32mIn[21], line 1\u001b[0m\n\u001b[0;32m----> 1\u001b[0m \u001b[43ma\u001b[49m\u001b[38;5;241;43m.\u001b[39;49m\u001b[43mtwo\u001b[49m\u001b[43m(\u001b[49m\u001b[38;5;241;43m0\u001b[39;49m\u001b[43m,\u001b[49m\u001b[43m \u001b[49m\u001b[38;5;241;43m1\u001b[39;49m\u001b[43m,\u001b[49m\u001b[43m \u001b[49m\u001b[38;5;241;43m2\u001b[39;49m\u001b[43m)\u001b[49m\n",
      "\u001b[0;31mTypeError\u001b[0m: A.two() takes 3 positional arguments but 4 were given"
     ]
    }
   ],
   "source": [
    "a.two(0, 1, 2)"
   ]
  },
  {
   "cell_type": "markdown",
   "metadata": {},
   "source": [
    "# Задание от 19.02.2025\n",
    "\n",
    "# Задание 1\n",
    "Нижние подчёркивания в питон.\n",
    "https://docs.python.org/3/tutorial/classes.html#private-variables\n",
    "\n",
    "Нижние подчеркивания придуманы для \"теневой копии\". То есть, любой метод, функцию, или значение можно \"клонировать\" для того, чтобы избежать конфликтов имен с именами, определенными подклассами...."
   ]
  },
  {
   "cell_type": "code",
   "execution_count": 2,
   "metadata": {},
   "outputs": [
    {
     "name": "stdout",
     "output_type": "stream",
     "text": [
      "16\n",
      "15\n"
     ]
    }
   ],
   "source": [
    "a=15\n",
    "__a=a\n",
    "a=16\n",
    "print(a)\n",
    "print(__a)"
   ]
  },
  {
   "cell_type": "markdown",
   "metadata": {},
   "source": [
    "\n",
    "\n",
    "# Задание 2.\n",
    "Написать функцию по принципу ( одна функция использует другую.)\n",
    "https://github.com/django/django/blob/stable/5.1.x/django/shortcuts.py#L65\n",
    "задействовать как можно больше конструкций, особое внимание уделить выволу исключений.\n",
    "Вывести среди функции тип и значение в разные моменты времени.\n",
    "Описать, что вы делаете именно в выводе.\n",
    "\n",
    "Там используются части джанго, вы используйте обучные списки, строки , словари или множества."
   ]
  },
  {
   "cell_type": "code",
   "execution_count": 15,
   "metadata": {},
   "outputs": [],
   "source": [
    "def sum (a,b):\n",
    "    c=a+b\n",
    "    return c\n",
    "\n",
    "def checksum(a,c):\n",
    "    __sum = sum(a,b)\n",
    "    if isinstance(__sum,int):\n",
    "        print ('right')\n",
    "    else:\n",
    "        print ('incomplite')"
   ]
  },
  {
   "cell_type": "code",
   "execution_count": 16,
   "metadata": {},
   "outputs": [
    {
     "ename": "NameError",
     "evalue": "name 'b' is not defined",
     "output_type": "error",
     "traceback": [
      "\u001b[1;31m---------------------------------------------------------------------------\u001b[0m",
      "\u001b[1;31mNameError\u001b[0m                                 Traceback (most recent call last)",
      "Cell \u001b[1;32mIn[16], line 1\u001b[0m\n\u001b[1;32m----> 1\u001b[0m \u001b[43mchecksum\u001b[49m\u001b[43m(\u001b[49m\u001b[38;5;241;43m1.2\u001b[39;49m\u001b[43m,\u001b[49m\u001b[38;5;241;43m2\u001b[39;49m\u001b[43m)\u001b[49m\n\u001b[0;32m      2\u001b[0m checksum(\u001b[38;5;241m2\u001b[39m,\u001b[38;5;241m2\u001b[39m)\n",
      "Cell \u001b[1;32mIn[15], line 6\u001b[0m, in \u001b[0;36mchecksum\u001b[1;34m(a, c)\u001b[0m\n\u001b[0;32m      5\u001b[0m \u001b[38;5;28;01mdef\u001b[39;00m\u001b[38;5;250m \u001b[39m\u001b[38;5;21mchecksum\u001b[39m(a,c):\n\u001b[1;32m----> 6\u001b[0m     __sum \u001b[38;5;241m=\u001b[39m \u001b[38;5;28msum\u001b[39m(a,\u001b[43mb\u001b[49m)\n\u001b[0;32m      7\u001b[0m     \u001b[38;5;28;01mif\u001b[39;00m \u001b[38;5;28misinstance\u001b[39m(__sum,\u001b[38;5;28mint\u001b[39m):\n\u001b[0;32m      8\u001b[0m         \u001b[38;5;28mprint\u001b[39m (\u001b[38;5;124m'\u001b[39m\u001b[38;5;124mright\u001b[39m\u001b[38;5;124m'\u001b[39m)\n",
      "\u001b[1;31mNameError\u001b[0m: name 'b' is not defined"
     ]
    }
   ],
   "source": [
    "checksum(1.2,2)\n",
    "checksum(2,2)\n"
   ]
  },
  {
   "cell_type": "markdown",
   "metadata": {},
   "source": [
    "исключение появилось из за того, что в \"родительской\" функции(основной функции, которая вызывает функцию внутри самой себя), нет параметра b => параметры в таких функциях  вызываемый внутренней функцией параметр  должн быть один и тот же с начальной функцией"
   ]
  },
  {
   "cell_type": "code",
   "execution_count": 17,
   "metadata": {},
   "outputs": [],
   "source": [
    "def sum (a,b):\n",
    "    c=a+b\n",
    "    return c\n",
    "\n",
    "def checksum(a,b):\n",
    "    __sum = sum(a,b)\n",
    "    if isinstance(__sum,int):\n",
    "        print ('right')\n",
    "    else:\n",
    "        print ('incomplite')"
   ]
  },
  {
   "cell_type": "code",
   "execution_count": 18,
   "metadata": {},
   "outputs": [
    {
     "name": "stdout",
     "output_type": "stream",
     "text": [
      "incomplite\n",
      "right\n"
     ]
    }
   ],
   "source": [
    "checksum(1.2,2)\n",
    "checksum(2,2)\n"
   ]
  },
  {
   "cell_type": "code",
   "execution_count": 9,
   "metadata": {},
   "outputs": [],
   "source": [
    "def listcheck(a):\n",
    "    \"\"\"\n",
    "    проверка на то, что введен лист\n",
    "    \"\"\"\n",
    "    if isinstance(a, list) and hasattr(a,'__add__'):\n",
    "        return a\n",
    "    else:\n",
    "        raise TypeError(\"введен не тип данных лист или нельзя провести операцию сложения\")\n",
    "    \n",
    "\n",
    "def listlen(a):\n",
    "    \"\"\"\n",
    "    сложение листа с изначальной проверкой на тип лист \n",
    "    \"\"\"\n",
    "    some = listcheck\n",
    "\n",
    "    print ('это',type(some))\n",
    "    if not isinstance (some, list):\n",
    "        raise NameError(\"Имя объекта не лист\")\n",
    "    try:\n",
    "        return len(some)\n",
    "    except:\n",
    "        raise(\"что то пошло не так\")\n",
    "\n"
   ]
  },
  {
   "cell_type": "code",
   "execution_count": 20,
   "metadata": {},
   "outputs": [
    {
     "name": "stdout",
     "output_type": "stream",
     "text": [
      "Операции доступные результату['__add__', '__class__', '__class_getitem__', '__contains__', '__delattr__', '__delitem__', '__dir__', '__doc__', '__eq__', '__format__', '__ge__', '__getattribute__', '__getitem__', '__getstate__', '__gt__', '__hash__', '__iadd__', '__imul__', '__init__', '__init_subclass__', '__iter__', '__le__', '__len__', '__lt__', '__mul__', '__ne__', '__new__', '__reduce__', '__reduce_ex__', '__repr__', '__reversed__', '__rmul__', '__setattr__', '__setitem__', '__sizeof__', '__str__', '__subclasshook__', 'append', 'clear', 'copy', 'count', 'extend', 'index', 'insert', 'pop', 'remove', 'reverse', 'sort']\n"
     ]
    }
   ],
   "source": [
    "print(f'Операции доступные результату{dir(listcheck([1]))}')"
   ]
  },
  {
   "cell_type": "code",
   "execution_count": 11,
   "metadata": {},
   "outputs": [
    {
     "data": {
      "text/plain": [
       "list"
      ]
     },
     "execution_count": 11,
     "metadata": {},
     "output_type": "execute_result"
    }
   ],
   "source": [
    "type(listcheck([1, 2 , 3]))"
   ]
  },
  {
   "cell_type": "code",
   "execution_count": 12,
   "metadata": {},
   "outputs": [
    {
     "name": "stdout",
     "output_type": "stream",
     "text": [
      "это <class 'function'>\n"
     ]
    },
    {
     "ename": "NameError",
     "evalue": "Имя объекта не лист",
     "output_type": "error",
     "traceback": [
      "\u001b[1;31m---------------------------------------------------------------------------\u001b[0m",
      "\u001b[1;31mNameError\u001b[0m                                 Traceback (most recent call last)",
      "Cell \u001b[1;32mIn[12], line 1\u001b[0m\n\u001b[1;32m----> 1\u001b[0m \u001b[38;5;28mtype\u001b[39m(\u001b[43mlistlen\u001b[49m\u001b[43m(\u001b[49m\u001b[43m[\u001b[49m\u001b[38;5;241;43m1\u001b[39;49m\u001b[43m,\u001b[49m\u001b[43m \u001b[49m\u001b[38;5;241;43m2\u001b[39;49m\u001b[43m \u001b[49m\u001b[43m,\u001b[49m\u001b[43m \u001b[49m\u001b[38;5;241;43m3\u001b[39;49m\u001b[43m]\u001b[49m\u001b[43m)\u001b[49m)\n",
      "Cell \u001b[1;32mIn[9], line 19\u001b[0m, in \u001b[0;36mlistlen\u001b[1;34m(a)\u001b[0m\n\u001b[0;32m     17\u001b[0m \u001b[38;5;28mprint\u001b[39m (\u001b[38;5;124m'\u001b[39m\u001b[38;5;124mэто\u001b[39m\u001b[38;5;124m'\u001b[39m,\u001b[38;5;28mtype\u001b[39m(some))\n\u001b[0;32m     18\u001b[0m \u001b[38;5;28;01mif\u001b[39;00m \u001b[38;5;129;01mnot\u001b[39;00m \u001b[38;5;28misinstance\u001b[39m (some, \u001b[38;5;28mstr\u001b[39m):\n\u001b[1;32m---> 19\u001b[0m     \u001b[38;5;28;01mraise\u001b[39;00m \u001b[38;5;167;01mNameError\u001b[39;00m(\u001b[38;5;124m\"\u001b[39m\u001b[38;5;124mИмя объекта не лист\u001b[39m\u001b[38;5;124m\"\u001b[39m)\n\u001b[0;32m     20\u001b[0m \u001b[38;5;28;01mtry\u001b[39;00m:\n\u001b[0;32m     21\u001b[0m     \u001b[38;5;28;01mreturn\u001b[39;00m \u001b[38;5;28mlen\u001b[39m(some)\n",
      "\u001b[1;31mNameError\u001b[0m: Имя объекта не лист"
     ]
    }
   ],
   "source": [
    "type(listlen([1, 2 , 3]))"
   ]
  },
  {
   "cell_type": "code",
   "execution_count": null,
   "metadata": {},
   "outputs": [
    {
     "name": "stdout",
     "output_type": "stream",
     "text": [
      "Операции доступные результату ['__add__', '__class__', '__class_getitem__', '__contains__', '__delattr__', '__delitem__', '__dir__', '__doc__', '__eq__', '__format__', '__ge__', '__getattribute__', '__getitem__', '__getstate__', '__gt__', '__hash__', '__iadd__', '__imul__', '__init__', '__init_subclass__', '__iter__', '__le__', '__len__', '__lt__', '__mul__', '__ne__', '__new__', '__reduce__', '__reduce_ex__', '__repr__', '__reversed__', '__rmul__', '__setattr__', '__setitem__', '__sizeof__', '__str__', '__subclasshook__', 'append', 'clear', 'copy', 'count', 'extend', 'index', 'insert', 'pop', 'remove', 'reverse', 'sort']\n"
     ]
    }
   ],
   "source": [
    "print(f'Операции доступные результату {dir(list)}')"
   ]
  },
  {
   "cell_type": "markdown",
   "metadata": {},
   "source": [
    "\n",
    "# Задание 3\n",
    "Строка 65.\n",
    "\n",
    "def get_object_or_404(klass, *args, **kwargs):\n",
    "https://github.com/django/django/blob/stable/5.1.x/django/shortcuts.py#L65\n",
    "и\n",
    "строка 76\n",
    "https://github.com/django/django/blob/stable/5.1.x/django/shortcuts.py#L76\n",
    "параметр klass один и тот же?\n",
    "\n",
    "Я считаю, что нет потому что :(после кода новый вариант)"
   ]
  },
  {
   "cell_type": "code",
   "execution_count": null,
   "metadata": {},
   "outputs": [],
   "source": [
    "def _get_queryset(klass): #### отдельная функция => для нее нужно задавать отдельный параметр klass\n",
    "    \"\"\"\n",
    "    Return a QuerySet or a Manager.\n",
    "    Duck typing in action: any class with a `get()` method (for\n",
    "    get_object_or_404) or a `filter()` method (for get_list_or_404) might do\n",
    "    the job.\n",
    "    \"\"\"\n",
    "    # If it is a model class or anything else with ._default_manager\n",
    "    if hasattr(klass, \"_default_manager\"):\n",
    "        return klass._default_manager.all()\n",
    "    return klass\n",
    "\n",
    "\n",
    "def get_object_or_404(klass, *args, **kwargs): ##### отдельная функция => для нее нужно задавать отдельный параметр klass\n",
    "    \"\"\"\n",
    "    Use get() to return an object, or raise an Http404 exception if the object\n",
    "    does not exist.\n",
    "\n",
    "    klass may be a Model, Manager, or QuerySet object. All other passed\n",
    "    arguments and keyword arguments are used in the get() query.\n",
    "\n",
    "    Like with QuerySet.get(), MultipleObjectsReturned is raised if more than\n",
    "    one object is found.\n",
    "    \"\"\"\n",
    "    queryset = _get_queryset(klass) ### присвоение переменной, функции в самом начале этого отрезка кода=> параметр klass будет браться из функции _get_queryset, а не из  функции get_object_or_404\n",
    "    if not hasattr(queryset, \"get\"):\n",
    "        klass__name = (\n",
    "            klass.__name__ if isinstance(klass, type) else klass.__class__.__name__\n",
    "        )\n",
    "        raise ValueError(\n",
    "            \"First argument to get_object_or_404() must be a Model, Manager, \"\n",
    "            \"or QuerySet, not '%s'.\" % klass__name\n",
    "        )\n",
    "    try:\n",
    "        return queryset.get(*args, **kwargs)\n",
    "    except queryset.model.DoesNotExist:\n",
    "        raise Http404(\n",
    "            \"No %s matches the given query.\" % queryset.model._meta.object_name\n",
    "        )"
   ]
  },
  {
   "cell_type": "markdown",
   "metadata": {},
   "source": [
    "##### ВАЖНАЯ ПОМЕТКА, СНАЧАЛА Я ПОДУМАЛ НАД 3 ЗАДАНИЕМ, А ПОТОМ СДЕЛАЛ ВТОРОЕ И ПРОДУБЛИРУЮ СВОЕ МНЕНИЕ ПОСЛЕ :\n",
    "\n",
    "в \"родительской\" функции(основной функции, которая вызывает функцию внутри самой себя) параметры должны совпадать тк иначе параметр не будет объявлен=> параметр klass один и тот же "
   ]
  },
  {
   "cell_type": "markdown",
   "metadata": {},
   "source": [
    "## Основные этапы:\n",
    "\n",
    "\n",
    "\n",
    "### `Третий Этап`.\n",
    "\n",
    "**Разработка проекта и использование знаний.**\n",
    "\n",
    "-------------------------------------------------\n",
    "\n",
    "### `Этап второй.`\n",
    "\n",
    " **Берётся `реальный проект` и человек пишет реальный код.**\n",
    "\n",
    " **Работа `с реальным профессиональным кодом`.**\n",
    "\n",
    "**Работа `с абстракциями`.**\n",
    "\n",
    "**Работа над `оттачиваем технологий`.**\n",
    "\n",
    "\n",
    " **`Моя работа`: Я ставлю вопросы.**\n",
    "\n",
    "**`Почему работает`? - все проходит через мозги и опыт обучаемого.**\n",
    "\n",
    "--------------------------------------\n",
    "\n",
    "\n",
    "###  `Этап первый.`\n",
    "\n",
    "**`Как к этому этапу подойти?`**\n",
    "\n",
    "**Правильное, чтение, понимание, использование документация.**\n",
    "\n",
    "**Чтение и понимание Исходный кода.**\n",
    "\n",
    "**Написать код c головы, обязательное условие.**\n",
    "\n",
    "\n",
    "\n",
    "\n",
    "**400 вопросов и 7000 строк кода написано.**\n",
    "\n",
    "\n",
    "\n",
    "\n",
    "**Добиваться результата не формально, а реально, то есть подтвердить чтением в коде.**\n",
    "\n",
    "**Разные ЯП.**\n",
    "\n",
    "**У нас есть 4 контсрукции всего:**\n",
    "\n",
    "- Функция\n",
    "\n",
    "- Класс\n",
    "\n",
    "- Метод\n",
    "\n",
    "- Экземпляр"
   ]
  },
  {
   "cell_type": "markdown",
   "metadata": {},
   "source": [
    "# Задание от 28.02.2025"
   ]
  },
  {
   "cell_type": "markdown",
   "metadata": {},
   "source": [
    "Здравствуйте, во-первых, опоздал с заданием, во-вторых, не сделал его. У меня возникла проблема со вторым заданием, я не смог перевести первую функцию (проверку листа на тип) в значение лист во второй функции(выглядит не очень, но по другому не описать),  поэтому у меня не получается ничего кроме выхода в ошибку"
   ]
  },
  {
   "cell_type": "markdown",
   "metadata": {},
   "source": [
    "# Задание 1.\n",
    "Нижние подчёркивания рассмотреть подробно.\n",
    "\n",
    "https://peps.python.org/pep-0008/#descriptive-naming-styles\n",
    "\n",
    "\n",
    "- _some: нижнее подчеркивание в начале говорит о том, что эту функцию, или переменную и тд лучше не использовать вне модуля, где оно расположено. Так же, при импорте через * , эта функция или переменная или тд не импортируется\n",
    "- some_: нижнее подчеркивание в конце служит для того, чтобы можно было взять имя, которое уже занято питоном, к примеру class_\n",
    "- __some: используется для того, чтобы избавиться от конфликтов при вызове наследованной функции класса(не очень понятно, потому что в наследование сильно не углублялся)\n",
    "- `__some__`: это системные файлы питона, которые выполняют определенные действия\n",
    "\n",
    "\n",
    "\n",
    "# Задание 2.\n",
    "\n",
    "Примеры и получить.\n",
    "ОБъект первого класса. Это объект , который может быть возвращен из функции, передан как параметр, и может быть присвоен переменной"
   ]
  },
  {
   "cell_type": "code",
   "execution_count": 108,
   "metadata": {},
   "outputs": [
    {
     "data": {
      "text/plain": [
       "[1, 2, 3]"
      ]
     },
     "execution_count": 108,
     "metadata": {},
     "output_type": "execute_result"
    }
   ],
   "source": [
    "def testfunc():\n",
    "    list_= [1, 2, 3]\n",
    "    return list_\n",
    "\n",
    "testfunc()"
   ]
  },
  {
   "cell_type": "markdown",
   "metadata": {},
   "source": [
    "возвратил list_ => это объект первого класса"
   ]
  },
  {
   "cell_type": "code",
   "execution_count": 100,
   "metadata": {},
   "outputs": [
    {
     "name": "stdout",
     "output_type": "stream",
     "text": [
      "[1, 2, 3, 4, 5, 6]\n"
     ]
    }
   ],
   "source": [
    "a = testfunc()\n",
    "b = [4, 5, 6] \n",
    "print (a+b)"
   ]
  },
  {
   "cell_type": "markdown",
   "metadata": {},
   "source": [
    "смог присвоить функцию переменной => это функция первого класса"
   ]
  },
  {
   "cell_type": "code",
   "execution_count": 109,
   "metadata": {},
   "outputs": [
    {
     "data": {
      "text/plain": [
       "[1, 2, 3]"
      ]
     },
     "execution_count": 109,
     "metadata": {},
     "output_type": "execute_result"
    }
   ],
   "source": [
    "def sum(sumfunc):\n",
    "    return sumfunc()\n",
    "\n",
    "sum(testfunc)"
   ]
  },
  {
   "cell_type": "markdown",
   "metadata": {},
   "source": [
    "передал testfunc как параметр => объект первого класса"
   ]
  },
  {
   "cell_type": "markdown",
   "metadata": {},
   "source": [
    "Функция первого класса./порядка\n",
    "Все что найдёте, напишите с примерами.\n",
    "Исключения."
   ]
  },
  {
   "cell_type": "code",
   "execution_count": 1,
   "metadata": {},
   "outputs": [],
   "source": [
    "def _mgs(name):\n",
    "    a = \"hello \"\n",
    "    return a + name\n",
    "\n",
    "def result(func,name):\n",
    "    return (func(name))"
   ]
  },
  {
   "cell_type": "code",
   "execution_count": 17,
   "metadata": {},
   "outputs": [
    {
     "data": {
      "text/plain": [
       "'hello someone'"
      ]
     },
     "execution_count": 17,
     "metadata": {},
     "output_type": "execute_result"
    }
   ],
   "source": [
    "result(_mgs, \"someone\")"
   ]
  },
  {
   "cell_type": "code",
   "execution_count": 16,
   "metadata": {},
   "outputs": [
    {
     "ename": "NameError",
     "evalue": "name 'somesome' is not defined",
     "output_type": "error",
     "traceback": [
      "\u001b[0;31m---------------------------------------------------------------------------\u001b[0m",
      "\u001b[0;31mNameError\u001b[0m                                 Traceback (most recent call last)",
      "Cell \u001b[0;32mIn[16], line 1\u001b[0m\n\u001b[0;32m----> 1\u001b[0m result(\u001b[43msomesome\u001b[49m,\u001b[38;5;124m\"\u001b[39m\u001b[38;5;124msomeone\u001b[39m\u001b[38;5;124m\"\u001b[39m)\n",
      "\u001b[0;31mNameError\u001b[0m: name 'somesome' is not defined"
     ]
    }
   ],
   "source": [
    "result(somesome,\"someone\")"
   ]
  },
  {
   "cell_type": "markdown",
   "metadata": {},
   "source": [
    "исключение возникло, потому что функции somesome не существует "
   ]
  },
  {
   "cell_type": "code",
   "execution_count": 9,
   "metadata": {},
   "outputs": [],
   "source": [
    "def _mgs1(name):\n",
    "    a = \"hello \"\n",
    "    return a + name\n",
    "\n",
    "def result1(func):\n",
    "    return (func())"
   ]
  },
  {
   "cell_type": "code",
   "execution_count": 15,
   "metadata": {},
   "outputs": [
    {
     "ename": "TypeError",
     "evalue": "_mgs1() missing 1 required positional argument: 'name'",
     "output_type": "error",
     "traceback": [
      "\u001b[0;31m---------------------------------------------------------------------------\u001b[0m",
      "\u001b[0;31mTypeError\u001b[0m                                 Traceback (most recent call last)",
      "Cell \u001b[0;32mIn[15], line 1\u001b[0m\n\u001b[0;32m----> 1\u001b[0m \u001b[43mresult1\u001b[49m\u001b[43m(\u001b[49m\u001b[43m_mgs1\u001b[49m\u001b[43m)\u001b[49m\n",
      "Cell \u001b[0;32mIn[14], line 5\u001b[0m, in \u001b[0;36mresult1\u001b[0;34m(func)\u001b[0m\n\u001b[1;32m      4\u001b[0m \u001b[38;5;28;01mdef\u001b[39;00m \u001b[38;5;21mresult1\u001b[39m(func):\n\u001b[0;32m----> 5\u001b[0m     \u001b[38;5;28;01mreturn\u001b[39;00m (\u001b[43mfunc\u001b[49m\u001b[43m(\u001b[49m\u001b[43m)\u001b[49m)\n",
      "\u001b[0;31mTypeError\u001b[0m: _mgs1() missing 1 required positional argument: 'name'"
     ]
    }
   ],
   "source": [
    "result1(_mgs1)"
   ]
  },
  {
   "cell_type": "markdown",
   "metadata": {},
   "source": [
    "исключение появилось тк не хватает аргумента name , чтобы запустить функцию"
   ]
  },
  {
   "cell_type": "code",
   "execution_count": 23,
   "metadata": {},
   "outputs": [],
   "source": [
    "def _mgs2(name):\n",
    "    a = \"hello \"\n",
    "\n",
    "def result2(func, name ):\n",
    "    return (func(name))"
   ]
  },
  {
   "cell_type": "code",
   "execution_count": 26,
   "metadata": {},
   "outputs": [],
   "source": [
    "result2(_mgs2, \"someone\")"
   ]
  },
  {
   "cell_type": "markdown",
   "metadata": {},
   "source": [
    "тут нет исключения, но и вывода тоже нет, потому что не задано то, что нужно возвратить из первой функции"
   ]
  },
  {
   "cell_type": "code",
   "execution_count": 29,
   "metadata": {},
   "outputs": [],
   "source": [
    "def _mgs3(name):\n",
    "    a = \"hello \"\n",
    "    return a + name\n",
    "\n",
    "def result3(func, a ):\n",
    "    return (func(name))"
   ]
  },
  {
   "cell_type": "code",
   "execution_count": 30,
   "metadata": {},
   "outputs": [
    {
     "ename": "NameError",
     "evalue": "name 'name' is not defined",
     "output_type": "error",
     "traceback": [
      "\u001b[0;31m---------------------------------------------------------------------------\u001b[0m",
      "\u001b[0;31mNameError\u001b[0m                                 Traceback (most recent call last)",
      "Cell \u001b[0;32mIn[30], line 1\u001b[0m\n\u001b[0;32m----> 1\u001b[0m \u001b[43mresult3\u001b[49m\u001b[43m(\u001b[49m\u001b[43m_mgs3\u001b[49m\u001b[43m,\u001b[49m\u001b[43m \u001b[49m\u001b[38;5;124;43m\"\u001b[39;49m\u001b[38;5;124;43msomeone\u001b[39;49m\u001b[38;5;124;43m\"\u001b[39;49m\u001b[43m)\u001b[49m\n",
      "Cell \u001b[0;32mIn[29], line 6\u001b[0m, in \u001b[0;36mresult3\u001b[0;34m(func, a)\u001b[0m\n\u001b[1;32m      5\u001b[0m \u001b[38;5;28;01mdef\u001b[39;00m \u001b[38;5;21mresult3\u001b[39m(func, a ):\n\u001b[0;32m----> 6\u001b[0m     \u001b[38;5;28;01mreturn\u001b[39;00m (func(\u001b[43mname\u001b[49m))\n",
      "\u001b[0;31mNameError\u001b[0m: name 'name' is not defined"
     ]
    }
   ],
   "source": [
    "result3(_mgs3, \"someone\")"
   ]
  },
  {
   "cell_type": "markdown",
   "metadata": {},
   "source": [
    "исключение появилось, потому что параметр name , не объявлен в начале функции result3"
   ]
  },
  {
   "cell_type": "code",
   "execution_count": 8,
   "metadata": {},
   "outputs": [
    {
     "data": {
      "text/plain": [
       "[5, 6, 7, 1, 2, 3]"
      ]
     },
     "execution_count": 8,
     "metadata": {},
     "output_type": "execute_result"
    }
   ],
   "source": [
    "def _listcheck(list_):\n",
    "    \"\"\"\n",
    "    проверка на то, что введен лист\n",
    "    \"\"\"\n",
    "    if isinstance(list_, list) and hasattr(list_,'__add__'):\n",
    "        return list_\n",
    "    else:\n",
    "        raise TypeError(\"введен не тип данных лист или нельзя провести операцию сложения\")\n",
    "    \n",
    "\n",
    "def listsum(list_):\n",
    "    \"\"\"\n",
    "    сложение изначально созданного листа с листом, введеным пользователем\n",
    "    \"\"\"\n",
    "    list1 = _listcheck(list_)\n",
    "    \n",
    "    list2= [1,2,3] \n",
    "\n",
    "    if not isinstance(list1, list):\n",
    "        raise TypeError (\"агрумент не лист\")\n",
    "    try:\n",
    "        return list1+list2\n",
    "    except ValueError:\n",
    "        raise TypeError(\"грумент не лист\")\n",
    "\n",
    "\n",
    "\n",
    "\n",
    "listsum([5, 6, 7])"
   ]
  },
  {
   "cell_type": "markdown",
   "metadata": {},
   "source": [
    "вот теперь возвращаюсь к своему коду из предыдущей недели могу сказать, что тк в переменную передается функция(с типом функция, а не типом лист), то ее результат не сладывается"
   ]
  },
  {
   "cell_type": "markdown",
   "metadata": {},
   "source": [
    "\n",
    "\n",
    "\n",
    "\n",
    "# Задание 3.\n",
    "\n",
    "\n",
    "\n",
    "    Функция\n",
    "\n",
    "    Класс\n",
    "\n",
    "    Метод / что это\n",
    "\n",
    "    Экземпляр\n",
    "\n",
    "Что общего.\n",
    "\n",
    "у всего из этого есть свое пространство имен. Они все могут содержать в себе значения . Все из этого можно вызвать . \n",
    "\n",
    "чем отличается метод от функции\n",
    "\n",
    "отличие заключается в том, что метод, это функция которая находится в классе"
   ]
  },
  {
   "cell_type": "markdown",
   "metadata": {},
   "source": [
    "# Задание от 11.03.2025"
   ]
  },
  {
   "cell_type": "markdown",
   "metadata": {},
   "source": [
    "# Задание 1.\n",
    "\n",
    "\n",
    "\n",
    "    Функция\n",
    "\n",
    "    Класс\n",
    "\n",
    "    Метод \n",
    "\n",
    "    Экземпляр\n",
    "\n",
    "Общих вещей всего две.\n",
    "\n",
    "1. У  каждого объекта выше есть поле ввода параметров :\n",
    "\n",
    "- Класс: как по примеру https://github.com/beeware/toga/blob/4927c88b79477f4a1219aff7cbe0c34e85a3df86/android/src/toga_android/widgets/base.py#L41( я не понимаю, зачем параметры в классе, но я их еще и не проходил)\n",
    "\n",
    "- Функция https://docs.python.org/3/reference/compound_stmts.html#function-definitions , как и показано в разметке Бекуса Наура, то , что в \"\" является обязательным для написания=>, ввод поле для параметров \"(\"______\")\" всегда должно быть :"
   ]
  },
  {
   "cell_type": "code",
   "execution_count": null,
   "metadata": {},
   "outputs": [],
   "source": [
    "def def_example(parameter_1: int) ->int:\n",
    "    return parameter_1"
   ]
  },
  {
   "cell_type": "markdown",
   "metadata": {},
   "source": [
    "Метод:"
   ]
  },
  {
   "cell_type": "code",
   "execution_count": null,
   "metadata": {},
   "outputs": [],
   "source": [
    "class for_example:\n",
    "    \n",
    "    def example(self, parameter_1: int) ->int:\n",
    "        return parameter_1"
   ]
  },
  {
   "cell_type": "markdown",
   "metadata": {},
   "source": [
    "экземпляр:"
   ]
  },
  {
   "cell_type": "code",
   "execution_count": 8,
   "metadata": {},
   "outputs": [
    {
     "name": "stdout",
     "output_type": "stream",
     "text": [
      "adam\n"
     ]
    }
   ],
   "source": [
    "class employees:    \n",
    "    def __init__(self, name: str) ->str:\n",
    "        self.name = name\n",
    "\n",
    "    \n",
    "create_person = employees(\"adam\")\n",
    "\n",
    "print(create_person.name)\n",
    "        "
   ]
  },
  {
   "cell_type": "markdown",
   "metadata": {},
   "source": [
    "2 Это все объект первого класса => все из этого списка можно вводить в качестве аргумента, присваивать переменной  и возвращать из нее"
   ]
  },
  {
   "cell_type": "markdown",
   "metadata": {},
   "source": [
    "https://docs.python.org/3/tutorial/classes.html\n",
    "https://docs.python.org/3/reference/compound_stmts.html#function-definitions"
   ]
  },
  {
   "cell_type": "markdown",
   "metadata": {},
   "source": [
    "3 Или, если 1 вариант вам не понравиться, снова исходя из разметки Бекуса Наура на ссылке с функцией: у всего должно быть имя, которое является идентификатором , который , в свою очередь, присваивается к памяти выделенной пк для определенного объекта. Его место в памяти можно посмотреть через  функцию id()"
   ]
  },
  {
   "cell_type": "code",
   "execution_count": 14,
   "metadata": {},
   "outputs": [
    {
     "name": "stdout",
     "output_type": "stream",
     "text": [
      "133222751545728\n"
     ]
    }
   ],
   "source": [
    "def some_some_some():\n",
    "    return 15\n",
    "\n",
    "print (id(some_some_some))\n"
   ]
  },
  {
   "cell_type": "markdown",
   "metadata": {},
   "source": [
    "\n",
    "# Задание 2.\n",
    "\n",
    "Напишите функцию с позиционными параметрами с аннатоациями, получите исключения.\n",
    "Как выглядит функция."
   ]
  },
  {
   "cell_type": "code",
   "execution_count": 20,
   "metadata": {},
   "outputs": [
    {
     "data": {
      "text/plain": [
       "'hello'"
      ]
     },
     "execution_count": 20,
     "metadata": {},
     "output_type": "execute_result"
    }
   ],
   "source": [
    "def mypy_test(name: str) -> int:\n",
    "    return 'hello' \n",
    "\n",
    "mypy_test(1)"
   ]
  },
  {
   "cell_type": "markdown",
   "metadata": {},
   "source": [
    "я не знаю как мне получить исключения из аннотаций, тк интерпритатор их не трогает(показал на примере выше, где должна была возникнуть ошибка), поэтому я сделал это через mypy(я не понимаю как вставить картинку, потому что везде надо прописывать путь до файла=> картинка должна быть на пк):"
   ]
  },
  {
   "cell_type": "code",
   "execution_count": 25,
   "metadata": {},
   "outputs": [
    {
     "data": {
      "text/plain": [
       "'hello'"
      ]
     },
     "execution_count": 25,
     "metadata": {},
     "output_type": "execute_result"
    }
   ],
   "source": [
    "def mypy_test(name: str) -> int:\n",
    "    return 'hello' \n",
    "\n",
    "mypy_test(1)"
   ]
  },
  {
   "cell_type": "code",
   "execution_count": null,
   "metadata": {},
   "outputs": [],
   "source": [
    "test.py:2: error: Incompatible return value type (got \"str\", expected \"int\")  [return-value]\n",
    "test.py:4: error: Argument 1 to \"mypy_test\" has incompatible type \"int\"; expected \"str\"  [arg-type]\n",
    "Found 2 errors in 1 file (checked 1 source file)\n"
   ]
  },
  {
   "cell_type": "markdown",
   "metadata": {},
   "source": [
    "исключение появилось потому что если аннотация параметра с типом str, то исходя из логических заключений, вывод не может быть int + введеный аргумент типа int , а не str"
   ]
  },
  {
   "cell_type": "code",
   "execution_count": null,
   "metadata": {},
   "outputs": [],
   "source": [
    "def mypy_test_1(name: str) -> str:\n",
    "    return 'hello' * name\n",
    "\n",
    "mypy_test_1(\"a\")"
   ]
  },
  {
   "cell_type": "code",
   "execution_count": null,
   "metadata": {},
   "outputs": [],
   "source": [
    "test.py:2: error: Unsupported operand types for * (\"str\" and \"str\")  [operator]\n",
    "Found 1 error in 1 file (checked 1 source file)"
   ]
  },
  {
   "cell_type": "markdown",
   "metadata": {},
   "source": [
    "исключение появилось тк тип str не поддерживает умножение"
   ]
  },
  {
   "cell_type": "code",
   "execution_count": null,
   "metadata": {},
   "outputs": [],
   "source": []
  },
  {
   "cell_type": "code",
   "execution_count": 18,
   "metadata": {},
   "outputs": [
    {
     "ename": "SyntaxError",
     "evalue": "invalid syntax (2910136747.py, line 1)",
     "output_type": "error",
     "traceback": [
      "\u001b[0;36m  Cell \u001b[0;32mIn[18], line 1\u001b[0;36m\u001b[0m\n\u001b[0;31m    def mypy_test_1(name=\"\": str):\u001b[0m\n\u001b[0m                           ^\u001b[0m\n\u001b[0;31mSyntaxError\u001b[0m\u001b[0;31m:\u001b[0m invalid syntax\n"
     ]
    }
   ],
   "source": [
    "def mypy_test_1(name=\"\": str):\n",
    "    return name"
   ]
  },
  {
   "cell_type": "markdown",
   "metadata": {},
   "source": [
    "исключение появилось, потому что для аннотаций нельзя использовать именованные параметры "
   ]
  },
  {
   "cell_type": "markdown",
   "metadata": {},
   "source": [
    "\n",
    "Анотации в питон описать\n",
    "\n",
    "Аннотации в питоне служат для облегчения читаемости кода человеком, т.е. они не затрагивают интерпритатор никоим образом\n",
    "\n",
    "Пример аннотаций:"
   ]
  },
  {
   "cell_type": "code",
   "execution_count": 5,
   "metadata": {},
   "outputs": [],
   "source": [
    "def annotation_1(parameter: str): # \"parametr: str\" говорит о том, что он должен быть с типом str\n",
    "    return parameter"
   ]
  },
  {
   "cell_type": "code",
   "execution_count": 6,
   "metadata": {},
   "outputs": [
    {
     "data": {
      "text/plain": [
       "1"
      ]
     },
     "execution_count": 6,
     "metadata": {},
     "output_type": "execute_result"
    }
   ],
   "source": [
    "annotation_1(1)"
   ]
  },
  {
   "cell_type": "markdown",
   "metadata": {},
   "source": [
    "на примере выше доказано, что интерпритатор не выявляет никаких ошибок в коде=> аннотации существуют для того, чтобы упростить жизнь людям путем легкого чтения кода"
   ]
  },
  {
   "cell_type": "code",
   "execution_count": 8,
   "metadata": {},
   "outputs": [],
   "source": [
    "def annotation_2(parameter: str) -> str: # \"-> str\" говорит о том, что результат должен быть с типом str\n",
    "    return parameter"
   ]
  },
  {
   "cell_type": "code",
   "execution_count": 9,
   "metadata": {},
   "outputs": [
    {
     "data": {
      "text/plain": [
       "1"
      ]
     },
     "execution_count": 9,
     "metadata": {},
     "output_type": "execute_result"
    }
   ],
   "source": [
    "annotation_2(1)"
   ]
  },
  {
   "cell_type": "markdown",
   "metadata": {},
   "source": [
    "еще раз убеждаюсь в словах, написанных выше "
   ]
  },
  {
   "cell_type": "markdown",
   "metadata": {},
   "source": [
    "в исходном коде https://github.com/beeware/toga/blob/main/core/src/toga/app.py#L89 есть аннотация результата \"widget\". В моем понимании это потому что, в классе можно создавать типы=> в аннотации можно заносить даже нестандартные типы данных"
   ]
  },
  {
   "cell_type": "code",
   "execution_count": null,
   "metadata": {},
   "outputs": [],
   "source": [
    "def __getitem__(self, key: str) -> Widget:\n",
    "        return self._registry[key]"
   ]
  },
  {
   "cell_type": "markdown",
   "metadata": {},
   "source": [
    "\n",
    "библиотека mypy\n",
    "\n",
    "библиотеку я разобрал выше\n",
    "\n",
    "https://github.com/beeware/toga/blob/main/core/src/toga/app.py#L89\n",
    "\n",
    "https://mypy.readthedocs.io/en/stable/getting_started.html\n",
    "\n",
    "# Задание 2.\n",
    "\n",
    "f строки"
   ]
  },
  {
   "cell_type": "code",
   "execution_count": 2,
   "metadata": {},
   "outputs": [
    {
     "name": "stdout",
     "output_type": "stream",
     "text": [
      "аргумент 1 передан в параметр arg_0 который относиться к pos1 описанным выше, это обязательный позиционный параметр. аргумент 2 может быть передан как позиционный или ключевой в параметр arg_1\n"
     ]
    }
   ],
   "source": [
    "def a_2(arg_0, /, arg_1 ):\n",
    "    print(f\"аргумент {arg_0} передан в параметр arg_0 который относиться к pos1 описанным выше, это обязательный позиционный параметр. \\\n",
    "аргумент {arg_1} может быть передан как позиционный или ключевой в параметр arg_1\")\n",
    "    \n",
    "a_2(1,2)"
   ]
  },
  {
   "cell_type": "code",
   "execution_count": 3,
   "metadata": {},
   "outputs": [
    {
     "ename": "TypeError",
     "evalue": "a_2() missing 1 required positional argument: 'arg_1'",
     "output_type": "error",
     "traceback": [
      "\u001b[0;31m---------------------------------------------------------------------------\u001b[0m",
      "\u001b[0;31mTypeError\u001b[0m                                 Traceback (most recent call last)",
      "Cell \u001b[0;32mIn[3], line 1\u001b[0m\n\u001b[0;32m----> 1\u001b[0m \u001b[43ma_2\u001b[49m\u001b[43m(\u001b[49m\u001b[38;5;241;43m1\u001b[39;49m\u001b[43m)\u001b[49m\u001b[38;5;66;03m# ожидаем обяз. позиционный аргумент arg_1\u001b[39;00m\n",
      "\u001b[0;31mTypeError\u001b[0m: a_2() missing 1 required positional argument: 'arg_1'"
     ]
    }
   ],
   "source": [
    "a_2(1)# ожидаем обяз. позиционный аргумент arg_1"
   ]
  },
  {
   "cell_type": "markdown",
   "metadata": {},
   "source": [
    "я не знаю, что сюда писать, чтобы вы поняли, что я разобрался с f строками, поэтому сделаю задание, которое вы мне давали, но я его так и не осилил. Это логирование фукнции, которую я написал:"
   ]
  },
  {
   "cell_type": "code",
   "execution_count": 1,
   "metadata": {},
   "outputs": [
    {
     "name": "stdout",
     "output_type": "stream",
     "text": [
      "*** Блок вывода***\n",
      "функция listsum\n",
      "тип результата: <class 'list'>, тип функции: <class 'function'>\n",
      "oперации доступные функции ['__annotations__', '__builtins__', '__call__', '__class__', '__closure__', '__code__', '__defaults__', '__delattr__', '__dict__', '__dir__', '__doc__', '__eq__', '__format__', '__ge__', '__get__', '__getattribute__', '__getstate__', '__globals__', '__gt__', '__hash__', '__init__', '__init_subclass__', '__kwdefaults__', '__le__', '__lt__', '__module__', '__name__', '__ne__', '__new__', '__qualname__', '__reduce__', '__reduce_ex__', '__repr__', '__setattr__', '__sizeof__', '__str__', '__subclasshook__', '__type_params__']\n",
      "результат функции: [1, 2, 3, 1, 2, 3]\n",
      "Операции доступные результату функции: ['__add__', '__class__', '__class_getitem__', '__contains__', '__delattr__', '__delitem__', '__dir__', '__doc__', '__eq__', '__format__', '__ge__', '__getattribute__', '__getitem__', '__getstate__', '__gt__', '__hash__', '__iadd__', '__imul__', '__init__', '__init_subclass__', '__iter__', '__le__', '__len__', '__lt__', '__mul__', '__ne__', '__new__', '__reduce__', '__reduce_ex__', '__repr__', '__reversed__', '__rmul__', '__setattr__', '__setitem__', '__sizeof__', '__str__', '__subclasshook__', 'append', 'clear', 'copy', 'count', 'extend', 'index', 'insert', 'pop', 'remove', 'reverse', 'sort']\n"
     ]
    }
   ],
   "source": [
    "def _listcheck(list_) -> list:\n",
    "    \"\"\"\n",
    "    проверка на то, что введен лист\n",
    "    \"\"\"\n",
    "    if isinstance(list_, list) and hasattr(list_,'__add__'):\n",
    "        return list_\n",
    "    else:\n",
    "        raise TypeError(\"введен не тип данных лист или нельзя провести операцию сложения\")\n",
    "    \n",
    "\n",
    "def listsum(list_) -> list:\n",
    "    \"\"\"\n",
    "    сложение изначально созданного листа с листом, введеным пользователем\n",
    "    \"\"\"\n",
    "    list1 = _listcheck(list_)\n",
    "\n",
    "    list2= [1,2,3] \n",
    "\n",
    "    if not isinstance(list1, list):\n",
    "        raise TypeError (\"агрумент не лист\")\n",
    "    try:\n",
    "        return list1+list2\n",
    "    except ValueError:\n",
    "        raise TypeError(\"грумент не лист\")\n",
    "\n",
    "\n",
    "\n",
    "print (\"*** Блок вывода***\")\n",
    "print (\"функция listsum\")\n",
    "qaz=listsum([1,2,3])\n",
    "print (f\"тип результата: {type(qaz)}, тип функции: {type(listsum)}\")\n",
    "print (f\"oперации доступные функции {dir(listsum)}\")\n",
    "print (f\"результат функции: {qaz}\")\n",
    "print (f\"Операции доступные результату функции: {dir(qaz)}\")"
   ]
  },
  {
   "cell_type": "markdown",
   "metadata": {},
   "source": [
    "# Задание от 18.03.2025"
   ]
  },
  {
   "cell_type": "markdown",
   "metadata": {},
   "source": [
    "https://www.youtube.com/watch?v=qijWKOJ8QIc&t=3s\n",
    "\n",
    "\n",
    "Здравствуйте, вот мое дз. Я каждый раз стараюсь выделять обильное количество времени на исключения , но , видимо, этого мало, может можете подсказать какие-то паттерны , которым стоит следовать, чтобы получать их побольше?\n",
    "\n",
    "\n"
   ]
  },
  {
   "cell_type": "markdown",
   "metadata": {},
   "source": [
    "# Задание 1.\n",
    "\n",
    "Какие аргументы можно передовать в параметры(это нужно считать сразу).\n",
    "''...2....[]....\n",
    "param = \"\"\n",
    "\n",
    "# (Подвел итог ниже, через исключения) "
   ]
  },
  {
   "cell_type": "code",
   "execution_count": 57,
   "metadata": {},
   "outputs": [],
   "source": [
    "def render(request, template_name, context=None, content_type=None, status=None, using=None):\n",
    "    pass\n",
    "\n",
    "    "
   ]
  },
  {
   "cell_type": "code",
   "execution_count": 58,
   "metadata": {},
   "outputs": [
    {
     "ename": "SyntaxError",
     "evalue": "parameter without a default follows parameter with a default (682190197.py, line 1)",
     "output_type": "error",
     "traceback": [
      "\u001b[0;36m  Cell \u001b[0;32mIn[58], line 1\u001b[0;36m\u001b[0m\n\u001b[0;31m    def render(request, template_name, context=None, content_type=None, status=None, using=None, template_name1):\u001b[0m\n\u001b[0m                                                                                                 ^\u001b[0m\n\u001b[0;31mSyntaxError\u001b[0m\u001b[0;31m:\u001b[0m parameter without a default follows parameter with a default\n"
     ]
    }
   ],
   "source": [
    "def render(request, template_name, context=None, content_type=None, status=None, using=None, template_name1):\n",
    "    pass\n",
    "\n",
    "    "
   ]
  },
  {
   "cell_type": "markdown",
   "metadata": {},
   "source": [
    "исключение возникло потому что обязательные параметры должны идти в начале функтора"
   ]
  },
  {
   "cell_type": "code",
   "execution_count": 59,
   "metadata": {},
   "outputs": [],
   "source": [
    "def render1(request, template_name, template_name1, context=None, content_type=None, status=None, using=None):\n",
    "    pass\n",
    "\n",
    "    "
   ]
  },
  {
   "cell_type": "code",
   "execution_count": 67,
   "metadata": {},
   "outputs": [
    {
     "ename": "TypeError",
     "evalue": "render1() missing 2 required positional arguments: 'template_name' and 'template_name1'",
     "output_type": "error",
     "traceback": [
      "\u001b[0;31m---------------------------------------------------------------------------\u001b[0m",
      "\u001b[0;31mTypeError\u001b[0m                                 Traceback (most recent call last)",
      "Cell \u001b[0;32mIn[67], line 1\u001b[0m\n\u001b[0;32m----> 1\u001b[0m \u001b[43mrender1\u001b[49m\u001b[43m(\u001b[49m\u001b[38;5;241;43m2\u001b[39;49m\u001b[43m)\u001b[49m\n",
      "\u001b[0;31mTypeError\u001b[0m: render1() missing 2 required positional arguments: 'template_name' and 'template_name1'"
     ]
    }
   ],
   "source": [
    "render1(2)"
   ]
  },
  {
   "cell_type": "code",
   "execution_count": 68,
   "metadata": {},
   "outputs": [
    {
     "ename": "TypeError",
     "evalue": "render1() missing 1 required positional argument: 'template_name1'",
     "output_type": "error",
     "traceback": [
      "\u001b[0;31m---------------------------------------------------------------------------\u001b[0m",
      "\u001b[0;31mTypeError\u001b[0m                                 Traceback (most recent call last)",
      "Cell \u001b[0;32mIn[68], line 1\u001b[0m\n\u001b[0;32m----> 1\u001b[0m \u001b[43mrender1\u001b[49m\u001b[43m(\u001b[49m\u001b[38;5;241;43m2\u001b[39;49m\u001b[43m,\u001b[49m\u001b[38;5;241;43m2\u001b[39;49m\u001b[43m)\u001b[49m\n",
      "\u001b[0;31mTypeError\u001b[0m: render1() missing 1 required positional argument: 'template_name1'"
     ]
    }
   ],
   "source": [
    "render1(2,2)"
   ]
  },
  {
   "cell_type": "code",
   "execution_count": 69,
   "metadata": {},
   "outputs": [],
   "source": [
    "def render2(request, template_name, template_name1='1', context=None, content_type=None, status=None, using=None):\n",
    "    pass\n",
    "\n",
    "    "
   ]
  },
  {
   "cell_type": "code",
   "execution_count": 70,
   "metadata": {},
   "outputs": [],
   "source": [
    "render2(1,2)"
   ]
  },
  {
   "cell_type": "markdown",
   "metadata": {},
   "source": [
    "# Итог:\n",
    "\n",
    "из того, что я написал выше следует, что позиционные параметры должны быть записаны в самом начале параметров.\n",
    "И обязательными параметрами считаются те, которым не присвоено никакого значения(получается, что это только позиционные параметры). Если рассудить логически, то когда параметру не присвоено значение, то оно должно откуда-то взяться, потому что параметр без значения в программе не нужен(значение может быть даже пустым, как условный \"none\") => позиционные параметры без значения, потому что значение нужно обязательно ввести, а именованные параметры это уже не обязательные параметры, потому что у именованых параметров уже есть значение."
   ]
  },
  {
   "cell_type": "code",
   "execution_count": 4,
   "metadata": {},
   "outputs": [],
   "source": [
    "render(2, template_name=3)"
   ]
  },
  {
   "cell_type": "code",
   "execution_count": 5,
   "metadata": {},
   "outputs": [
    {
     "ename": "SyntaxError",
     "evalue": "positional argument follows keyword argument (3043228477.py, line 1)",
     "output_type": "error",
     "traceback": [
      "\u001b[0;36m  Cell \u001b[0;32mIn[5], line 1\u001b[0;36m\u001b[0m\n\u001b[0;31m    render(request = 2, 3)\u001b[0m\n\u001b[0m                         ^\u001b[0m\n\u001b[0;31mSyntaxError\u001b[0m\u001b[0;31m:\u001b[0m positional argument follows keyword argument\n"
     ]
    }
   ],
   "source": [
    "render(request = 2, 3)"
   ]
  },
  {
   "cell_type": "code",
   "execution_count": 71,
   "metadata": {},
   "outputs": [],
   "source": [
    "def render(request, /, template_name, context=None, content_type=None, status=None, using=None):\n",
    "    pass"
   ]
  },
  {
   "cell_type": "code",
   "execution_count": 72,
   "metadata": {},
   "outputs": [],
   "source": [
    "render(1,2)"
   ]
  },
  {
   "cell_type": "code",
   "execution_count": 73,
   "metadata": {},
   "outputs": [
    {
     "ename": "TypeError",
     "evalue": "render() got some positional-only arguments passed as keyword arguments: 'request'",
     "output_type": "error",
     "traceback": [
      "\u001b[0;31m---------------------------------------------------------------------------\u001b[0m",
      "\u001b[0;31mTypeError\u001b[0m                                 Traceback (most recent call last)",
      "Cell \u001b[0;32mIn[73], line 1\u001b[0m\n\u001b[0;32m----> 1\u001b[0m \u001b[43mrender\u001b[49m\u001b[43m(\u001b[49m\u001b[43mrequest\u001b[49m\u001b[38;5;241;43m=\u001b[39;49m\u001b[38;5;241;43m1\u001b[39;49m\u001b[43m,\u001b[49m\u001b[43m \u001b[49m\u001b[43mtemplate_name\u001b[49m\u001b[38;5;241;43m=\u001b[39;49m\u001b[38;5;241;43m2\u001b[39;49m\u001b[43m)\u001b[49m\n",
      "\u001b[0;31mTypeError\u001b[0m: render() got some positional-only arguments passed as keyword arguments: 'request'"
     ]
    }
   ],
   "source": [
    "render(request=1, template_name=2)"
   ]
  },
  {
   "cell_type": "markdown",
   "metadata": {},
   "source": [
    "исключение возникло потому что все что идет до знака / , является позиционным параметром, а ввести в него значение пытаются через именованный аргумент."
   ]
  },
  {
   "cell_type": "markdown",
   "metadata": {},
   "source": [
    "# Задание 3.\n",
    "\n",
    "https://docs.python.org/3/glossary.html#term-sequence\n",
    "\n",
    "https://docs.python.org/3/library/stdtypes.html#sequence-types-list-tuple-range\n",
    "\n",
    "https://docs.python.org/3/library/stdtypes.html#lists\n",
    "\n",
    "https://docs.python.org/3/tutorial/datastructures.html#data-structures\n",
    "\n",
    "Подсчитать все предметы. - len() - применить (получить исключения)\n"
   ]
  },
  {
   "cell_type": "code",
   "execution_count": 1,
   "metadata": {},
   "outputs": [
    {
     "name": "stdout",
     "output_type": "stream",
     "text": [
      "3\n"
     ]
    }
   ],
   "source": [
    "a = (1,2,3)\n",
    "\n",
    "print (len(a))"
   ]
  },
  {
   "cell_type": "code",
   "execution_count": 2,
   "metadata": {},
   "outputs": [
    {
     "name": "stdout",
     "output_type": "stream",
     "text": [
      "3\n"
     ]
    }
   ],
   "source": [
    "b = (a,2,'list')\n",
    "\n",
    "print(len(b))"
   ]
  },
  {
   "cell_type": "code",
   "execution_count": 4,
   "metadata": {},
   "outputs": [
    {
     "name": "stdout",
     "output_type": "stream",
     "text": [
      "((1, 2, 3), ((1, 2, 3), 2, 'list'))\n",
      "2\n"
     ]
    }
   ],
   "source": [
    "c= (a,b)\n",
    "\n",
    "print(c)\n",
    "\n",
    "print(len(c))"
   ]
  },
  {
   "cell_type": "code",
   "execution_count": 5,
   "metadata": {},
   "outputs": [
    {
     "ename": "TypeError",
     "evalue": "object of type 'function' has no len()",
     "output_type": "error",
     "traceback": [
      "\u001b[0;31m---------------------------------------------------------------------------\u001b[0m",
      "\u001b[0;31mTypeError\u001b[0m                                 Traceback (most recent call last)",
      "Cell \u001b[0;32mIn[5], line 4\u001b[0m\n\u001b[1;32m      1\u001b[0m \u001b[38;5;28;01mdef\u001b[39;00m \u001b[38;5;21mlentt\u001b[39m():\n\u001b[1;32m      2\u001b[0m     \u001b[38;5;28;01mpass\u001b[39;00m\n\u001b[0;32m----> 4\u001b[0m \u001b[38;5;28mprint\u001b[39m(\u001b[38;5;28;43mlen\u001b[39;49m\u001b[43m(\u001b[49m\u001b[43mlentt\u001b[49m\u001b[43m)\u001b[49m)\n",
      "\u001b[0;31mTypeError\u001b[0m: object of type 'function' has no len()"
     ]
    }
   ],
   "source": [
    "def lentt():\n",
    "    pass\n",
    "\n",
    "print(len(lentt))"
   ]
  },
  {
   "cell_type": "markdown",
   "metadata": {},
   "source": [
    "исключение возникло потому, что к типу функция нельзя применить метод len"
   ]
  },
  {
   "cell_type": "code",
   "execution_count": 15,
   "metadata": {},
   "outputs": [
    {
     "ename": "TypeError",
     "evalue": "object of type 'type' has no len()",
     "output_type": "error",
     "traceback": [
      "\u001b[0;31m---------------------------------------------------------------------------\u001b[0m",
      "\u001b[0;31mTypeError\u001b[0m                                 Traceback (most recent call last)",
      "Cell \u001b[0;32mIn[15], line 4\u001b[0m\n\u001b[1;32m      1\u001b[0m \u001b[38;5;28;01mclass\u001b[39;00m \u001b[38;5;21;01mtest\u001b[39;00m:\n\u001b[1;32m      2\u001b[0m     \u001b[38;5;28;01mpass\u001b[39;00m\n\u001b[0;32m----> 4\u001b[0m \u001b[38;5;28mprint\u001b[39m(\u001b[38;5;28;43mlen\u001b[39;49m\u001b[43m(\u001b[49m\u001b[43mtest\u001b[49m\u001b[43m)\u001b[49m)\n",
      "\u001b[0;31mTypeError\u001b[0m: object of type 'type' has no len()"
     ]
    }
   ],
   "source": [
    "class test:\n",
    "    pass\n",
    "\n",
    "print(len(test))"
   ]
  },
  {
   "cell_type": "markdown",
   "metadata": {},
   "source": [
    "исключение появилось потому что для типа \"тип\" нет метода len"
   ]
  },
  {
   "cell_type": "code",
   "execution_count": 6,
   "metadata": {},
   "outputs": [
    {
     "ename": "TypeError",
     "evalue": "object of type 'int' has no len()",
     "output_type": "error",
     "traceback": [
      "\u001b[0;31m---------------------------------------------------------------------------\u001b[0m",
      "\u001b[0;31mTypeError\u001b[0m                                 Traceback (most recent call last)",
      "Cell \u001b[0;32mIn[6], line 3\u001b[0m\n\u001b[1;32m      1\u001b[0m d \u001b[38;5;241m=\u001b[39m \u001b[38;5;241m15\u001b[39m\n\u001b[0;32m----> 3\u001b[0m \u001b[38;5;28mprint\u001b[39m (\u001b[38;5;28;43mlen\u001b[39;49m\u001b[43m(\u001b[49m\u001b[43md\u001b[49m\u001b[43m)\u001b[49m)\n",
      "\u001b[0;31mTypeError\u001b[0m: object of type 'int' has no len()"
     ]
    }
   ],
   "source": [
    "d = 15\n",
    "\n",
    "print (len(d))"
   ]
  },
  {
   "cell_type": "markdown",
   "metadata": {},
   "source": [
    "исключение возникло потому, что метод len не подходит для типа данных int, он подходит только для листа, последовательности и словаря"
   ]
  },
  {
   "cell_type": "code",
   "execution_count": 8,
   "metadata": {},
   "outputs": [
    {
     "name": "stdout",
     "output_type": "stream",
     "text": [
      "4\n"
     ]
    }
   ],
   "source": [
    "e = 'strr'\n",
    "\n",
    "print(len(e))"
   ]
  },
  {
   "cell_type": "code",
   "execution_count": 12,
   "metadata": {},
   "outputs": [
    {
     "name": "stdout",
     "output_type": "stream",
     "text": [
      "2\n"
     ]
    }
   ],
   "source": [
    "f = [1,4,6,2,8], (1)\n",
    "\n",
    "print( len(f))"
   ]
  },
  {
   "cell_type": "markdown",
   "metadata": {},
   "source": [
    "Извлечение по срезам - применить. вам нужно извлесь 2 первых.(получить исключения)\n",
    "\n",
    "picnic = [\"сигареты\", \"мясо\", \"шампуры\", \"мангал\"]\n",
    "            0            1        2         3"
   ]
  },
  {
   "cell_type": "code",
   "execution_count": 9,
   "metadata": {},
   "outputs": [
    {
     "name": "stdout",
     "output_type": "stream",
     "text": [
      "['сигареты', 'мясо']\n"
     ]
    }
   ],
   "source": [
    "picnic = [\"сигареты\", \"мясо\", \"шампуры\", \"мангал\"]\n",
    "\n",
    "print(picnic[:2])"
   ]
  },
  {
   "cell_type": "code",
   "execution_count": 20,
   "metadata": {},
   "outputs": [
    {
     "name": "stdout",
     "output_type": "stream",
     "text": [
      "['мясо']\n"
     ]
    }
   ],
   "source": [
    "slice2=picnic[1:2]\n",
    "print(slice2)"
   ]
  },
  {
   "cell_type": "code",
   "execution_count": 25,
   "metadata": {},
   "outputs": [
    {
     "name": "stdout",
     "output_type": "stream",
     "text": [
      "['сигареты', 'мясо']\n",
      "шампуры\n"
     ]
    }
   ],
   "source": [
    "picnic1=picnic[2:]\n",
    "slice3= picnic[:len(picnic1)]\n",
    "\n",
    "print(slice3)\n",
    "print(max(picnic))"
   ]
  },
  {
   "cell_type": "code",
   "execution_count": null,
   "metadata": {},
   "outputs": [
    {
     "ename": "TypeError",
     "evalue": "slice indices must be integers or None or have an __index__ method",
     "output_type": "error",
     "traceback": [
      "\u001b[0;31m---------------------------------------------------------------------------\u001b[0m",
      "\u001b[0;31mTypeError\u001b[0m                                 Traceback (most recent call last)",
      "Cell \u001b[0;32mIn[11], line 1\u001b[0m\n\u001b[0;32m----> 1\u001b[0m \u001b[38;5;28mprint\u001b[39m(\u001b[43mpicnic\u001b[49m\u001b[43m[\u001b[49m\u001b[43m:\u001b[49m\u001b[38;5;124;43m'\u001b[39;49m\u001b[38;5;124;43mtwo\u001b[39;49m\u001b[38;5;124;43m'\u001b[39;49m\u001b[43m]\u001b[49m)\n",
      "\u001b[0;31mTypeError\u001b[0m: slice indices must be integers or None or have an __index__ method"
     ]
    }
   ],
   "source": [
    "print(picnic[:'two'])"
   ]
  },
  {
   "cell_type": "markdown",
   "metadata": {},
   "source": [
    "исключение возникло потому что для среза нужно передавать значения типа int или none или метод `__index__`"
   ]
  },
  {
   "cell_type": "code",
   "execution_count": 22,
   "metadata": {},
   "outputs": [
    {
     "name": "stdout",
     "output_type": "stream",
     "text": [
      "[]\n"
     ]
    }
   ],
   "source": [
    "print(picnic[2:2])"
   ]
  },
  {
   "cell_type": "markdown",
   "metadata": {},
   "source": [
    "\n",
    "Итерации = что это.(техническим языком) Почитать и применить цикл for\n",
    "\n",
    "Итерация это последовательный перебор членов объекта по одному , что и делает for "
   ]
  },
  {
   "cell_type": "code",
   "execution_count": 2,
   "metadata": {},
   "outputs": [
    {
     "name": "stdout",
     "output_type": "stream",
     "text": [
      "введите слово , в котором вы хотите посчитать количество букв, а так же вывести их по одному \n",
      "количетво букв = 3\n",
      "c\n",
      "a\n",
      "t\n"
     ]
    }
   ],
   "source": [
    "print('введите слово , в котором вы хотите посчитать количество букв, а так же вывести их по одному ')\n",
    "\n",
    "def cycle_for_1(param1):\n",
    "\n",
    "    print('количетво букв =',len(param1)) #метод len нужен для того, чтобы \n",
    "    for letter in  param1:\n",
    "        print(letter)\n",
    "    \n",
    "\n",
    "\n",
    "cycle_for_1('cat')\n"
   ]
  },
  {
   "cell_type": "markdown",
   "metadata": {},
   "source": [
    "Применить методы, минимум 4-5 и пояснить смысл, как вы это делаете.\n",
    "\n",
    "Получить исключения."
   ]
  },
  {
   "cell_type": "code",
   "execution_count": 42,
   "metadata": {},
   "outputs": [
    {
     "name": "stdout",
     "output_type": "stream",
     "text": [
      "[1, 2, 3, 4]\n"
     ]
    }
   ],
   "source": [
    "qwe=[1,2,3]\n",
    "qwe.append(4)\n",
    "\n",
    "print (qwe)"
   ]
  },
  {
   "cell_type": "markdown",
   "metadata": {},
   "source": [
    "метод append добавляет значение в конец массива"
   ]
  },
  {
   "cell_type": "code",
   "execution_count": 29,
   "metadata": {},
   "outputs": [
    {
     "ename": "AttributeError",
     "evalue": "'str' object has no attribute 'append'",
     "output_type": "error",
     "traceback": [
      "\u001b[0;31m---------------------------------------------------------------------------\u001b[0m",
      "\u001b[0;31mAttributeError\u001b[0m                            Traceback (most recent call last)",
      "Cell \u001b[0;32mIn[29], line 2\u001b[0m\n\u001b[1;32m      1\u001b[0m qwe1\u001b[38;5;241m=\u001b[39m\u001b[38;5;124m'\u001b[39m\u001b[38;5;124mhell\u001b[39m\u001b[38;5;124m'\u001b[39m\n\u001b[0;32m----> 2\u001b[0m \u001b[43mqwe1\u001b[49m\u001b[38;5;241;43m.\u001b[39;49m\u001b[43mappend\u001b[49m(\u001b[38;5;124m'\u001b[39m\u001b[38;5;124mo\u001b[39m\u001b[38;5;124m'\u001b[39m)\n\u001b[1;32m      4\u001b[0m \u001b[38;5;28mprint\u001b[39m (qwe1)\n",
      "\u001b[0;31mAttributeError\u001b[0m: 'str' object has no attribute 'append'"
     ]
    }
   ],
   "source": [
    "qwe1='hell'\n",
    "qwe1.append('o')\n",
    "\n",
    "print (qwe1)"
   ]
  },
  {
   "cell_type": "markdown",
   "metadata": {},
   "source": [
    "исключение появилось, потому что метод работает только с массивами, а не со строками"
   ]
  },
  {
   "cell_type": "code",
   "execution_count": 33,
   "metadata": {},
   "outputs": [
    {
     "data": {
      "text/plain": [
       "3"
      ]
     },
     "execution_count": 33,
     "metadata": {},
     "output_type": "execute_result"
    }
   ],
   "source": [
    "qwe.index(4)"
   ]
  },
  {
   "cell_type": "markdown",
   "metadata": {},
   "source": [
    "метод index выводит значение объекта по индексу"
   ]
  },
  {
   "cell_type": "code",
   "execution_count": 34,
   "metadata": {},
   "outputs": [
    {
     "ename": "ValueError",
     "evalue": "5 is not in list",
     "output_type": "error",
     "traceback": [
      "\u001b[0;31m---------------------------------------------------------------------------\u001b[0m",
      "\u001b[0;31mValueError\u001b[0m                                Traceback (most recent call last)",
      "Cell \u001b[0;32mIn[34], line 1\u001b[0m\n\u001b[0;32m----> 1\u001b[0m \u001b[43mqwe\u001b[49m\u001b[38;5;241;43m.\u001b[39;49m\u001b[43mindex\u001b[49m\u001b[43m(\u001b[49m\u001b[38;5;241;43m5\u001b[39;49m\u001b[43m)\u001b[49m\n",
      "\u001b[0;31mValueError\u001b[0m: 5 is not in list"
     ]
    }
   ],
   "source": [
    "qwe.index(5)"
   ]
  },
  {
   "cell_type": "markdown",
   "metadata": {},
   "source": [
    "исключение возникло потому что в объекте нет значение с присвоеным индексом 5"
   ]
  },
  {
   "cell_type": "code",
   "execution_count": 43,
   "metadata": {},
   "outputs": [
    {
     "name": "stdout",
     "output_type": "stream",
     "text": [
      "[2, 3, 4]\n"
     ]
    }
   ],
   "source": [
    "qwe.remove(1)\n",
    "print(qwe)"
   ]
  },
  {
   "cell_type": "code",
   "execution_count": 45,
   "metadata": {},
   "outputs": [
    {
     "ename": "ValueError",
     "evalue": "list.remove(x): x not in list",
     "output_type": "error",
     "traceback": [
      "\u001b[0;31m---------------------------------------------------------------------------\u001b[0m",
      "\u001b[0;31mValueError\u001b[0m                                Traceback (most recent call last)",
      "Cell \u001b[0;32mIn[45], line 1\u001b[0m\n\u001b[0;32m----> 1\u001b[0m \u001b[38;5;28mprint\u001b[39m(\u001b[43mqwe\u001b[49m\u001b[38;5;241;43m.\u001b[39;49m\u001b[43mremove\u001b[49m\u001b[43m(\u001b[49m\u001b[38;5;241;43m0\u001b[39;49m\u001b[43m)\u001b[49m)\n",
      "\u001b[0;31mValueError\u001b[0m: list.remove(x): x not in list"
     ]
    }
   ],
   "source": [
    "print(qwe.remove(0))"
   ]
  },
  {
   "cell_type": "markdown",
   "metadata": {},
   "source": [
    "исключение возникло потому что в списке нет объекта с значением 0"
   ]
  },
  {
   "cell_type": "code",
   "execution_count": 54,
   "metadata": {},
   "outputs": [
    {
     "data": {
      "text/plain": [
       "2"
      ]
     },
     "execution_count": 54,
     "metadata": {},
     "output_type": "execute_result"
    }
   ],
   "source": [
    "qwe2=[1,1,2,3,4,'a']\n",
    "qwe2.count(1)"
   ]
  },
  {
   "cell_type": "markdown",
   "metadata": {},
   "source": [
    "метод count нужен для того, чтобы вывести количество нужного значения в объекте с типом list"
   ]
  },
  {
   "cell_type": "code",
   "execution_count": 53,
   "metadata": {},
   "outputs": [
    {
     "ename": "TypeError",
     "evalue": "list.count() takes exactly one argument (2 given)",
     "output_type": "error",
     "traceback": [
      "\u001b[0;31m---------------------------------------------------------------------------\u001b[0m",
      "\u001b[0;31mTypeError\u001b[0m                                 Traceback (most recent call last)",
      "Cell \u001b[0;32mIn[53], line 1\u001b[0m\n\u001b[0;32m----> 1\u001b[0m \u001b[43mqwe2\u001b[49m\u001b[38;5;241;43m.\u001b[39;49m\u001b[43mcount\u001b[49m\u001b[43m(\u001b[49m\u001b[38;5;124;43m'\u001b[39;49m\u001b[38;5;124;43ma\u001b[39;49m\u001b[38;5;124;43m'\u001b[39;49m\u001b[43m,\u001b[49m\u001b[38;5;241;43m1\u001b[39;49m\u001b[43m)\u001b[49m\n",
      "\u001b[0;31mTypeError\u001b[0m: list.count() takes exactly one argument (2 given)"
     ]
    }
   ],
   "source": [
    "qwe2.count('a',1)"
   ]
  },
  {
   "cell_type": "markdown",
   "metadata": {},
   "source": [
    "исключение возникло потому что метод  count принимает только один аргумент"
   ]
  },
  {
   "cell_type": "code",
   "execution_count": 52,
   "metadata": {},
   "outputs": [
    {
     "name": "stdout",
     "output_type": "stream",
     "text": [
      "None\n"
     ]
    }
   ],
   "source": [
    "print(qwe2.clear())"
   ]
  },
  {
   "cell_type": "markdown",
   "metadata": {},
   "source": [
    "метод clear служит для того, чтобы очистить лист "
   ]
  },
  {
   "cell_type": "code",
   "execution_count": 55,
   "metadata": {},
   "outputs": [
    {
     "ename": "TypeError",
     "evalue": "list.clear() takes no arguments (1 given)",
     "output_type": "error",
     "traceback": [
      "\u001b[0;31m---------------------------------------------------------------------------\u001b[0m",
      "\u001b[0;31mTypeError\u001b[0m                                 Traceback (most recent call last)",
      "Cell \u001b[0;32mIn[55], line 1\u001b[0m\n\u001b[0;32m----> 1\u001b[0m \u001b[38;5;28mprint\u001b[39m(\u001b[43mqwe2\u001b[49m\u001b[38;5;241;43m.\u001b[39;49m\u001b[43mclear\u001b[49m\u001b[43m(\u001b[49m\u001b[38;5;241;43m2\u001b[39;49m\u001b[43m)\u001b[49m)\n",
      "\u001b[0;31mTypeError\u001b[0m: list.clear() takes no arguments (1 given)"
     ]
    }
   ],
   "source": [
    "print(qwe2.clear(2))"
   ]
  },
  {
   "cell_type": "markdown",
   "metadata": {},
   "source": [
    "исключение возникло потому что в синтаксисе метода не должно быть ни одного аргумента"
   ]
  },
  {
   "cell_type": "markdown",
   "metadata": {},
   "source": [
    "\n",
    "\n",
    "\n",
    "**чем отличается метод от функции?**\n",
    "\n",
    "метод это та же самая функция, только она находится в классе\n",
    "\n",
    "__main__ - что это?\n",
    "\n",
    "доки питон\n",
    "зайти на С++ main()\n",
    "\n",
    "\n",
    "\n",
    "\n",
    "\n"
   ]
  },
  {
   "cell_type": "markdown",
   "metadata": {},
   "source": [
    "**чем отличается метод от функции?**\n",
    "\n",
    "__main__ - что это?\n",
    "\n",
    "https://docs.python.org/3/library/__main__.html\n",
    "\n",
    "\n",
    "# поправьте если я не прав , правильно ли я понял, что такое модуль, а что такое метод ?:\n",
    "\n",
    "метод- просто функция(но она находится в классе), которую можно \"привентить\" к объекту: например \"list.append(7)\"\n",
    "\n",
    "модуль- файл в котором есть свое пространство имен и в нем есть свой набор функций, методов, классов и т.д.\n",
    "\n",
    "main, это модуль , с которого начинается программа, он импортирует другие модули , которые нужны программе."
   ]
  },
  {
   "cell_type": "code",
   "execution_count": 1,
   "metadata": {},
   "outputs": [
    {
     "data": {
      "text/plain": [
       "'__main__'"
      ]
     },
     "execution_count": 1,
     "metadata": {},
     "output_type": "execute_result"
    }
   ],
   "source": [
    "__name__"
   ]
  },
  {
   "cell_type": "markdown",
   "metadata": {},
   "source": [
    "На данном примере видно, что модуль name , который показывает  существующее название модуля, при отсутсвии какого либо кода выводит модуль main=> сначала запускается модуль  main, а потом все отсальное"
   ]
  },
  {
   "cell_type": "markdown",
   "metadata": {},
   "source": [
    "# я хочу посмотреть внутрь main , но не понимаю где я могу это сделать , можете подсказать?"
   ]
  },
  {
   "cell_type": "markdown",
   "metadata": {},
   "source": [
    "\n",
    "\n",
    "доки питон\n",
    "\n",
    "\n",
    "зайти на С++ main()\n",
    "\n",
    "https://cplusplus.com/doc/tutorial/program_structure/\n",
    "\n",
    "main это специальная функция, которая вызывается при запуске программы.Выполнение всех программ на C ++ начинается с функции main, независимо от того, где функция на самом деле находится в коде, она запуститься первой. \n",
    "\n",
    "\n",
    "\n",
    "\n",
    "\n",
    "\n"
   ]
  },
  {
   "cell_type": "code",
   "execution_count": 8,
   "metadata": {},
   "outputs": [],
   "source": [
    "picnic = [\"сигареты\", \"мясо\", \"шампуры\", \"мангал\"]\n",
    "             "
   ]
  },
  {
   "cell_type": "code",
   "execution_count": 9,
   "metadata": {},
   "outputs": [
    {
     "data": {
      "text/plain": [
       "['сигареты', 'мясо', 'шампуры', 'мангал']"
      ]
     },
     "execution_count": 9,
     "metadata": {},
     "output_type": "execute_result"
    }
   ],
   "source": [
    "picnic"
   ]
  },
  {
   "cell_type": "code",
   "execution_count": 11,
   "metadata": {},
   "outputs": [
    {
     "data": {
      "text/plain": [
       "['сигареты', 'мясо']"
      ]
     },
     "execution_count": 11,
     "metadata": {},
     "output_type": "execute_result"
    }
   ],
   "source": [
    "picnic[:2]"
   ]
  },
  {
   "cell_type": "code",
   "execution_count": 12,
   "metadata": {},
   "outputs": [],
   "source": [
    "picnic.append(\"спички\")"
   ]
  },
  {
   "cell_type": "code",
   "execution_count": 13,
   "metadata": {},
   "outputs": [
    {
     "data": {
      "text/plain": [
       "['сигареты', 'мясо', 'шампуры', 'мангал', 'спички']"
      ]
     },
     "execution_count": 13,
     "metadata": {},
     "output_type": "execute_result"
    }
   ],
   "source": [
    "picnic"
   ]
  },
  {
   "cell_type": "code",
   "execution_count": 1,
   "metadata": {},
   "outputs": [],
   "source": [
    "class A:\n",
    "    def first():\n",
    "        pass\n",
    "\n"
   ]
  },
  {
   "cell_type": "code",
   "execution_count": 2,
   "metadata": {},
   "outputs": [],
   "source": [
    "a = A\n",
    "b = A()"
   ]
  },
  {
   "cell_type": "code",
   "execution_count": 3,
   "metadata": {},
   "outputs": [
    {
     "data": {
      "text/plain": [
       "__main__.A"
      ]
     },
     "execution_count": 3,
     "metadata": {},
     "output_type": "execute_result"
    }
   ],
   "source": [
    "a"
   ]
  },
  {
   "cell_type": "code",
   "execution_count": 4,
   "metadata": {},
   "outputs": [
    {
     "data": {
      "text/plain": [
       "<function __main__.A.first()>"
      ]
     },
     "execution_count": 4,
     "metadata": {},
     "output_type": "execute_result"
    }
   ],
   "source": [
    "a.first"
   ]
  },
  {
   "cell_type": "code",
   "execution_count": 7,
   "metadata": {},
   "outputs": [],
   "source": [
    "a.first()"
   ]
  },
  {
   "cell_type": "code",
   "execution_count": 8,
   "metadata": {},
   "outputs": [
    {
     "data": {
      "text/plain": [
       "<__main__.A at 0x77ec365e4c80>"
      ]
     },
     "execution_count": 8,
     "metadata": {},
     "output_type": "execute_result"
    }
   ],
   "source": [
    "b"
   ]
  },
  {
   "cell_type": "code",
   "execution_count": 9,
   "metadata": {},
   "outputs": [
    {
     "data": {
      "text/plain": [
       "<bound method A.first of <__main__.A object at 0x77ec365e4c80>>"
      ]
     },
     "execution_count": 9,
     "metadata": {},
     "output_type": "execute_result"
    }
   ],
   "source": [
    "b.first"
   ]
  },
  {
   "cell_type": "code",
   "execution_count": 10,
   "metadata": {},
   "outputs": [
    {
     "ename": "TypeError",
     "evalue": "A.first() takes 0 positional arguments but 1 was given",
     "output_type": "error",
     "traceback": [
      "\u001b[0;31m---------------------------------------------------------------------------\u001b[0m",
      "\u001b[0;31mTypeError\u001b[0m                                 Traceback (most recent call last)",
      "Cell \u001b[0;32mIn[10], line 1\u001b[0m\n\u001b[0;32m----> 1\u001b[0m \u001b[43mb\u001b[49m\u001b[38;5;241;43m.\u001b[39;49m\u001b[43mfirst\u001b[49m\u001b[43m(\u001b[49m\u001b[43m)\u001b[49m\n",
      "\u001b[0;31mTypeError\u001b[0m: A.first() takes 0 positional arguments but 1 was given"
     ]
    }
   ],
   "source": [
    "b.first()"
   ]
  },
  {
   "cell_type": "markdown",
   "metadata": {},
   "source": [
    "# Задание от 26.03.2026\n",
    "\n",
    "С чего нужно начать изучение классов? \n",
    "\n",
    "Для этого нужно поставить правильный вопрос?\n",
    "\n",
    "у меня не получается поставить этот вопрос, поэтому я просто отвечу на \"С чего нужно начать изучение классов? \" в трех пунктах ниже\n",
    "\n",
    "Поставьте этот вопрос?\n",
    "И напишите три пункта ответа на этот вопрос:\n",
    "\n",
    "1 Простаранство имен\n",
    "2 тип\n",
    "3 атрибут"
   ]
  },
  {
   "cell_type": "markdown",
   "metadata": {},
   "source": [
    "пока не поинмаю, что тут написать, поэтому сделаю конспект того, что я прочитал:\n",
    "\n",
    "создание класса можно сравнить с созданием нового типа данных. т.е. при создании экземпляра определяется его функциональность \n",
    "\n",
    "\n",
    "self это ссылка на класс:"
   ]
  },
  {
   "cell_type": "code",
   "execution_count": 5,
   "metadata": {},
   "outputs": [
    {
     "data": {
      "text/plain": [
       "'vova'"
      ]
     },
     "execution_count": 5,
     "metadata": {},
     "output_type": "execute_result"
    }
   ],
   "source": [
    "class employees:\n",
    "    def __init__ (self, firstname: str ):\n",
    "        self.firstname = firstname \n",
    "    \n",
    "x= employees(\"vova\")\n",
    "\n",
    "x.firstname"
   ]
  },
  {
   "cell_type": "markdown",
   "metadata": {},
   "source": [
    " self служит как обращение . Потому что при условном создании экземпляра мы будем ссылаться на employees что показано в коде ниже"
   ]
  },
  {
   "cell_type": "code",
   "execution_count": null,
   "metadata": {},
   "outputs": [
    {
     "data": {
      "text/plain": [
       "'vova'"
      ]
     },
     "execution_count": 6,
     "metadata": {},
     "output_type": "execute_result"
    }
   ],
   "source": [
    "class employees:\n",
    "    def __init__ (employees, firstname: str ):\n",
    "        employees.firstname = firstname \n",
    "    \n",
    "x= employees(\"vova\") # создание экземпляра \n",
    "\n",
    "x.firstname # вывод имени экземпляра путем ссылания на класс"
   ]
  },
  {
   "cell_type": "markdown",
   "metadata": {},
   "source": [
    "\n",
    "\n",
    "у класса есть несколько пространств имен. А именно:\n",
    "- класса\n",
    "- экземпляра\n",
    "\n",
    "в класс можно заносить объекты через использование экземпляра.\n",
    "\n",
    "Экземпляр это \" отдельный элемент из списка \". К примеру , вот экземпляры инструментов:\n",
    "- молоток\n",
    "- перфоратор\n",
    "\n",
    "Атрибут это значение ассоциируемое с объектом, например: в a.b , b является атрибутом"
   ]
  },
  {
   "cell_type": "markdown",
   "metadata": {},
   "source": [
    "возвращаясь к примеру с перфоратором и молотком хочу попробовать изобразить это в виде класса:"
   ]
  },
  {
   "cell_type": "code",
   "execution_count": null,
   "metadata": {},
   "outputs": [
    {
     "name": "stdout",
     "output_type": "stream",
     "text": [
      " вывод имени экземпляра hammer, вывод второй переменной экземпляра которая отвечает за его действия ['smash']\n",
      " вывод имени экземпляра perforator, вывод второй переменной экземпляра, которая отвечает за его действия ['drill']\n"
     ]
    }
   ],
   "source": [
    "class tools: #создание класса инструменты\n",
    "\n",
    "    def __init__ (self, name: str): # создание гибкого добавления \n",
    "        self.name = name # переменная имени экземпляра \n",
    "        self.effects = [] # переменная эффекта этого же экземпляра\n",
    "        \n",
    "    def what_do(self, effect:str): # метод, который добавляет эффекты в определенный экземпляр\n",
    "        self.effects.append(effect)\n",
    "\n",
    "\n",
    "x = tools('hammer') # создание экземпляра класса\n",
    "x.what_do('smash') # добавление переменной определенному экземпляру \n",
    "\n",
    "y = tools('perforator')\n",
    "y.what_do('drill')\n",
    "\n",
    "print(f' вывод имени экземпляра {x.name}, вывод второй переменной экземпляра которая отвечает за его действия {x.effects}')\n",
    "      \n",
    "print(f' вывод имени экземпляра {y.name}, вывод второй переменной экземпляра, которая отвечает за его действия {y.effects}')"
   ]
  },
  {
   "cell_type": "markdown",
   "metadata": {},
   "source": [
    "У меня остается открытым вопрос в понимании того, зачем это все нужно (я не понимаю как применять написанное. Я могу занести данные, но для меня является загадкой примеенние этих вещей)\n",
    "\n",
    "тесто = яйцо.мука.вода"
   ]
  },
  {
   "cell_type": "markdown",
   "metadata": {},
   "source": [
    "объяснение ошибки со статьи про атрибут класса и атрибут экземпляра (тут я понял, что нужно еще дать определение атрибуту и экземпляру,что пока не знаю куда впишу), которую вы приводили в пример"
   ]
  },
  {
   "cell_type": "code",
   "execution_count": 1,
   "metadata": {},
   "outputs": [
    {
     "name": "stdout",
     "output_type": "stream",
     "text": [
      "вывод имени экземпляра hammer, вывод второй переменной экземпляра, которая отвечает за его действия ['smash', 'drill']\n"
     ]
    }
   ],
   "source": [
    "class tools: \n",
    "\n",
    "    effects = [] # создание перемеДля этого нужно поставить правильный вопрос?\n",
    "\n",
    "у меня не получается поставить этот вопрос, поэтому я просто отвечу на \"С чего нужно начать изучение классов? \" в трех пунктах ниже\n",
    "\n",
    "Поставьте этот вопрос? И напишите три пункта ответа на этот вопрос:\n",
    "\n",
    "1 Простаранство имен 2 тип 3 атрибутнной класса\n",
    "\n",
    "    def __init__(self,name: str):\n",
    "        self.name = name\n",
    "\n",
    "    def what_do(self,effect: str): # создание метода, который добавляет эффекты в класс инструменты, а не в определенный экземпляр\n",
    "        self.effects.append(effect)\n",
    "\n",
    "\n",
    "x =  tools('hammer')\n",
    "x.what_do('smash')\n",
    "\n",
    "y = tools('perforator')\n",
    "y.what_do('drill')\n",
    "\n",
    "print(f'вывод имени экземпляра {x.name}, вывод второй переменной экземпляра, которая отвечает за его действия {x.effects}')"
   ]
  },
  {
   "cell_type": "markdown",
   "metadata": {},
   "source": [
    "проблема в том, что эффекты соеденились, потому что они писались не для определенного инструмента(экземпляра), а для всего типа \"инструменты\""
   ]
  },
  {
   "cell_type": "code",
   "execution_count": 6,
   "metadata": {},
   "outputs": [],
   "source": [
    "class A:\n",
    "    def first():\n",
    "        pass"
   ]
  },
  {
   "cell_type": "code",
   "execution_count": 3,
   "metadata": {},
   "outputs": [],
   "source": [
    "a = A()"
   ]
  },
  {
   "cell_type": "code",
   "execution_count": 4,
   "metadata": {},
   "outputs": [
    {
     "data": {
      "text/plain": [
       "<bound method A.first of <__main__.A object at 0x7ad9bc11dd60>>"
      ]
     },
     "execution_count": 4,
     "metadata": {},
     "output_type": "execute_result"
    }
   ],
   "source": [
    "a.first"
   ]
  },
  {
   "cell_type": "code",
   "execution_count": 5,
   "metadata": {},
   "outputs": [
    {
     "ename": "TypeError",
     "evalue": "A.first() takes 0 positional arguments but 1 was given",
     "output_type": "error",
     "traceback": [
      "\u001b[0;31m---------------------------------------------------------------------------\u001b[0m",
      "\u001b[0;31mTypeError\u001b[0m                                 Traceback (most recent call last)",
      "Cell \u001b[0;32mIn[5], line 1\u001b[0m\n\u001b[0;32m----> 1\u001b[0m \u001b[43ma\u001b[49m\u001b[38;5;241;43m.\u001b[39;49m\u001b[43mfirst\u001b[49m\u001b[43m(\u001b[49m\u001b[43m)\u001b[49m\n",
      "\u001b[0;31mTypeError\u001b[0m: A.first() takes 0 positional arguments but 1 was given"
     ]
    }
   ],
   "source": [
    "a.first()"
   ]
  },
  {
   "cell_type": "code",
   "execution_count": 10,
   "metadata": {},
   "outputs": [],
   "source": [
    "class A1:\n",
    "    def first(param):\n",
    "        a = param + 5\n",
    "        return a"
   ]
  },
  {
   "cell_type": "code",
   "execution_count": 11,
   "metadata": {},
   "outputs": [],
   "source": [
    "a1 = A1()"
   ]
  },
  {
   "cell_type": "code",
   "execution_count": 12,
   "metadata": {},
   "outputs": [
    {
     "ename": "TypeError",
     "evalue": "unsupported operand type(s) for +: 'A1' and 'int'",
     "output_type": "error",
     "traceback": [
      "\u001b[0;31m---------------------------------------------------------------------------\u001b[0m",
      "\u001b[0;31mTypeError\u001b[0m                                 Traceback (most recent call last)",
      "Cell \u001b[0;32mIn[12], line 1\u001b[0m\n\u001b[0;32m----> 1\u001b[0m \u001b[43ma1\u001b[49m\u001b[38;5;241;43m.\u001b[39;49m\u001b[43mfirst\u001b[49m\u001b[43m(\u001b[49m\u001b[43m)\u001b[49m\n",
      "Cell \u001b[0;32mIn[10], line 3\u001b[0m, in \u001b[0;36mA1.first\u001b[0;34m(param)\u001b[0m\n\u001b[1;32m      2\u001b[0m \u001b[38;5;28;01mdef\u001b[39;00m \u001b[38;5;21mfirst\u001b[39m(param):\n\u001b[0;32m----> 3\u001b[0m     a \u001b[38;5;241m=\u001b[39m \u001b[43mparam\u001b[49m\u001b[43m \u001b[49m\u001b[38;5;241;43m+\u001b[39;49m\u001b[43m \u001b[49m\u001b[38;5;241;43m5\u001b[39;49m\n\u001b[1;32m      4\u001b[0m     \u001b[38;5;28;01mreturn\u001b[39;00m a\n",
      "\u001b[0;31mTypeError\u001b[0m: unsupported operand type(s) for +: 'A1' and 'int'"
     ]
    }
   ],
   "source": [
    "a1.first()"
   ]
  },
  {
   "cell_type": "code",
   "execution_count": 13,
   "metadata": {},
   "outputs": [],
   "source": [
    "class C:\n",
    "    def __init__(self, param1):\n",
    "        self.param1 = param1\n",
    "        \n",
    "    def first(self, param1, param2):\n",
    "        param = param1 + param2\n",
    "        return param\n",
    "        "
   ]
  },
  {
   "cell_type": "code",
   "execution_count": 19,
   "metadata": {},
   "outputs": [],
   "source": [
    "c = C\n",
    "c1 = C(1)"
   ]
  },
  {
   "cell_type": "code",
   "execution_count": 15,
   "metadata": {},
   "outputs": [
    {
     "data": {
      "text/plain": [
       "<function __main__.C.first(self, param1, param2)>"
      ]
     },
     "execution_count": 15,
     "metadata": {},
     "output_type": "execute_result"
    }
   ],
   "source": [
    "c.first"
   ]
  },
  {
   "cell_type": "code",
   "execution_count": 16,
   "metadata": {},
   "outputs": [
    {
     "ename": "TypeError",
     "evalue": "C.first() missing 3 required positional arguments: 'self', 'param1', and 'param2'",
     "output_type": "error",
     "traceback": [
      "\u001b[0;31m---------------------------------------------------------------------------\u001b[0m",
      "\u001b[0;31mTypeError\u001b[0m                                 Traceback (most recent call last)",
      "Cell \u001b[0;32mIn[16], line 1\u001b[0m\n\u001b[0;32m----> 1\u001b[0m \u001b[43mc\u001b[49m\u001b[38;5;241;43m.\u001b[39;49m\u001b[43mfirst\u001b[49m\u001b[43m(\u001b[49m\u001b[43m)\u001b[49m\n",
      "\u001b[0;31mTypeError\u001b[0m: C.first() missing 3 required positional arguments: 'self', 'param1', and 'param2'"
     ]
    }
   ],
   "source": [
    "c.first()"
   ]
  },
  {
   "cell_type": "code",
   "execution_count": 17,
   "metadata": {},
   "outputs": [
    {
     "data": {
      "text/plain": [
       "5"
      ]
     },
     "execution_count": 17,
     "metadata": {},
     "output_type": "execute_result"
    }
   ],
   "source": [
    "c.first(1, 2, 3)"
   ]
  },
  {
   "cell_type": "code",
   "execution_count": 20,
   "metadata": {},
   "outputs": [
    {
     "ename": "TypeError",
     "evalue": "C.first() missing 2 required positional arguments: 'param1' and 'param2'",
     "output_type": "error",
     "traceback": [
      "\u001b[0;31m---------------------------------------------------------------------------\u001b[0m",
      "\u001b[0;31mTypeError\u001b[0m                                 Traceback (most recent call last)",
      "Cell \u001b[0;32mIn[20], line 1\u001b[0m\n\u001b[0;32m----> 1\u001b[0m \u001b[43mc1\u001b[49m\u001b[38;5;241;43m.\u001b[39;49m\u001b[43mfirst\u001b[49m\u001b[43m(\u001b[49m\u001b[43m)\u001b[49m\n",
      "\u001b[0;31mTypeError\u001b[0m: C.first() missing 2 required positional arguments: 'param1' and 'param2'"
     ]
    }
   ],
   "source": [
    "c1.first()"
   ]
  },
  {
   "cell_type": "code",
   "execution_count": 21,
   "metadata": {},
   "outputs": [
    {
     "ename": "TypeError",
     "evalue": "C.first() takes 3 positional arguments but 4 were given",
     "output_type": "error",
     "traceback": [
      "\u001b[0;31m---------------------------------------------------------------------------\u001b[0m",
      "\u001b[0;31mTypeError\u001b[0m                                 Traceback (most recent call last)",
      "Cell \u001b[0;32mIn[21], line 1\u001b[0m\n\u001b[0;32m----> 1\u001b[0m \u001b[43mc1\u001b[49m\u001b[38;5;241;43m.\u001b[39;49m\u001b[43mfirst\u001b[49m\u001b[43m(\u001b[49m\u001b[38;5;241;43m1\u001b[39;49m\u001b[43m,\u001b[49m\u001b[43m \u001b[49m\u001b[38;5;241;43m2\u001b[39;49m\u001b[43m,\u001b[49m\u001b[43m \u001b[49m\u001b[38;5;241;43m3\u001b[39;49m\u001b[43m)\u001b[49m\n",
      "\u001b[0;31mTypeError\u001b[0m: C.first() takes 3 positional arguments but 4 were given"
     ]
    }
   ],
   "source": [
    "c1.first(1, 2, 3)"
   ]
  },
  {
   "cell_type": "markdown",
   "metadata": {},
   "source": [
    "# Задание от 4.04.2025"
   ]
  },
  {
   "cell_type": "markdown",
   "metadata": {},
   "source": [
    "### Задание 1.\n",
    "\n",
    "Что общего между классом, функцией методом и экземпляром.\n",
    "\n",
    "Написать в одном файле функцию, простой класс с методом и экземпляр.\n",
    "\n",
    "https://docs.python.org/3/reference/compound_stmts.html#function-definitions"
   ]
  },
  {
   "cell_type": "code",
   "execution_count": 3,
   "metadata": {},
   "outputs": [
    {
     "name": "stdout",
     "output_type": "stream",
     "text": [
      "9\n"
     ]
    },
    {
     "ename": "TypeError",
     "evalue": "can only concatenate str (not \"int\") to str",
     "output_type": "error",
     "traceback": [
      "\u001b[1;31m---------------------------------------------------------------------------\u001b[0m",
      "\u001b[1;31mTypeError\u001b[0m                                 Traceback (most recent call last)",
      "Cell \u001b[1;32mIn[3], line 5\u001b[0m\n\u001b[0;32m      2\u001b[0m     \u001b[38;5;28;01mreturn\u001b[39;00m a\u001b[38;5;241m+\u001b[39mb\n\u001b[0;32m      4\u001b[0m \u001b[38;5;28mprint\u001b[39m(func(\u001b[38;5;241m1\u001b[39m,\u001b[38;5;241m8\u001b[39m))\n\u001b[1;32m----> 5\u001b[0m \u001b[38;5;28mprint\u001b[39m(\u001b[43mfunc\u001b[49m\u001b[43m(\u001b[49m\u001b[38;5;124;43m\"\u001b[39;49m\u001b[38;5;124;43mone\u001b[39;49m\u001b[38;5;124;43m\"\u001b[39;49m\u001b[43m,\u001b[49m\u001b[38;5;241;43m8\u001b[39;49m\u001b[43m)\u001b[49m)\n",
      "Cell \u001b[1;32mIn[3], line 2\u001b[0m, in \u001b[0;36mfunc\u001b[1;34m(a, b)\u001b[0m\n\u001b[0;32m      1\u001b[0m \u001b[38;5;28;01mdef\u001b[39;00m\u001b[38;5;250m \u001b[39m\u001b[38;5;21mfunc\u001b[39m(a: \u001b[38;5;28mint\u001b[39m, b: \u001b[38;5;28mint\u001b[39m) \u001b[38;5;241m-\u001b[39m\u001b[38;5;241m>\u001b[39m \u001b[38;5;28mint\u001b[39m:\n\u001b[1;32m----> 2\u001b[0m     \u001b[38;5;28;01mreturn\u001b[39;00m \u001b[43ma\u001b[49m\u001b[38;5;241;43m+\u001b[39;49m\u001b[43mb\u001b[49m\n",
      "\u001b[1;31mTypeError\u001b[0m: can only concatenate str (not \"int\") to str"
     ]
    }
   ],
   "source": [
    "def func(a: int, b: int) -> int:\n",
    "    return a+b\n",
    "\n",
    "print(func(1,8))\n",
    "print(func(\"one\",8))"
   ]
  },
  {
   "cell_type": "code",
   "execution_count": null,
   "metadata": {},
   "outputs": [],
   "source": [
    "class testclass():\n",
    "\n",
    "    def __init__(self,param1: int,param2:int ) -> int:\n",
    "        self.param1 = param1\n",
    "        self.param2 = param2\n",
    "\n",
    "    def isinstance_(self,param1: int, param2: int)-> int:\n"
   ]
  },
  {
   "cell_type": "markdown",
   "metadata": {},
   "source": [
    "\n",
    "\n",
    "Общих вещей 2:\n",
    "\n",
    "это задание я уже делал , но попал ткнув пальцем в небо, поэтому постараюсь сформулировать сейчас:\n",
    "\n",
    "- (), служат для того, чтобы заставить выполнять что-либо. Например:"
   ]
  },
  {
   "cell_type": "code",
   "execution_count": 10,
   "metadata": {},
   "outputs": [
    {
     "name": "stdout",
     "output_type": "stream",
     "text": [
      "тип функции:<class 'function'>, значение фукнкции:<function function_1 at 0x000001A6BF2D6FC0>(не понял как, но вывелось значение ячейки памяти)\n",
      "тип функции:<class 'int'>, значение функции:8\n"
     ]
    }
   ],
   "source": [
    "def function_1():\n",
    "    return 8\n",
    "\n",
    "print(f'тип функции:{type(function_1)}, значение фукнкции:{function_1}(не понял почему, но вывелось значение ячейки памяти)')\n",
    "print(f'тип функции:{type(function_1())}, значение функции:{function_1()}')"
   ]
  },
  {
   "cell_type": "markdown",
   "metadata": {},
   "source": [
    "- исключения,они присущи для каких-то функциональных объектов. Потому что, для вызова обычной переменной не может быть исключений "
   ]
  },
  {
   "cell_type": "code",
   "execution_count": 16,
   "metadata": {},
   "outputs": [
    {
     "ename": "SyntaxError",
     "evalue": "invalid syntax (3570452609.py, line 1)",
     "output_type": "error",
     "traceback": [
      "\u001b[1;36m  Cell \u001b[1;32mIn[16], line 1\u001b[1;36m\u001b[0m\n\u001b[1;33m    int a = \"str\"\u001b[0m\n\u001b[1;37m        ^\u001b[0m\n\u001b[1;31mSyntaxError\u001b[0m\u001b[1;31m:\u001b[0m invalid syntax\n"
     ]
    }
   ],
   "source": [
    "int a = \"str\""
   ]
  },
  {
   "cell_type": "code",
   "execution_count": 17,
   "metadata": {},
   "outputs": [
    {
     "ename": "SyntaxError",
     "evalue": "invalid syntax (680585009.py, line 1)",
     "output_type": "error",
     "traceback": [
      "\u001b[1;36m  Cell \u001b[1;32mIn[17], line 1\u001b[1;36m\u001b[0m\n\u001b[1;33m    a int = \"str\"\u001b[0m\n\u001b[1;37m      ^\u001b[0m\n\u001b[1;31mSyntaxError\u001b[0m\u001b[1;31m:\u001b[0m invalid syntax\n"
     ]
    }
   ],
   "source": [
    "a int = \"str\""
   ]
  },
  {
   "cell_type": "markdown",
   "metadata": {},
   "source": [
    "Тут я хотел вывести исключение, но у меня получается только ошибка синтаксиса, которая говорит о том, что  так нельзя  писать, а не то, что это неверный тип данных."
   ]
  },
  {
   "cell_type": "markdown",
   "metadata": {},
   "source": [
    "\n",
    "### Задание 1.\n",
    "### ССылки, что это.\n",
    "\n",
    "Использовать поиск и все по ссылкам.\n",
    "\n",
    "что это\n",
    "\n",
    "Ссылка это объект, который указывает на определенные данные, но не хранит их.\n",
    "\n",
    "на что ссылаются\n",
    "\n",
    "ссылки ссылаются на объекты : такие как класс, функция, переменная и т.д.\n",
    "\n",
    "какие бывают объекты?\n",
    "\n",
    "изменяемые:\n",
    "- Списки (list)\n",
    "- Словари (dict)\n",
    "- Множества (set)\n",
    "\n",
    "\n",
    "неизменяемые:\n",
    "- Целые числа (int)\n",
    "- Вещественные числа (float)\n",
    "- Комплексные числа (complex)\n",
    "- Строки (str)\n",
    "- Кортежи (tuple)\n",
    "\n",
    "\n",
    "Что меняется при ссылках"
   ]
  },
  {
   "cell_type": "code",
   "execution_count": 13,
   "metadata": {},
   "outputs": [
    {
     "name": "stdout",
     "output_type": "stream",
     "text": [
      "место в памяти объекта x- 11754184,значение этого объекта 10\n",
      "место в памяти объекта y- 11754184,значение этого объекта 10\n",
      "место в памяти объекта y- 11754216,значение этого объекта 11\n",
      "место в памяти объекта x- 11754184,значение этого объекта 10\n",
      "здесь видно, как при изменении объекта(теперь x=12), создается новый объект, а не изменяется старый, потому что его место в памяти стало - 11754248,но в то же время ссылка на объект не изменилась\n"
     ]
    }
   ],
   "source": [
    "x = 10\n",
    "\n",
    "y = x\n",
    "\n",
    "print(f'место в памяти объекта x- {id(x)},значение этого объекта {x}')\n",
    "\n",
    "print(f'место в памяти объекта y- {id(y)},значение этого объекта {y}')\n",
    "\n",
    "y = x + 1 \n",
    "\n",
    "print(f'место в памяти объекта y- {id(y)},значение этого объекта {y}')\n",
    "\n",
    "print(f'место в памяти объекта x- {id(x)},значение этого объекта {x}')\n",
    "\n",
    "x+=2\n",
    "\n",
    "print(f'здесь видно, как при изменении объекта(теперь x={x}), создается новый объект, а не изменяется старый, потому что его место в памяти стало - {id(x)},но в то же время ссылка на объект не изменилась')\n"
   ]
  },
  {
   "cell_type": "code",
   "execution_count": 14,
   "metadata": {},
   "outputs": [
    {
     "name": "stdout",
     "output_type": "stream",
     "text": [
      "134200553556608 [1, 2, 3]\n",
      "на этом примере видно, как место в памяти для переменной не изменилось134200553556608, а объект изменился [1, 2, 3, 4]\n"
     ]
    }
   ],
   "source": [
    "q = [1,2,3]\n",
    "\n",
    "print(id(q),q)\n",
    "\n",
    "q.append(4)\n",
    "\n",
    "print(f'на этом примере видно, как место в памяти для переменной не изменилось{id(q)}, а объект изменился {q}')\n",
    "\n"
   ]
  },
  {
   "cell_type": "markdown",
   "metadata": {},
   "source": [
    "на этом примере видно, что объект изменяется, а не создается новый, потому что место в памяти осталось тем же самым"
   ]
  },
  {
   "cell_type": "markdown",
   "metadata": {},
   "source": [
    "\n",
    "\n",
    "### Задание 3.\n",
    "\n",
    "Правильное устройство класса.\n",
    "\n",
    "https://docs.python.org/3/reference/compound_stmts.html#class-definitions\n",
    "\n",
    "https://cplusplus.com/doc/tutorial/inheritance/\n",
    "\n",
    "Я не знаю, что написать про правильное устройство класса. Я зашел в https://docs.python.org/3/reference/compound_stmts.html#class-definitions, и увидел, что наследование в классе идет по умолчанию, поэтому напишу про него :\n",
    "\n",
    "В питоне есть изначальный класс , который называется object, он наследуется по умолчанию во все остальные классы. \n",
    "\n",
    "Пример наследования классов:"
   ]
  },
  {
   "cell_type": "code",
   "execution_count": 5,
   "metadata": {},
   "outputs": [
    {
     "ename": "AttributeError",
     "evalue": "'NoneType' object has no attribute 'area'",
     "output_type": "error",
     "traceback": [
      "\u001b[0;31m---------------------------------------------------------------------------\u001b[0m",
      "\u001b[0;31mAttributeError\u001b[0m                            Traceback (most recent call last)",
      "Cell \u001b[0;32mIn[5], line 13\u001b[0m\n\u001b[1;32m     10\u001b[0m         \u001b[38;5;28;01mreturn\u001b[39;00m width\u001b[38;5;241m*\u001b[39mheight\n\u001b[1;32m     12\u001b[0m x \u001b[38;5;241m=\u001b[39m triangle\u001b[38;5;241m.\u001b[39mvalues(\u001b[38;5;241m5\u001b[39m,\u001b[38;5;241m6\u001b[39m)\n\u001b[0;32m---> 13\u001b[0m y \u001b[38;5;241m=\u001b[39m \u001b[43mx\u001b[49m\u001b[38;5;241;43m.\u001b[39;49m\u001b[43marea\u001b[49m()\n\u001b[1;32m     15\u001b[0m \u001b[38;5;28mprint\u001b[39m (y)\n",
      "\u001b[0;31mAttributeError\u001b[0m: 'NoneType' object has no attribute 'area'"
     ]
    }
   ],
   "source": [
    "class figure:\n",
    "\n",
    "    def values(a, b, width=0,height=0) :\n",
    "        a = width\n",
    "        b = height\n",
    "\n",
    "\n",
    "class triangle(figure):\n",
    "    def area():\n",
    "        return width*height\n",
    "\n",
    "x = triangle.values(5,6)\n",
    "y = x.area()\n",
    "\n",
    "print (y)\n"
   ]
  },
  {
   "cell_type": "markdown",
   "metadata": {},
   "source": [
    "\n",
    "\n",
    "Правильное создание экземпляра.\n",
    "\n",
    "#### На этом моменте я потерялся, я не понимаю , что я должен писать в 3 задании. Можете дать ссылку откуда я должен копать, потому что я залез в наследование и не думаю, что это для меня, а информацию по правильному созданию экземпляра я даже не представляю где должен искать\n",
    "\n",
    "\n",
    "\n",
    "\n",
    "\n",
    "\n",
    "\n",
    "\n",
    "\n",
    "\n",
    "\n",
    "\n",
    "\n",
    "\n",
    "##### AAA Для меня. Объект первого класса, написание кода.\n",
    "##### ААА Атрибуты класса, атрибуты экземпляра в конце.\n",
    "#### Итерации серьёзнее.\n"
   ]
  },
  {
   "cell_type": "markdown",
   "metadata": {},
   "source": [
    "# Задание от 15.04.2025"
   ]
  },
  {
   "cell_type": "markdown",
   "metadata": {},
   "source": [
    "\n",
    "### Задание 1.\n",
    "\n",
    "Правильное устройство класса."
   ]
  },
  {
   "cell_type": "code",
   "execution_count": 13,
   "metadata": {},
   "outputs": [
    {
     "name": "stdout",
     "output_type": "stream",
     "text": [
      "['drive']\n",
      "['make_tent']\n"
     ]
    }
   ],
   "source": [
    "class todo_list:\n",
    "    def __init__(self, name: str):\n",
    "        self.name = name\n",
    "        self.case = []\n",
    "        \n",
    "    def add_case(self, case: str):\n",
    "        self.case.append(case)\n",
    "\n",
    "\n",
    "g = todo_list(\"Ivan\")\n",
    "\n",
    "g.add_case(\"drive\")\n",
    "\n",
    "\n",
    "j = todo_list(\"oleg\")\n",
    "\n",
    "j.add_case(\"make_tent\")\n",
    "\n",
    "print(g.case)\n",
    "\n",
    "print(j.case)\n"
   ]
  },
  {
   "cell_type": "markdown",
   "metadata": {},
   "source": [
    "далее вы просили проделать работу с атрибутом класса и атрибутом экземпляра:"
   ]
  },
  {
   "cell_type": "code",
   "execution_count": 11,
   "metadata": {},
   "outputs": [
    {
     "data": {
      "text/plain": [
       "['cook', 'something']"
      ]
     },
     "execution_count": 11,
     "metadata": {},
     "output_type": "execute_result"
    }
   ],
   "source": [
    "class todo_list_error:\n",
    "\n",
    "    case = []\n",
    "\n",
    "    def __init__(self, name: str):\n",
    "        self.name = name\n",
    "\n",
    "    def add_case_error(self,case: str):\n",
    "        self.case.append(case)\n",
    "\n",
    "g_error = todo_list_error(\"sasha\")\n",
    "\n",
    "g_error.add_case_error(\"cook\")\n",
    "\n",
    "h_error = todo_list_error(\"stas\")\n",
    "\n",
    "h_error.add_case_error(\"something\")\n",
    "\n",
    "h_error.case"
   ]
  },
  {
   "cell_type": "markdown",
   "metadata": {},
   "source": [
    "вот та самая ошибка в различии атрибута класса и атрибута экземпляра. К конкретному экземпляру цепляются атрибуты другого экземпляра. Заострять на этом внимание я не буду, потому что уже это делал "
   ]
  },
  {
   "cell_type": "markdown",
   "metadata": {},
   "source": [
    "\n",
    "\n",
    "https://docs.python.org/3/tutorial/classes.html#class-and-instance-variables\n",
    "\n",
    "что такое self?\n",
    "это обозначение переменной экземпляра \n",
    "\n",
    "Покажите в коде. Как оно работает."
   ]
  },
  {
   "cell_type": "code",
   "execution_count": 15,
   "metadata": {},
   "outputs": [],
   "source": [
    "class test2:\n",
    "    def __init__(self,y):\n",
    "        pass\n",
    "\n",
    "u2 = test2(1)\n",
    "\n"
   ]
  },
  {
   "cell_type": "markdown",
   "metadata": {},
   "source": [
    "на этом примере показано, что в класс успешно введен экземпляр с одним параметром, НО в методе , который отвечает за гибкое создание экземпляра ДВА ОБЯЗАТЕЛЬНЫХ параметра, а передан один"
   ]
  },
  {
   "cell_type": "code",
   "execution_count": 13,
   "metadata": {},
   "outputs": [
    {
     "ename": "TypeError",
     "evalue": "test3.__init__() takes 2 positional arguments but 3 were given",
     "output_type": "error",
     "traceback": [
      "\u001b[0;31m---------------------------------------------------------------------------\u001b[0m",
      "\u001b[0;31mTypeError\u001b[0m                                 Traceback (most recent call last)",
      "Cell \u001b[0;32mIn[13], line 5\u001b[0m\n\u001b[1;32m      2\u001b[0m     \u001b[38;5;28;01mdef\u001b[39;00m \u001b[38;5;21m__init__\u001b[39m(\u001b[38;5;28mself\u001b[39m,y):\n\u001b[1;32m      3\u001b[0m         \u001b[38;5;28;01mpass\u001b[39;00m\n\u001b[0;32m----> 5\u001b[0m u3 \u001b[38;5;241m=\u001b[39m \u001b[43mtest3\u001b[49m\u001b[43m(\u001b[49m\u001b[38;5;241;43m1\u001b[39;49m\u001b[43m,\u001b[49m\u001b[38;5;241;43m2\u001b[39;49m\u001b[43m)\u001b[49m\n",
      "\u001b[0;31mTypeError\u001b[0m: test3.__init__() takes 2 positional arguments but 3 were given"
     ]
    }
   ],
   "source": [
    "class test3:\n",
    "    def __init__(self,y):\n",
    "        pass\n",
    "\n",
    "u3 = test3(1,2)\n",
    "\n"
   ]
  },
  {
   "cell_type": "markdown",
   "metadata": {},
   "source": [
    "Здесь исключение показывает, что появился 3-й фантомный аргумент, который вроде как не передавался"
   ]
  },
  {
   "cell_type": "code",
   "execution_count": 14,
   "metadata": {},
   "outputs": [
    {
     "ename": "TypeError",
     "evalue": "test4.__init__() missing 1 required positional argument: 'y'",
     "output_type": "error",
     "traceback": [
      "\u001b[0;31m---------------------------------------------------------------------------\u001b[0m",
      "\u001b[0;31mTypeError\u001b[0m                                 Traceback (most recent call last)",
      "Cell \u001b[0;32mIn[14], line 5\u001b[0m\n\u001b[1;32m      2\u001b[0m     \u001b[38;5;28;01mdef\u001b[39;00m \u001b[38;5;21m__init__\u001b[39m(\u001b[38;5;28mself\u001b[39m,y):\n\u001b[1;32m      3\u001b[0m         \u001b[38;5;28;01mpass\u001b[39;00m\n\u001b[0;32m----> 5\u001b[0m u4 \u001b[38;5;241m=\u001b[39m \u001b[43mtest4\u001b[49m\u001b[43m(\u001b[49m\u001b[43m)\u001b[49m\n",
      "\u001b[0;31mTypeError\u001b[0m: test4.__init__() missing 1 required positional argument: 'y'"
     ]
    }
   ],
   "source": [
    "class test4:\n",
    "    def __init__(self,y):\n",
    "        pass\n",
    "\n",
    "u4 = test4()\n",
    "\n"
   ]
  },
  {
   "cell_type": "markdown",
   "metadata": {},
   "source": [
    "из этого исключения можно понять, что метод уже взял один параметр, когда передавалось вроде как 0"
   ]
  },
  {
   "cell_type": "markdown",
   "metadata": {},
   "source": [
    "Исходя из примеров выше и документации по классам, можно сделать вывод, что self , это ничто иное, как переменная u. И принцип работы  в этом случае заключается в следующем: u4.__init__(y) равносилен test4.__init__(u4,y). Если расматривать это с точки зрения логики, то оно работает так: при вносе значений в класс или экземпляр класса, эти значения нужно связать с чем либо, потому что иначе непонятно какое значение к чему принадлежит. Вот тогда, на сцену выходит u4 и к нему вяжутся все аргументы, которые заносились с этим значением\n",
    "\n",
    "И таким образом:"
   ]
  },
  {
   "cell_type": "code",
   "execution_count": 3,
   "metadata": {},
   "outputs": [
    {
     "name": "stdout",
     "output_type": "stream",
     "text": [
      "roll\n",
      "lie down\n"
     ]
    }
   ],
   "source": [
    "class Dog:\n",
    "    def __init__(self, name: str, trick: str):\n",
    "        self.name = name\n",
    "        self.trick = trick\n",
    "\n",
    "d = Dog(\"Dorian\", \"roll\" )\n",
    "bcz = Dog(\"Elton\", \"lie down\")\n",
    "\n",
    "print(d.trick)\n",
    "\n",
    "print(bcz.trick)"
   ]
  },
  {
   "cell_type": "markdown",
   "metadata": {},
   "source": [
    "здесь я хотел показать , что при вносе аргументов в класс с использованием d, само d идет в self и таким образом связывает d и значения, когда эти значения нужно достать из класса. Как и показано в последней строчке, \"d.trick\" берется внесенное значение trick, которое связано с \"d\",а не с \"bcz\" "
   ]
  },
  {
   "cell_type": "markdown",
   "metadata": {},
   "source": [
    "\n",
    "\n",
    "### Задание 2.\n",
    "\n",
    "\n",
    "\n",
    "https://docs.python.org/3/faq/programming.html#what-is-a-class\n",
    "\n",
    "атрибут это значение экземпляра "
   ]
  },
  {
   "cell_type": "code",
   "execution_count": null,
   "metadata": {},
   "outputs": [],
   "source": [
    "class _isinstance:\n",
    "    def __init__(self,attr1):\n",
    "        self.attr1 = attr1 # строка инициализирует атрибут экземпляра (т.е значение, которое связано с экземпляром)\n",
    "\n",
    "g = _isinstance(\"someattr\") # создание экземпляра (g) с связанным с ним атрибутом(someattr)\n",
    "\n"
   ]
  },
  {
   "cell_type": "markdown",
   "metadata": {},
   "source": [
    "так же хочется отметить, что атрибут может брать  значение из локального пространства имен будучи в глобальном:"
   ]
  },
  {
   "cell_type": "code",
   "execution_count": 12,
   "metadata": {},
   "outputs": [
    {
     "ename": "TypeError",
     "evalue": "test2() takes no arguments",
     "output_type": "error",
     "traceback": [
      "\u001b[0;31m---------------------------------------------------------------------------\u001b[0m",
      "\u001b[0;31mTypeError\u001b[0m                                 Traceback (most recent call last)",
      "Cell \u001b[0;32mIn[12], line 4\u001b[0m\n\u001b[1;32m      1\u001b[0m \u001b[38;5;28;01mclass\u001b[39;00m \u001b[38;5;21;01mtest2\u001b[39;00m:\n\u001b[1;32m      2\u001b[0m     i \u001b[38;5;241m=\u001b[39m \u001b[38;5;241m12345\u001b[39m\n\u001b[0;32m----> 4\u001b[0m qwe \u001b[38;5;241m=\u001b[39m \u001b[43mtest2\u001b[49m\u001b[43m(\u001b[49m\u001b[38;5;124;43m'\u001b[39;49m\u001b[38;5;124;43msome\u001b[39;49m\u001b[38;5;124;43m'\u001b[39;49m\u001b[43m)\u001b[49m\n\u001b[1;32m      5\u001b[0m \u001b[38;5;28mprint\u001b[39m (i)\n",
      "\u001b[0;31mTypeError\u001b[0m: test2() takes no arguments"
     ]
    }
   ],
   "source": [
    "class test2:\n",
    "    i = 12345\n",
    "\n",
    "qwe = test2('some')\n",
    "print (i)\n"
   ]
  },
  {
   "cell_type": "markdown",
   "metadata": {},
   "source": [
    "в данном случае исключение появилось потому что i находиться в другом именном пространстве"
   ]
  },
  {
   "cell_type": "code",
   "execution_count": 15,
   "metadata": {},
   "outputs": [
    {
     "ename": "NameError",
     "evalue": "name 'test2' is not defined",
     "output_type": "error",
     "traceback": [
      "\u001b[1;31m---------------------------------------------------------------------------\u001b[0m",
      "\u001b[1;31mNameError\u001b[0m                                 Traceback (most recent call last)",
      "Cell \u001b[1;32mIn[15], line 1\u001b[0m\n\u001b[1;32m----> 1\u001b[0m \u001b[38;5;28mprint\u001b[39m (\u001b[43mtest2\u001b[49m\u001b[38;5;241m.\u001b[39mi)\n\u001b[0;32m      3\u001b[0m \u001b[38;5;28mprint\u001b[39m (\u001b[38;5;28mgetattr\u001b[39m(test2\u001b[38;5;241m.\u001b[39mi))\n",
      "\u001b[1;31mNameError\u001b[0m: name 'test2' is not defined"
     ]
    }
   ],
   "source": [
    "print (test2.i)\n",
    "\n",
    "print (getattr(test2.i))"
   ]
  },
  {
   "cell_type": "markdown",
   "metadata": {},
   "source": [
    "в данном случае, когда все указывается через атрибут, значение можно брать из других пространственных имен"
   ]
  },
  {
   "cell_type": "markdown",
   "metadata": {},
   "source": [
    "\n",
    "тип написать: Тип определяет возможные операции ,производимые над объектом , и возможные значения этого объекта \n",
    "объект написать: Объект это значение с определенным типом \n",
    "атрибут (как тип и объект)\n",
    "обращение к атрибуту\n",
    "ссылка на атрибут\n",
    "\n",
    "конструкция атрибута целостна(что значит, как показать?)\n",
    "\n",
    "С чего нужно начать изучение классов?\n",
    "\n",
    "1. Атрибут\n",
    "2. Экземпляр\n",
    "3. Пространство имен\n",
    "\n",
    "\n",
    "https://docs.python.org/3/tutorial/classes.html#class-objects\n",
    "9.3.2 - 9.3.5\n",
    "\n",
    "атрибут - это, выглядит так.\n",
    "https://docs.python.org/3/reference/expressions.html#attribute-references"
   ]
  },
  {
   "cell_type": "markdown",
   "metadata": {},
   "source": [
    "# Задание от 23.04.2025"
   ]
  },
  {
   "cell_type": "markdown",
   "metadata": {},
   "source": [
    "Здравствуйте, вот мое дз на сегодня. Я очень много вопросов оставил не закрытыми потому что я \" буксую\" на месте , я не знаю сколько времени я провел перечитывая эти вопросы, каждый раз перечитывая ссылки на документации, которые вы дали, но я ни единого слова не смог придумать за это время для ответа на некоторые вопросы.\n",
    "\n",
    "### Задание 1.\n",
    "\n",
    "https://docs.python.org/3/tutorial/classes.html#class-and-instance-variables\n",
    "\n",
    "https://www.toptal.com/python/python-class-attributes-an-overly-thorough-guide\n",
    "\n",
    "перечислить случаи. когда можно писать вот так, без self.\n",
    "\n",
    "Я считаю, что случай, в котором можно обойтись без self только один и он заключается в том, чтобы использовать не атрибут экземпляра , который привязан к конкретному экземпляру, а атрибут класса, который будет относится ко всем объектам. Например, константы или значения по умолчанию или же просто сбор всех данных, т.е. то, что общее для всех, а не индивидуально для каждого экземпляра\n",
    "\n",
    "tricks = []  "
   ]
  },
  {
   "cell_type": "code",
   "execution_count": 9,
   "metadata": {},
   "outputs": [
    {
     "data": {
      "text/plain": [
       "[1, 2, 3]"
      ]
     },
     "execution_count": 9,
     "metadata": {},
     "output_type": "execute_result"
    }
   ],
   "source": [
    "class nums:\n",
    "\n",
    "    all_data_num = []\n",
    "\n",
    "    def __init__(self,num):\n",
    "        self.num = num\n",
    "        nums.all_data_num.append(num)\n",
    "\n",
    "\n",
    "\n",
    "x = nums(1)\n",
    "y = nums(2)\n",
    "z = nums(3)\n",
    "\n",
    "x.all_data_num"
   ]
  },
  {
   "cell_type": "markdown",
   "metadata": {},
   "source": [
    "\n",
    "\n",
    "### Задание 2.\n",
    "\n",
    "Что такое self? это ссылка на объект типа. это условное имя первого аргумента в методе, которое нужно для того, чтобы ассоциировать атрибуты с конкретным экземпляром.\n",
    "Привести пример.\n",
    "создать класс\n",
    "создать метод в классе без параметров и вызвать его с экземпляра."
   ]
  },
  {
   "cell_type": "code",
   "execution_count": 2,
   "metadata": {},
   "outputs": [
    {
     "ename": "TypeError",
     "evalue": "test.add_0() takes 0 positional arguments but 3 were given",
     "output_type": "error",
     "traceback": [
      "\u001b[0;31m---------------------------------------------------------------------------\u001b[0m",
      "\u001b[0;31mTypeError\u001b[0m                                 Traceback (most recent call last)",
      "Cell \u001b[0;32mIn[2], line 10\u001b[0m\n\u001b[1;32m      6\u001b[0m         num\u001b[38;5;241m.\u001b[39mappend(\u001b[38;5;241m0\u001b[39m)\n\u001b[1;32m      8\u001b[0m x \u001b[38;5;241m=\u001b[39m test([\u001b[38;5;241m1\u001b[39m,\u001b[38;5;241m2\u001b[39m,\u001b[38;5;241m3\u001b[39m])\n\u001b[0;32m---> 10\u001b[0m \u001b[43mx\u001b[49m\u001b[38;5;241;43m.\u001b[39;49m\u001b[43madd_0\u001b[49m\u001b[43m(\u001b[49m\u001b[38;5;241;43m1\u001b[39;49m\u001b[43m,\u001b[49m\u001b[43m \u001b[49m\u001b[38;5;241;43m2\u001b[39;49m\u001b[43m)\u001b[49m\n",
      "\u001b[0;31mTypeError\u001b[0m: test.add_0() takes 0 positional arguments but 3 were given"
     ]
    }
   ],
   "source": [
    "class test: \n",
    "    def __init__(self,num):\n",
    "        self.num = num\n",
    "\n",
    "    def add_0():\n",
    "        num.append(0)\n",
    "    \n",
    "x = test([1,2,3])\n",
    "\n",
    "x.add_0(1, 2)\n"
   ]
  },
  {
   "cell_type": "code",
   "execution_count": null,
   "metadata": {},
   "outputs": [],
   "source": [
    "x.add_0()"
   ]
  },
  {
   "cell_type": "markdown",
   "metadata": {},
   "source": [
    "экземпляр изначально передает индентификатор (х) переменной в параметр. Исключение извещает о том, что был передан аргумент х, когда аргументы не предусмотрены(прописаны) в методе. Поэтому в методе всегда должен быть self(может и другое имя, потому что self это условное обозначение, чтобы повысить читаемость кода)"
   ]
  },
  {
   "cell_type": "markdown",
   "metadata": {},
   "source": [
    "\n",
    "Создать с одним параметром"
   ]
  },
  {
   "cell_type": "code",
   "execution_count": 10,
   "metadata": {},
   "outputs": [
    {
     "data": {
      "text/plain": [
       "[1, 2, 3, 0]"
      ]
     },
     "execution_count": 10,
     "metadata": {},
     "output_type": "execute_result"
    }
   ],
   "source": [
    "class test: \n",
    "    def __init__(self,num):\n",
    "        self.num = num\n",
    "\n",
    "    def add_0(self):\n",
    "        self.num.append(0)\n",
    "    \n",
    "x = test([1,2,3])\n",
    "\n",
    "x.add_0()\n",
    "\n",
    "x.num\n"
   ]
  },
  {
   "cell_type": "markdown",
   "metadata": {},
   "source": [
    "при добавлении параметра в метод, который будет будет задействован для записи аргумента х(чтобы ассоциировать экземпляр не со значением(допустим \"красный\"), а с \"названием\" экземпляра, коим является x), код выше заработал так, как и планировалось."
   ]
  },
  {
   "cell_type": "code",
   "execution_count": 1,
   "metadata": {},
   "outputs": [
    {
     "data": {
      "text/plain": [
       "[1, 2, 3, 0]"
      ]
     },
     "execution_count": 1,
     "metadata": {},
     "output_type": "execute_result"
    }
   ],
   "source": [
    "class test: \n",
    "    def __init__(x,num):\n",
    "        x.num = num\n",
    "\n",
    "    def add_0(x):\n",
    "        x.num.append(0)\n",
    "    \n",
    "x = test([1,2,3])\n",
    "\n",
    "x.add_0()\n",
    "\n",
    "x.num\n"
   ]
  },
  {
   "cell_type": "markdown",
   "metadata": {},
   "source": [
    "Ниже напишу код, который вы просили написать как правильно и как неправильно"
   ]
  },
  {
   "cell_type": "code",
   "execution_count": 3,
   "metadata": {},
   "outputs": [
    {
     "name": "stdout",
     "output_type": "stream",
     "text": [
      "['play dead', 'roll over']\n",
      "['play dead', 'roll over']\n"
     ]
    }
   ],
   "source": [
    "class Dog:\n",
    "\n",
    "    tricks = ['play dead','roll over']             # mistaken use of a class variable\n",
    "\n",
    "    def __init__(self, name):\n",
    "        self.name = name\n",
    "\n",
    "    def add_trick(self, trick):\n",
    "        self.tricks.append(trick)\n",
    "\n",
    "d = Dog('Fido')\n",
    "e = Dog('Buddy')\n",
    "print(d.tricks)  \n",
    "print(e.tricks)              \n"
   ]
  },
  {
   "cell_type": "markdown",
   "metadata": {},
   "source": [
    "Код написан не то что бы неправильно , но он написан так, что значения применились ко всем экземплярам, а не к конкретному, как на примере ниже."
   ]
  },
  {
   "cell_type": "code",
   "execution_count": 5,
   "metadata": {},
   "outputs": [
    {
     "name": "stdout",
     "output_type": "stream",
     "text": [
      "['roll over']\n",
      "['play dead']\n"
     ]
    }
   ],
   "source": [
    "class Dog:\n",
    "\n",
    "    def __init__(self, name):\n",
    "        self.name = name\n",
    "        self.tricks = []    # creates a new empty list for each dog\n",
    "\n",
    "    def add_trick(self, trick):\n",
    "        self.tricks.append(trick)\n",
    "\n",
    "d = Dog('Fido')\n",
    "e = Dog('Buddy')\n",
    "d.add_trick('roll over')\n",
    "e.add_trick('play dead')\n",
    "print(d.tricks)\n",
    "\n",
    "print(e.tricks)\n"
   ]
  },
  {
   "cell_type": "markdown",
   "metadata": {},
   "source": [
    "В примере выше код написан так, что атрибуты отданы отдельным экземплярам класса, а не \"собраны в кучу\""
   ]
  },
  {
   "cell_type": "markdown",
   "metadata": {},
   "source": [
    "В этом примере я заменил название первого аргумента self на другое название первого аргумента, но результат оказался тем же. Что подтверждает мои слова о том, что self это условное обозначение первго параметра. А первый параметр, в свою очередь  переменная, которая присвоена экземпляру"
   ]
  },
  {
   "cell_type": "markdown",
   "metadata": {},
   "source": [
    "создать self + parametr"
   ]
  },
  {
   "cell_type": "code",
   "execution_count": 1,
   "metadata": {},
   "outputs": [
    {
     "data": {
      "text/plain": [
       "[1, 2, 3, 4]"
      ]
     },
     "execution_count": 1,
     "metadata": {},
     "output_type": "execute_result"
    }
   ],
   "source": [
    "class test: \n",
    "    def __init__(self,num):\n",
    "        self.num = num\n",
    "\n",
    "    def add_0(self,last):\n",
    "        self.num.append(last)\n",
    "    \n",
    "x = test([1,2,3])\n",
    "\n",
    "x.add_0(4)\n",
    "\n",
    "x.num\n"
   ]
  },
  {
   "cell_type": "markdown",
   "metadata": {},
   "source": [
    "\n",
    "\n",
    "1. ссылка\n",
    "2. Экземпляр\n",
    "3. Атрибут\n",
    "\n",
    "https://docs.python.org/3/faq/programming.html#what-is-a-class\n",
    "\n",
    "Переписать код с применением метода pop\n",
    "https://docs.python.org/3/tutorial/datastructures.html#more-on-lists"
   ]
  },
  {
   "cell_type": "code",
   "execution_count": 5,
   "metadata": {},
   "outputs": [
    {
     "data": {
      "text/plain": [
       "['lean the floor', 'play over']"
      ]
     },
     "execution_count": 5,
     "metadata": {},
     "output_type": "execute_result"
    }
   ],
   "source": [
    "class Dog: \n",
    "\n",
    "    tricks = []\n",
    "\n",
    "    def __init__(self, name): \n",
    "        self.name = name\n",
    "    \n",
    "    def add_trick(self,trick):\n",
    "        self.tricks.append(trick)\n",
    "\n",
    "\n",
    "    def del_trick(self,trick):\n",
    "        self.tricks.pop(trick)\n",
    "\n",
    "\n",
    "\n",
    "x = Dog(\"Richard\")\n",
    "y = Dog(\"Arnold\")\n",
    "\n",
    "\n",
    "x.add_trick(\"roll\")\n",
    "y.add_trick(\"lean the floor\")\n",
    "y.add_trick(\"play over\")\n",
    "x.del_trick(0)\n",
    "y.tricks\n"
   ]
  },
  {
   "cell_type": "markdown",
   "metadata": {},
   "source": [
    "\n",
    "\n",
    "Ссылка это:\n",
    "https://docs.python.org/3/reference/expressions.html#attribute-references\n",
    "\n",
    "Показываете на ващем методе pop.\n",
    "при применении метода мной pop, ссылка выглядит вот так x.del_trick(0) и включает в себя:  x - это объект типа, del_trick- это атрибут \n",
    "\n",
    "self.tricks.pop(trick) работает так: берется первый аргумент для метода, который передается через присвоеную переменную, как ссылка на экземпляр в классе. Далее идет ссылка на атрибут класса tricks. И к ссылке на атрибут tricks, через ссылку применяется метод pop из класса лист."
   ]
  },
  {
   "cell_type": "code",
   "execution_count": 6,
   "metadata": {},
   "outputs": [
    {
     "data": {
      "text/plain": [
       "['__class__',\n",
       " '__delattr__',\n",
       " '__dict__',\n",
       " '__dir__',\n",
       " '__doc__',\n",
       " '__eq__',\n",
       " '__format__',\n",
       " '__ge__',\n",
       " '__getattribute__',\n",
       " '__getstate__',\n",
       " '__gt__',\n",
       " '__hash__',\n",
       " '__init__',\n",
       " '__init_subclass__',\n",
       " '__le__',\n",
       " '__lt__',\n",
       " '__module__',\n",
       " '__ne__',\n",
       " '__new__',\n",
       " '__reduce__',\n",
       " '__reduce_ex__',\n",
       " '__repr__',\n",
       " '__setattr__',\n",
       " '__sizeof__',\n",
       " '__str__',\n",
       " '__subclasshook__',\n",
       " '__weakref__',\n",
       " 'add_trick',\n",
       " 'del_trick',\n",
       " 'tricks']"
      ]
     },
     "execution_count": 6,
     "metadata": {},
     "output_type": "execute_result"
    }
   ],
   "source": [
    "dir(Dog)"
   ]
  },
  {
   "cell_type": "code",
   "execution_count": 5,
   "metadata": {},
   "outputs": [
    {
     "ename": "NameError",
     "evalue": "name 'i' is not defined",
     "output_type": "error",
     "traceback": [
      "\u001b[1;31m---------------------------------------------------------------------------\u001b[0m",
      "\u001b[1;31mNameError\u001b[0m                                 Traceback (most recent call last)",
      "Cell \u001b[1;32mIn[5], line 4\u001b[0m\n\u001b[0;32m      1\u001b[0m \u001b[38;5;28;01mclass\u001b[39;00m\u001b[38;5;250m \u001b[39m\u001b[38;5;21;01mtesttest\u001b[39;00m:\n\u001b[0;32m      2\u001b[0m     i \u001b[38;5;241m=\u001b[39m \u001b[38;5;241m1\u001b[39m\n\u001b[1;32m----> 4\u001b[0m \u001b[38;5;28mprint\u001b[39m(\u001b[43mi\u001b[49m)\n",
      "\u001b[1;31mNameError\u001b[0m: name 'i' is not defined"
     ]
    }
   ],
   "source": [
    "class testtest:\n",
    "    i = 1\n",
    "\n",
    "print(i)"
   ]
  },
  {
   "cell_type": "code",
   "execution_count": 4,
   "metadata": {},
   "outputs": [
    {
     "name": "stdout",
     "output_type": "stream",
     "text": [
      "1\n"
     ]
    }
   ],
   "source": [
    "print(testtest.i)"
   ]
  },
  {
   "cell_type": "markdown",
   "metadata": {},
   "source": [
    "\n",
    "### Задание 3.\n",
    "\n",
    "https://cplusplus.com/doc/tutorial/pointers/\n",
    "\n",
    "Указатели С++.\n",
    "\n",
    "\n",
    "указатель в c++ это аналогия метода id. Они берут значение ячейки памяти и присваивают его себе. Таким образом можно воздействовать на ячейку памяти напрямую, а не через \"седьмую воду на киселе\", потому что значение в переменную или константу присваивается через ссылку, а это значит, что присваивается дубликат значения\n",
    "\n",
    "\n",
    "\n"
   ]
  },
  {
   "cell_type": "code",
   "execution_count": 1,
   "metadata": {},
   "outputs": [],
   "source": [
    "class A:\n",
    "    def first(param):\n",
    "        param = 5\n",
    "        return param\n",
    "        "
   ]
  },
  {
   "cell_type": "code",
   "execution_count": 2,
   "metadata": {},
   "outputs": [],
   "source": [
    "a = A()"
   ]
  },
  {
   "cell_type": "code",
   "execution_count": 3,
   "metadata": {},
   "outputs": [
    {
     "data": {
      "text/plain": [
       "<function __main__.A.first(param)>"
      ]
     },
     "execution_count": 3,
     "metadata": {},
     "output_type": "execute_result"
    }
   ],
   "source": [
    "A.first"
   ]
  },
  {
   "cell_type": "code",
   "execution_count": 4,
   "metadata": {},
   "outputs": [
    {
     "ename": "TypeError",
     "evalue": "A.first() missing 1 required positional argument: 'param'",
     "output_type": "error",
     "traceback": [
      "\u001b[0;31m---------------------------------------------------------------------------\u001b[0m",
      "\u001b[0;31mTypeError\u001b[0m                                 Traceback (most recent call last)",
      "Cell \u001b[0;32mIn[4], line 1\u001b[0m\n\u001b[0;32m----> 1\u001b[0m \u001b[43mA\u001b[49m\u001b[38;5;241;43m.\u001b[39;49m\u001b[43mfirst\u001b[49m\u001b[43m(\u001b[49m\u001b[43m)\u001b[49m\n",
      "\u001b[0;31mTypeError\u001b[0m: A.first() missing 1 required positional argument: 'param'"
     ]
    }
   ],
   "source": [
    "A.first()"
   ]
  },
  {
   "cell_type": "markdown",
   "metadata": {},
   "source": [
    "# Задание от 30.04.2025\n",
    "\n",
    "Не смотрите, сначала я делал второе задание и ничего не понял из того, что просили прочитать. А теперь взялся перечитывать и понял "
   ]
  },
  {
   "cell_type": "markdown",
   "metadata": {},
   "source": [
    "### Пишу сюда, чтобы не забыть. Мне интересно поработать с метаклассами "
   ]
  },
  {
   "cell_type": "markdown",
   "metadata": {},
   "source": [
    "Здравствуйте, я уже не знаю что писать , но понимаю, что этого просто недостаточно. Отправляю по причине того, что снова бьюсь головой об стену и не могу ничего больше в голову не лезет."
   ]
  },
  {
   "cell_type": "markdown",
   "metadata": {},
   "source": [
    "### Задание 1.\n",
    "\n",
    "Указатели С++.\n",
    "\n",
    "Указатели в c++ это адрес (идентификатор) ячейки памяти в пк.\n",
    "\n",
    "Каждая ячейка памяти имеет ограниченый размер памяти, поэтому если переменная имеет вес больше, чем ячейка памяти, то данные последовательно дозаписываются в соседние ячейки.\n",
    "\n",
    "Так же указатели можно разыменовать( через добавление * к переменной указателя). Это значит, что значение для переменной возьмется прямо из ячейки памяти , которой присвоен идентификатор этой переменной\n",
    "\n",
    "Так же может понадобиться соседняя ячейка памяти, для того, чтобы записать в нее что-либо, нужно использовать один из операторов(эти две операции используются относительно значения указателя):\n",
    "- ```++``` означает перемещение на одну свободную ячейку вперед\n",
    "- ```--``` означает перемещение на одну свободную ячейку назад\n",
    "\n",
    "Если переменная занимает две ячейки памяти, то это будет значить, что при использовании ```++```, следующая переменная будет записыавться в следующую свободную ячейку, а именно, через две ячейки памяти \n",
    "\n",
    "\n",
    "Расмотреть.\n",
    "Действия с самим указателем."
   ]
  },
  {
   "cell_type": "markdown",
   "metadata": {},
   "source": [
    "\n",
    "### Задание 2.\n",
    "\n",
    "Изменяемые не изменяемые типы данных.\n",
    "\n",
    "изменяемые:\n",
    "- Списки (list)\n",
    "- Словари (dict)\n",
    "- Множества (set)\n",
    "\n",
    "\n",
    "неизменяемые:\n",
    "- Целые числа (int)\n",
    "- Вещественные числа (float)\n",
    "- Комплексные числа (complex)\n",
    "- Строки (str)\n",
    "- Кортежи (tuple)\n",
    "\n",
    "строки и списка."
   ]
  },
  {
   "cell_type": "code",
   "execution_count": 17,
   "metadata": {},
   "outputs": [
    {
     "name": "stdout",
     "output_type": "stream",
     "text": [
      "id списка до изменения 1627074010304\n",
      "id строки до изменения 1627069131168\n",
      "новое значение после изменения - [1, 2, 3, 4], id списка после изменения 1627074010304\n",
      "новое значение после изменения - sometext, id списка после изменения 1627074339696\n"
     ]
    }
   ],
   "source": [
    "_list = [1, 2, 3]\n",
    "\n",
    "_str = \"sometex\"\n",
    "\n",
    "print(f'id списка до изменения {id(_list)}')\n",
    "\n",
    "print(f'id строки до изменения {id(_str)}')\n",
    "\n",
    "_list.append(4)\n",
    "\n",
    "_str = \"sometex\" + \"t\"\n",
    "\n",
    "print (f'новое значение после изменения - {_list}, id списка после изменения {id(_list)}')\n",
    "\n",
    "print (f'новое значение после изменения - {_str}, id списка после изменения {id(_str)}')\n"
   ]
  },
  {
   "cell_type": "markdown",
   "metadata": {},
   "source": [
    "Коротко резюмируя пример выше:\n",
    "\n",
    "При попытке изменения значения в типе данных, который являются изменяемыми (такой как list),  id(то есть адрес в ячейке памяти), не изменяется => используется старый объект, а не создается новый\n",
    "\n",
    "При попытке изменения значения в типе данных, который является неизменяемым (такой как str), id(то есть адрес в ячейки памяти), меняется => используется старый объект, а не создается новый"
   ]
  },
  {
   "cell_type": "markdown",
   "metadata": {},
   "source": [
    "и к этому примеру добавлю то, что вы мне сказали прочитать"
   ]
  },
  {
   "cell_type": "code",
   "execution_count": 9,
   "metadata": {},
   "outputs": [
    {
     "name": "stdout",
     "output_type": "stream",
     "text": [
      "вывод значения5, из которого видно, что значение не поменялось\n"
     ]
    }
   ],
   "source": [
    "def change(num):\n",
    "    x = 10 #изменение значения в локальной переменной(стэк, который работает таким образом, что после отработки данные удаляются)\n",
    "\n",
    "x=5 # переменная, которая создается в куче(которая складирует в памяти)\n",
    "\n",
    "change(x) #воздействие на переменную при помощи функции, которая работает по принципу стека\n",
    "\n",
    "print(f'вывод значения{x}, из которого видно, что значение не поменялось')"
   ]
  },
  {
   "cell_type": "markdown",
   "metadata": {},
   "source": [
    "Так произошло потому что воздействия на объект производились локально(в стеке), а не глобально(в куче).У меня есть ощущение, что тут либо делать основным то , что в скобках, или не воспринимать их вообще. Слова глобально и локально не синонимы слова куча и стек, но по другому описать не могу, дайте знать если я чего то не понимаю"
   ]
  },
  {
   "cell_type": "code",
   "execution_count": 7,
   "metadata": {},
   "outputs": [
    {
     "name": "stdout",
     "output_type": "stream",
     "text": [
      "[1, 2, 3, 4]\n"
     ]
    }
   ],
   "source": [
    "def changelist():\n",
    "    xlist.append(4)\n",
    "\n",
    "xlist= [1,2,3]\n",
    "changelist()\n",
    "\n",
    "print(xlist)"
   ]
  },
  {
   "cell_type": "markdown",
   "metadata": {},
   "source": [
    "здесь изменения появились, потому что велось прямое воздействие на лист, лист не создавался заново , а изменялся. "
   ]
  },
  {
   "cell_type": "markdown",
   "metadata": {},
   "source": [
    "Еще раз закреплю слова о том, что:\n",
    "\n",
    "Неизменяемые типы это те, при воздействии на которые создается только ссылка на объект, а сам объект остается не тронутым. \n",
    "\n",
    "Изменяемые типы это те, при воздействии на которые происходит изменение значения "
   ]
  },
  {
   "cell_type": "markdown",
   "metadata": {},
   "source": [
    "\n",
    "\n",
    "По значению.\n",
    "По ссылке.\n",
    "\n",
    "---------------------------\n",
    "Прочитать.\n",
    "----------------------\n",
    "\n",
    "### Java\n",
    "\n",
    "В Java всё передается по значению, но с объектами есть нюанс. Дело в том, что в Java память разделяется на стэк и кучу. Примитивы и ссылки на объекты создаются на стэке, а сами объекты - в куче. При передаче объекта в Java **копируется ссылка на объект**, но не значение этого объекта. То есть будут две ссылки, указывающие на один и тот же объект. С этим надо быть осторожным.\n",
    "\n",
    "**Передача по значению:**\n",
    "```java\n",
    "void modifyPrimitive(int num) {\n",
    "    num = 10;  // Не влияет на оригинал\n",
    "}\n",
    "\n",
    "int x = 5;\n",
    "modifyPrimitive(x);\n",
    "System.out.println(x);  // 5 (не изменился)\n",
    "```\n",
    "\n",
    "**Передача \"по ссылке\":**\n",
    "```java\n",
    "void modifyList(List<Integer> list) {\n",
    "    list.add(4);  // Изменяет исходный список\n",
    "}\n",
    "\n",
    "List<Integer> myList = new ArrayList<>(Arrays.asList(1, 2, 3));\n",
    "modifyList(myList);\n",
    "System.out.println(myList);  // [1, 2, 3, 4] (оригинал изменился за счет того, что myList и list указывают на один и тот же объект)\n",
    "```\n",
    "\n",
    "### JavaScript\n",
    "\n",
    "В JS примитивы передаются по значению, а объекты - по ссылке\n",
    "\n",
    "**Передача по значению:**\n",
    "```js\n",
    "function modifyPrimitive(num) {\n",
    "    num = 10;  // Не влияет на оригинал\n",
    "}\n",
    "\n",
    "let x = 5;\n",
    "modifyPrimitive(x);\n",
    "console.log(x);  // 5 (не изменился)\n",
    "```\n",
    "\n",
    "**Передача по ссылке:**\n",
    "```js\n",
    "function modifyArray(arr) {\n",
    "    arr.push(4);  // Изменяет исходный массив\n",
    "}\n",
    "\n",
    "const myArray = [1, 2, 3];\n",
    "modifyArray(myArray);\n",
    "console.log(myArray);  // [1, 2, 3, 4] (оригинал изменился)\n",
    "```\n",
    "\n",
    "\n",
    "### Задание 3.\n",
    "\n",
    "9.3.3 и 9.3.4\n",
    "https://docs.python.org/3/tutorial/classes.html#instance-objects"
   ]
  },
  {
   "cell_type": "code",
   "execution_count": 4,
   "metadata": {},
   "outputs": [
    {
     "data": {
      "text/plain": [
       "1"
      ]
     },
     "execution_count": 4,
     "metadata": {},
     "output_type": "execute_result"
    }
   ],
   "source": [
    "class test777:\n",
    "    pass\n",
    "\n",
    "x = test777\n",
    "\n",
    "x._attr = 1\n",
    "\n",
    "x._attr"
   ]
  },
  {
   "cell_type": "markdown",
   "metadata": {},
   "source": [
    "На этом примере видно, что атрибуты объекта класса не обязательно должны объявляться заранее, потому что их можно записать и вызвать в любой момент"
   ]
  },
  {
   "cell_type": "code",
   "execution_count": 1,
   "metadata": {},
   "outputs": [
    {
     "data": {
      "text/plain": [
       "<function __main__.some.testfunc(self)>"
      ]
     },
     "execution_count": 1,
     "metadata": {},
     "output_type": "execute_result"
    }
   ],
   "source": [
    "class some:\n",
    "    i = 1234 #атрибут данных\n",
    "\n",
    "    def testfunc(self): # метод\n",
    "        pass\n",
    "\n",
    "\n",
    "some.i # ссылка на атрибут данных в классе\n",
    "\n",
    "some.testfunc # ссылка на метод в классе"
   ]
  },
  {
   "cell_type": "markdown",
   "metadata": {},
   "source": [
    "существуют только два вида атрибутов: методы и атрибуты данных"
   ]
  },
  {
   "cell_type": "code",
   "execution_count": 2,
   "metadata": {},
   "outputs": [
    {
     "data": {
      "text/plain": [
       "1"
      ]
     },
     "execution_count": 2,
     "metadata": {},
     "output_type": "execute_result"
    }
   ],
   "source": [
    "x = some #создание экземпляра класса\n",
    "\n",
    "x.testattr = 1 # создание атрибута класса , которого изначально не было в классе\n",
    "\n",
    "x.testattr"
   ]
  },
  {
   "cell_type": "markdown",
   "metadata": {},
   "source": [
    "атрибуты данных можно не объявлять, они могут создаваться при первом присвоении , как на примере выше"
   ]
  },
  {
   "cell_type": "markdown",
   "metadata": {},
   "source": [
    "some.testfunc это функциональный объект класса потому что он не привязан ни к какому экземпляру  \n",
    "\n",
    "x.testfunc это ссылка на метод(объект метод), потому что на него ссылаются через экземпляр (и т.к. нет здесь нет функтора, то это просто объект функция , а не исполняемый объект функция)"
   ]
  },
  {
   "cell_type": "markdown",
   "metadata": {},
   "source": [
    "метод - это функция, которая принадлежит объекту экземпляра, поэтому в ней всегда должен быть , как минимум, один параметр, который возьмет объект экземпляра, как первый аргумент "
   ]
  },
  {
   "cell_type": "code",
   "execution_count": 6,
   "metadata": {},
   "outputs": [
    {
     "name": "stdout",
     "output_type": "stream",
     "text": [
      "1\n"
     ]
    },
    {
     "data": {
      "text/plain": [
       "<bound method last.f of <__main__.last object at 0x0000029A6B50D160>>"
      ]
     },
     "execution_count": 6,
     "metadata": {},
     "output_type": "execute_result"
    }
   ],
   "source": [
    "class last:\n",
    "    \n",
    "    def f(self, num):\n",
    "        self.num = num\n",
    "\n",
    "        return(print(num))\n",
    "    \n",
    "\n",
    "l = last()\n",
    "\n",
    "l.f(1)\n",
    "\n",
    "l.f\n",
    "\n"
   ]
  },
  {
   "cell_type": "markdown",
   "metadata": {},
   "source": [
    "метод работает таким образом: при вызове атрибута, который не является атрибутом данных , идет поиск функционального объекта в классе. Когда программа его находит, то она вызывает эту функцию, называемую методом. Во время вызова метода программа первым аргументом берет объект экземпляр, а потом добавляет в него список аргументов из самого объекта экземпляра(в примере выше это 1, который находиться в l.f)\n",
    "\n"
   ]
  },
  {
   "cell_type": "markdown",
   "metadata": {},
   "source": [
    "# Задание от 7.05.2025\n"
   ]
  },
  {
   "cell_type": "markdown",
   "metadata": {},
   "source": [
    "Разобраться с коллекцией MutableSet\n",
    "обратить внимание на абстрактные и михины.\n",
    "\n",
    "Абстрактные классы методы должны быть прописаны в классе\n",
    "\n",
    "Михны прописываются опционально "
   ]
  },
  {
   "cell_type": "code",
   "execution_count": 18,
   "metadata": {},
   "outputs": [
    {
     "ename": "TypeError",
     "evalue": "Can't instantiate abstract class ins without an implementation for abstract methods '__contains__', '__len__', 'add', 'discard'",
     "output_type": "error",
     "traceback": [
      "\u001b[31m---------------------------------------------------------------------------\u001b[39m",
      "\u001b[31mTypeError\u001b[39m                                 Traceback (most recent call last)",
      "\u001b[36mCell\u001b[39m\u001b[36m \u001b[39m\u001b[32mIn[18]\u001b[39m\u001b[32m, line 16\u001b[39m\n\u001b[32m     12\u001b[39m \u001b[38;5;28;01mclass\u001b[39;00m\u001b[38;5;250m \u001b[39m\u001b[34;01mins\u001b[39;00m(B):\n\u001b[32m     13\u001b[39m     \u001b[38;5;28;01mpass\u001b[39;00m\n\u001b[32m---> \u001b[39m\u001b[32m16\u001b[39m somesome = \u001b[43mins\u001b[49m\u001b[43m(\u001b[49m\u001b[43m)\u001b[49m\n\u001b[32m     18\u001b[39m somesome.add(\u001b[33m\"\u001b[39m\u001b[33mкто\u001b[39m\u001b[33m\"\u001b[39m)\n\u001b[32m     20\u001b[39m \u001b[38;5;28mprint\u001b[39m(somesome)\n",
      "\u001b[31mTypeError\u001b[39m: Can't instantiate abstract class ins without an implementation for abstract methods '__contains__', '__len__', 'add', 'discard'"
     ]
    }
   ],
   "source": [
    "from collections.abc import MutableSet\n",
    "\n",
    "class B(MutableSet):\n",
    "    def __init__(self):\n",
    "        self.name_items = set()\n",
    "    \n",
    "    def __iter__(self):\n",
    "        \"\"\" метод возвращающий итератор по всем элементам множества\"\"\"\n",
    "        return iter(self.name_items)\n",
    "    \n",
    "\n",
    "class ins(B):\n",
    "    pass\n",
    "\n",
    "\n",
    "somesome = ins()\n",
    "\n",
    "somesome.add(\"кто\")\n",
    "\n",
    "print(somesome)"
   ]
  },
  {
   "cell_type": "markdown",
   "metadata": {},
   "source": [
    "исключение появилось потому что в наследовательном классе все абстрактные методы должны быть определены"
   ]
  },
  {
   "cell_type": "markdown",
   "metadata": {},
   "source": [
    "```__contains__ ``` - внутренний метод питона, который проверяет наличие элемента в экземпляре. Он выводит true, если элемент находиться в экземпляре."
   ]
  },
  {
   "cell_type": "code",
   "execution_count": null,
   "metadata": {},
   "outputs": [
    {
     "data": {
      "text/plain": [
       "True"
      ]
     },
     "execution_count": 11,
     "metadata": {},
     "output_type": "execute_result"
    }
   ],
   "source": [
    "from collections.abc import MutableSet\n",
    "\n",
    "class B(MutableSet):\n",
    "       \n",
    "    def __init__(self):\n",
    "        \"\"\" инициальзация множества для хранения элементов \"\"\"\n",
    "        self.name_items = set()\n",
    "    \n",
    "    def __contains__(self, item):\n",
    "        \"\"\" метод проверяющий наличие элемента\n",
    "            при наличии элемента в множестве возвращает\n",
    "            True, при отсутствии False\"\"\"\n",
    "        if not isinstance(item, str):\n",
    "            raise TypeError(f'Название элемента должено быть строкой, а не {item.__class__.__name__}')\n",
    "        return item in self.name_items\n",
    "\n",
    "    def __iter__(self):\n",
    "        \"\"\" метод возвращающий итератор по всем элементам множества\"\"\"\n",
    "        return iter(self.name_items)\n",
    "        \n",
    "    def __len__(self):\n",
    "        \"\"\" метод вычисляющий количество элементов находящихся в множестве\"\"\"\n",
    "        return len(self.name_items)\n",
    "    \n",
    "    def add(self, item):\n",
    "        \"\"\" метод добавляющий элемент(строку) с проверкой наличия элемента в множество\"\"\"\n",
    "        if not isinstance(item, str):\n",
    "            raise TypeError(f'Укажите название строкой. Вы указали {item.__class__.__name__}')\n",
    "        if item in self.name_items:\n",
    "            raise ValueError(f'Элемент \"{item}\" уже находится в множестве')\n",
    "        self.name_items.add(item)\n",
    "        \n",
    "    def discard(self, item):\n",
    "        \"\"\"метод удаляющий элемент(строку) в множестве с проверкой наличия элемента в множестве\"\"\"\n",
    "        if not isinstance(item, str):\n",
    "            raise TypeError(f'Укажите название строкой. Вы указали {item.__class__.__name__}')\n",
    "        if item not in self.name_items:\n",
    "            raise ValueError(f'Элемента \"{item}\" нет в множестве')\n",
    "        self.name_items.discard(item)\n",
    "    \n",
    "    def __repr__(self):\n",
    "        \"\"\" Вид своего вывода содержимого \"\"\"\n",
    "        return f'{self.__class__.__name__}:{self.name_items}'\n",
    "\n",
    "    \n",
    "\n",
    "class ins(B):\n",
    "    pass\n",
    "\n",
    "somesome = ins() # создание экземпляра\n",
    "\n",
    "somesome.add(\"text\") # ввод элемента в экземпляр\n",
    "\n",
    "somesome.__contains__(\"text\") # использование метода contains , который выводит true, если элемент находится в экземпляре"
   ]
  },
  {
   "cell_type": "markdown",
   "metadata": {},
   "source": [
    "\n",
    "```__iter__``` - внутренний метод питона, который создает объект, делающий итерацию по элементам контейнера(Итератор - это объект, который, как указатель, ссылается на конкретное место в памяти, и перебирает его значения, которые записываются подряд, через ++ )."
   ]
  },
  {
   "cell_type": "code",
   "execution_count": null,
   "metadata": {},
   "outputs": [
    {
     "name": "stdout",
     "output_type": "stream",
     "text": [
      "ins:{'кто'}\n",
      "<set_iterator object at 0x000001E6AE5DC6C0>\n",
      "2090279487168\n"
     ]
    }
   ],
   "source": [
    "from collections.abc import MutableSet\n",
    "\n",
    "class B(MutableSet):\n",
    "      \n",
    "    def __init__(self):\n",
    "        \"\"\" инициальзация множества для хранения элементов \"\"\"\n",
    "        self.name_items = set()\n",
    "    \n",
    "    def __contains__(self, item):\n",
    "        \"\"\" метод проверяющий наличие элемента\n",
    "            при наличии элемента в множестве возвращает\n",
    "            True, при отсутствии False\"\"\"\n",
    "        if not isinstance(item, str):\n",
    "            raise TypeError(f'Название элемента должено быть строкой, а не {item.__class__.__name__}')\n",
    "        return item in self.name_items\n",
    "\n",
    "    def __iter__(self):\n",
    "        \"\"\" метод возвращающий итератор по всем элементам множества\"\"\"\n",
    "        return iter(self.name_items)\n",
    "        \n",
    "    def __len__(self):\n",
    "        \"\"\" метод вычисляющий количество элементов находящихся в множестве\"\"\"\n",
    "        return len(self.name_items)\n",
    "    \n",
    "    def add(self, item):\n",
    "        \"\"\" метод добавляющий элемент(строку) с проверкой наличия элемента в множество\"\"\"\n",
    "        if not isinstance(item, str):\n",
    "            raise TypeError(f'Укажите название строкой. Вы указали {item.__class__.__name__}')\n",
    "        if item in self.name_items:\n",
    "            raise ValueError(f'Элемент \"{item}\" уже находится в множестве')\n",
    "        self.name_items.add(item)\n",
    "        \n",
    "    def discard(self, item):\n",
    "        \"\"\"метод удаляющий элемент(строку) в множестве с проверкой наличия элемента в множестве\"\"\"\n",
    "        if not isinstance(item, str):\n",
    "            raise TypeError(f'Укажите название строкой. Вы указали {item.__class__.__name__}')\n",
    "        if item not in self.name_items:\n",
    "            raise ValueError(f'Элемента \"{item}\" нет в множестве')\n",
    "        self.name_items.discard(item)\n",
    "    \n",
    "    def __repr__(self):\n",
    "        \"\"\" Вид своего вывода содержимого \"\"\"\n",
    "        return f'{self.__class__.__name__}:{self.name_items}'\n",
    "\n",
    "    \n",
    "\n",
    "class ins(B):\n",
    "    pass\n",
    "\n",
    "\n",
    "somesome = ins() #создание экземпляра\n",
    "\n",
    "somesome.add(\"кто\") # добавление элемента\n",
    "\n",
    "print(somesome) # вывод экземпляра\n",
    "\n",
    "print(somesome.__iter__()) # выводит указатель объекта итератора в памяти \n",
    "\n",
    "print(id(somesome.__iter__)) # здесь я попробовал найти id в памяти пк, но в 10тичном коде\n"
   ]
  },
  {
   "cell_type": "markdown",
   "metadata": {},
   "source": [
    "Хочу отметить, что при переводе из 16ричной в 10ричную, эти цифры совпадают , а это значит, что и вывод ```somesome.__iter__()``` это указатель объекта итератора, а не какой либо элемент(его можно разыменовать ,но изначально это прямая ссылка на элемент)"
   ]
  },
  {
   "cell_type": "markdown",
   "metadata": {},
   "source": [
    "\n",
    "\n",
    "```__len__``` - внутренний метод питона, который возвращает число элементов объекта "
   ]
  },
  {
   "cell_type": "code",
   "execution_count": null,
   "metadata": {},
   "outputs": [
    {
     "data": {
      "text/plain": [
       "3"
      ]
     },
     "execution_count": 4,
     "metadata": {},
     "output_type": "execute_result"
    }
   ],
   "source": [
    "from collections.abc import MutableSet\n",
    "\n",
    "class B(MutableSet):\n",
    "      \n",
    "    def __init__(self):\n",
    "        \"\"\" инициальзация множества для хранения элементов \"\"\"\n",
    "        self.name_items = set()\n",
    "    \n",
    "    def __contains__(self, item):\n",
    "        \"\"\" метод проверяющий наличие элемента\n",
    "            при наличии элемента в множестве возвращает\n",
    "            True, при отсутствии False\"\"\"\n",
    "        if not isinstance(item, str):\n",
    "            raise TypeError(f'Название элемента должено быть строкой, а не {item.__class__.__name__}')\n",
    "        return item in self.name_items\n",
    "\n",
    "    def __iter__(self):\n",
    "        \"\"\" метод возвращающий итератор по всем элементам множества\"\"\"\n",
    "        return iter(self.name_items)\n",
    "        \n",
    "    def __len__(self):\n",
    "        \"\"\" метод вычисляющий количество элементов находящихся в множестве\"\"\"\n",
    "        return len(self.name_items)\n",
    "    \n",
    "    def add(self, item):\n",
    "        \"\"\" метод добавляющий элемент(строку) с проверкой наличия элемента в множество\"\"\"\n",
    "        if not isinstance(item, str):\n",
    "            raise TypeError(f'Укажите название строкой. Вы указали {item.__class__.__name__}')\n",
    "        if item in self.name_items:\n",
    "            raise ValueError(f'Элемент \"{item}\" уже находится в множестве')\n",
    "        self.name_items.add(item)\n",
    "        \n",
    "    def discard(self, item):\n",
    "        \"\"\"метод удаляющий элемент(строку) в множестве с проверкой наличия элемента в множестве\"\"\"\n",
    "        if not isinstance(item, str):\n",
    "            raise TypeError(f'Укажите название строкой. Вы указали {item.__class__.__name__}')\n",
    "        if item not in self.name_items:\n",
    "            raise ValueError(f'Элемента \"{item}\" нет в множестве')\n",
    "        self.name_items.discard(item)\n",
    "    \n",
    "    def __repr__(self):\n",
    "        \"\"\" Вид своего вывода содержимого \"\"\"\n",
    "        return f'{self.__class__.__name__}:{self.name_items}'\n",
    "\n",
    "    \n",
    "\n",
    "class ins(B):\n",
    "    pass\n",
    "\n",
    "\n",
    "somesome = ins() # создание экземпляра\n",
    "\n",
    "somesome.add(\"some\") # добавление эелемента в экземпляр\n",
    "\n",
    "somesome.add(\"some2\") # добавление элемента в экземпляр\n",
    "\n",
    "somesome.add(\"some3\") # добаление эелемента в экземпляр\n",
    "\n",
    "somesome.__len__() # использование метода , который выведет кол-во элементов"
   ]
  },
  {
   "cell_type": "markdown",
   "metadata": {},
   "source": [
    "add - метод , который добавляет элемент в экземпляр"
   ]
  },
  {
   "cell_type": "code",
   "execution_count": null,
   "metadata": {},
   "outputs": [
    {
     "name": "stdout",
     "output_type": "stream",
     "text": [
      "0\n",
      "1\n"
     ]
    }
   ],
   "source": [
    "from collections.abc import MutableSet\n",
    "\n",
    "class B(MutableSet):\n",
    "      \n",
    "    def __init__(self):\n",
    "        \"\"\" инициальзация множества для хранения элементов \"\"\"\n",
    "        self.name_items = set()\n",
    "    \n",
    "    def __contains__(self, item):\n",
    "        \"\"\" метод проверяющий наличие элемента\n",
    "            при наличии элемента в множестве возвращает\n",
    "            True, при отсутствии False\"\"\"\n",
    "        if not isinstance(item, str):\n",
    "            raise TypeError(f'Название элемента должено быть строкой, а не {item.__class__.__name__}')\n",
    "        return item in self.name_items\n",
    "\n",
    "    def __iter__(self):\n",
    "        \"\"\" метод возвращающий итератор по всем элементам множества\"\"\"\n",
    "        return iter(self.name_items)\n",
    "        \n",
    "    def __len__(self):\n",
    "        \"\"\" метод вычисляющий количество элементов находящихся в множестве\"\"\"\n",
    "        return len(self.name_items)\n",
    "    \n",
    "    def add(self, item):\n",
    "        \"\"\" метод добавляющий элемент(строку) с проверкой наличия элемента в множество\"\"\"\n",
    "        if not isinstance(item, str):\n",
    "            raise TypeError(f'Укажите название строкой. Вы указали {item.__class__.__name__}')\n",
    "        if item in self.name_items:\n",
    "            raise ValueError(f'Элемент \"{item}\" уже находится в множестве')\n",
    "        self.name_items.add(item)\n",
    "        \n",
    "    def discard(self, item):\n",
    "        \"\"\"метод удаляющий элемент(строку) в множестве с проверкой наличия элемента в множестве\"\"\"\n",
    "        if not isinstance(item, str):\n",
    "            raise TypeError(f'Укажите название строкой. Вы указали {item.__class__.__name__}')\n",
    "        if item not in self.name_items:\n",
    "            raise ValueError(f'Элемента \"{item}\" нет в множестве')\n",
    "        self.name_items.discard(item)\n",
    "    \n",
    "    def __repr__(self):\n",
    "        \"\"\" Вид своего вывода содержимого \"\"\"\n",
    "        return f'{self.__class__.__name__}:{self.name_items}'\n",
    "\n",
    "    \n",
    "\n",
    "class ins(B):\n",
    "    pass\n",
    "\n",
    "\n",
    "somesome = ins() # создание экземпляра\n",
    "\n",
    "print(somesome.__len__()) # вывод кол-ва элементов в экземпляре\n",
    "\n",
    "somesome.add(\"some\") # добавление элемента в экземпляр\n",
    "\n",
    "print(somesome.__len__()) # вывод кол-ва элементов в экземпляре"
   ]
  },
  {
   "cell_type": "markdown",
   "metadata": {},
   "source": [
    "discard - метод, который убирает конкретный элемент из экземпляра"
   ]
  },
  {
   "cell_type": "code",
   "execution_count": null,
   "metadata": {},
   "outputs": [
    {
     "name": "stdout",
     "output_type": "stream",
     "text": [
      "0\n",
      "1\n",
      "0\n"
     ]
    },
    {
     "ename": "ValueError",
     "evalue": "Элемента \"some1\" нет в множестве",
     "output_type": "error",
     "traceback": [
      "\u001b[31m---------------------------------------------------------------------------\u001b[39m",
      "\u001b[31mValueError\u001b[39m                                Traceback (most recent call last)",
      "\u001b[36mCell\u001b[39m\u001b[36m \u001b[39m\u001b[32mIn[5]\u001b[39m\u001b[32m, line 63\u001b[39m\n\u001b[32m     59\u001b[39m somesome.discard(\u001b[33m\"\u001b[39m\u001b[33msome\u001b[39m\u001b[33m\"\u001b[39m)\n\u001b[32m     61\u001b[39m \u001b[38;5;28mprint\u001b[39m(somesome.\u001b[34m__len__\u001b[39m())\n\u001b[32m---> \u001b[39m\u001b[32m63\u001b[39m \u001b[43msomesome\u001b[49m\u001b[43m.\u001b[49m\u001b[43mdiscard\u001b[49m\u001b[43m(\u001b[49m\u001b[33;43m\"\u001b[39;49m\u001b[33;43msome1\u001b[39;49m\u001b[33;43m\"\u001b[39;49m\u001b[43m)\u001b[49m\n",
      "\u001b[36mCell\u001b[39m\u001b[36m \u001b[39m\u001b[32mIn[5]\u001b[39m\u001b[32m, line 38\u001b[39m, in \u001b[36mB.discard\u001b[39m\u001b[34m(self, item)\u001b[39m\n\u001b[32m     36\u001b[39m     \u001b[38;5;28;01mraise\u001b[39;00m \u001b[38;5;167;01mTypeError\u001b[39;00m(\u001b[33mf\u001b[39m\u001b[33m'\u001b[39m\u001b[33mУкажите название строкой. Вы указали \u001b[39m\u001b[38;5;132;01m{\u001b[39;00mitem.\u001b[34m__class__\u001b[39m.\u001b[34m__name__\u001b[39m\u001b[38;5;132;01m}\u001b[39;00m\u001b[33m'\u001b[39m)\n\u001b[32m     37\u001b[39m \u001b[38;5;28;01mif\u001b[39;00m item \u001b[38;5;129;01mnot\u001b[39;00m \u001b[38;5;129;01min\u001b[39;00m \u001b[38;5;28mself\u001b[39m.name_items:\n\u001b[32m---> \u001b[39m\u001b[32m38\u001b[39m     \u001b[38;5;28;01mraise\u001b[39;00m \u001b[38;5;167;01mValueError\u001b[39;00m(\u001b[33mf\u001b[39m\u001b[33m'\u001b[39m\u001b[33mЭлемента \u001b[39m\u001b[33m\"\u001b[39m\u001b[38;5;132;01m{\u001b[39;00mitem\u001b[38;5;132;01m}\u001b[39;00m\u001b[33m\"\u001b[39m\u001b[33m нет в множестве\u001b[39m\u001b[33m'\u001b[39m)\n\u001b[32m     39\u001b[39m \u001b[38;5;28mself\u001b[39m.name_items.discard(item)\n",
      "\u001b[31mValueError\u001b[39m: Элемента \"some1\" нет в множестве"
     ]
    }
   ],
   "source": [
    "from collections.abc import MutableSet\n",
    "\n",
    "class B(MutableSet):\n",
    "      \n",
    "    def __init__(self):\n",
    "        \"\"\" инициальзация множества для хранения элементов \"\"\"\n",
    "        self.name_items = set()\n",
    "    \n",
    "    def __contains__(self, item):\n",
    "        \"\"\" метод проверяющий наличие элемента\n",
    "            при наличии элемента в множестве возвращает\n",
    "            True, при отсутствии False\"\"\"\n",
    "        if not isinstance(item, str):\n",
    "            raise TypeError(f'Название элемента должено быть строкой, а не {item.__class__.__name__}')\n",
    "        return item in self.name_items\n",
    "\n",
    "    def __iter__(self):\n",
    "        \"\"\" метод возвращающий итератор по всем элементам множества\"\"\"\n",
    "        return iter(self.name_items)\n",
    "        \n",
    "    def __len__(self):\n",
    "        \"\"\" метод вычисляющий количество элементов находящихся в множестве\"\"\"\n",
    "        return len(self.name_items)\n",
    "    \n",
    "    def add(self, item):\n",
    "        \"\"\" метод добавляющий элемент(строку) с проверкой наличия элемента в множество\"\"\"\n",
    "        if not isinstance(item, str):\n",
    "            raise TypeError(f'Укажите название строкой. Вы указали {item.__class__.__name__}')\n",
    "        if item in self.name_items:\n",
    "            raise ValueError(f'Элемент \"{item}\" уже находится в множестве')\n",
    "        self.name_items.add(item)\n",
    "        \n",
    "    def discard(self, item):\n",
    "        \"\"\"метод удаляющий элемент(строку) в множестве с проверкой наличия элемента в множестве\"\"\"\n",
    "        if not isinstance(item, str):\n",
    "            raise TypeError(f'Укажите название строкой. Вы указали {item.__class__.__name__}')\n",
    "        if item not in self.name_items:\n",
    "            raise ValueError(f'Элемента \"{item}\" нет в множестве')\n",
    "        self.name_items.discard(item)\n",
    "    \n",
    "    def __repr__(self):\n",
    "        \"\"\" Вид своего вывода содержимого \"\"\"\n",
    "        return f'{self.__class__.__name__}:{self.name_items}'\n",
    "\n",
    "    \n",
    "\n",
    "class ins(B):\n",
    "    pass\n",
    "\n",
    "\n",
    "somesome = ins() # созадание экземляра\n",
    "\n",
    "print(somesome.__len__()) # просмотр кол-ва элементов в экземпляре\n",
    "\n",
    "somesome.add(\"some\") # добавление элемента в экземпляр\n",
    "\n",
    "print(somesome.__len__()) # просмотр кол-ва элементов в экземпляре\n",
    "\n",
    "somesome.discard(\"some\") # удаление элемента из экземпляра\n",
    "\n",
    "print(somesome.__len__()) # просмотр кол-ва элементов в экземпляре\n",
    "\n",
    "somesome.discard(\"some1\") # проверка(которая выдаст исключение, потому что такого элемента не существует) на то, что метод удаляет по значению элемента , а не по индексу"
   ]
  },
  {
   "cell_type": "markdown",
   "metadata": {},
   "source": [
    "расписать. привести примеры\n",
    "\n",
    "СОЛИД - принцип единойоствественности.\n",
    "\n",
    "Написать свой класс. пояснить и понять как это работает."
   ]
  },
  {
   "cell_type": "code",
   "execution_count": 7,
   "metadata": {},
   "outputs": [
    {
     "name": "stdout",
     "output_type": "stream",
     "text": [
      "2\n",
      "True\n",
      "<set_iterator object at 0x000002BF70A165C0>\n",
      "Lakes:{'Черное', 'Белое'}\n",
      "3\n",
      "False\n",
      "Arendator:{'Инакентий Загрибайло', 'Тетя Зина', 'Дядя Петя'}\n",
      "Arendator:{'Инакентий Загрибайло', 'Дядя Петя'}\n"
     ]
    },
    {
     "ename": "TypeError",
     "evalue": "Укажите название строкой. Вы указали int",
     "output_type": "error",
     "traceback": [
      "\u001b[31m---------------------------------------------------------------------------\u001b[39m",
      "\u001b[31mTypeError\u001b[39m                                 Traceback (most recent call last)",
      "\u001b[36mCell\u001b[39m\u001b[36m \u001b[39m\u001b[32mIn[7]\u001b[39m\u001b[32m, line 77\u001b[39m\n\u001b[32m     75\u001b[39m arendator.discard(\u001b[33m'\u001b[39m\u001b[33mТетя Зина\u001b[39m\u001b[33m'\u001b[39m) \u001b[38;5;66;03m# удаляем элемент из множества\u001b[39;00m\n\u001b[32m     76\u001b[39m \u001b[38;5;28mprint\u001b[39m(arendator)\n\u001b[32m---> \u001b[39m\u001b[32m77\u001b[39m \u001b[43marendator\u001b[49m\u001b[43m.\u001b[49m\u001b[43madd\u001b[49m\u001b[43m(\u001b[49m\u001b[32;43m1\u001b[39;49m\u001b[43m)\u001b[49m \u001b[38;5;66;03m# Получаем исключение TypeError т.к. веденный элемент не соответствует предъявленным требованиям\u001b[39;00m\n",
      "\u001b[36mCell\u001b[39m\u001b[36m \u001b[39m\u001b[32mIn[7]\u001b[39m\u001b[32m, line 30\u001b[39m, in \u001b[36mA.add\u001b[39m\u001b[34m(self, item)\u001b[39m\n\u001b[32m     28\u001b[39m \u001b[38;5;250m\u001b[39m\u001b[33;03m\"\"\" метод добавляющий элемент(строку) с проверкой наличия элемента в множество\"\"\"\u001b[39;00m\n\u001b[32m     29\u001b[39m \u001b[38;5;28;01mif\u001b[39;00m \u001b[38;5;129;01mnot\u001b[39;00m \u001b[38;5;28misinstance\u001b[39m(item, \u001b[38;5;28mstr\u001b[39m):\n\u001b[32m---> \u001b[39m\u001b[32m30\u001b[39m     \u001b[38;5;28;01mraise\u001b[39;00m \u001b[38;5;167;01mTypeError\u001b[39;00m(\u001b[33mf\u001b[39m\u001b[33m'\u001b[39m\u001b[33mУкажите название строкой. Вы указали \u001b[39m\u001b[38;5;132;01m{\u001b[39;00mitem.\u001b[34m__class__\u001b[39m.\u001b[34m__name__\u001b[39m\u001b[38;5;132;01m}\u001b[39;00m\u001b[33m'\u001b[39m)\n\u001b[32m     31\u001b[39m \u001b[38;5;28;01mif\u001b[39;00m item \u001b[38;5;129;01min\u001b[39;00m \u001b[38;5;28mself\u001b[39m.name_items:\n\u001b[32m     32\u001b[39m     \u001b[38;5;28;01mraise\u001b[39;00m \u001b[38;5;167;01mValueError\u001b[39;00m(\u001b[33mf\u001b[39m\u001b[33m'\u001b[39m\u001b[33mЭлемент \u001b[39m\u001b[33m\"\u001b[39m\u001b[38;5;132;01m{\u001b[39;00mitem\u001b[38;5;132;01m}\u001b[39;00m\u001b[33m\"\u001b[39m\u001b[33m уже находится в множестве\u001b[39m\u001b[33m'\u001b[39m)\n",
      "\u001b[31mTypeError\u001b[39m: Укажите название строкой. Вы указали int"
     ]
    }
   ],
   "source": [
    "from collections.abc import MutableSet\n",
    "\n",
    "class A(MutableSet):\n",
    "    \"\"\" Реализация изменяемого множества (MutableSet) для хранения строковых элементов.\n",
    "        Необходимо определить абстрактные методы __contains__, __iter__, __len__, add, discard \"\"\"\n",
    "\n",
    "    def __init__(self):\n",
    "        \"\"\" инициальзация множества для хранения элементов \"\"\"\n",
    "        self.name_items = set()\n",
    "    \n",
    "    def __contains__(self, item):\n",
    "        \"\"\" метод проверяющий наличие элемента\n",
    "            при наличии элемента в множестве возвращает\n",
    "            True, при отсутствии False\"\"\"\n",
    "        if not isinstance(item, str):\n",
    "            raise TypeError(f'Название элемента должено быть строкой, а не {item.__class__.__name__}')\n",
    "        return item in self.name_items\n",
    "\n",
    "    def __iter__(self):\n",
    "        \"\"\" метод возвращающий итератор по всем элементам множества\"\"\"\n",
    "        return iter(self.name_items)\n",
    "        \n",
    "    def __len__(self):\n",
    "        \"\"\" метод вычисляющий количество элементов находящихся в множестве\"\"\"\n",
    "        return len(self.name_items)\n",
    "    \n",
    "    def add(self, item):\n",
    "        \"\"\" метод добавляющий элемент(строку) с проверкой наличия элемента в множество\"\"\"\n",
    "        if not isinstance(item, str):\n",
    "            raise TypeError(f'Укажите название строкой. Вы указали {item.__class__.__name__}')\n",
    "        if item in self.name_items:\n",
    "            raise ValueError(f'Элемент \"{item}\" уже находится в множестве')\n",
    "        self.name_items.add(item)\n",
    "        \n",
    "    def discard(self, item):\n",
    "        \"\"\"метод удаляющий элемент(строку) в множестве с проверкой наличия элемента в множестве\"\"\"\n",
    "        if not isinstance(item, str):\n",
    "            raise TypeError(f'Укажите название строкой. Вы указали {item.__class__.__name__}')\n",
    "        if item not in self.name_items:\n",
    "            raise ValueError(f'Элемента \"{item}\" нет в множестве')\n",
    "        self.name_items.discard(item)\n",
    "    \n",
    "    def __repr__(self):\n",
    "        \"\"\" Вид своего вывода содержимого \"\"\"\n",
    "        return f'{self.__class__.__name__}:{self.name_items}'\n",
    "\n",
    "class Lakes(A):\n",
    "    pass\n",
    "\n",
    "class Arendator(A):\n",
    "    pass\n",
    "\n",
    "\n",
    "# Создаем экземпляр класса Lakes\n",
    "lake1=Lakes()\n",
    "# Добавляем элементы в множество\n",
    "lake1.add('Белое')\n",
    "lake1.add('Черное')\n",
    "# Проверяем работу методов\n",
    "print(len(lake1)) # Вывод: 2  - количество элементов\n",
    "print(lake1.__contains__('Белое')) # Вывод: True - наличие элемента\n",
    "print(lake1.__iter__()) # Вывод: <set_iterator object at 0x00000209A248D080> - итератор\n",
    "print(lake1) # Вывод: Lakes:{'Белое', 'Черное'}\n",
    "\n",
    "# Создаем экземпляр класса Lakes\n",
    "arendator=Arendator()\n",
    "# Добавляем элементы в множество\n",
    "arendator.add('Дядя Петя')\n",
    "arendator.add('Тетя Зина')\n",
    "arendator.add('Инакентий Загрибайло')\n",
    "# Проверяем работу методов\n",
    "print(len(arendator))\n",
    "print(arendator.__contains__('Белое'))\n",
    "print(arendator)\n",
    "arendator.discard('Тетя Зина') # удаляем элемент из множества\n",
    "print(arendator)\n",
    "arendator.add(1) # Получаем исключение TypeError т.к. веденный элемент не соответствует предъявленным требованиям"
   ]
  },
  {
   "cell_type": "markdown",
   "metadata": {},
   "source": [
    "https://github.com/beeware/toga/blob/main/core/src/toga/window.py#L922\n",
    "\n",
    "```python\n",
    "class WindowSet(MutableSet[Window]): #создание класса с наследованным классом MutableSet\n",
    "    def __init__(self, app: App): # модификация метода init, для создания гибкого экземпляра\n",
    "        \"\"\"A collection of windows managed by an app.\n",
    "\n",
    "        A window is automatically added to the app when it is created, and removed when\n",
    "        it is closed. Adding a window to an App's window set automatically sets the\n",
    "        :attr:`~toga.Window.app` property of the Window.\n",
    "        \"\"\"\n",
    "        self.app = app # присвоение аргумента app, объекту экземпляра \n",
    "        self.elements: set[Window] = set() # создание объекта(множества) elements с типом set\n",
    "\n",
    "    def add(self, window: Window) -> None:# метод , который будет добавлять элемент в множество\n",
    "        if not isinstance(window, Window): # если объект не типа window, то \n",
    "            raise TypeError(\"Can only add objects of type toga.Window\") # исключение\n",
    "        # Silently not add if duplicate не добавляет, если объект существует \n",
    "        if window not in self.elements: # если объект не в множетве elements, то \n",
    "            self.elements.add(window) # добавить объект в множество \n",
    "            window.app = self.app #????\n",
    "\n",
    "    def discard(self, window: Window) -> None: # метод удаление эелемента из множетсва \n",
    "        if not isinstance(window, Window): # если объект не типа window, то \n",
    "            raise TypeError(\"Can only discard objects of type toga.Window\") #исключение \n",
    "        if window not in self.elements: # если аргумента нет в множетвет, то \n",
    "            raise ValueError(f\"{window!r} is not part of this app\") #исключение \n",
    "        self.elements.remove(window) # если нет ошибки, то удаление элемента\n",
    "\n",
    "    def __iter__(self) -> Iterator[Window]: # метод, который возвращает итератор \n",
    "        return iter(self.elements) # возвращение итератора\n",
    "\n",
    "    def __contains__(self, value: object) -> bool: # метод, который проверяет наличие элемента в множетве\n",
    "        ##############################################м \n",
    "        return value in self.elements # ТУТ Я НЕ ПОНЯЛ КАК РАБОТАЕТ. почему это выглядит так, что возвращается значение, но на выходе True\n",
    "        #########################################################м\n",
    "\n",
    "    def __len__(self) -> int: #метод, который возвращает кол-во элементов в множестве\n",
    "        return len(self.elements) # возвращает кол-во элементов в множестве\n",
    "```"
   ]
  },
  {
   "cell_type": "markdown",
   "metadata": {},
   "source": [
    "расписанный код ниже, тут я просто хотел смотреть на вариант, который будет без лишних букв для более лучшей ориентации "
   ]
  },
  {
   "cell_type": "code",
   "execution_count": 27,
   "metadata": {},
   "outputs": [
    {
     "name": "stdout",
     "output_type": "stream",
     "text": [
      "2\n",
      "1\n",
      "True\n",
      "<set_iterator object at 0x0000024485A206C0>\n"
     ]
    }
   ],
   "source": [
    "from collections.abc import MutableSet\n",
    "\n",
    "class _local(MutableSet):\n",
    "    \"\"\"Класс, который производит операции с множеством.\n",
    "    \n",
    "    заточен только под тип int.\n",
    "    \"\"\"\n",
    "    \n",
    "    def __init__(self):\n",
    "        self.container: list = set()\n",
    "\n",
    "    def add(self,num_add: int) -> None: \n",
    "        if not isinstance(num_add, int):\n",
    "            raise ValueError(f\"аргумент {num_add} не принадлежит типу int\")\n",
    "        if num_add not in self.container:\n",
    "            self.container.add(num_add)\n",
    "    \n",
    "    def discard(self,num_del: int) -> None:\n",
    "        if not isinstance(num_del, int):\n",
    "            raise ValueError(f\"аргумент {num_add} не принадлежит типу int\") \n",
    "        if num_del not in self.container:\n",
    "            raise ValueError(f\"элемент {num_del} не находится в объекте экземпляра\")\n",
    "        self.container.remove(num_del)\n",
    "\n",
    "    def __contains__(self, item :object) -> int: \n",
    "        if item not in self.container:\n",
    "            raise ValueError(f\"элемент {item} отсутствует в множестве экземпляра\")\n",
    "        ###################################################################################     \n",
    "        return item in self.container # ТУТ Я НЕ ПОНЯЛ КАК РАБОТАЕТ. почему это выглядит так, что возвращается значение, но на выходе True\n",
    "        ###################################################################################\n",
    "    def __iter__(self):\n",
    "        return iter(self.container)\n",
    "\n",
    "    def __len__(self) ->int:\n",
    "        return len(self.container)\n",
    "\n",
    "    \n",
    "\n",
    "class test(_local):\n",
    "    pass\n",
    "\n",
    "\n",
    "example = test()\n",
    "\n",
    "example.add(1)\n",
    "\n",
    "example.add(4)\n",
    "\n",
    "print(example.__len__())\n",
    "\n",
    "example.discard(4)\n",
    "\n",
    "print(example.__len__())\n",
    "\n",
    "print(example.__contains__(1))\n",
    "\n",
    "print(example.__iter__())"
   ]
  },
  {
   "cell_type": "code",
   "execution_count": 24,
   "metadata": {},
   "outputs": [
    {
     "name": "stdout",
     "output_type": "stream",
     "text": [
      "2\n",
      "1\n",
      "True\n",
      "<set_iterator object at 0x00000244852F4F00>\n"
     ]
    }
   ],
   "source": [
    "from collections.abc import MutableSet #импорт класса MutableSet из модуля collections( не понимаю, как в модуле может быть ссылка на что либо(abc) , но видмо, это так работает)\n",
    "\n",
    "class _local(MutableSet): #создание класса с наследованием\n",
    "    \"\"\"Класс, который производит операции с множеством.\n",
    "    \n",
    "    заточен только под тип int.\n",
    "    \"\"\"\n",
    "    \n",
    "    def __init__(self): #переопределенный метод инициализации объекта экземпляра(он наследуется изначально из класса по умолчанию, но перезаписывается потому что прописан здесь)\n",
    "        self.container: list = set() #создание объекта экземпляра с типом лист(наверно(просто я не знаю, что такое set()))\n",
    "\n",
    "    def add(self,num_add: int) -> None: #метод, который добавляет элемент в объект экземпляр\n",
    "        if not isinstance(num_add, int): #если аргумент не с типом Int, то \n",
    "            raise ValueError(f\"аргумент {num_add} не принадлежит типу int\") # ошибка , которая выводит данный текст\n",
    "        if num_add not in self.container: # если аргумент не в множестве, то(тут можно было обойтись без этой строки, чтобы можно было добавлять одинаковые аргументы, но я хотел испльзовать такую конструкцию)\n",
    "            self.container.add(num_add) # добавление аргумента в множество\n",
    "    \n",
    "    def discard(self,num_del: int) -> None: #метод, который удаляет элемент из объекта экземпляра\n",
    "        if not isinstance(num_del, int): #если аргумент не с типом Int, то \n",
    "            raise ValueError(f\"аргумент {num_add} не принадлежит типу int\") # ошибка , которая выводит данный текст\n",
    "        if num_del not in self.container: # если в контейнере нет элемента со значением аргумента, то \n",
    "            raise ValueError(f\"элемент {num_del} не находится в объекте экземпляра\") # ошибка , которая выводит данный текст\n",
    "        self.container.discard(num_del) # если не произошла ни одна из этих ошибок, то элемент удаляется из множества\n",
    "    ################################################################################################################################\n",
    "    # ТУТ Я НЕ ПОНЯЛ КАК РАБОТАЕТ. почему это выглядит так, что возвращается значение, но на выходе True\n",
    "    def __contains__(self, item :object) -> int: #метод, который возвращает true, если элемент присутвует в множестве\n",
    "        if item not in self.container: # если аргумент не находится в множестве, то \n",
    "            raise ValueError(f\"элемент {item} отсутствует в множестве экземпляра\") # ошибка ,которая выводит данный текст\n",
    "        return item in self.container # если ошибок не случилось, то возвращает true\n",
    "    ################################################################################################################################\n",
    "\n",
    "    def __iter__(self): #метод, который создает объект итератор\n",
    "        return iter(self.container) #возвращение итератора\n",
    "\n",
    "    def __len__(self) ->int: #метод, который считает длину элементов экземпляра(хочу написать 'считает кол-во объектов, объекта экземпляра', но не знаю насколько это верно, скажите, как будет правильней)\n",
    "        return len(self.container) #возвращение кол-ва элементов множества\n",
    "\n",
    "    \n",
    "\n",
    "class test(_local):\n",
    "    pass\n",
    "\n",
    "\n",
    "example = test()\n",
    "\n",
    "example.add(1)\n",
    "\n",
    "example.add(4)\n",
    "\n",
    "print(example.__len__())\n",
    "\n",
    "example.discard(4)\n",
    "\n",
    "print(example.__len__())\n",
    "\n",
    "print(example.__contains__(1))\n",
    "\n",
    "print(example.__iter__())"
   ]
  },
  {
   "cell_type": "code",
   "execution_count": 19,
   "metadata": {},
   "outputs": [
    {
     "ename": "ValueError",
     "evalue": "элемент 4 отсутствует в множестве экземпляра",
     "output_type": "error",
     "traceback": [
      "\u001b[1;31m---------------------------------------------------------------------------\u001b[0m",
      "\u001b[1;31mValueError\u001b[0m                                Traceback (most recent call last)",
      "Cell \u001b[1;32mIn[19], line 1\u001b[0m\n\u001b[1;32m----> 1\u001b[0m \u001b[43mexample\u001b[49m\u001b[38;5;241;43m.\u001b[39;49m\u001b[38;5;21;43m__contains__\u001b[39;49m\u001b[43m(\u001b[49m\u001b[38;5;241;43m4\u001b[39;49m\u001b[43m)\u001b[49m\n",
      "Cell \u001b[1;32mIn[16], line 23\u001b[0m, in \u001b[0;36m_local.__contains__\u001b[1;34m(self, item)\u001b[0m\n\u001b[0;32m     21\u001b[0m \u001b[38;5;28;01mdef\u001b[39;00m\u001b[38;5;250m \u001b[39m\u001b[38;5;21m__contains__\u001b[39m(\u001b[38;5;28mself\u001b[39m, item :\u001b[38;5;28mobject\u001b[39m) \u001b[38;5;241m-\u001b[39m\u001b[38;5;241m>\u001b[39m \u001b[38;5;28mint\u001b[39m: \u001b[38;5;66;03m#метод, который возвращает true, если элемент присутвует в множестве\u001b[39;00m\n\u001b[0;32m     22\u001b[0m     \u001b[38;5;28;01mif\u001b[39;00m item \u001b[38;5;129;01mnot\u001b[39;00m \u001b[38;5;129;01min\u001b[39;00m \u001b[38;5;28mself\u001b[39m\u001b[38;5;241m.\u001b[39mcontainer: \u001b[38;5;66;03m# если аргумент не находится в множестве, то \u001b[39;00m\n\u001b[1;32m---> 23\u001b[0m         \u001b[38;5;28;01mraise\u001b[39;00m \u001b[38;5;167;01mValueError\u001b[39;00m(\u001b[38;5;124mf\u001b[39m\u001b[38;5;124m\"\u001b[39m\u001b[38;5;124mэлемент \u001b[39m\u001b[38;5;132;01m{\u001b[39;00mitem\u001b[38;5;132;01m}\u001b[39;00m\u001b[38;5;124m отсутствует в множестве экземпляра\u001b[39m\u001b[38;5;124m\"\u001b[39m) \u001b[38;5;66;03m# ошибка ,которая выводит данный текст\u001b[39;00m\n\u001b[0;32m     24\u001b[0m     \u001b[38;5;28;01mreturn\u001b[39;00m item \u001b[38;5;129;01min\u001b[39;00m \u001b[38;5;28mself\u001b[39m\u001b[38;5;241m.\u001b[39mcontainer\n",
      "\u001b[1;31mValueError\u001b[0m: элемент 4 отсутствует в множестве экземпляра"
     ]
    }
   ],
   "source": [
    "example.__contains__(4)"
   ]
  },
  {
   "cell_type": "code",
   "execution_count": 20,
   "metadata": {},
   "outputs": [
    {
     "ename": "ValueError",
     "evalue": "элемент 4 не находится в объекте экземпляра",
     "output_type": "error",
     "traceback": [
      "\u001b[1;31m---------------------------------------------------------------------------\u001b[0m",
      "\u001b[1;31mValueError\u001b[0m                                Traceback (most recent call last)",
      "Cell \u001b[1;32mIn[20], line 1\u001b[0m\n\u001b[1;32m----> 1\u001b[0m \u001b[43mexample\u001b[49m\u001b[38;5;241;43m.\u001b[39;49m\u001b[43mdiscard\u001b[49m\u001b[43m(\u001b[49m\u001b[38;5;241;43m4\u001b[39;49m\u001b[43m)\u001b[49m\n",
      "Cell \u001b[1;32mIn[16], line 18\u001b[0m, in \u001b[0;36m_local.discard\u001b[1;34m(self, num_del)\u001b[0m\n\u001b[0;32m     16\u001b[0m     \u001b[38;5;28;01mraise\u001b[39;00m \u001b[38;5;167;01mValueError\u001b[39;00m(\u001b[38;5;124mf\u001b[39m\u001b[38;5;124m\"\u001b[39m\u001b[38;5;124mаргумент \u001b[39m\u001b[38;5;132;01m{\u001b[39;00mnum_add\u001b[38;5;132;01m}\u001b[39;00m\u001b[38;5;124m не принадлежит типу int\u001b[39m\u001b[38;5;124m\"\u001b[39m) \u001b[38;5;66;03m# ошибка , которая выводит данный текст\u001b[39;00m\n\u001b[0;32m     17\u001b[0m \u001b[38;5;28;01mif\u001b[39;00m num_del \u001b[38;5;129;01mnot\u001b[39;00m \u001b[38;5;129;01min\u001b[39;00m \u001b[38;5;28mself\u001b[39m\u001b[38;5;241m.\u001b[39mcontainer: \u001b[38;5;66;03m# если в контейнере нет элемента со значением аргумента, то \u001b[39;00m\n\u001b[1;32m---> 18\u001b[0m     \u001b[38;5;28;01mraise\u001b[39;00m \u001b[38;5;167;01mValueError\u001b[39;00m(\u001b[38;5;124mf\u001b[39m\u001b[38;5;124m\"\u001b[39m\u001b[38;5;124mэлемент \u001b[39m\u001b[38;5;132;01m{\u001b[39;00mnum_del\u001b[38;5;132;01m}\u001b[39;00m\u001b[38;5;124m не находится в объекте экземпляра\u001b[39m\u001b[38;5;124m\"\u001b[39m) \u001b[38;5;66;03m# ошибка , которая выводит данный текст\u001b[39;00m\n\u001b[0;32m     19\u001b[0m \u001b[38;5;28mself\u001b[39m\u001b[38;5;241m.\u001b[39mcontainer\u001b[38;5;241m.\u001b[39mdiscard(num_del)\n",
      "\u001b[1;31mValueError\u001b[0m: элемент 4 не находится в объекте экземпляра"
     ]
    }
   ],
   "source": [
    "example.discard(4)"
   ]
  },
  {
   "cell_type": "code",
   "execution_count": 1,
   "metadata": {},
   "outputs": [
    {
     "ename": "NameError",
     "evalue": "name 'example' is not defined",
     "output_type": "error",
     "traceback": [
      "\u001b[0;31m---------------------------------------------------------------------------\u001b[0m",
      "\u001b[0;31mNameError\u001b[0m                                 Traceback (most recent call last)",
      "Cell \u001b[0;32mIn[1], line 1\u001b[0m\n\u001b[0;32m----> 1\u001b[0m \u001b[43mexample\u001b[49m\u001b[38;5;241m.\u001b[39madd(\u001b[38;5;124m\"\u001b[39m\u001b[38;5;124msometext\u001b[39m\u001b[38;5;124m\"\u001b[39m)\n",
      "\u001b[0;31mNameError\u001b[0m: name 'example' is not defined"
     ]
    }
   ],
   "source": [
    "example.add(\"sometext\")"
   ]
  },
  {
   "cell_type": "markdown",
   "metadata": {},
   "source": [
    "# Задание от 14.05.2025"
   ]
  },
  {
   "cell_type": "markdown",
   "metadata": {},
   "source": [
    "###  Задание 1. \n",
    "\n",
    "Абстрактный класс и интерфейс\n",
    "\n",
    "абстрактный класс служит для того, чтобы определять общие методы для других классов, которые будут их наследовать. В нем могут быть и не обязательные методы. В нем могут храниться атрибуты\n",
    "\n",
    "интерфейс служит для того, чтобы определять общие методы для других классов, которые будут их наследовать. Обычно в нем хранятся только абстрактные методы(которые объявляются без каких либо действий внутри метода)\n",
    "\n",
    "показать в коде, разъяснить."
   ]
  },
  {
   "cell_type": "code",
   "execution_count": 30,
   "metadata": {},
   "outputs": [
    {
     "ename": "TypeError",
     "evalue": "Can't instantiate abstract class Car without an implementation for abstract method 'walk'",
     "output_type": "error",
     "traceback": [
      "\u001b[31m---------------------------------------------------------------------------\u001b[39m",
      "\u001b[31mTypeError\u001b[39m                                 Traceback (most recent call last)",
      "\u001b[36mCell\u001b[39m\u001b[36m \u001b[39m\u001b[32mIn[30]\u001b[39m\u001b[32m, line 9\u001b[39m\n\u001b[32m      5\u001b[39m     \u001b[38;5;129m@abstractmethod\u001b[39m\n\u001b[32m      6\u001b[39m     \u001b[38;5;28;01mdef\u001b[39;00m\u001b[38;5;250m \u001b[39m\u001b[34mwalk\u001b[39m(\u001b[38;5;28mself\u001b[39m):\n\u001b[32m      7\u001b[39m         \u001b[38;5;28;01mpass\u001b[39;00m\n\u001b[32m----> \u001b[39m\u001b[32m9\u001b[39m car = \u001b[43mCar\u001b[49m\u001b[43m(\u001b[49m\u001b[43m)\u001b[49m\n",
      "\u001b[31mTypeError\u001b[39m: Can't instantiate abstract class Car without an implementation for abstract method 'walk'"
     ]
    }
   ],
   "source": [
    "from abc import ABC, abstractmethod\n",
    "\n",
    "class Car(ABC): # создание интерфейса(это интерфейс, потому что в нем только объявляются методы, без реализации)\n",
    "\n",
    "    @abstractmethod\n",
    "    def walk(self):\n",
    "        pass\n",
    "\n",
    "car = Car()"
   ]
  },
  {
   "cell_type": "code",
   "execution_count": 29,
   "metadata": {},
   "outputs": [
    {
     "ename": "TypeError",
     "evalue": "Can't instantiate abstract class honda without an implementation for abstract methods 'walk', 'walk1'",
     "output_type": "error",
     "traceback": [
      "\u001b[31m---------------------------------------------------------------------------\u001b[39m",
      "\u001b[31mTypeError\u001b[39m                                 Traceback (most recent call last)",
      "\u001b[36mCell\u001b[39m\u001b[36m \u001b[39m\u001b[32mIn[29]\u001b[39m\u001b[32m, line 22\u001b[39m\n\u001b[32m     19\u001b[39m \u001b[38;5;28;01mclass\u001b[39;00m\u001b[38;5;250m \u001b[39m\u001b[34;01mhonda\u001b[39;00m(Car):\n\u001b[32m     20\u001b[39m     \u001b[38;5;28;01mpass\u001b[39;00m\n\u001b[32m---> \u001b[39m\u001b[32m22\u001b[39m car = \u001b[43mhonda\u001b[49m\u001b[43m(\u001b[49m\u001b[43m)\u001b[49m\n",
      "\u001b[31mTypeError\u001b[39m: Can't instantiate abstract class honda without an implementation for abstract methods 'walk', 'walk1'"
     ]
    }
   ],
   "source": [
    "from abc import ABC, abstractmethod\n",
    "\n",
    "class Car(ABC): # создание абстрактного класса(это класс, потому что в нем помимо абстрактных методов еще и другие объекты)\n",
    "\n",
    "    i = 11\n",
    "\n",
    "    @abstractmethod\n",
    "    def walk(self):\n",
    "        pass\n",
    "\n",
    "\n",
    "    @abstractmethod\n",
    "    def walk1(self):\n",
    "        pass\n",
    "\n",
    "    def some_method(self):\n",
    "        pass\n",
    "\n",
    "class honda(Car):\n",
    "    pass\n",
    "\n",
    "car = honda()"
   ]
  },
  {
   "cell_type": "markdown",
   "metadata": {},
   "source": [
    "исключение говорит о том, что в наследственном классе должны быть те методы из родительского класса, которые обозначены обязательными(@abc.abstractmethod) в абстрактном классе. Потому что метод без @abc.abstractmethod не написан в исключении"
   ]
  },
  {
   "cell_type": "code",
   "execution_count": 31,
   "metadata": {},
   "outputs": [],
   "source": [
    "from abc import ABC, abstractmethod\n",
    "\n",
    "class Car(ABC):# создание абстрактного класса(это класс, потому что в нем помимо абстрактных методов еще и другие объекты)\n",
    "\n",
    "    i = 11\n",
    "\n",
    "    @abstractmethod\n",
    "    def walk(self):\n",
    "        pass\n",
    "\n",
    "\n",
    "    @abstractmethod\n",
    "    def walk1(self):\n",
    "        pass\n",
    "\n",
    "    def some_method(self):\n",
    "        pass\n",
    "\n",
    "class honda(Car):\n",
    "    def walk(self):\n",
    "        pass\n",
    "    \n",
    "    def walk1(self):\n",
    "        pass\n",
    "    pass\n",
    "\n",
    "car = honda()"
   ]
  },
  {
   "cell_type": "markdown",
   "metadata": {},
   "source": [
    "###  Задание 2.\n",
    "\n",
    "Отличие множества https://docs.python.org/3/reference/datamodel.html#set-types  от последовательностей https://docs.python.org/3/reference/datamodel.html#sequences\n",
    "\n",
    "Отличие множества от последовательности заключается в том, что последовательность это набор значений с идексами, в то время как в множестве индекса нет"
   ]
  },
  {
   "cell_type": "code",
   "execution_count": 2,
   "metadata": {},
   "outputs": [
    {
     "name": "stdout",
     "output_type": "stream",
     "text": [
      "[5, 6, 7]\n"
     ]
    }
   ],
   "source": [
    "list2_ = [5,6,7,8]\n",
    "\n",
    "print(list2_[0:3])"
   ]
  },
  {
   "cell_type": "code",
   "execution_count": 12,
   "metadata": {},
   "outputs": [
    {
     "ename": "TypeError",
     "evalue": "'set' object is not subscriptable",
     "output_type": "error",
     "traceback": [
      "\u001b[31m---------------------------------------------------------------------------\u001b[39m",
      "\u001b[31mTypeError\u001b[39m                                 Traceback (most recent call last)",
      "\u001b[36mCell\u001b[39m\u001b[36m \u001b[39m\u001b[32mIn[12]\u001b[39m\u001b[32m, line 3\u001b[39m\n\u001b[32m      1\u001b[39m set2_ = {\u001b[32m1\u001b[39m,\u001b[32m2\u001b[39m,\u001b[32m3\u001b[39m,\u001b[32m4\u001b[39m}\n\u001b[32m----> \u001b[39m\u001b[32m3\u001b[39m \u001b[38;5;28mprint\u001b[39m(\u001b[43mset2_\u001b[49m\u001b[43m[\u001b[49m\u001b[32;43m1\u001b[39;49m\u001b[43m:\u001b[49m\u001b[32;43m3\u001b[39;49m\u001b[43m]\u001b[49m)\n",
      "\u001b[31mTypeError\u001b[39m: 'set' object is not subscriptable"
     ]
    }
   ],
   "source": [
    "set2_ = {1,2,3,4}\n",
    "\n",
    "print(set2_[1:3])"
   ]
  },
  {
   "cell_type": "markdown",
   "metadata": {},
   "source": [
    "исключение появилось потому что у множества нет индекса=> не поддерживаются срезы, потому что они делаются по индексу"
   ]
  },
  {
   "cell_type": "code",
   "execution_count": 13,
   "metadata": {},
   "outputs": [
    {
     "ename": "KeyError",
     "evalue": "slice(1, None, None)",
     "output_type": "error",
     "traceback": [
      "\u001b[31m---------------------------------------------------------------------------\u001b[39m",
      "\u001b[31mKeyError\u001b[39m                                  Traceback (most recent call last)",
      "\u001b[36mCell\u001b[39m\u001b[36m \u001b[39m\u001b[32mIn[13]\u001b[39m\u001b[32m, line 1\u001b[39m\n\u001b[32m----> \u001b[39m\u001b[32m1\u001b[39m \u001b[38;5;28mprint\u001b[39m(\u001b[43mdict_\u001b[49m\u001b[43m[\u001b[49m\u001b[32;43m1\u001b[39;49m\u001b[43m:\u001b[49m\u001b[43m]\u001b[49m)\n",
      "\u001b[31mKeyError\u001b[39m: slice(1, None, None)"
     ]
    }
   ],
   "source": [
    "print(dict_[1:])"
   ]
  },
  {
   "cell_type": "code",
   "execution_count": 18,
   "metadata": {},
   "outputs": [
    {
     "name": "stdout",
     "output_type": "stream",
     "text": [
      "1\n"
     ]
    }
   ],
   "source": [
    "print(dict_['one'])"
   ]
  },
  {
   "cell_type": "code",
   "execution_count": 11,
   "metadata": {},
   "outputs": [
    {
     "name": "stdout",
     "output_type": "stream",
     "text": [
      "2115518938752\n",
      "[5, 6, 7, 8, 9, 9]\n",
      "2115518938752\n"
     ]
    }
   ],
   "source": [
    "print(id(list2_))\n",
    "list2_.append(9)\n",
    "print(list2_)\n",
    "print(id(list2_))"
   ]
  },
  {
   "cell_type": "code",
   "execution_count": 10,
   "metadata": {},
   "outputs": [
    {
     "name": "stdout",
     "output_type": "stream",
     "text": [
      "2115512842528\n",
      "{1, 2, 3, 4}\n",
      "2115512842528\n"
     ]
    }
   ],
   "source": [
    "print(id(set2_))\n",
    "list2_.append(9)\n",
    "print(set2_)\n",
    "print(id(set2_))"
   ]
  },
  {
   "cell_type": "markdown",
   "metadata": {},
   "source": [
    "тут я хотел посмотреть, измениться ли ичейка памяти, но она не изменилась "
   ]
  },
  {
   "cell_type": "markdown",
   "metadata": {},
   "source": [
    "Отличие множества словарей https://docs.python.org/3/reference/datamodel.html#dictionaries\n",
    "\n",
    "Отличительная особенность словаря в том, что объекты индексируются только по ключу \n",
    "\n",
    "показать на операциях.\n",
    "\n",
    "4 операции:\n",
    "\n",
    "как хранится.\n",
    "\n",
    "len()\n",
    "извлечение по срезам\n",
    "методы\n",
    "итерации"
   ]
  },
  {
   "cell_type": "code",
   "execution_count": 1,
   "metadata": {},
   "outputs": [
    {
     "name": "stdout",
     "output_type": "stream",
     "text": [
      "<class 'set'>\n",
      "<class 'list'>\n",
      "<class 'dict'>\n",
      "4\n",
      "4\n",
      "3\n",
      "адреса ячейки памяти множества\n",
      "140717616604072\n",
      "140717616604104\n",
      "140717616604136\n",
      "140717616604168\n",
      "адреса ячейки памяти последовательности\n",
      "140717616604200\n",
      "140717616604232\n",
      "140717616604264\n",
      "140717616604296\n",
      "адреса ячейки памяти словаря\n",
      "2456850544224\n",
      "2456905127264\n",
      "2456905127360\n"
     ]
    }
   ],
   "source": [
    "set_ = {1,2,3,4}\n",
    "\n",
    "print(type(set_))\n",
    "\n",
    "list_ = [5,6,7,8]\n",
    "\n",
    "print(type (list_))\n",
    "\n",
    "dict_ = {'one': 1, 'two': 2, 'three': 3}\n",
    "\n",
    "print(type(dict_))\n",
    "\n",
    "###################################################################\n",
    "\n",
    "print(len(set_))\n",
    "print(len(list_))\n",
    "print(len(dict_))\n",
    "\n",
    "print(f'адреса ячейки памяти множества')\n",
    "for i in set_:\n",
    "    print(id(i))\n",
    "\n",
    "print(f'адреса ячейки памяти последовательности')\n",
    "for i in list_:\n",
    "    print(id(i))\n",
    "\n",
    "print(f'адреса ячейки памяти словаря')\n",
    "for i in dict_:\n",
    "    print(id(i))\n"
   ]
  },
  {
   "cell_type": "markdown",
   "metadata": {},
   "source": [
    "# написать про ячейки памяти "
   ]
  },
  {
   "cell_type": "code",
   "execution_count": 5,
   "metadata": {},
   "outputs": [
    {
     "ename": "TypeError",
     "evalue": "'set' object is not subscriptable",
     "output_type": "error",
     "traceback": [
      "\u001b[31m---------------------------------------------------------------------------\u001b[39m",
      "\u001b[31mTypeError\u001b[39m                                 Traceback (most recent call last)",
      "\u001b[36mCell\u001b[39m\u001b[36m \u001b[39m\u001b[32mIn[5]\u001b[39m\u001b[32m, line 1\u001b[39m\n\u001b[32m----> \u001b[39m\u001b[32m1\u001b[39m \u001b[38;5;28mprint\u001b[39m(\u001b[43mset_\u001b[49m\u001b[43m[\u001b[49m\u001b[32;43m1\u001b[39;49m\u001b[43m:\u001b[49m\u001b[32;43m2\u001b[39;49m\u001b[43m]\u001b[49m)\n",
      "\u001b[31mTypeError\u001b[39m: 'set' object is not subscriptable"
     ]
    }
   ],
   "source": [
    "print(set_[1:2])\n"
   ]
  },
  {
   "cell_type": "code",
   "execution_count": 5,
   "metadata": {},
   "outputs": [
    {
     "name": "stdout",
     "output_type": "stream",
     "text": [
      "[6, 7, 8]\n"
     ]
    }
   ],
   "source": [
    "print(list_[1:])"
   ]
  },
  {
   "cell_type": "code",
   "execution_count": 10,
   "metadata": {},
   "outputs": [
    {
     "ename": "KeyError",
     "evalue": "slice(1, None, None)",
     "output_type": "error",
     "traceback": [
      "\u001b[31m---------------------------------------------------------------------------\u001b[39m",
      "\u001b[31mKeyError\u001b[39m                                  Traceback (most recent call last)",
      "\u001b[36mCell\u001b[39m\u001b[36m \u001b[39m\u001b[32mIn[10]\u001b[39m\u001b[32m, line 1\u001b[39m\n\u001b[32m----> \u001b[39m\u001b[32m1\u001b[39m \u001b[38;5;28mprint\u001b[39m(\u001b[43mdict_\u001b[49m\u001b[43m[\u001b[49m\u001b[32;43m1\u001b[39;49m\u001b[43m:\u001b[49m\u001b[43m]\u001b[49m)\n",
      "\u001b[31mKeyError\u001b[39m: slice(1, None, None)"
     ]
    }
   ],
   "source": [
    "print(dict_[1:])"
   ]
  },
  {
   "cell_type": "code",
   "execution_count": 9,
   "metadata": {},
   "outputs": [
    {
     "name": "stdout",
     "output_type": "stream",
     "text": [
      "<dict_keyiterator object at 0x000001D30A385580>\n",
      "<list_iterator object at 0x000001D30A37F6D0>\n",
      "<set_iterator object at 0x000001D30A3DDB00>\n"
     ]
    }
   ],
   "source": [
    "print(iter(dict_))\n",
    "print(iter(list_))\n",
    "print(iter(set_))"
   ]
  },
  {
   "cell_type": "markdown",
   "metadata": {},
   "source": [
    "###  Задание 3.\n",
    "\n",
    "ССылка здесь что. \n",
    "\n",
    "Ссылка это объект и атрибут, который идет после точки(в двух данных примерах это будет \"somesome.add\", \"somesome.__contains__\" ) \n",
    "\n",
    "Что определяет тип\n",
    "\n",
    "Тип определяет первичный атрибут , потому что это экземпляр класса, а класс, в свою очередь, это уже тип сам по себе=> если экземпляр присвоен классу, то он присвоен и типу.(тип определяет операции над объектом, и в данном случае, операции это методы класса) \n",
    "\n",
    "somesome.add(\"text\") # ввод элемента в экземпляр\n",
    "\n",
    "somesome.__contains__(\"text\")\n",
    "\n",
    "взять код с задания 2. Примените метод pop и расскажите все о ссылке и типи, кто для чего в каком месте опредялет тип и на основании чего.\n",
    "\n",
    "list.pop()"
   ]
  },
  {
   "cell_type": "code",
   "execution_count": 4,
   "metadata": {},
   "outputs": [
    {
     "name": "stdout",
     "output_type": "stream",
     "text": [
      "<class 'list'>\n",
      "[9, 10, 11]\n"
     ]
    }
   ],
   "source": [
    "list3_ = [8,9,10,11]\n",
    "\n",
    "print (type(list3_))\n",
    "\n",
    "list3_.pop(0)\n",
    "\n",
    "print(list3_)"
   ]
  },
  {
   "cell_type": "markdown",
   "metadata": {},
   "source": [
    "Здесь все работает таким образом: изначально переменная list3_ берет тип лист, потому что значение в переменную занесено через []. Поэтому list3_ присвоен класс list. Так как в этом классе есть метод pop, то его можно применить к этому объекту. Если рассматривать с точки зрения ссылки, то list3_.pop это все ссылка на метод поп в классе лист, экземпляр которого переменная list3_"
   ]
  },
  {
   "cell_type": "markdown",
   "metadata": {},
   "source": [
    "###  Задание 4.\n",
    "\n",
    "https://docs.python.org/3/glossary.html\n",
    "\n",
    "https://docs.python.org/3/library/itertools.html\n",
    "примеров.\n",
    "Ищите назначение.\n",
    "\n",
    "\n",
    "итератор возвращает элемент из объекта.\n",
    "\n",
    "может использоваться для перебора элементов в аргументе\n",
    "\n",
    "как он используется?\n",
    "https://github.com/django/django/blob/main/django/http/request.py#L5C1-L5C28\n",
    "\n",
    "итератор chain объединяет все итерируемые объекты в один итератор , элементами которого станут все элементы из итераторов\n",
    "\n",
    "Для чего и когда буду использовать?\n",
    "\n",
    "\n",
    "#### Для меня безопасные итераторы(безопасные) + усиленное изучение."
   ]
  },
  {
   "cell_type": "markdown",
   "metadata": {},
   "source": [
    "# Задание от 27.05.2025"
   ]
  },
  {
   "cell_type": "markdown",
   "metadata": {},
   "source": [
    "`fruit = Fruit.objects.create(name=\"Apple\")`\n",
    "\n",
    "Участите ссылки при создании нового объекта. Всё расписать.\n",
    "\n",
    "https://github.com/django/django/blob/stable/5.1.x/django/db/models/base.py#L417C13-L417C20\n",
    "\n",
    "\n",
    "Первичный объект должен оцениваться как объект типа, поддерживающего атрибут ссылки, которые делает большинство объектов. Затем этот объект просит произвести атрибут, имя которого является идентификатором. Тип и значение, которые производятся, являются определяется объектом. \n",
    "**Множественные оценки одного и того же атрибута ссылка может выдавать разные объекты.**\n",
    "\n",
    "https://www.youtube.com/watch?v=jdG2qjc4QUI\n",
    "\n",
    "напомните себе и разделите два варианта ссылок\n",
    "\n",
    "\n",
    "**Варианты применения ссылок:**\n",
    "    \n",
    "классический \n",
    "https://docs.python.org/3/reference/expressions.html#attribute-references\n",
    "\n",
    "`obj.obj`\n",
    "\n",
    "\n",
    "для формирования нового объекта посредством ссылки\n",
    "`fruit = Fruit.objects.create(name=\"Apple\")`\n",
    "\n",
    "https://docs.djangoproject.com/en/5.2/topics/db/managers/\n",
    "\n",
    "https://docs.djangoproject.com/en/5.2/ref/models/querysets/\n",
    "\n",
    "https://github.com/django/django/blob/stable/5.1.x/django/db/models/manager.py#L176\n",
    "\n",
    "https://github.com/django/django/blob/stable/5.1.x/django/db/models/base.py#L417C13-L417C32\n",
    "\n",
    "https://github.com/beeware/toga/blob/main/core/src/toga/window.py#L938\n",
    "\n",
    "```python\n",
    "https://github.com/beeware/toga/blob/main/core/src/toga/app.py#L209C8-L209C23\n",
    "https://docs.python.org/3/tutorial/classes.html#class-and-instance-variables\n",
    "if window not in self.elements:\n",
    "            # рассказать\n",
    "            self.elements.add(window)\n",
    "            window.app = self.app\n",
    "```\n",
    "\n",
    "obj.obj.obj\n",
    "\n",
    "третий вариант для получения информации обь объекте\n",
    "obj.obj.obj\n",
    "\n",
    "First.__class__.__name__\n",
    "\n",
    "\n",
    "\n",
    "### Переосмыслить.  передача по ссылке и значению.\n",
    " \n",
    "\n",
    "Почему в Java объекты передаются не так. как в пайтон?\n",
    "\n",
    "- Переосмыслить код и написать заключение по языкам.\n",
    "\n",
    "```python\n",
    "\n",
    "Разница между изменяемыми и неизменяемыми объектами в том, что при выполнении операции, которая модифицирует значение объекта, **изменяемые** объекты **меняют свое значение, оставаясь тем же объектом (по id в памяти)**, а **неизменяемые** - **создают новый объект с новым значение (будет другой id в памяти)**. \n",
    "                                                                                                                             \n",
    "                                                                                                                             ### Python\n",
    "\n",
    "В Python всё передается по ссылке, но для неизменяемых объектов это выглядит как передача по значению, т.к. их нельзя изменить.\n",
    "\n",
    "**Передача по ссылке:**\n",
    "```python\n",
    "def modify_list(lst):\n",
    "    lst.append(4)  # Изменяет исходный список\n",
    "\n",
    "my_list = [1, 2, 3]\n",
    "modify_list(my_list)\n",
    "print(my_list)  # [1, 2, 3, 4]  (оригинал изменился)\n",
    "```\n",
    "\n",
    "**Передача \"по значению\":**\n",
    "\n",
    "```python\n",
    "def modify_num(num):\n",
    "    num += 10  # Создается новый объект, оригинал не меняется\n",
    "\n",
    "x = 5\n",
    "modify_num(x)\n",
    "print(x)  # 5  (не изменился)\n",
    "```\n",
    "\n",
    "### Java\n",
    "\n",
    "В Java всё передается по значению, но с объектами есть нюанс. Дело в том, что в Java память разделяется на стэк и кучу. Примитивы и ссылки на объекты создаются на стэке, а сами объекты - в куче. При передаче объекта в Java **копируется ссылка на объект**, но не значение этого объекта. То есть будут две ссылки, указывающие на один и тот же объект. С этим надо быть осторожным.\n",
    "\n",
    "**Передача по значению:**\n",
    "```java\n",
    "void modifyPrimitive(int num) {\n",
    "    num = 10;  // Не влияет на оригинал\n",
    "}\n",
    "\n",
    "int x = 5;\n",
    "modifyPrimitive(x);\n",
    "System.out.println(x);  // 5 (не изменился)\n",
    "```\n",
    "\n",
    "**Передача \"по ссылке\":**\n",
    "```java\n",
    "void modifyList(List<Integer> list) {\n",
    "    list.add(4);  // Изменяет исходный список\n",
    "}\n",
    "\n",
    "List<Integer> myList = new ArrayList<>(Arrays.asList(1, 2, 3));\n",
    "modifyList(myList);\n",
    "System.out.println(myList);  // [1, 2, 3, 4] (оригинал изменился за счет того, что myList и list указывают на один и тот же объект)\n",
    "```\n",
    "\n",
    "### JavaScript\n",
    "\n",
    "В JS примитивы передаются по значению, а объекты - по ссылке\n",
    "\n",
    "**Передача по значению:**\n",
    "```js\n",
    "function modifyPrimitive(num) {\n",
    "    num = 10;  // Не влияет на оригинал\n",
    "}\n",
    "\n",
    "let x = 5;\n",
    "modifyPrimitive(x);\n",
    "console.log(x);  // 5 (не изменился)\n",
    "```\n",
    "\n",
    "**Передача по ссылке:**\n",
    "```js\n",
    "function modifyArray(arr) {\n",
    "    arr.push(4);  // Изменяет исходный массив\n",
    "}\n",
    "\n",
    "const myArray = [1, 2, 3];\n",
    "modifyArray(myArray);\n",
    "console.log(myArray);  // [1, 2, 3, 4] (оригинал изменился)\n",
    "```\n",
    "\n",
    "\n",
    "Сделать резюме.\n",
    "\n",
    "Что должны про значение понимать?\n",
    "Зачем в любом языке знать, как передаются объекты?\n",
    "Резюме сделать.\n",
    "\n",
    "\n",
    " \n",
    "Резюме написать.\n",
    "\n",
    "Важно понимать и почему.\n",
    "На что влияет понимать по ссылке или по значению.\n",
    "Резюме.\n",
    "\n",
    "\n",
    "### Доделать:\n",
    "\n",
    "последовательность\n",
    "\n",
    "множество\n",
    "словарь\n",
    "\n",
    "почему нет срезов?( как храняться объекты)\n",
    "\n",
    "\n"
   ]
  },
  {
   "cell_type": "code",
   "execution_count": 20,
   "metadata": {},
   "outputs": [
    {
     "name": "stdout",
     "output_type": "stream",
     "text": [
      "<class 'tuple'>\n",
      "5\n",
      "AAAB\n",
      "2\n",
      "(1, 2, 3)\n",
      "()\n"
     ]
    }
   ],
   "source": [
    "_tuple = (1,2,3,1,2)\n",
    "\n",
    "_tuple1 = (\"BAAA\",\"AAAB\")\n",
    "\n",
    "print(type(_tuple))\n",
    "\n",
    "print(len(_tuple))\n",
    "\n",
    "print(min(_tuple1))\n",
    "\n",
    "print(_tuple.count(1))\n",
    "\n",
    "print(_tuple[0:3])\n",
    "\n",
    "print(_tuple[1:1])\n",
    "\n"
   ]
  },
  {
   "cell_type": "markdown",
   "metadata": {},
   "source": [
    "Я не понимаю что происходит.на докам по питону ничего не нашел по тому, как вызывается определенный элемент без идентификатора, пошел на https://cplusplus.com/reference/set/set/?kw=set\n",
    "\n",
    "Там написано, что значение элемента равно его ключу, и по ключу вызывается элемент.\n",
    "\n",
    "Но тогда остается вопрос с одинаковыми элементами по значению, потому что и ключи будут одинаковыми. Питон видит две еденицы, но при этом не хочет брать вторую единицу в срезе(я бы понял, если бы он выдал ошибку, что нельзя два одинаковых значения, НО ВЕДЬ МОЖНО).\n",
    "\n",
    "У меня возник ступор после \n",
    "\n",
    "```python\n",
    "_tuple = (1,2,3,1,2)\n",
    "print(_tuple[1:1])\n",
    "```\n",
    "\n",
    "когда вывод оказался \"()\""
   ]
  }
 ],
 "metadata": {
  "kernelspec": {
   "display_name": "Python 3 (ipykernel)",
   "language": "python",
   "name": "python3"
  },
  "language_info": {
   "codemirror_mode": {
    "name": "ipython",
    "version": 3
   },
   "file_extension": ".py",
   "mimetype": "text/x-python",
   "name": "python",
   "nbconvert_exporter": "python",
   "pygments_lexer": "ipython3",
   "version": "3.12.5"
  }
 },
 "nbformat": 4,
 "nbformat_minor": 4
}
