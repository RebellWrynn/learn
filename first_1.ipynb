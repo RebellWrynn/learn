{
  "cells": [
    {
      "cell_type": "markdown",
      "metadata": {},
      "source": [
        "# задание от 16.12.2024"
      ]
    },
    {
      "cell_type": "markdown",
      "metadata": {},
      "source": [
        "### Задание 1. \n",
        "\n",
        "- освоить markdown.\n",
        "\n",
        "- освоил markdown."
      ]
    },
    {
      "cell_type": "code",
      "execution_count": 5,
      "metadata": {
        "trusted": true
      },
      "outputs": [],
      "source": [
        "a = 25"
      ]
    },
    {
      "cell_type": "code",
      "execution_count": 6,
      "metadata": {
        "trusted": true
      },
      "outputs": [
        {
          "name": "stdout",
          "output_type": "stream",
          "text": [
            "25\n"
          ]
        }
      ],
      "source": [
        "print(a)"
      ]
    },
    {
      "cell_type": "markdown",
      "metadata": {},
      "source": [
        "### Задание 2.\n",
        "\n",
        "Переменные.\n",
        "\n",
        "#### Переменные в С++\n",
        "\n",
        "валидный идетнификатор переменной, это последовательность одного или многих букв, цифр или нижних подчеркиваний. Пробелы, знаки пунктуации и символы не могут использоваться для имени переменной  \n",
        "\n",
        "Переменные в c++ чувствительны к регистру, поэтому переменная A и a , это две разные переменные \n",
        "\n",
        "в c++ есть ключевые слова, из за которых нельзя задавать переменные с такими именами:"
      ]
    },
    {
      "cell_type": "code",
      "execution_count": null,
      "metadata": {
        "trusted": true
      },
      "outputs": [],
      "source": [
        "alignas, alignof, and, and_eq, asm, auto, bitand, bitor, bool, break, case, catch, char, char16_t, char32_t, class, compl, const, constexpr, const_cast, continue, decltype, default, delete, do, double, dynamic_cast, else, enum, explicit, export, extern, false, float, for, friend, goto, if, inline, int, long, mutable, namespace, new, noexcept, not, not_eq, nullptr, operator, or, or_eq, private, protected, public, register, reinterpret_cast, return, short, signed, sizeof, static, static_assert, static_cast, struct, switch, template, this, thread_local, throw, true, try, typedef, typeid, typename, union, unsigned, using, virtual, void, volatile, wchar_t, while, xor, xor_eq"
      ]
    },
    {
      "cell_type": "markdown",
      "metadata": {},
      "source": [
        "значения переменных расположены где-то на пк, в виде бинарного кода. Программе не нужно знать конкретное расположение хранение переменных, она просто вызывает их по имени из ос, когда нужно.Программе нужно знать какие данные хранятся в переменной. Потому что хранить число это не тоже самое, что и хранить букву, потому что они интерпретируются по разному и занимают разный объем памяти\n",
        "\n",
        "фундаментальные типы данных:\n",
        "- character types: они могут представлять один символ, например «A» или «$». Самый простой тип — char, который представляет собой однобайтовый символ. Другие типы также предусмотрены для более широких символов.\n",
        "- numericial integer types: они могут хранить целое число, например 7 или 1024. Они существуют в различных размерах и могут быть как знаковыми, так и беззнаковыми, в зависимости от того, поддерживают ли они отрицательные значения или нет.\n",
        "- floating-point types: они могут представлять действительные значения, например 3,14 или 0,01, с разным уровнем точности, в зависимости от того, какой из трех типов с плавающей запятой используется.\n",
        "- boolean type: Логический тип, известный в C++ как bool, может представлять только одно из двух состояний: true или false.\n",
        "\n",
        "Описанные выше типы (символы, целые числа, числа с плавающей запятой и логические значения) вместе называются арифметическими типами. Но существуют два дополнительных фундаментальных типа: void, который указывает на отсутствие типа; и тип nullptr, который является специальным типом указателя\n",
        "\n",
        "Есть еще один фундоментальный тип данных, string, он может хранить последовательность букв, слов или предложений \n",
        "\n",
        "Значение переменной можно объявить как в начале кода и не присваивать ей значение(она будет неопределенной пока не получит значение), так и переед ее использованием \n",
        "\n",
        "Переменную можно инициализировать разными способами:\n",
        "- int x = 0;\n",
        "- int x (0);\n",
        "- int x {0};\n",
        "\n",
        "Когда инициализируется новая переменная, компилятор может автоматически определить тип переменной с помощью инициализатора. Для этого достаточно использовать auto в качестве спецификатора типа переменной:"
      ]
    },
    {
      "cell_type": "code",
      "execution_count": null,
      "metadata": {
        "trusted": true
      },
      "outputs": [],
      "source": [
        "int foo = 0;\n",
        "auto bar = foo;  // the same as: int bar = foo;"
      ]
    },
    {
      "cell_type": "markdown",
      "metadata": {},
      "source": [
        "в c++  типизация статическая(т.е. тип переменной определяется заранее, до запуска программы)\n",
        "\n",
        "\n",
        "\n",
        "#### Переменные в Питон.\n",
        "\n",
        "питон это язык с динамической типизацией(т.е тип переменной определяется во время исполнения программы)\n",
        "\n",
        "я не смог найти больше уникальной информации по питону, они как будто идентичные за исключением предложения выше\n",
        "\n",
        "В чём разница и что общее в переменных в питон и в С++?\n",
        "\n",
        "- питон не требует явного объявления переменной перед ее использованием. Переменная создается при первой инициализации(в то время, как c++ требует)\n",
        "- В обоих языках переменные используются для хранения данных, которые могут быть использованы и изменены на протяжении выполнения программы\n",
        "- В обоих языках для именования переменных применяются идентификаторы, которые могут содержать буквы, цифры и символы, такие как подчеркивание, но не могут начинаться с цифры.\n",
        "- Python: Динамически типизированный язык. Это означает, что тип переменной определяется во время выполнения. Вы можете присвоить переменной значение любого типа, и она может изменять свой тип\n",
        "- C++: Статически типизированный язык. Тип переменной необходимо определить на этапе компиляции. Это требует указания типа переменной во время ее объявления\n",
        "- Python: Переменные могут быть объявлены без указания типа, просто присвоением значения\n",
        "- C++: Переменные должны быть объявлены с указанием типа их данных\n",
        "- оба языка чувствительны к регистрам\n",
        "- переменные в обоих языках могут быть локальными(внутри одной функции), глобальными(внутри файла)\n",
        "\n",
        "https://cplusplus.com/\n",
        "\n",
        "30 строк.\n",
        "\n",
        "Выделите три главных пункта они должны быть одинаковы в двух языках.\n",
        "- У переменных одни и те же типы \n",
        "- Переменные состоят из имени и значения. При этом они хранят в себе не само значение, а ссылку на его адрес в памяти\n",
        "- значение в переменных могут изменятся во время процесса программы \n",
        "\n",
        "больше информации по переменным я не смог найти \n",
        "\n",
        "### Задание 2.\n",
        "Функция, устройство.\n",
        "\n",
        "Функция — это группа операторов, которым присвоено имя и которые можно вызвать из определенного места программы\n",
        "\n",
        "Описать устройство функции.\n",
        "\n",
        "в c++ устройство функции выглядит так: \n",
        "\n",
        "type name ( parameter1, parameter2, ...) { statements }\n",
        "\n",
        "Где:\n",
        "- type тип значения, возвращаемого функцией.\n",
        "- name идентификатор, которым называется функция.\n",
        "- parameters (может быть много): параметр- переменные самой функции  . Назначение параметров — разрешить передачу аргументов функции из того места, откуда она вызывается..\n",
        "- statements тело функции. Это блок, в котором пишутся действия функции.\n",
        "\n",
        "\n",
        "\n",
        "Напишите функцию на С++"
      ]
    },
    {
      "cell_type": "code",
      "execution_count": null,
      "metadata": {
        "trusted": true
      },
      "outputs": [],
      "source": [
        "int main()\n",
        "{\n",
        "    int a\n",
        "    float b,c;\n",
        "    a = 2;\n",
        "    b = 3.5 ;\n",
        "    c = a + b;\n",
        "    cout << c;\n",
        "    return 0;"
      ]
    },
    {
      "cell_type": "markdown",
      "metadata": {},
      "source": [
        "И напишите функцию на питон"
      ]
    },
    {
      "cell_type": "code",
      "execution_count": 4,
      "metadata": {
        "trusted": true
      },
      "outputs": [],
      "source": [
        "def main():\n",
        "    a=2\n",
        "    b=3.5\n",
        "    c= a + b\n",
        "    return(c)"
      ]
    },
    {
      "cell_type": "markdown",
      "metadata": {},
      "source": [
        "Примените то, что Вы делали ранее описывали, но на реальных функциях.\n",
        "\n",
        "Найдите общее.\n",
        "\n",
        "В обоих языках можно вносить параметры, есть \"тело функции\", Есть имя идентификатор функции, и обе функции должны что то возвращать"
      ]
    },
    {
      "cell_type": "markdown",
      "metadata": {},
      "source": [
        "###  Задание 3.\n",
        "\n",
        "Что такое исключения(называют ошибками)\n",
        "errorsa\n",
        "\n",
        "это объекты, которые хранят данные о возникшей проблеме. Они возникают, когда программа не может продолжать выполнять запрошенную операцию"
      ]
    },
    {
      "cell_type": "code",
      "execution_count": 7,
      "metadata": {
        "trusted": true
      },
      "outputs": [
        {
          "data": {
            "text/plain": [
              "25"
            ]
          },
          "execution_count": 7,
          "metadata": {},
          "output_type": "execute_result"
        }
      ],
      "source": [
        "a"
      ]
    },
    {
      "cell_type": "code",
      "execution_count": 1,
      "metadata": {
        "trusted": true
      },
      "outputs": [
        {
          "ename": "<class 'NameError'>",
          "evalue": "name 'm' is not defined",
          "output_type": "error",
          "traceback": [
            "\u001b[0;31m---------------------------------------------------------------------------\u001b[0m",
            "\u001b[0;31mNameError\u001b[0m                                 Traceback (most recent call last)",
            "Cell \u001b[0;32mIn[1], line 1\u001b[0m\n\u001b[0;32m----> 1\u001b[0m \u001b[43mm\u001b[49m\n",
            "\u001b[0;31mNameError\u001b[0m: name 'm' is not defined"
          ]
        }
      ],
      "source": [
        "m"
      ]
    },
    {
      "cell_type": "markdown",
      "metadata": {},
      "source": [
        "исключение выше говорит, что переменной с именем m не найдено"
      ]
    },
    {
      "cell_type": "markdown",
      "metadata": {},
      "source": [
        "5-7 исключений, объясните хотя бы 3"
      ]
    },
    {
      "cell_type": "code",
      "execution_count": 12,
      "metadata": {
        "trusted": true
      },
      "outputs": [
        {
          "ename": "<class 'TypeError'>",
          "evalue": "int() argument must be a string, a bytes-like object or a real number, not 'type'",
          "output_type": "error",
          "traceback": [
            "\u001b[0;31m---------------------------------------------------------------------------\u001b[0m",
            "\u001b[0;31mTypeError\u001b[0m                                 Traceback (most recent call last)",
            "Cell \u001b[0;32mIn[12], line 1\u001b[0m\n\u001b[0;32m----> 1\u001b[0m m \u001b[38;5;241m=\u001b[39m \u001b[38;5;28;43mint\u001b[39;49m\u001b[43m(\u001b[49m\u001b[38;5;28;43mfloat\u001b[39;49m\u001b[43m)\u001b[49m\n",
            "\u001b[0;31mTypeError\u001b[0m: int() argument must be a string, a bytes-like object or a real number, not 'type'"
          ]
        }
      ],
      "source": [
        "m = int(float)"
      ]
    },
    {
      "cell_type": "code",
      "execution_count": 13,
      "metadata": {
        "trusted": true
      },
      "outputs": [
        {
          "ename": "<class 'ValueError'>",
          "evalue": "invalid literal for int() with base 10: 'float'",
          "output_type": "error",
          "traceback": [
            "\u001b[0;31m---------------------------------------------------------------------------\u001b[0m",
            "\u001b[0;31mValueError\u001b[0m                                Traceback (most recent call last)",
            "Cell \u001b[0;32mIn[13], line 1\u001b[0m\n\u001b[0;32m----> 1\u001b[0m m \u001b[38;5;241m=\u001b[39m \u001b[38;5;28;43mint\u001b[39;49m\u001b[43m(\u001b[49m\u001b[38;5;124;43m\"\u001b[39;49m\u001b[38;5;124;43mfloat\u001b[39;49m\u001b[38;5;124;43m\"\u001b[39;49m\u001b[43m)\u001b[49m\n",
            "\u001b[0;31mValueError\u001b[0m: invalid literal for int() with base 10: 'float'"
          ]
        }
      ],
      "source": [
        "m = int(\"float\")"
      ]
    },
    {
      "cell_type": "code",
      "execution_count": 14,
      "metadata": {
        "trusted": true
      },
      "outputs": [
        {
          "ename": "<class 'TypeError'>",
          "evalue": "can only concatenate str (not \"int\") to str",
          "output_type": "error",
          "traceback": [
            "\u001b[0;31m---------------------------------------------------------------------------\u001b[0m",
            "\u001b[0;31mTypeError\u001b[0m                                 Traceback (most recent call last)",
            "Cell \u001b[0;32mIn[14], line 1\u001b[0m\n\u001b[0;32m----> 1\u001b[0m с\u001b[38;5;241m=\u001b[39m \u001b[38;5;124;43m\"\u001b[39;49m\u001b[38;5;124;43m2\u001b[39;49m\u001b[38;5;124;43m\"\u001b[39;49m\u001b[43m \u001b[49m\u001b[38;5;241;43m+\u001b[39;49m\u001b[43m \u001b[49m\u001b[38;5;241;43m2\u001b[39;49m\n",
            "\u001b[0;31mTypeError\u001b[0m: can only concatenate str (not \"int\") to str"
          ]
        }
      ],
      "source": [
        "с= \"2\" + 2"
      ]
    },
    {
      "cell_type": "markdown",
      "metadata": {},
      "source": [
        "исключение выше говорит, что строку нельзя складывать с числом"
      ]
    },
    {
      "cell_type": "code",
      "execution_count": 17,
      "metadata": {
        "trusted": true
      },
      "outputs": [
        {
          "ename": "<class 'ZeroDivisionError'>",
          "evalue": "division by zero",
          "output_type": "error",
          "traceback": [
            "\u001b[0;31m---------------------------------------------------------------------------\u001b[0m",
            "\u001b[0;31mZeroDivisionError\u001b[0m                         Traceback (most recent call last)",
            "Cell \u001b[0;32mIn[17], line 1\u001b[0m\n\u001b[0;32m----> 1\u001b[0m c \u001b[38;5;241m=\u001b[39m \u001b[38;5;241;43m1\u001b[39;49m\u001b[38;5;241;43m/\u001b[39;49m\u001b[38;5;241;43m0\u001b[39;49m\n",
            "\u001b[0;31mZeroDivisionError\u001b[0m: division by zero"
          ]
        }
      ],
      "source": [
        "c = 1/0"
      ]
    },
    {
      "cell_type": "markdown",
      "metadata": {},
      "source": [
        "исключение выше говорит, что на 0 делить нельзя"
      ]
    },
    {
      "cell_type": "code",
      "execution_count": 3,
      "metadata": {
        "trusted": true
      },
      "outputs": [
        {
          "ename": "<class 'SyntaxError'>",
          "evalue": "invalid syntax (<ipython-input-3-2b688bc740d7>, line 1)",
          "output_type": "error",
          "traceback": [
            "\u001b[0;36m  Cell \u001b[0;32mIn[3], line 1\u001b[0;36m\u001b[0m\n\u001b[0;31m    while True print('Hello world')\u001b[0m\n\u001b[0m               ^\u001b[0m\n\u001b[0;31mSyntaxError\u001b[0m\u001b[0;31m:\u001b[0m invalid syntax\n"
          ]
        }
      ],
      "source": [
        "while True print('Hello world')"
      ]
    },
    {
      "cell_type": "markdown",
      "metadata": {},
      "source": [
        "исключение выше говорит, что нарушен синтаксис написания команды, а именно, пропущено \":\", нарушена конструкция написания цикла"
      ]
    }
  ],
  "metadata": {
    "kernelspec": {
      "display_name": "Python (Pyodide)",
      "language": "python",
      "name": "python"
    },
    "language_info": {
      "codemirror_mode": {
        "name": "python",
        "version": 3
      },
      "file_extension": ".py",
      "mimetype": "text/x-python",
      "name": "python",
      "nbconvert_exporter": "python",
      "pygments_lexer": "ipython3",
      "version": "3.8"
    }
  },
  "nbformat": 4,
  "nbformat_minor": 4
}
