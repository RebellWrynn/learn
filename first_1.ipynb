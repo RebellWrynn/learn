{
 "cells": [
  {
   "cell_type": "markdown",
   "id": "21a64f90-033c-49c1-bfa2-4fda170e4b75",
   "metadata": {},
   "source": [
    "# задание от 16.12.2024"
   ]
  },
  {
   "cell_type": "markdown",
   "id": "76fe9d00-46c4-479d-92ac-b4bd1aa96b28",
   "metadata": {},
   "source": [
    "### Задание 1. \n",
    "\n",
    "- освоить markdown.\n",
    "\n",
    "- освоил markdown."
   ]
  },
  {
   "cell_type": "code",
   "execution_count": 1,
   "id": "8f33affe-5e87-4548-9ab4-6f337cf278d4",
   "metadata": {},
   "outputs": [],
   "source": [
    "a = 25"
   ]
  },
  {
   "cell_type": "code",
   "execution_count": 2,
   "id": "24430527-3327-40c7-b7d1-e10eae4f8437",
   "metadata": {},
   "outputs": [
    {
     "name": "stdout",
     "output_type": "stream",
     "text": [
      "25\n"
     ]
    }
   ],
   "source": [
    "print(a)"
   ]
  },
  {
   "cell_type": "markdown",
   "id": "86347bd7-5bf2-4db5-b1a7-a1cb9c846e2f",
   "metadata": {},
   "source": [
    "### Задание 2.\n",
    "\n",
    "Переменные.\n",
    "\n",
    "Переменные в С++\n",
    "\n",
    "Переменные в Питон.\n",
    "\n",
    "В чём разница и что общее в переменных в питон и в С++?\n",
    "\n",
    "https://cplusplus.com/\n",
    "\n",
    "30 строк.\n",
    "\n",
    "Выделите три галвных пункта они должны быть одинаковы в двух языках.\n",
    "\n",
    "\n",
    "\n",
    "### Задание 2.\n",
    "Функция, устройство.\n",
    "\n",
    "Описать устройство функции.\n",
    "\n",
    "Напишите функцию на С++\n",
    "И напишите функцию на питон\n",
    "\n",
    "\n",
    "\n",
    "Примените то, что Вы делали ранее описывали, но на реальных функциях.\n",
    "\n",
    "Найдите общее.\n",
    "\n"
   ]
  },
  {
   "cell_type": "markdown",
   "id": "a569a78b-0043-4e3a-8e85-9a13dc32220e",
   "metadata": {},
   "source": [
    "###  Задание 3.\n",
    "\n",
    "Что такое исключения(называют ошибками)\n",
    "errors"
   ]
  },
  {
   "cell_type": "code",
   "execution_count": 3,
   "id": "5c421aa8-dc2d-4624-8a19-d46c3391027c",
   "metadata": {},
   "outputs": [
    {
     "data": {
      "text/plain": [
       "25"
      ]
     },
     "execution_count": 3,
     "metadata": {},
     "output_type": "execute_result"
    }
   ],
   "source": [
    "a"
   ]
  },
  {
   "cell_type": "code",
   "execution_count": 4,
   "id": "715b1d2e-70b0-448c-8937-cb6d442acaa4",
   "metadata": {},
   "outputs": [
    {
     "ename": "NameError",
     "evalue": "name 'm' is not defined",
     "output_type": "error",
     "traceback": [
      "\u001b[0;31m---------------------------------------------------------------------------\u001b[0m",
      "\u001b[0;31mNameError\u001b[0m                                 Traceback (most recent call last)",
      "Cell \u001b[0;32mIn[4], line 1\u001b[0m\n\u001b[0;32m----> 1\u001b[0m \u001b[43mm\u001b[49m\n",
      "\u001b[0;31mNameError\u001b[0m: name 'm' is not defined"
     ]
    }
   ],
   "source": [
    "m"
   ]
  },
  {
   "cell_type": "code",
   "execution_count": null,
   "id": "8810143c-4f79-4f75-a512-ae68bb7fd935",
   "metadata": {},
   "outputs": [],
   "source": [
    "5-7 исключений. Объясните хотя бы 3."
   ]
  }
 ],
 "metadata": {
  "kernelspec": {
   "display_name": "Python 3 (ipykernel)",
   "language": "python",
   "name": "python3"
  },
  "language_info": {
   "codemirror_mode": {
    "name": "ipython",
    "version": 3
   },
   "file_extension": ".py",
   "mimetype": "text/x-python",
   "name": "python",
   "nbconvert_exporter": "python",
   "pygments_lexer": "ipython3",
   "version": "3.12.3"
  }
 },
 "nbformat": 4,
 "nbformat_minor": 5
}
