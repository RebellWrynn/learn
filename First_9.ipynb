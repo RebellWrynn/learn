{
 "cells": [
  {
   "cell_type": "markdown",
   "metadata": {},
   "source": [
    "# задание от 16.12.2024"
   ]
  },
  {
   "cell_type": "markdown",
   "metadata": {},
   "source": [
    "### Задание 1. \n",
    "\n",
    "- освоить markdown.\n",
    "\n",
    "- освоил markdown."
   ]
  },
  {
   "cell_type": "code",
   "execution_count": 1,
   "metadata": {},
   "outputs": [],
   "source": [
    "a = 25"
   ]
  },
  {
   "cell_type": "code",
   "execution_count": 7,
   "metadata": {},
   "outputs": [
    {
     "name": "stdout",
     "output_type": "stream",
     "text": [
      "25\n"
     ]
    }
   ],
   "source": [
    "print(a)"
   ]
  },
  {
   "cell_type": "markdown",
   "metadata": {},
   "source": [
    "### Задание 2.\n",
    "\n",
    "Переменные.\n",
    "\n",
    "#### Переменные в С++\n",
    "\n",
    "валидный идетнификатор переменной, это последовательность одного или многих букв, цифр или нижних подчеркиваний. Пробелы, знаки пунктуации и символы не могут использоваться для имени переменной  \n",
    "\n",
    "Переменные в c++ чувствительны к регистру, поэтому переменная A и a , это две разные переменные \n",
    "\n",
    "в c++ есть ключевые слова, из за которых нельзя задавать переменные с такими именами:"
   ]
  },
  {
   "cell_type": "code",
   "execution_count": 8,
   "metadata": {},
   "outputs": [
    {
     "ename": "SyntaxError",
     "evalue": "invalid syntax (3203124928.py, line 1)",
     "output_type": "error",
     "traceback": [
      "\u001b[1;36m  Cell \u001b[1;32mIn[8], line 1\u001b[1;36m\u001b[0m\n\u001b[1;33m    alignas, alignof, and, and_eq, asm, auto, bitand, bitor, bool, break, case, catch, char, char16_t, char32_t, class, compl, const, constexpr, const_cast, continue, decltype, default, delete, do, double, dynamic_cast, else, enum, explicit, export, extern, false, float, for, friend, goto, if, inline, int, long, mutable, namespace, new, noexcept, not, not_eq, nullptr, operator, or, or_eq, private, protected, public, register, reinterpret_cast, return, short, signed, sizeof, static, static_assert, static_cast, struct, switch, template, this, thread_local, throw, true, try, typedef, typeid, typename, union, unsigned, using, virtual, void, volatile, wchar_t, while, xor, xor_eq\u001b[0m\n\u001b[1;37m                      ^\u001b[0m\n\u001b[1;31mSyntaxError\u001b[0m\u001b[1;31m:\u001b[0m invalid syntax\n"
     ]
    }
   ],
   "source": [
    "alignas, alignof, and, and_eq, asm, auto, bitand, bitor, bool, break, case, catch, char, char16_t, char32_t, class, compl, const, constexpr, const_cast, continue, decltype, default, delete, do, double, dynamic_cast, else, enum, explicit, export, extern, false, float, for, friend, goto, if, inline, int, long, mutable, namespace, new, noexcept, not, not_eq, nullptr, operator, or, or_eq, private, protected, public, register, reinterpret_cast, return, short, signed, sizeof, static, static_assert, static_cast, struct, switch, template, this, thread_local, throw, true, try, typedef, typeid, typename, union, unsigned, using, virtual, void, volatile, wchar_t, while, xor, xor_eq"
   ]
  },
  {
   "cell_type": "markdown",
   "metadata": {},
   "source": [
    "значения переменных расположены где-то на пк, в виде бинарного кода. Программе не нужно знать конкретное расположение хранение переменных, она просто вызывает их по имени из ос, когда нужно.Программе нужно знать какие данные хранятся в переменной. Потому что хранить число это не тоже самое, что и хранить букву, потому что они интерпретируются по разному и занимают разный объем памяти\n",
    "\n",
    "фундаментальные типы данных:\n",
    "- character types: они могут представлять один символ, например «A» или «$». Самый простой тип — char, который представляет собой однобайтовый символ. Другие типы также предусмотрены для более широких символов.\n",
    "- numericial integer types: они могут хранить целое число, например 7 или 1024. Они существуют в различных размерах и могут быть как знаковыми, так и беззнаковыми, в зависимости от того, поддерживают ли они отрицательные значения или нет.\n",
    "- floating-point types: они могут представлять действительные значения, например 3,14 или 0,01, с разным уровнем точности, в зависимости от того, какой из трех типов с плавающей запятой используется.\n",
    "- boolean type: Логический тип, известный в C++ как bool, может представлять только одно из двух состояний: true или false.\n",
    "\n",
    "Описанные выше типы (символы, целые числа, числа с плавающей запятой и логические значения) вместе называются арифметическими типами. Но существуют два дополнительных фундаментальных типа: void, который указывает на отсутствие типа; и тип nullptr, который является специальным типом указателя\n",
    "\n",
    "Есть еще один фундоментальный тип данных, string, он может хранить последовательность букв, слов или предложений \n",
    "\n",
    "Значение переменной можно объявить как в начале кода и не присваивать ей значение(она будет неопределенной пока не получит значение), так и переед ее использованием \n",
    "\n",
    "Переменную можно инициализировать разными способами:\n",
    "- int x = 0;\n",
    "- int x (0);\n",
    "- int x {0};\n",
    "\n",
    "Когда инициализируется новая переменная, компилятор может автоматически определить тип переменной с помощью инициализатора. Для этого достаточно использовать auto в качестве спецификатора типа переменной:"
   ]
  },
  {
   "cell_type": "code",
   "execution_count": null,
   "metadata": {},
   "outputs": [],
   "source": [
    "int foo = 0;\n",
    "auto bar = foo;  // the same as: int bar = foo;"
   ]
  },
  {
   "cell_type": "markdown",
   "metadata": {},
   "source": [
    "в c++  типизация статическая(т.е. тип переменной определяется заранее, до запуска программы)\n",
    "\n",
    "\n",
    "\n",
    "#### Переменные в Питон.\n",
    "\n",
    "питон это язык с динамической типизацией(т.е тип переменной определяется во время исполнения программы)\n",
    "\n",
    "я не смог найти больше уникальной информации по питону, они как будто идентичные за исключением предложения выше\n",
    "\n",
    "В чём разница и что общее в переменных в питон и в С++?\n",
    "\n",
    "- питон не требует явного объявления переменной перед ее использованием. Переменная создается при первой инициализации(в то время, как c++ требует)\n",
    "- В обоих языках переменные используются для хранения данных, которые могут быть использованы и изменены на протяжении выполнения программы\n",
    "- В обоих языках для именования переменных применяются идентификаторы, которые могут содержать буквы, цифры и символы, такие как подчеркивание, но не могут начинаться с цифры.\n",
    "- Python: Динамически типизированный язык. Это означает, что тип переменной определяется во время выполнения. Вы можете присвоить переменной значение любого типа, и она может изменять свой тип\n",
    "- C++: Статически типизированный язык. Тип переменной необходимо определить на этапе компиляции. Это требует указания типа переменной во время ее объявления\n",
    "- Python: Переменные могут быть объявлены без указания типа, просто присвоением значения\n",
    "- C++: Переменные должны быть объявлены с указанием типа их данных\n",
    "- оба языка чувствительны к регистрам\n",
    "- переменные в обоих языках могут быть локальными(внутри одной функции), глобальными(внутри файла)\n",
    "\n",
    "https://cplusplus.com/\n",
    "\n",
    "30 строк.\n",
    "\n",
    "Выделите три главных пункта они должны быть одинаковы в двух языках.\n",
    "- У переменных одни и те же типы \n",
    "- Переменные состоят из имени и значения. При этом они хранят в себе не само значение, а ссылку на его адрес в памяти\n",
    "- значение в переменных могут изменятся во время процесса программы \n",
    "\n",
    "больше информации по переменным я не смог найти \n",
    "\n",
    "### Задание 2.\n",
    "Функция, устройство.\n",
    "\n",
    "Функция — это группа операторов, которым присвоено имя и которые можно вызвать из определенного места программы\n",
    "\n",
    "Описать устройство функции.\n",
    "\n",
    "в c++ устройство функции выглядит так: \n",
    "\n",
    "type name ( parameter1, parameter2, ...) { statements }\n",
    "\n",
    "Где:\n",
    "- type тип значения, возвращаемого функцией.\n",
    "- name идентификатор, которым называется функция.\n",
    "- parameters (может быть много): параметр- переменные самой функции  . Назначение параметров — разрешить передачу аргументов функции из того места, откуда она вызывается..\n",
    "- statements тело функции. Это блок, в котором пишутся действия функции.\n",
    "\n",
    "\n",
    "\n",
    "Напишите функцию на С++"
   ]
  },
  {
   "cell_type": "code",
   "execution_count": null,
   "metadata": {},
   "outputs": [],
   "source": [
    "int main()\n",
    "{\n",
    "    int a\n",
    "    float b,c;\n",
    "    a = 2;\n",
    "    b = 3.5 ;\n",
    "    c = a + b;\n",
    "    cout << c;\n",
    "    return 0;"
   ]
  },
  {
   "cell_type": "markdown",
   "metadata": {},
   "source": [
    "И напишите функцию на питон"
   ]
  },
  {
   "cell_type": "code",
   "execution_count": 4,
   "metadata": {},
   "outputs": [],
   "source": [
    "def main():\n",
    "    a=2\n",
    "    b=3.5\n",
    "    c= a + b\n",
    "    return(c)"
   ]
  },
  {
   "cell_type": "markdown",
   "metadata": {},
   "source": [
    "Примените то, что Вы делали ранее описывали, но на реальных функциях.\n",
    "\n",
    "Найдите общее.\n",
    "\n",
    "В обоих языках можно вносить параметры, есть \"тело функции\", Есть имя идентификатор функции, и обе функции должны что то возвращать"
   ]
  },
  {
   "cell_type": "markdown",
   "metadata": {},
   "source": [
    "###  Задание 3.\n",
    "\n",
    "Что такое исключения(называют ошибками)\n",
    "errorsa\n",
    "\n",
    "это объекты, которые хранят данные о возникшей проблеме. Они возникают, когда программа не может продолжать выполнять запрошенную операцию"
   ]
  },
  {
   "cell_type": "code",
   "execution_count": 7,
   "metadata": {},
   "outputs": [
    {
     "data": {
      "text/plain": [
       "25"
      ]
     },
     "execution_count": 7,
     "metadata": {},
     "output_type": "execute_result"
    }
   ],
   "source": [
    "a"
   ]
  },
  {
   "cell_type": "code",
   "execution_count": 1,
   "metadata": {},
   "outputs": [
    {
     "ename": "<class 'NameError'>",
     "evalue": "name 'm' is not defined",
     "output_type": "error",
     "traceback": [
      "\u001b[0;31m---------------------------------------------------------------------------\u001b[0m",
      "\u001b[0;31mNameError\u001b[0m                                 Traceback (most recent call last)",
      "Cell \u001b[0;32mIn[1], line 1\u001b[0m\n\u001b[0;32m----> 1\u001b[0m \u001b[43mm\u001b[49m\n",
      "\u001b[0;31mNameError\u001b[0m: name 'm' is not defined"
     ]
    }
   ],
   "source": [
    "m"
   ]
  },
  {
   "cell_type": "markdown",
   "metadata": {},
   "source": [
    "исключение выше говорит, что переменной с именем m не найдено"
   ]
  },
  {
   "cell_type": "markdown",
   "metadata": {},
   "source": [
    "5-7 исключений, объясните хотя бы 3"
   ]
  },
  {
   "cell_type": "code",
   "execution_count": 12,
   "metadata": {},
   "outputs": [
    {
     "ename": "<class 'TypeError'>",
     "evalue": "int() argument must be a string, a bytes-like object or a real number, not 'type'",
     "output_type": "error",
     "traceback": [
      "\u001b[0;31m---------------------------------------------------------------------------\u001b[0m",
      "\u001b[0;31mTypeError\u001b[0m                                 Traceback (most recent call last)",
      "Cell \u001b[0;32mIn[12], line 1\u001b[0m\n\u001b[0;32m----> 1\u001b[0m m \u001b[38;5;241m=\u001b[39m \u001b[38;5;28;43mint\u001b[39;49m\u001b[43m(\u001b[49m\u001b[38;5;28;43mfloat\u001b[39;49m\u001b[43m)\u001b[49m\n",
      "\u001b[0;31mTypeError\u001b[0m: int() argument must be a string, a bytes-like object or a real number, not 'type'"
     ]
    }
   ],
   "source": [
    "m = int(float)"
   ]
  },
  {
   "cell_type": "code",
   "execution_count": 13,
   "metadata": {},
   "outputs": [
    {
     "ename": "<class 'ValueError'>",
     "evalue": "invalid literal for int() with base 10: 'float'",
     "output_type": "error",
     "traceback": [
      "\u001b[0;31m---------------------------------------------------------------------------\u001b[0m",
      "\u001b[0;31mValueError\u001b[0m                                Traceback (most recent call last)",
      "Cell \u001b[0;32mIn[13], line 1\u001b[0m\n\u001b[0;32m----> 1\u001b[0m m \u001b[38;5;241m=\u001b[39m \u001b[38;5;28;43mint\u001b[39;49m\u001b[43m(\u001b[49m\u001b[38;5;124;43m\"\u001b[39;49m\u001b[38;5;124;43mfloat\u001b[39;49m\u001b[38;5;124;43m\"\u001b[39;49m\u001b[43m)\u001b[49m\n",
      "\u001b[0;31mValueError\u001b[0m: invalid literal for int() with base 10: 'float'"
     ]
    }
   ],
   "source": [
    "m = int(\"float\")"
   ]
  },
  {
   "cell_type": "code",
   "execution_count": 14,
   "metadata": {},
   "outputs": [
    {
     "ename": "<class 'TypeError'>",
     "evalue": "can only concatenate str (not \"int\") to str",
     "output_type": "error",
     "traceback": [
      "\u001b[0;31m---------------------------------------------------------------------------\u001b[0m",
      "\u001b[0;31mTypeError\u001b[0m                                 Traceback (most recent call last)",
      "Cell \u001b[0;32mIn[14], line 1\u001b[0m\n\u001b[0;32m----> 1\u001b[0m с\u001b[38;5;241m=\u001b[39m \u001b[38;5;124;43m\"\u001b[39;49m\u001b[38;5;124;43m2\u001b[39;49m\u001b[38;5;124;43m\"\u001b[39;49m\u001b[43m \u001b[49m\u001b[38;5;241;43m+\u001b[39;49m\u001b[43m \u001b[49m\u001b[38;5;241;43m2\u001b[39;49m\n",
      "\u001b[0;31mTypeError\u001b[0m: can only concatenate str (not \"int\") to str"
     ]
    }
   ],
   "source": [
    "с= \"2\" + 2"
   ]
  },
  {
   "cell_type": "markdown",
   "metadata": {},
   "source": [
    "исключение выше говорит, что строку нельзя складывать с числом"
   ]
  },
  {
   "cell_type": "code",
   "execution_count": 17,
   "metadata": {},
   "outputs": [
    {
     "ename": "<class 'ZeroDivisionError'>",
     "evalue": "division by zero",
     "output_type": "error",
     "traceback": [
      "\u001b[0;31m---------------------------------------------------------------------------\u001b[0m",
      "\u001b[0;31mZeroDivisionError\u001b[0m                         Traceback (most recent call last)",
      "Cell \u001b[0;32mIn[17], line 1\u001b[0m\n\u001b[0;32m----> 1\u001b[0m c \u001b[38;5;241m=\u001b[39m \u001b[38;5;241;43m1\u001b[39;49m\u001b[38;5;241;43m/\u001b[39;49m\u001b[38;5;241;43m0\u001b[39;49m\n",
      "\u001b[0;31mZeroDivisionError\u001b[0m: division by zero"
     ]
    }
   ],
   "source": [
    "c = 1/0"
   ]
  },
  {
   "cell_type": "markdown",
   "metadata": {},
   "source": [
    "исключение выше говорит, что на 0 делить нельзя"
   ]
  },
  {
   "cell_type": "code",
   "execution_count": 3,
   "metadata": {},
   "outputs": [
    {
     "ename": "<class 'SyntaxError'>",
     "evalue": "invalid syntax (<ipython-input-3-2b688bc740d7>, line 1)",
     "output_type": "error",
     "traceback": [
      "\u001b[0;36m  Cell \u001b[0;32mIn[3], line 1\u001b[0;36m\u001b[0m\n\u001b[0;31m    while True print('Hello world')\u001b[0m\n\u001b[0m               ^\u001b[0m\n\u001b[0;31mSyntaxError\u001b[0m\u001b[0;31m:\u001b[0m invalid syntax\n"
     ]
    }
   ],
   "source": [
    "while True print('Hello world')"
   ]
  },
  {
   "cell_type": "markdown",
   "metadata": {},
   "source": [
    "исключение выше говорит, что нарушен синтаксис написания команды, а именно, пропущено \":\", нарушена конструкция написания цикла"
   ]
  },
  {
   "cell_type": "markdown",
   "metadata": {},
   "source": [
    "# Задание от 31.12.2024"
   ]
  },
  {
   "cell_type": "markdown",
   "metadata": {},
   "source": [
    "\n",
    "### Задание 1. Тuп определяет набор возможных операций и значений, выполняемых над объектом.\n",
    "\n",
    "Объект - пока не трогаем.\n",
    "\n",
    "https://docs.python.org/3/reference/datamodel.html#objects-values-and-types\n",
    "\n",
    "### Задание 2. Параметры позиционные и именованные.\n",
    "\n",
    "**Достичь в параметрах следующего:**\n",
    "\n",
    "- чтение на лету.\n",
    "- Вызов.\n",
    "- Исключения.\n",
    "\n",
    "https://docs.python.org/3/tutorial/controlflow.html#defining-functions\n",
    "\n",
    "https://docs.python.org/3/tutorial/controlflow.html#special-parameters\n",
    "\n",
    "\n",
    "позиционные параметры: Это параметры, заначения которых указываются подряд. Их указывают в \"отделе параметров\", как параметры, которые идут после \"/\"\n",
    "\n",
    "так же есть именованные параметры в которых две звездочки **. Это тот же самый именованный параметр, но он используется в массивах , тогда как * в переменных"
   ]
  },
  {
   "cell_type": "code",
   "execution_count": null,
   "metadata": {},
   "outputs": [],
   "source": [
    "def pos_only_arg(arg, /):\n",
    "    print(arg)\n",
    "\n",
    "pos_only_arg(1) #такой ввод значения принимается\n",
    "\n",
    "pos_only_arg(arg=1) #такой ввод значения выдаст исключение тк параметр позиционный и должен вводиться , как показано выше \n"
   ]
  },
  {
   "cell_type": "markdown",
   "metadata": {},
   "source": [
    "\n",
    "именованые параметры: Это параметры, заначения которых указываются по имени параметра . Их указывают в \"отделе параметров\", как параметры, которые перед \"*\"\n"
   ]
  },
  {
   "cell_type": "code",
   "execution_count": null,
   "metadata": {},
   "outputs": [],
   "source": [
    "def kwd_only_arg(*, arg):\n",
    "    print(arg)\n",
    "\n",
    "kwd_only_arg(1) #такой ввод значения выдаст исключение тк параметр именованный и должен вводиться , как показано ниже\n",
    "\n",
    "kwd_only_arg(arg=1) #такой ввод значения принимается"
   ]
  },
  {
   "cell_type": "markdown",
   "metadata": {},
   "source": [
    "- считывание на лету.(не знаю как передать то, что я считываю на лету, но могу написать то, что сначала идут позиционные,после / \"смешаные\" , а после * именованные  )\n",
    "- Вызов.(тут я ничего не понял, потому что в видео, вы показывали кусок кода ниже и свое непонимание я напишу там же через комментарий)"
   ]
  },
  {
   "cell_type": "code",
   "execution_count": null,
   "metadata": {},
   "outputs": [],
   "source": [
    "def get_object_or_404(klass, *args, **kwargs):\n",
    "    \"\"\"\n",
    "    Use get() to return an object, or raise an Http404 exception if the object\n",
    "    does not exist.\n",
    "\n",
    "    klass may be a Model, Manager, or QuerySet object. All other passed\n",
    "    arguments and keyword arguments are used in the get() query.\n",
    "\n",
    "    Like with QuerySet.get(), MultipleObjectsReturned is raised if more than\n",
    "    one object is found.\n",
    "    \"\"\"\n",
    "    queryset = _get_queryset(klass) #вот переменной присваивается функция с \"смешанным\" параметром klass\n",
    "    if not hasattr(queryset, \"get\"):\n",
    "        klass__name = (\n",
    "            klass.__name__ if isinstance(klass, type) else klass.__class__.__name__\n",
    "        )\n",
    "        raise ValueError(\n",
    "            \"First argument to get_object_or_404() must be a Model, Manager, \"\n",
    "            \"or QuerySet, not '%s'.\" % klass__name\n",
    "        )\n",
    "    try:\n",
    "        return queryset.get(*args, **kwargs) # здесь уже вызов переменной, но параметры уже другие и вот на этом моменте я не могу сообразить \n",
    "    except queryset.model.DoesNotExist:\n",
    "        raise Http404(\n",
    "            \"No %s matches the given query.\" % queryset.model._meta.object_name\n",
    "        )"
   ]
  },
  {
   "cell_type": "markdown",
   "metadata": {},
   "source": [
    "\n",
    "- Исключения.(я не понимаю как сделать ввод, значений в функцию, поэтому просто скопирую текст из документации и опишу ошибку, как я ее понимаю )"
   ]
  },
  {
   "cell_type": "code",
   "execution_count": null,
   "metadata": {},
   "outputs": [],
   "source": [
    "#исключение появилось тк параметр не может принимать значение больше одного раза \n",
    "def function(a):\n",
    "\n",
    "    pass\n",
    "\n",
    "\n",
    "function(0, a=0)\n",
    "Traceback (most recent call last):\n",
    "  File \"<stdin>\", line 1, in <module>\n",
    "TypeError: function() got multiple values for argument 'a'"
   ]
  },
  {
   "cell_type": "code",
   "execution_count": 2,
   "metadata": {},
   "outputs": [
    {
     "ename": "SyntaxError",
     "evalue": "invalid syntax. Perhaps you forgot a comma? (3645510740.py, line 6)",
     "output_type": "error",
     "traceback": [
      "\u001b[0;36m  Cell \u001b[0;32mIn[2], line 6\u001b[0;36m\u001b[0m\n\u001b[0;31m    Traceback (most recent call last):\u001b[0m\n\u001b[0m               ^\u001b[0m\n\u001b[0;31mSyntaxError\u001b[0m\u001b[0;31m:\u001b[0m invalid syntax. Perhaps you forgot a comma?\n"
     ]
    }
   ],
   "source": [
    "def combined_example(pos_only, /, standard, *, kwd_only):\n",
    "\n",
    "    print(pos_only, standard, kwd_only)\n",
    "\n",
    "combined_example(1, 2, 3)\n",
    "Traceback (most recent call last):\n",
    "  File \"<stdin>\", line 1, in <module>\n",
    "TypeError: combined_example() takes 2 positional arguments but 3 were given #исключение появилось из за того, что в именованный параметр пытались ввести значение , как в  позиционный \n",
    "\n",
    "combined_example(1, 2, kwd_only=3)\n",
    "1 2 3#ошибки нет тк средний параметр может быть либо позиционным ,либо именованным \n",
    "\n",
    "combined_example(1, standard=2, kwd_only=3)\n",
    "1 2 3#ошибки нет тк средний параметр может быть либо позиционным ,либо именованным \n",
    "\n",
    "combined_example(pos_only=1, standard=2, kwd_only=3)\n",
    "Traceback (most recent call last):\n",
    "  File \"<stdin>\", line 1, in <module>\n",
    "TypeError: combined_example() got some positional-only arguments passed as keyword arguments: 'pos_only'#исключение появилось из за того, что в позиционный параметр пытались ввести значение , как в именованный"
   ]
  },
  {
   "cell_type": "code",
   "execution_count": null,
   "metadata": {},
   "outputs": [],
   "source": [
    "def foo(name, **kwds):\n",
    "    return 'name' in kwds\n",
    "\n",
    "foo(1, **{'name': 2})\n",
    "Traceback (most recent call last):\n",
    "  File \"<stdin>\", line 1, in <module>\n",
    "TypeError: foo() got multiple values for argument 'name'#исключение возникло из за того, что первый параметр воспринимается , как именной, и поэтому возникает конфликт между повторяющимся 'name'\n",
    "\n",
    "#решается конвертированием первого параметра в позиционный "
   ]
  },
  {
   "cell_type": "markdown",
   "metadata": {},
   "source": []
  },
  {
   "cell_type": "markdown",
   "metadata": {},
   "source": [
    "# Задание от 8.01.2025"
   ]
  },
  {
   "cell_type": "markdown",
   "metadata": {},
   "source": [
    "\n",
    "\n",
    "\n",
    "### Задание 1. \n",
    "Мы знаем, что **Тuп определяет набор возможных операций и значений, выполняемых над объектом.**\n",
    "\n",
    "часть первая:\n",
    "\n",
    "Напишите функции питон и начните делать действия несовевместимые, например от чисел отнимать строки.\n",
    "Получите исключения и поясните.\n",
    "\n",
    "пример: 75 - \"Привет\" (используйте и другие операции вычитания, деление)"
   ]
  },
  {
   "cell_type": "code",
   "execution_count": 6,
   "metadata": {},
   "outputs": [
    {
     "ename": "TypeError",
     "evalue": "unsupported operand type(s) for /: 'int' and 'str'",
     "output_type": "error",
     "traceback": [
      "\u001b[1;31m---------------------------------------------------------------------------\u001b[0m",
      "\u001b[1;31mTypeError\u001b[0m                                 Traceback (most recent call last)",
      "Cell \u001b[1;32mIn[6], line 7\u001b[0m\n\u001b[0;32m      4\u001b[0m     result\u001b[38;5;241m=\u001b[39m a\u001b[38;5;241m/\u001b[39mb\n\u001b[0;32m      5\u001b[0m     \u001b[38;5;28;01mreturn\u001b[39;00m(result)\n\u001b[1;32m----> 7\u001b[0m \u001b[43mfunc\u001b[49m\u001b[43m(\u001b[49m\u001b[43m)\u001b[49m\n",
      "Cell \u001b[1;32mIn[6], line 4\u001b[0m, in \u001b[0;36mfunc\u001b[1;34m()\u001b[0m\n\u001b[0;32m      2\u001b[0m a\u001b[38;5;241m=\u001b[39m\u001b[38;5;28mint\u001b[39m(\u001b[38;5;241m70\u001b[39m)\n\u001b[0;32m      3\u001b[0m b\u001b[38;5;241m=\u001b[39m\u001b[38;5;28mstr\u001b[39m(\u001b[38;5;124m\"\u001b[39m\u001b[38;5;124mhello\u001b[39m\u001b[38;5;124m\"\u001b[39m)\n\u001b[1;32m----> 4\u001b[0m result\u001b[38;5;241m=\u001b[39m \u001b[43ma\u001b[49m\u001b[38;5;241;43m/\u001b[39;49m\u001b[43mb\u001b[49m\n\u001b[0;32m      5\u001b[0m \u001b[38;5;28;01mreturn\u001b[39;00m(result)\n",
      "\u001b[1;31mTypeError\u001b[0m: unsupported operand type(s) for /: 'int' and 'str'"
     ]
    }
   ],
   "source": [
    "def func ():\n",
    "    a=int(70)\n",
    "    b=str(\"hello\")\n",
    "    result= a/b\n",
    "\n",
    "func()"
   ]
  },
  {
   "cell_type": "markdown",
   "metadata": {},
   "source": [
    "В этом случае, исключение появилось из за того, целое число невозможно разделить на строку "
   ]
  },
  {
   "cell_type": "code",
   "execution_count": 20,
   "metadata": {},
   "outputs": [
    {
     "ename": "TypeError",
     "evalue": "unsupported operand type(s) for -: 'int' and 'str'",
     "output_type": "error",
     "traceback": [
      "\u001b[1;31m---------------------------------------------------------------------------\u001b[0m",
      "\u001b[1;31mTypeError\u001b[0m                                 Traceback (most recent call last)",
      "Cell \u001b[1;32mIn[20], line 6\u001b[0m\n\u001b[0;32m      3\u001b[0m     b\u001b[38;5;241m=\u001b[39m\u001b[38;5;28mstr\u001b[39m(\u001b[38;5;124m\"\u001b[39m\u001b[38;5;124mhello\u001b[39m\u001b[38;5;124m\"\u001b[39m)\n\u001b[0;32m      4\u001b[0m     result\u001b[38;5;241m=\u001b[39m a\u001b[38;5;241m-\u001b[39mb\n\u001b[1;32m----> 6\u001b[0m \u001b[43mfunc1\u001b[49m\u001b[43m(\u001b[49m\u001b[43m)\u001b[49m\n",
      "Cell \u001b[1;32mIn[20], line 4\u001b[0m, in \u001b[0;36mfunc1\u001b[1;34m()\u001b[0m\n\u001b[0;32m      2\u001b[0m a\u001b[38;5;241m=\u001b[39m\u001b[38;5;28mint\u001b[39m(\u001b[38;5;241m70\u001b[39m)\n\u001b[0;32m      3\u001b[0m b\u001b[38;5;241m=\u001b[39m\u001b[38;5;28mstr\u001b[39m(\u001b[38;5;124m\"\u001b[39m\u001b[38;5;124mhello\u001b[39m\u001b[38;5;124m\"\u001b[39m)\n\u001b[1;32m----> 4\u001b[0m result\u001b[38;5;241m=\u001b[39m \u001b[43ma\u001b[49m\u001b[38;5;241;43m-\u001b[39;49m\u001b[43mb\u001b[49m\n",
      "\u001b[1;31mTypeError\u001b[0m: unsupported operand type(s) for -: 'int' and 'str'"
     ]
    }
   ],
   "source": [
    "def func1 ():\n",
    "    a=int(70)\n",
    "    b=str(\"hello\")\n",
    "    result= a-b\n",
    "\n",
    "func1()"
   ]
  },
  {
   "cell_type": "markdown",
   "metadata": {},
   "source": [
    "В этом случае, исключение появилось из за того, из целого чила невозможно вычесть строку"
   ]
  },
  {
   "cell_type": "markdown",
   "metadata": {},
   "source": [
    "Когда мы знаем, что такое тип, то есть, **что делать с объектом**, именно это мы подразумеваем.\n",
    "\n",
    "теперь нам нужно понять. что такое объект?\n",
    "\n",
    "### Объект участок памяти, в котором хранится данные(переменная) определенного типа.\n",
    "\n",
    "### Задание 2.\n",
    "\n",
    "Прочитать и описать параметры:\n",
    "\n",
    "https://github.com/django/django/blob/stable/5.1.x/django/shortcuts.py#L65\n",
    "\n",
    "строка 18\n",
    "параметры: \n",
    "- request. Это позиционный или именованный параметр(там нет  * или /). Это функция из другого файла\n",
    "- template_name. Это позиционный или именованный параметр(там нет  * или /). Это константа \n",
    "- context=None. Это позиционный или именованный параметр(там нет  * или /). Это функция, None означает, что изначально этот параметр без значения\n",
    "- content_type=None. Это позиционный или именованный параметр(там нет  * или /). Это константа, None означает, что изначально этот параметр без значения\n",
    "- status=None. Это позиционный или именованный параметр(там нет  * или /). Это константа, None означает, что изначально этот параметр без значения\n",
    "- using=None. Это позиционный или именованный параметр(там нет  * или /). Это фукнция, None означает, что изначально этот параметр без значения\n",
    "\n",
    "строка 52\n",
    "- klass. Это позиционный или именованный параметр(там нет  * или /). Это константа \n",
    "\n",
    "строка 65\n",
    "- klass. Это позиционный или именованный параметр(там нет  * или /). Это константа \n",
    "- *args, Это именованный параметр, Это константа\n",
    "- **kwargs, Это именнованый параметр(массив)\n",
    "\n",
    "Есть в этом коде параметры. которые Вы не знаете, опишите их.\n",
    "\n",
    "# Задание 3.\n",
    "\n",
    "Написать функцию С++ и функцию Питон"
   ]
  },
  {
   "cell_type": "markdown",
   "metadata": {},
   "source": [
    "c++:"
   ]
  },
  {
   "cell_type": "code",
   "execution_count": null,
   "metadata": {},
   "outputs": [],
   "source": [
    "int sum1(int a, int b){\n",
    "    int c;\n",
    "    c = a-b;\n",
    "    return c;\n",
    "}"
   ]
  },
  {
   "cell_type": "markdown",
   "metadata": {},
   "source": [
    "Python:"
   ]
  },
  {
   "cell_type": "code",
   "execution_count": 9,
   "metadata": {},
   "outputs": [
    {
     "data": {
      "text/plain": [
       "5"
      ]
     },
     "execution_count": 9,
     "metadata": {},
     "output_type": "execute_result"
    }
   ],
   "source": [
    "def sum2(a, b):\n",
    "    c= a - b\n",
    "    return (c)\n",
    "\n",
    "sum2(7,2)"
   ]
  },
  {
   "cell_type": "markdown",
   "metadata": {},
   "source": [
    "\n",
    "\n",
    "И посмотреть на параметры, что общего, в чём различие.\n",
    "\n",
    "Рассказать со стороны типа, что видите отталкиваясь от С++, что там в параметрах с типом.\n",
    "И что в птион в параметрах с типом?\n",
    "\n",
    "Отличие заключается в том, что в c++ присутствует сторая типизация для параметров(для функции тоже), а в питоне типы определяются автоматически и поэтому их не надо вводить.\n",
    "\n",
    "### Задание 3.\n",
    "\n",
    "\n",
    "**расписать разметку Бекуса Наура.**\n",
    "\n",
    "https://docs.python.org/3/reference/introduction.html#notation\n",
    "\n",
    "https://docs.python.org/3/reference/compound_stmts.html#function-definitions\n",
    "\n",
    "\n",
    "разметка:\n",
    "- ::= , означает, что символ слева необходимо заменить выражением справа.\n",
    "- | , используется для обозначение альтернативы.\n",
    "- \"*\" , означает ноль или более повторений предыдущего элемента.\n",
    "- \"+\" , означает одно или несколько повторений предыдущего элемента.\n",
    "- (), означает одно или более вхождений (другими словами, заключенная фраза является обязательной).\n",
    "- [] , означает ноль или одно вхождение (другими словами, заключенная фраза не является обязательной).\n",
    "- <...> , то что заключено между угловых скобок означает описание.\n",
    "- \":\", то что заключено в ковычки означает , что находящийся внутри них символ, должен использоваться там же, где и поставлен в ковычках, в синтаксисе\n"
   ]
  },
  {
   "cell_type": "markdown",
   "metadata": {},
   "source": [
    "### Задание 4. Переделать параметры и получить исключения и объяснить.\n",
    "В этот раз используйте эту функцию.\n",
    "И разберитесь как может передоваться позиционнный параметры.\n",
    "Параметры. то, что в скобках.\n",
    "То что передаётся аргумент и никак по другому."
   ]
  },
  {
   "cell_type": "code",
   "execution_count": 2,
   "metadata": {},
   "outputs": [],
   "source": [
    "# https://docs.python.org/3/glossary.html\n",
    "\n",
    "\n",
    "def combined_example3(pos_only,  standard,  kwd_only):\n",
    "    print(pos_only, standard, kwd_only)\n",
    "    \n",
    "def combined_example2(standard,  kwd_only, pos_only=\"\"):\n",
    "    print(pos_only, standard, kwd_only)\n",
    "\n",
    "\n",
    "def combined_example1(pos_only, /, standard, *, kwd_only):\n",
    "\n",
    "    print(pos_only, standard, kwd_only)\n"
   ]
  },
  {
   "cell_type": "code",
   "execution_count": 12,
   "metadata": {},
   "outputs": [
    {
     "ename": "TypeError",
     "evalue": "combined_example3() got multiple values for argument 'pos_only'",
     "output_type": "error",
     "traceback": [
      "\u001b[1;31m---------------------------------------------------------------------------\u001b[0m",
      "\u001b[1;31mTypeError\u001b[0m                                 Traceback (most recent call last)",
      "Cell \u001b[1;32mIn[12], line 1\u001b[0m\n\u001b[1;32m----> 1\u001b[0m \u001b[43mcombined_example3\u001b[49m\u001b[43m(\u001b[49m\u001b[38;5;241;43m1\u001b[39;49m\u001b[43m,\u001b[49m\u001b[43m \u001b[49m\u001b[38;5;241;43m2\u001b[39;49m\u001b[43m,\u001b[49m\u001b[43m \u001b[49m\u001b[43mpos_only\u001b[49m\u001b[38;5;241;43m=\u001b[39;49m\u001b[38;5;124;43m\"\u001b[39;49m\u001b[38;5;124;43md\u001b[39;49m\u001b[38;5;124;43m\"\u001b[39;49m\u001b[43m)\u001b[49m\n",
      "\u001b[1;31mTypeError\u001b[0m: combined_example3() got multiple values for argument 'pos_only'"
     ]
    }
   ],
   "source": [
    "combined_example3(1, 2, pos_only=\"d\")"
   ]
  },
  {
   "cell_type": "markdown",
   "metadata": {},
   "source": [
    "ошибка заключается в том, что в параметр аргумент может записываться только один раз, а здесь два раза"
   ]
  },
  {
   "cell_type": "code",
   "execution_count": 17,
   "metadata": {},
   "outputs": [
    {
     "name": "stdout",
     "output_type": "stream",
     "text": [
      "1 2 d\n"
     ]
    }
   ],
   "source": [
    "combined_example3(standard=\"2\", pos_only=\"1\", kwd_only=\"d\")"
   ]
  },
  {
   "cell_type": "code",
   "execution_count": 32,
   "metadata": {},
   "outputs": [
    {
     "ename": "TypeError",
     "evalue": "combined_example2() got multiple values for argument 'standard'",
     "output_type": "error",
     "traceback": [
      "\u001b[1;31m---------------------------------------------------------------------------\u001b[0m",
      "\u001b[1;31mTypeError\u001b[0m                                 Traceback (most recent call last)",
      "Cell \u001b[1;32mIn[32], line 1\u001b[0m\n\u001b[1;32m----> 1\u001b[0m \u001b[43mcombined_example2\u001b[49m\u001b[43m(\u001b[49m\u001b[38;5;241;43m2\u001b[39;49m\u001b[43m,\u001b[49m\u001b[43m \u001b[49m\u001b[38;5;241;43m1\u001b[39;49m\u001b[43m,\u001b[49m\u001b[43m \u001b[49m\u001b[43mstandard\u001b[49m\u001b[38;5;241;43m=\u001b[39;49m\u001b[38;5;241;43m3\u001b[39;49m\u001b[43m)\u001b[49m\n",
      "\u001b[1;31mTypeError\u001b[0m: combined_example2() got multiple values for argument 'standard'"
     ]
    }
   ],
   "source": [
    "combined_example2(2, 1, standard=3)"
   ]
  },
  {
   "cell_type": "markdown",
   "metadata": {},
   "source": [
    "исключение возникло из за того, что нарушена последовательность передачи аргументов(сначала позиционный, )"
   ]
  },
  {
   "cell_type": "code",
   "execution_count": 13,
   "metadata": {},
   "outputs": [
    {
     "ename": "TypeError",
     "evalue": "combined_example1() missing 2 required positional arguments: 'pos_only' and 'standard'",
     "output_type": "error",
     "traceback": [
      "\u001b[1;31m---------------------------------------------------------------------------\u001b[0m",
      "\u001b[1;31mTypeError\u001b[0m                                 Traceback (most recent call last)",
      "Cell \u001b[1;32mIn[13], line 1\u001b[0m\n\u001b[1;32m----> 1\u001b[0m \u001b[43mcombined_example1\u001b[49m\u001b[43m(\u001b[49m\u001b[43m)\u001b[49m\n",
      "\u001b[1;31mTypeError\u001b[0m: combined_example1() missing 2 required positional arguments: 'pos_only' and 'standard'"
     ]
    }
   ],
   "source": [
    "combined_example1()"
   ]
  },
  {
   "cell_type": "markdown",
   "metadata": {},
   "source": [
    "Это исключение появилось из за того, что отсутсвуют три вида аргументов "
   ]
  },
  {
   "cell_type": "code",
   "execution_count": 13,
   "metadata": {},
   "outputs": [
    {
     "ename": "TypeError",
     "evalue": "combined_example1() missing 1 required keyword-only argument: 'kwd_only'",
     "output_type": "error",
     "traceback": [
      "\u001b[0;31m---------------------------------------------------------------------------\u001b[0m",
      "\u001b[0;31mTypeError\u001b[0m                                 Traceback (most recent call last)",
      "Cell \u001b[0;32mIn[13], line 1\u001b[0m\n\u001b[0;32m----> 1\u001b[0m \u001b[43mcombined_example1\u001b[49m\u001b[43m(\u001b[49m\u001b[38;5;241;43m255\u001b[39;49m\u001b[43m,\u001b[49m\u001b[43m \u001b[49m\u001b[38;5;241;43m256\u001b[39;49m\u001b[43m)\u001b[49m\n",
      "\u001b[0;31mTypeError\u001b[0m: combined_example1() missing 1 required keyword-only argument: 'kwd_only'"
     ]
    }
   ],
   "source": [
    "combined_example1(255, 256)"
   ]
  },
  {
   "cell_type": "markdown",
   "metadata": {},
   "source": [
    "Это исключение появилось из за того, что отсутсвует именованный аргумент "
   ]
  },
  {
   "cell_type": "code",
   "execution_count": 14,
   "metadata": {},
   "outputs": [
    {
     "ename": "TypeError",
     "evalue": "combined_example1() takes 2 positional arguments but 3 were given",
     "output_type": "error",
     "traceback": [
      "\u001b[0;31m---------------------------------------------------------------------------\u001b[0m",
      "\u001b[0;31mTypeError\u001b[0m                                 Traceback (most recent call last)",
      "Cell \u001b[0;32mIn[14], line 1\u001b[0m\n\u001b[0;32m----> 1\u001b[0m \u001b[43mcombined_example1\u001b[49m\u001b[43m(\u001b[49m\u001b[38;5;241;43m255\u001b[39;49m\u001b[43m,\u001b[49m\u001b[43m \u001b[49m\u001b[38;5;241;43m256\u001b[39;49m\u001b[43m,\u001b[49m\u001b[43m \u001b[49m\u001b[38;5;124;43m\"\u001b[39;49m\u001b[38;5;124;43m\"\u001b[39;49m\u001b[43m)\u001b[49m\n",
      "\u001b[0;31mTypeError\u001b[0m: combined_example1() takes 2 positional arguments but 3 were given"
     ]
    }
   ],
   "source": [
    "combined_example1(255, 256, \"\")"
   ]
  },
  {
   "cell_type": "markdown",
   "metadata": {},
   "source": [
    "Это исключение появилось из за того, что синтаксис передачи именованного аргумента другой (может не понятно выразился, передача должна происходить через kwd_only=\"\") "
   ]
  },
  {
   "cell_type": "code",
   "execution_count": 15,
   "metadata": {},
   "outputs": [
    {
     "name": "stdout",
     "output_type": "stream",
     "text": [
      "255 256 \n"
     ]
    }
   ],
   "source": [
    "combined_example1(255, 256, kwd_only = \"\")"
   ]
  },
  {
   "cell_type": "code",
   "execution_count": 16,
   "metadata": {},
   "outputs": [
    {
     "ename": "TypeError",
     "evalue": "combined_example1() got an unexpected keyword argument 'kwd_only2'",
     "output_type": "error",
     "traceback": [
      "\u001b[0;31m---------------------------------------------------------------------------\u001b[0m",
      "\u001b[0;31mTypeError\u001b[0m                                 Traceback (most recent call last)",
      "Cell \u001b[0;32mIn[16], line 1\u001b[0m\n\u001b[0;32m----> 1\u001b[0m \u001b[43mcombined_example1\u001b[49m\u001b[43m(\u001b[49m\u001b[38;5;241;43m255\u001b[39;49m\u001b[43m,\u001b[49m\u001b[43m \u001b[49m\u001b[38;5;241;43m256\u001b[39;49m\u001b[43m,\u001b[49m\u001b[43m \u001b[49m\u001b[43mkwd_only2\u001b[49m\u001b[43m \u001b[49m\u001b[38;5;241;43m=\u001b[39;49m\u001b[43m \u001b[49m\u001b[38;5;124;43m\"\u001b[39;49m\u001b[38;5;124;43m\"\u001b[39;49m\u001b[43m)\u001b[49m\n",
      "\u001b[0;31mTypeError\u001b[0m: combined_example1() got an unexpected keyword argument 'kwd_only2'"
     ]
    }
   ],
   "source": [
    "combined_example1(255, 256, kwd_only2 = \"\")"
   ]
  },
  {
   "cell_type": "markdown",
   "metadata": {},
   "source": [
    "Это исключение появилось из за того, что введен именованный параметр, который отсутствует в функции"
   ]
  },
  {
   "cell_type": "code",
   "execution_count": 12,
   "metadata": {},
   "outputs": [
    {
     "ename": "TypeError",
     "evalue": "combined_example1() missing 1 required positional argument: 'pos_only'",
     "output_type": "error",
     "traceback": [
      "\u001b[1;31m---------------------------------------------------------------------------\u001b[0m",
      "\u001b[1;31mTypeError\u001b[0m                                 Traceback (most recent call last)",
      "Cell \u001b[1;32mIn[12], line 1\u001b[0m\n\u001b[1;32m----> 1\u001b[0m \u001b[43mcombined_example1\u001b[49m\u001b[43m(\u001b[49m\u001b[43mstandard\u001b[49m\u001b[38;5;241;43m=\u001b[39;49m\u001b[38;5;241;43m1\u001b[39;49m\u001b[43m,\u001b[49m\u001b[43mkwd_only\u001b[49m\u001b[38;5;241;43m=\u001b[39;49m\u001b[38;5;241;43m1\u001b[39;49m\u001b[43m)\u001b[49m\n",
      "\u001b[1;31mTypeError\u001b[0m: combined_example1() missing 1 required positional argument: 'pos_only'"
     ]
    }
   ],
   "source": [
    "combined_example1(standard= 1,kwd_only= 1)"
   ]
  },
  {
   "cell_type": "markdown",
   "metadata": {},
   "source": [
    "Это исключение появилось из за того, что отсутствует позиционный аргумент"
   ]
  },
  {
   "cell_type": "code",
   "execution_count": 15,
   "metadata": {},
   "outputs": [
    {
     "ename": "SyntaxError",
     "evalue": "positional argument follows keyword argument (3330736.py, line 1)",
     "output_type": "error",
     "traceback": [
      "\u001b[1;36m  Cell \u001b[1;32mIn[15], line 1\u001b[1;36m\u001b[0m\n\u001b[1;33m    combined_example1(kwd_only=1, 1,standard= 1)\u001b[0m\n\u001b[1;37m                                               ^\u001b[0m\n\u001b[1;31mSyntaxError\u001b[0m\u001b[1;31m:\u001b[0m positional argument follows keyword argument\n"
     ]
    }
   ],
   "source": [
    "combined_example1(kwd_only=1, 1,standard= 1)"
   ]
  },
  {
   "cell_type": "markdown",
   "metadata": {},
   "source": [
    "Это исключение появилось из за того, что параметры введены в неправильной последовательности"
   ]
  },
  {
   "cell_type": "code",
   "execution_count": 4,
   "metadata": {},
   "outputs": [
    {
     "ename": "SyntaxError",
     "evalue": "positional argument follows keyword argument (698557790.py, line 1)",
     "output_type": "error",
     "traceback": [
      "\u001b[1;36m  Cell \u001b[1;32mIn[4], line 1\u001b[1;36m\u001b[0m\n\u001b[1;33m    combined_example1(standard= 1, kwd_only=1, 1)\u001b[0m\n\u001b[1;37m                                                ^\u001b[0m\n\u001b[1;31mSyntaxError\u001b[0m\u001b[1;31m:\u001b[0m positional argument follows keyword argument\n"
     ]
    }
   ],
   "source": [
    "combined_example1(standard= 1, kwd_only=1, 1)"
   ]
  },
  {
   "cell_type": "markdown",
   "metadata": {},
   "source": [
    "Это исключение появилось из за того, что параметры введены в неправильной последовательности"
   ]
  },
  {
   "cell_type": "code",
   "execution_count": null,
   "metadata": {},
   "outputs": [],
   "source": [
    "a = \"\""
   ]
  },
  {
   "cell_type": "code",
   "execution_count": 18,
   "metadata": {},
   "outputs": [
    {
     "data": {
      "text/plain": [
       "str"
      ]
     },
     "execution_count": 18,
     "metadata": {},
     "output_type": "execute_result"
    }
   ],
   "source": [
    "type(a)"
   ]
  },
  {
   "cell_type": "code",
   "execution_count": 19,
   "metadata": {},
   "outputs": [
    {
     "data": {
      "text/plain": [
       "type"
      ]
     },
     "execution_count": 19,
     "metadata": {},
     "output_type": "execute_result"
    }
   ],
   "source": [
    "type(str)"
   ]
  },
  {
   "cell_type": "markdown",
   "metadata": {},
   "source": [
    "# задание от 15.01.2025"
   ]
  },
  {
   "cell_type": "markdown",
   "metadata": {},
   "source": [
    "**НЕ верно/дать верное определение**: Объект участок памяти, в котором хранится значение определенного типа.\n",
    "\n",
    "https://docs.python.org/3/reference/datamodel.html#objects-values-and-types\n",
    "\n",
    "### Разобраться с позиционными и именованными и привести примеры.\n",
    "\n",
    "Как Вы отличите позиционные и именованные параметры?\n",
    "\n",
    "Именованный параметр идет через присвоение (знак =), а тк позиционный параметр, это не именованный, то нужно действовать от обратного. Т.Е. если у параметра нет знака присвоения, то это позиционный параметр \n",
    "\n",
    "https://docs.python.org/3/tutorial/controlflow.html#defining-functions"
   ]
  },
  {
   "cell_type": "code",
   "execution_count": 4,
   "metadata": {},
   "outputs": [],
   "source": [
    "def qwe(*,common):\n",
    "    print (common)\n",
    "\n",
    "def qwe1(common, /):\n",
    "    print (common)\n",
    "\n",
    "'def qwe2(common= \"\", common1):'\n",
    "'print (common)' #тут будет ошибка тк сначала идут позиционные параметры, а потом именованные\n",
    "\n",
    "def qwe2(common1, common= \"\"):\n",
    "    print (common,common1)"
   ]
  },
  {
   "cell_type": "code",
   "execution_count": 6,
   "metadata": {},
   "outputs": [
    {
     "ename": "TypeError",
     "evalue": "qwe() takes 0 positional arguments but 1 was given",
     "output_type": "error",
     "traceback": [
      "\u001b[1;31m---------------------------------------------------------------------------\u001b[0m",
      "\u001b[1;31mTypeError\u001b[0m                                 Traceback (most recent call last)",
      "Cell \u001b[1;32mIn[6], line 1\u001b[0m\n\u001b[1;32m----> 1\u001b[0m \u001b[43mqwe\u001b[49m\u001b[43m(\u001b[49m\u001b[38;5;241;43m1\u001b[39;49m\u001b[43m)\u001b[49m\n",
      "\u001b[1;31mTypeError\u001b[0m: qwe() takes 0 positional arguments but 1 was given"
     ]
    }
   ],
   "source": [
    "qwe(1)"
   ]
  },
  {
   "cell_type": "markdown",
   "metadata": {},
   "source": [
    "исключение сработало, потому что в функции могут быть только именованные параметры, а в аргумет введен позиционный"
   ]
  },
  {
   "cell_type": "code",
   "execution_count": 7,
   "metadata": {},
   "outputs": [
    {
     "name": "stdout",
     "output_type": "stream",
     "text": [
      "1\n"
     ]
    }
   ],
   "source": [
    "qwe(common=1)"
   ]
  },
  {
   "cell_type": "code",
   "execution_count": 9,
   "metadata": {},
   "outputs": [
    {
     "ename": "TypeError",
     "evalue": "qwe1() got some positional-only arguments passed as keyword arguments: 'common'",
     "output_type": "error",
     "traceback": [
      "\u001b[1;31m---------------------------------------------------------------------------\u001b[0m",
      "\u001b[1;31mTypeError\u001b[0m                                 Traceback (most recent call last)",
      "Cell \u001b[1;32mIn[9], line 1\u001b[0m\n\u001b[1;32m----> 1\u001b[0m \u001b[43mqwe1\u001b[49m\u001b[43m(\u001b[49m\u001b[43mcommon\u001b[49m\u001b[38;5;241;43m=\u001b[39;49m\u001b[38;5;241;43m1\u001b[39;49m\u001b[43m)\u001b[49m\n",
      "\u001b[1;31mTypeError\u001b[0m: qwe1() got some positional-only arguments passed as keyword arguments: 'common'"
     ]
    }
   ],
   "source": [
    "qwe1(common=1)"
   ]
  },
  {
   "cell_type": "code",
   "execution_count": null,
   "metadata": {},
   "outputs": [],
   "source": [
    "исключение сработало, потому что в функции могут быть только позиционные параметры, а в аргумет введен именованный"
   ]
  },
  {
   "cell_type": "code",
   "execution_count": 10,
   "metadata": {},
   "outputs": [
    {
     "name": "stdout",
     "output_type": "stream",
     "text": [
      "1\n"
     ]
    }
   ],
   "source": [
    "qwe1(1)"
   ]
  },
  {
   "cell_type": "markdown",
   "metadata": {},
   "source": [
    "\n",
    "\n",
    "\n",
    "\n",
    "### Какой тип у параметра класс в данный момент?\n",
    "\n",
    "`def get_object_or_404(klass, *args, **kwargs):`\n",
    "\n",
    "Как показать в коде?\n",
    "type()\n",
    "\n",
    "я не понимаю как показать в коде через type, у меня получилось доказать только через исключение"
   ]
  },
  {
   "cell_type": "code",
   "execution_count": 7,
   "metadata": {},
   "outputs": [],
   "source": [
    "def get_object_or_404(klass, *args, **kwargs):\n",
    "    print(type(klass))"
   ]
  },
  {
   "cell_type": "code",
   "execution_count": 14,
   "metadata": {},
   "outputs": [
    {
     "name": "stdout",
     "output_type": "stream",
     "text": [
      "<class 'int'>\n"
     ]
    }
   ],
   "source": [
    "get_object_or_404(1,1,1)"
   ]
  },
  {
   "cell_type": "code",
   "execution_count": 9,
   "metadata": {},
   "outputs": [
    {
     "ename": "TypeError",
     "evalue": "get_object_or_404() got multiple values for argument 'klass'",
     "output_type": "error",
     "traceback": [
      "\u001b[1;31m---------------------------------------------------------------------------\u001b[0m",
      "\u001b[1;31mTypeError\u001b[0m                                 Traceback (most recent call last)",
      "Cell \u001b[1;32mIn[9], line 1\u001b[0m\n\u001b[1;32m----> 1\u001b[0m \u001b[43mget_object_or_404\u001b[49m\u001b[43m(\u001b[49m\u001b[38;5;241;43m1\u001b[39;49m\u001b[43m,\u001b[49m\u001b[38;5;241;43m1\u001b[39;49m\u001b[43m,\u001b[49m\u001b[43mklass\u001b[49m\u001b[38;5;241;43m=\u001b[39;49m\u001b[38;5;124;43m'\u001b[39;49m\u001b[38;5;124;43m1\u001b[39;49m\u001b[38;5;124;43m'\u001b[39;49m\u001b[43m)\u001b[49m \n",
      "\u001b[1;31mTypeError\u001b[0m: get_object_or_404() got multiple values for argument 'klass'"
     ]
    }
   ],
   "source": [
    "get_object_or_404(1,1,klass='1') "
   ]
  },
  {
   "cell_type": "markdown",
   "metadata": {},
   "source": [
    "исключение появилось, потому что klass это позиционный параметр, и он задался при первом аргументе, а потом получил второе значение при попытке передачи именованного аргумента(аргумент может заносится в параметр только один раз)"
   ]
  },
  {
   "cell_type": "code",
   "execution_count": 12,
   "metadata": {},
   "outputs": [
    {
     "ename": "SyntaxError",
     "evalue": "positional argument follows keyword argument (4115536778.py, line 1)",
     "output_type": "error",
     "traceback": [
      "\u001b[1;36m  Cell \u001b[1;32mIn[12], line 1\u001b[1;36m\u001b[0m\n\u001b[1;33m    get_object_or_404(klass='1',1,1)\u001b[0m\n\u001b[1;37m                                   ^\u001b[0m\n\u001b[1;31mSyntaxError\u001b[0m\u001b[1;31m:\u001b[0m positional argument follows keyword argument\n"
     ]
    }
   ],
   "source": [
    "get_object_or_404(klass='1',1,1) "
   ]
  },
  {
   "cell_type": "markdown",
   "metadata": {},
   "source": [
    "ошибка появилась тк сначала идут позиционные аргументы, а только потом именованные "
   ]
  },
  {
   "cell_type": "code",
   "execution_count": 1,
   "metadata": {},
   "outputs": [
    {
     "ename": "NameError",
     "evalue": "name 'var' is not defined",
     "output_type": "error",
     "traceback": [
      "\u001b[0;31m---------------------------------------------------------------------------\u001b[0m",
      "\u001b[0;31mNameError\u001b[0m                                 Traceback (most recent call last)",
      "Cell \u001b[0;32mIn[1], line 1\u001b[0m\n\u001b[0;32m----> 1\u001b[0m \u001b[43mvar\u001b[49m\n",
      "\u001b[0;31mNameError\u001b[0m: name 'var' is not defined"
     ]
    }
   ],
   "source": [
    "var"
   ]
  },
  {
   "cell_type": "code",
   "execution_count": 1,
   "metadata": {},
   "outputs": [],
   "source": [
    "def main(request):\n",
    "    pass"
   ]
  },
  {
   "cell_type": "code",
   "execution_count": 4,
   "metadata": {},
   "outputs": [
    {
     "ename": "TypeError",
     "evalue": "main() missing 1 required positional argument: 'request'",
     "output_type": "error",
     "traceback": [
      "\u001b[1;31m---------------------------------------------------------------------------\u001b[0m",
      "\u001b[1;31mTypeError\u001b[0m                                 Traceback (most recent call last)",
      "Cell \u001b[1;32mIn[4], line 1\u001b[0m\n\u001b[1;32m----> 1\u001b[0m \u001b[43mmain\u001b[49m\u001b[43m(\u001b[49m\u001b[43m)\u001b[49m\n",
      "\u001b[1;31mTypeError\u001b[0m: main() missing 1 required positional argument: 'request'"
     ]
    }
   ],
   "source": [
    "main()"
   ]
  },
  {
   "cell_type": "code",
   "execution_count": 3,
   "metadata": {},
   "outputs": [],
   "source": [
    "main(\"\")"
   ]
  },
  {
   "cell_type": "code",
   "execution_count": 4,
   "metadata": {},
   "outputs": [],
   "source": [
    "main(request=\"\")"
   ]
  },
  {
   "cell_type": "code",
   "execution_count": 2,
   "metadata": {},
   "outputs": [],
   "source": [
    "def main2(request, /):\n",
    "    pass"
   ]
  },
  {
   "cell_type": "code",
   "execution_count": 4,
   "metadata": {},
   "outputs": [
    {
     "ename": "TypeError",
     "evalue": "main2() got some positional-only arguments passed as keyword arguments: 'request'",
     "output_type": "error",
     "traceback": [
      "\u001b[0;31m---------------------------------------------------------------------------\u001b[0m",
      "\u001b[0;31mTypeError\u001b[0m                                 Traceback (most recent call last)",
      "Cell \u001b[0;32mIn[4], line 1\u001b[0m\n\u001b[0;32m----> 1\u001b[0m \u001b[43mmain2\u001b[49m\u001b[43m(\u001b[49m\u001b[43mrequest\u001b[49m\u001b[38;5;241;43m=\u001b[39;49m\u001b[38;5;124;43m\"\u001b[39;49m\u001b[38;5;124;43m\"\u001b[39;49m\u001b[43m)\u001b[49m\n",
      "\u001b[0;31mTypeError\u001b[0m: main2() got some positional-only arguments passed as keyword arguments: 'request'"
     ]
    }
   ],
   "source": [
    "main2(request=\"\")"
   ]
  },
  {
   "cell_type": "code",
   "execution_count": 6,
   "metadata": {},
   "outputs": [],
   "source": [
    "main2(\"\")"
   ]
  },
  {
   "cell_type": "code",
   "execution_count": 8,
   "metadata": {},
   "outputs": [],
   "source": [
    "# Правильно ли работае язык\n",
    "\n",
    "class A:\n",
    "    def __init__(self,param):\n",
    "        sels.param = param\n",
    "\n",
    "    def main(param1, param2):\n",
    "        param = param1 + param2\n",
    "        return param"
   ]
  },
  {
   "cell_type": "code",
   "execution_count": 9,
   "metadata": {},
   "outputs": [],
   "source": [
    "a = A"
   ]
  },
  {
   "cell_type": "code",
   "execution_count": 10,
   "metadata": {},
   "outputs": [
    {
     "data": {
      "text/plain": [
       "<function __main__.A.main(param1, param2)>"
      ]
     },
     "execution_count": 10,
     "metadata": {},
     "output_type": "execute_result"
    }
   ],
   "source": [
    "a.main"
   ]
  },
  {
   "cell_type": "code",
   "execution_count": 11,
   "metadata": {},
   "outputs": [
    {
     "ename": "TypeError",
     "evalue": "A.main() missing 2 required positional arguments: 'param1' and 'param2'",
     "output_type": "error",
     "traceback": [
      "\u001b[0;31m---------------------------------------------------------------------------\u001b[0m",
      "\u001b[0;31mTypeError\u001b[0m                                 Traceback (most recent call last)",
      "Cell \u001b[0;32mIn[11], line 1\u001b[0m\n\u001b[0;32m----> 1\u001b[0m \u001b[43ma\u001b[49m\u001b[38;5;241;43m.\u001b[39;49m\u001b[43mmain\u001b[49m\u001b[43m(\u001b[49m\u001b[43m)\u001b[49m\n",
      "\u001b[0;31mTypeError\u001b[0m: A.main() missing 2 required positional arguments: 'param1' and 'param2'"
     ]
    }
   ],
   "source": [
    "a.main()"
   ]
  },
  {
   "cell_type": "code",
   "execution_count": 12,
   "metadata": {},
   "outputs": [
    {
     "data": {
      "text/plain": [
       "6"
      ]
     },
     "execution_count": 12,
     "metadata": {},
     "output_type": "execute_result"
    }
   ],
   "source": [
    "a.main(1,5)"
   ]
  },
  {
   "cell_type": "code",
   "execution_count": 13,
   "metadata": {},
   "outputs": [
    {
     "ename": "TypeError",
     "evalue": "A.__init__() missing 1 required positional argument: 'param'",
     "output_type": "error",
     "traceback": [
      "\u001b[0;31m---------------------------------------------------------------------------\u001b[0m",
      "\u001b[0;31mTypeError\u001b[0m                                 Traceback (most recent call last)",
      "Cell \u001b[0;32mIn[13], line 1\u001b[0m\n\u001b[0;32m----> 1\u001b[0m a \u001b[38;5;241m=\u001b[39m \u001b[43mA\u001b[49m\u001b[43m(\u001b[49m\u001b[43m)\u001b[49m\n",
      "\u001b[0;31mTypeError\u001b[0m: A.__init__() missing 1 required positional argument: 'param'"
     ]
    }
   ],
   "source": [
    "a = A()"
   ]
  },
  {
   "cell_type": "code",
   "execution_count": 14,
   "metadata": {},
   "outputs": [
    {
     "ename": "NameError",
     "evalue": "name 'sels' is not defined",
     "output_type": "error",
     "traceback": [
      "\u001b[0;31m---------------------------------------------------------------------------\u001b[0m",
      "\u001b[0;31mNameError\u001b[0m                                 Traceback (most recent call last)",
      "Cell \u001b[0;32mIn[14], line 1\u001b[0m\n\u001b[0;32m----> 1\u001b[0m a \u001b[38;5;241m=\u001b[39m \u001b[43mA\u001b[49m\u001b[43m(\u001b[49m\u001b[38;5;241;43m5\u001b[39;49m\u001b[43m)\u001b[49m\n",
      "Cell \u001b[0;32mIn[8], line 5\u001b[0m, in \u001b[0;36mA.__init__\u001b[0;34m(self, param)\u001b[0m\n\u001b[1;32m      4\u001b[0m \u001b[38;5;28;01mdef\u001b[39;00m \u001b[38;5;21m__init__\u001b[39m(\u001b[38;5;28mself\u001b[39m,param):\n\u001b[0;32m----> 5\u001b[0m     \u001b[43msels\u001b[49m\u001b[38;5;241m.\u001b[39mparam \u001b[38;5;241m=\u001b[39m param\n",
      "\u001b[0;31mNameError\u001b[0m: name 'sels' is not defined"
     ]
    }
   ],
   "source": [
    "a = A(5)"
   ]
  },
  {
   "cell_type": "code",
   "execution_count": 15,
   "metadata": {},
   "outputs": [
    {
     "ename": "TypeError",
     "evalue": "A.__init__() takes 2 positional arguments but 3 were given",
     "output_type": "error",
     "traceback": [
      "\u001b[0;31m---------------------------------------------------------------------------\u001b[0m",
      "\u001b[0;31mTypeError\u001b[0m                                 Traceback (most recent call last)",
      "Cell \u001b[0;32mIn[15], line 1\u001b[0m\n\u001b[0;32m----> 1\u001b[0m a \u001b[38;5;241m=\u001b[39m \u001b[43mA\u001b[49m\u001b[43m(\u001b[49m\u001b[38;5;241;43m5\u001b[39;49m\u001b[43m,\u001b[49m\u001b[38;5;241;43m5\u001b[39;49m\u001b[43m)\u001b[49m\n",
      "\u001b[0;31mTypeError\u001b[0m: A.__init__() takes 2 positional arguments but 3 were given"
     ]
    }
   ],
   "source": [
    "a = A(5,5)"
   ]
  },
  {
   "cell_type": "markdown",
   "metadata": {},
   "source": [
    "# Задание от 22.01.25\n",
    "\n",
    "https://spb-tut.ru/%D0%BD%D0%BE%D0%B2%D0%BE%D1%81%D1%82%D0%B8/%D1%81%D0%BE%D0%B1%D1%8B%D1%82%D0%B8%D1%8F/%D0%B2%D1%81%D0%B5-%D1%80%D0%B0%D0%B2%D0%BD%D0%BE-%D0%BD%D0%B5-%D0%BF%D0%BE%D0%BB%D1%83%D1%87%D0%B8%D1%82%D1%81%D1%8F-%D1%81%D1%82%D0%B0%D1%82%D1%8C-%D0%BF%D1%80%D0%BE%D0%B3%D1%80%D0%B0%D0%BC%D0%BC%D0%B8%D1%81%D1%82%D0%BE%D0%BC-python-%D0%BF%D0%BE%D0%BA%D0%B0-%D0%BD%D0%B5-%D0%B8%D0%B7%D0%BC%D0%B5%D0%BD%D0%B8%D0%BC-%D0%B2%D0%BE%D1%82-%D1%8D%D1%82%D0%BE/"
   ]
  },
  {
   "cell_type": "code",
   "execution_count": 2,
   "metadata": {},
   "outputs": [],
   "source": [
    "def main(param, param2, param3=\"\", param4=None):\n",
    "    output = param + param2 + param3 + param4\n",
    "    return output"
   ]
  },
  {
   "cell_type": "code",
   "execution_count": 3,
   "metadata": {},
   "outputs": [
    {
     "ename": "TypeError",
     "evalue": "main() missing 2 required positional arguments: 'param' and 'param2'",
     "output_type": "error",
     "traceback": [
      "\u001b[0;31m---------------------------------------------------------------------------\u001b[0m",
      "\u001b[0;31mTypeError\u001b[0m                                 Traceback (most recent call last)",
      "Cell \u001b[0;32mIn[3], line 1\u001b[0m\n\u001b[0;32m----> 1\u001b[0m \u001b[43mmain\u001b[49m\u001b[43m(\u001b[49m\u001b[43m)\u001b[49m\n",
      "\u001b[0;31mTypeError\u001b[0m: main() missing 2 required positional arguments: 'param' and 'param2'"
     ]
    }
   ],
   "source": [
    "main()"
   ]
  },
  {
   "cell_type": "code",
   "execution_count": 4,
   "metadata": {},
   "outputs": [
    {
     "ename": "TypeError",
     "evalue": "unsupported operand type(s) for +: 'int' and 'str'",
     "output_type": "error",
     "traceback": [
      "\u001b[0;31m---------------------------------------------------------------------------\u001b[0m",
      "\u001b[0;31mTypeError\u001b[0m                                 Traceback (most recent call last)",
      "Cell \u001b[0;32mIn[4], line 1\u001b[0m\n\u001b[0;32m----> 1\u001b[0m \u001b[43mmain\u001b[49m\u001b[43m(\u001b[49m\u001b[38;5;241;43m1\u001b[39;49m\u001b[43m,\u001b[49m\u001b[43m \u001b[49m\u001b[38;5;241;43m2\u001b[39;49m\u001b[43m,\u001b[49m\u001b[43m \u001b[49m\u001b[43m)\u001b[49m\n",
      "Cell \u001b[0;32mIn[2], line 2\u001b[0m, in \u001b[0;36mmain\u001b[0;34m(param, param2, param3, param4)\u001b[0m\n\u001b[1;32m      1\u001b[0m \u001b[38;5;28;01mdef\u001b[39;00m \u001b[38;5;21mmain\u001b[39m(param, param2, param3\u001b[38;5;241m=\u001b[39m\u001b[38;5;124m\"\u001b[39m\u001b[38;5;124m\"\u001b[39m, param4\u001b[38;5;241m=\u001b[39m\u001b[38;5;28;01mNone\u001b[39;00m):\n\u001b[0;32m----> 2\u001b[0m     output \u001b[38;5;241m=\u001b[39m \u001b[43mparam\u001b[49m\u001b[43m \u001b[49m\u001b[38;5;241;43m+\u001b[39;49m\u001b[43m \u001b[49m\u001b[43mparam2\u001b[49m\u001b[43m \u001b[49m\u001b[38;5;241;43m+\u001b[39;49m\u001b[43m \u001b[49m\u001b[43mparam3\u001b[49m \u001b[38;5;241m+\u001b[39m param4\n\u001b[1;32m      3\u001b[0m     \u001b[38;5;28;01mreturn\u001b[39;00m output\n",
      "\u001b[0;31mTypeError\u001b[0m: unsupported operand type(s) for +: 'int' and 'str'"
     ]
    }
   ],
   "source": [
    "main(1, 2, )"
   ]
  },
  {
   "cell_type": "code",
   "execution_count": 5,
   "metadata": {},
   "outputs": [
    {
     "ename": "TypeError",
     "evalue": "can only concatenate str (not \"NoneType\") to str",
     "output_type": "error",
     "traceback": [
      "\u001b[0;31m---------------------------------------------------------------------------\u001b[0m",
      "\u001b[0;31mTypeError\u001b[0m                                 Traceback (most recent call last)",
      "Cell \u001b[0;32mIn[5], line 1\u001b[0m\n\u001b[0;32m----> 1\u001b[0m \u001b[43mmain\u001b[49m\u001b[43m(\u001b[49m\u001b[38;5;124;43m'\u001b[39;49m\u001b[38;5;124;43m1\u001b[39;49m\u001b[38;5;124;43m'\u001b[39;49m\u001b[43m,\u001b[49m\u001b[43m \u001b[49m\u001b[38;5;124;43m'\u001b[39;49m\u001b[38;5;124;43m2\u001b[39;49m\u001b[38;5;124;43m'\u001b[39;49m\u001b[43m \u001b[49m\u001b[43m)\u001b[49m\n",
      "Cell \u001b[0;32mIn[2], line 2\u001b[0m, in \u001b[0;36mmain\u001b[0;34m(param, param2, param3, param4)\u001b[0m\n\u001b[1;32m      1\u001b[0m \u001b[38;5;28;01mdef\u001b[39;00m \u001b[38;5;21mmain\u001b[39m(param, param2, param3\u001b[38;5;241m=\u001b[39m\u001b[38;5;124m\"\u001b[39m\u001b[38;5;124m\"\u001b[39m, param4\u001b[38;5;241m=\u001b[39m\u001b[38;5;28;01mNone\u001b[39;00m):\n\u001b[0;32m----> 2\u001b[0m     output \u001b[38;5;241m=\u001b[39m \u001b[43mparam\u001b[49m\u001b[43m \u001b[49m\u001b[38;5;241;43m+\u001b[39;49m\u001b[43m \u001b[49m\u001b[43mparam2\u001b[49m\u001b[43m \u001b[49m\u001b[38;5;241;43m+\u001b[39;49m\u001b[43m \u001b[49m\u001b[43mparam3\u001b[49m\u001b[43m \u001b[49m\u001b[38;5;241;43m+\u001b[39;49m\u001b[43m \u001b[49m\u001b[43mparam4\u001b[49m\n\u001b[1;32m      3\u001b[0m     \u001b[38;5;28;01mreturn\u001b[39;00m output\n",
      "\u001b[0;31mTypeError\u001b[0m: can only concatenate str (not \"NoneType\") to str"
     ]
    }
   ],
   "source": [
    "main('1', '2' )"
   ]
  },
  {
   "cell_type": "code",
   "execution_count": 2,
   "metadata": {},
   "outputs": [],
   "source": [
    "def main2(param, param2, param3, param4):\n",
    "    output = param + param2 + param3 + param4\n",
    "    return output"
   ]
  },
  {
   "cell_type": "code",
   "execution_count": 7,
   "metadata": {},
   "outputs": [
    {
     "data": {
      "text/plain": [
       "'1111'"
      ]
     },
     "execution_count": 7,
     "metadata": {},
     "output_type": "execute_result"
    }
   ],
   "source": [
    "main2('1', '1', '1', '1',)"
   ]
  },
  {
   "cell_type": "code",
   "execution_count": 8,
   "metadata": {},
   "outputs": [
    {
     "data": {
      "text/plain": [
       "10"
      ]
     },
     "execution_count": 8,
     "metadata": {},
     "output_type": "execute_result"
    }
   ],
   "source": [
    "main(1, 2, 3, 4)"
   ]
  },
  {
   "cell_type": "markdown",
   "metadata": {},
   "source": [
    "Здравствуйте. Я в каком-то замешательстве)). Все шло, не знаю,\n",
    "насколько хорошо или нет, но вдруг оказался в \"-1\" и я не знаю\n",
    "причину.\n",
    "Последнее домашнее задание так повлияло или нет, или еще что-то. То,\n",
    "что пользовался поиском и чатгпт, так я и не скрывал (здесь принял к\n",
    "сведению).\n",
    "Мне не хватает обратной связи по ДЗ, особенно где задаю вопросы."
   ]
  },
  {
   "cell_type": "markdown",
   "metadata": {},
   "source": [
    "\n",
    "   python array\n",
    "\n",
    "   https://docs.python.org/3/library/array.html\n",
    "\n",
    "   https://docs.python.org/3/glossary.html#term-sequence\n",
    "   \n",
    "1/ Numpy - array. \n",
    "- создаём (все возможные метлды)\n",
    "- песчитываем\n",
    "- извлекаем\n",
    "- преобразуем\n",
    "- смотрим методы\n",
    "- \n",
    "Pandas\n",
    "PySpark DataFrame\n",
    "\n",
    "\n",
    "#### js\n",
    "массивы в  js могут содержать сочетание различных типов данных\n",
    "\n",
    "https://developer.mozilla.org/en-US/docs/Web/JavaScript/Reference/Global_Objects/Array\n",
    "\n",
    "При добавлении значения с \"отдаленным\" индексом от существующего, значения между двумя этими индексами заполняются пустыми значениями.Как в примере ниже:  "
   ]
  },
  {
   "cell_type": "code",
   "execution_count": null,
   "metadata": {},
   "outputs": [],
   "source": [
    "fruits[5] = \"mango\";\n",
    "console.log(fruits[5]); // 'mango'\n",
    "console.log(Object.keys(fruits)); // ['0', '1', '2', '5']\n",
    "console.log(fruits.length); // 6\n",
    "\n",
    "\n",
    "fruits.length = 10;\n",
    "console.log(fruits); // ['banana', 'apple', 'peach', empty x 2, 'mango', empty x 4]\n",
    "console.log(Object.keys(fruits)); // ['0', '1', '2', '5']\n",
    "console.log(fruits.length); // 10\n",
    "console.log(fruits[8]); // undefined"
   ]
  },
  {
   "cell_type": "markdown",
   "metadata": {},
   "source": [
    "Создание массива:"
   ]
  },
  {
   "cell_type": "code",
   "execution_count": null,
   "metadata": {},
   "outputs": [],
   "source": [
    "// 'fruits' array created using array literal notation.\n",
    "const fruits = [\"Apple\", \"Banana\"];\n",
    "console.log(fruits.length);\n",
    "// 2\n",
    "\n",
    "// 'fruits2' array created using the Array() constructor.\n",
    "const fruits2 = new Array(\"Apple\", \"Banana\");\n",
    "console.log(fruits2.length);\n",
    "// 2\n",
    "\n",
    "// 'fruits3' array created using String.prototype.split().\n",
    "const fruits3 = \"Apple, Banana\".split(\", \");\n",
    "console.log(fruits3.length);\n",
    "// 2"
   ]
  },
  {
   "cell_type": "markdown",
   "metadata": {},
   "source": [
    "извлечение из массива :"
   ]
  },
  {
   "cell_type": "code",
   "execution_count": null,
   "metadata": {},
   "outputs": [],
   "source": [
    "const fruits = [\"Apple\", \"Banana\"];\n",
    "\n",
    "// The index of an array's first element is always 0.\n",
    "fruits[0]; // Apple\n",
    "\n",
    "// The index of an array's second element is always 1.\n",
    "fruits[1]; // Banana\n",
    "\n",
    "// The index of an array's last element is always one\n",
    "// less than the length of the array.\n",
    "fruits[fruits.length - 1]; // Banana\n",
    "\n",
    "// Using an index number larger than the array's length\n",
    "// returns 'undefined'.\n",
    "fruits[99]; // undefined"
   ]
  },
  {
   "cell_type": "markdown",
   "metadata": {},
   "source": [
    "\n",
    "\n",
    "#### java\n",
    "\n",
    "Как только объект массива создается, его длина никогда не меняется. Чтобы сделать массивную переменную, относящуюся к массиву различной длины, для переменной должна быть назначена ссылка на другой массив.\n",
    "\n",
    "Если переменная массива v имеет тип A [], где a является эталонным типом, то V может содержать ссылку на экземпляр любого типа массива B [], при условии, что B может быть назначен A. Это может привести к запуску- временное исключение на более позднем задании\n",
    "\n",
    "https://docs.oracle.com/javase/specs/jls/se6/html/arrays.html\n",
    "\n",
    "\n",
    "Создание массива:"
   ]
  },
  {
   "cell_type": "code",
   "execution_count": null,
   "metadata": {},
   "outputs": [],
   "source": [
    "// create an array of integers\n",
    "anArray = new int[10];\n",
    "\n",
    "int[] anArray = { \n",
    "    100, 200, 300,\n",
    "    400, 500, 600, \n",
    "    700, 800, 900, 1000\n",
    "};"
   ]
  },
  {
   "cell_type": "markdown",
   "metadata": {},
   "source": [
    "Ввод значений в массив:"
   ]
  },
  {
   "cell_type": "code",
   "execution_count": null,
   "metadata": {},
   "outputs": [],
   "source": [
    "anArray[0] = 100; // initialize first element\n",
    "anArray[1] = 200; // initialize second element\n",
    "anArray[2] = 300; // and so forth"
   ]
  },
  {
   "cell_type": "markdown",
   "metadata": {},
   "source": [
    "\n",
    "\n",
    "#### c++\n",
    " Массив представляет собой серию элементов того же типа, размещенных в смежных местах памяти, на которые можно ссылаться индивидуально, добавив индекс к уникальному идентификатору.\n",
    "\n",
    " В C++ массив индекс элемента массиива начинается с 0, а не с 1\n",
    "\n",
    " массив должен быть объявлен перед испольованием \n",
    " \n",
    " имеет такой синтаксис: type name [elements];\n",
    "\n",
    " Где:\n",
    " - type : общий тип данных в массиве\n",
    " - name : идентификатор поля  \n",
    " - elements : количество элементов\n",
    "\n",
    "элементы заносятся в массив через фигурные скобки :"
   ]
  },
  {
   "cell_type": "code",
   "execution_count": null,
   "metadata": {},
   "outputs": [],
   "source": [
    "\n",
    "int foo [5] = { 16, 2, 77, 40, 12071 };"
   ]
  },
  {
   "cell_type": "markdown",
   "metadata": {},
   "source": [
    "Если занести меньше элементов в массив , то оставшаяся часть отведенная под элементы, будет заполнена нулями\n",
    "\n",
    "Так же , можно не задавать колличество элементов, а просто вводить эти элементы в фигурные скобки\n",
    "\n",
    "\n",
    "Наконец, эволюция C++ привела к принятию универсальной инициализации и для массивов. Следовательно, знак равенства между объявлением и инициализатором больше не нужен. Оба эти утверждения эквивалентны:\n"
   ]
  },
  {
   "cell_type": "code",
   "execution_count": null,
   "metadata": {},
   "outputs": [],
   "source": [
    "\n",
    "int foo[] = { 10, 20, 30 };\n",
    "int foo[] { 10, 20, 30 };"
   ]
  },
  {
   "cell_type": "markdown",
   "metadata": {},
   "source": [
    "Чтобы записать элемент в массив используется такой синтаксис: name[index] = values"
   ]
  },
  {
   "cell_type": "code",
   "execution_count": null,
   "metadata": {},
   "outputs": [],
   "source": [
    "foo [2] = 75"
   ]
  },
  {
   "cell_type": "markdown",
   "metadata": {},
   "source": [
    "Тк многомерные массивы просто перемножаются, то два массива ниже эквивалентны"
   ]
  },
  {
   "cell_type": "code",
   "execution_count": null,
   "metadata": {},
   "outputs": [],
   "source": [
    "int jimmy [3][5];   // is equivalent to\n",
    "int jimmy [15];     // (3 * 5 = 15) "
   ]
  },
  {
   "cell_type": "markdown",
   "metadata": {},
   "source": [
    "извлечение из массива:"
   ]
  },
  {
   "cell_type": "code",
   "execution_count": null,
   "metadata": {},
   "outputs": [],
   "source": [
    "foo [2] = 75;\n",
    "\n",
    "x = foo[2]"
   ]
  },
  {
   "cell_type": "markdown",
   "metadata": {},
   "source": [
    "\n",
    "\n",
    "\n",
    "Создание массива\n",
    "\n",
    "массив создается через такой синтаксис : array(typecode[, initializer])"
   ]
  },
  {
   "cell_type": "code",
   "execution_count": null,
   "metadata": {},
   "outputs": [],
   "source": [
    "array81(int[1,2,3])"
   ]
  },
  {
   "cell_type": "markdown",
   "metadata": {},
   "source": [
    "\n",
    "\n",
    "Извлечение из массива\n",
    "\n",
    "\n",
    "\n",
    "Хранение\n",
    "перегон между pandas -> DataFrme\n",
    "               Data -> Pandas\n",
    "\n",
    "\n",
    "### списки пайтон.\n",
    "\n",
    "Список в пайтон нужен для группироки значений\n",
    "\n",
    "Списки могут содержать элементы разных типов, но обычно они одного типа\n",
    "\n",
    "пример списка:"
   ]
  },
  {
   "cell_type": "code",
   "execution_count": 1,
   "metadata": {},
   "outputs": [],
   "source": [
    "squares = [1, 4, 9, 16, 25]"
   ]
  },
  {
   "cell_type": "markdown",
   "metadata": {},
   "source": [
    "списки можно индексировать с отрицательным значением:"
   ]
  },
  {
   "cell_type": "code",
   "execution_count": 2,
   "metadata": {},
   "outputs": [
    {
     "data": {
      "text/plain": [
       "[9, 16, 25]"
      ]
     },
     "execution_count": 2,
     "metadata": {},
     "output_type": "execute_result"
    }
   ],
   "source": [
    "squares[-3:]"
   ]
  },
  {
   "cell_type": "markdown",
   "metadata": {},
   "source": [
    "Списки также поддерживают такие операции, как объединение"
   ]
  },
  {
   "cell_type": "code",
   "execution_count": 3,
   "metadata": {},
   "outputs": [
    {
     "data": {
      "text/plain": [
       "[1, 4, 9, 16, 25, 36, 49, 64, 81, 100]"
      ]
     },
     "execution_count": 3,
     "metadata": {},
     "output_type": "execute_result"
    }
   ],
   "source": [
    "squares + [36, 49, 64, 81, 100]"
   ]
  },
  {
   "cell_type": "markdown",
   "metadata": {},
   "source": [
    "значения в списке можно менять :"
   ]
  },
  {
   "cell_type": "code",
   "execution_count": null,
   "metadata": {},
   "outputs": [],
   "source": [
    "squares[3] = 64 "
   ]
  },
  {
   "cell_type": "markdown",
   "metadata": {},
   "source": [
    "через .append можно добавлять значения в список"
   ]
  },
  {
   "cell_type": "code",
   "execution_count": null,
   "metadata": {},
   "outputs": [],
   "source": [
    "squares.append(216) "
   ]
  },
  {
   "cell_type": "markdown",
   "metadata": {},
   "source": [
    "Также возможно назначение фрагментам, и это может даже изменить размер списка или полностью очистить его:"
   ]
  },
  {
   "cell_type": "code",
   "execution_count": null,
   "metadata": {},
   "outputs": [],
   "source": [
    "letters = ['a', 'b', 'c', 'd', 'e', 'f', 'g']\n",
    "\n",
    "letters\n",
    "['a', 'b', 'c', 'd', 'e', 'f', 'g']\n",
    "\n",
    "# replace some values\n",
    "\n",
    "letters[2:5] = ['C', 'D', 'E']\n",
    "\n",
    "letters\n",
    "['a', 'b', 'C', 'D', 'E', 'f', 'g']\n",
    "\n",
    "# now remove them\n",
    "\n",
    "letters[2:5] = []\n",
    "\n",
    "letters\n",
    "['a', 'b', 'f', 'g']\n",
    "\n",
    "# clear the list by replacing all the elements with an empty list\n",
    "\n",
    "letters[:] = []\n",
    "\n",
    "letters\n",
    "[]"
   ]
  },
  {
   "cell_type": "markdown",
   "metadata": {},
   "source": [
    "через len можно посчитать длину списка"
   ]
  },
  {
   "cell_type": "code",
   "execution_count": null,
   "metadata": {},
   "outputs": [],
   "source": [
    "letters = ['a', 'b', 'c', 'd']\n",
    "\n",
    "len(letters)\n",
    "4"
   ]
  },
  {
   "cell_type": "markdown",
   "metadata": {},
   "source": [
    "Можно вкладывать списки (создавать списки, содержащие другие списки)"
   ]
  },
  {
   "cell_type": "code",
   "execution_count": null,
   "metadata": {},
   "outputs": [],
   "source": [
    "a = ['a', 'b', 'c']\n",
    "\n",
    "n = [1, 2, 3]\n",
    "\n",
    "x = [a, n]\n",
    "\n",
    "x\n",
    "[['a', 'b', 'c'], [1, 2, 3]]\n",
    "\n",
    "x[0]\n",
    "['a', 'b', 'c']\n",
    "\n",
    "x[0][1]\n",
    "'b'"
   ]
  },
  {
   "cell_type": "markdown",
   "metadata": {},
   "source": [
    "\n",
    "\n",
    "\n",
    "array\n",
    "list\n",
    "\n",
    "Разница между массивом и списком в пайтон заключается в том, что в список можно занести несколько типов данных, а в массив только конкретный тип, который указывается в во вермя создания объекта с помощью кода типа , который представляет собой один символ\n",
    "вот ссылка на таблицу символов( https://docs.python.org/3/library/array.html )\n",
    "\n",
    "set\n",
    "\n"
   ]
  },
  {
   "cell_type": "markdown",
   "metadata": {},
   "source": [
    "# Задание от 30.01.2025"
   ]
  },
  {
   "cell_type": "markdown",
   "metadata": {},
   "source": [
    "Здравствуйте, вот мое дз.Тут все изначально у меня пошло не очень, взялся за учебу поздно, да еще и такие слова , как \"метод\", \"экземпляр\", которые я не знаю.\n",
    "\n",
    "Посмотрите это видео, что бы понять как приходят к написанию кода. Вы точно сможете, если не оставите и хватит терпения.\n",
    "\n",
    "https://www.youtube.com/watch?v=yGcJjQ6jYiQ\n",
    "\n",
    "-------------------\n",
    "\n",
    "Задание, что такое `__main__`\n",
    "\n",
    "`__main__` имя среды верхнего уровня программы.  Верхний уровень- окружение с которого начинается вход в программу, в нем прописаны все остальные модули, которые нужны программе\n",
    "\n",
    "C++ любую функцию."
   ]
  },
  {
   "cell_type": "code",
   "execution_count": null,
   "metadata": {},
   "outputs": [],
   "source": [
    "int main(int a,int b)\n",
    "{    \n",
    "    int sum;\n",
    "    sum = a + b;\n",
    "    retun sum\n",
    "}"
   ]
  },
  {
   "cell_type": "markdown",
   "metadata": {},
   "source": [
    "\n",
    "Опишите\n",
    "\n",
    "--------------------------\n",
    "\n",
    "Тuп определяет набор возможных действий и значений, выполняемых над объектом.\n",
    "\n",
    "Что будем подразумевать под словом тип.\n",
    "\n",
    "Тип это характеристика любого объекта, которая дает понять, что можно делать с ним(это тоже самое, что и выше, но как будто больше и не напишешь)\n",
    "\n",
    "### Функция  С++\n",
    "\n",
    "Функция это задаваемая последовательность действий с идентификатором в виде определенного имени, ее можно вызвать в любом месте программы\n",
    "\n",
    "Функция в c++ имеет вот такой синтаксис:\n",
    "\n",
    "type name ( parameter1, parameter2, ...) { statements }\n",
    "\n",
    "Где:\n",
    "- type тип значения, возвращаемого функцией.\n",
    "- name является идентификатором, с помощью которого функция может быть вызвана.\n",
    "- parameters (столько, сколько необходимо): Каждый параметр состоит из типа, за которым следует идентификатор, причем каждый параметр отделен от следующего запятой. Каждый параметр очень похож на обычное объявление переменной (например: int x), и фактически действует внутри функции как обычная переменная, которая является локальной для функции. Цель параметров состоит в том, чтобы разрешить передачу аргументов функции из места, где она вызывается.\n",
    "- statements это тело функции. Это блок операторов, окруженных скобками {}, в которых указывается, что на самом деле выполняет функция. \n",
    "\n",
    "\n",
    "Переменная С++\n",
    "\n",
    "Переменная это значение хранимое в памяти пк, которое можно изменить. Она имеет тип , и это говорит о том, что на нее можно воздействовать разными способами в соответствии с типом"
   ]
  },
  {
   "cell_type": "markdown",
   "metadata": {},
   "source": [
    "https://docs.python.org/3/reference/datamodel.html#objects-values-and-types\n",
    "Показать тип в Питон"
   ]
  },
  {
   "cell_type": "code",
   "execution_count": 55,
   "metadata": {},
   "outputs": [
    {
     "name": "stdout",
     "output_type": "stream",
     "text": [
      "<class 'int'>\n",
      "<class 'str'>\n",
      "<class 'float'>\n",
      "2\n",
      "<class 'int'>\n"
     ]
    }
   ],
   "source": [
    "c=int(1)\n",
    "cfloat=1.5\n",
    "d=\"ivan\"\n",
    "cint=int(2.6)\n",
    "\n",
    "\n",
    "print(type(c))\n",
    "print(type(d))\n",
    "print(type(cfloat))\n",
    "print(cint)\n",
    "print(type(cint))"
   ]
  },
  {
   "cell_type": "markdown",
   "metadata": {},
   "source": [
    "\n",
    "\n",
    "Пишите пару функций\n",
    "переменные\n",
    "Числа и строки, делайте несовместимые вещи.\n",
    "\n",
    "1 / \"Ivan\""
   ]
  },
  {
   "cell_type": "code",
   "execution_count": 39,
   "metadata": {},
   "outputs": [],
   "source": [
    "def div(First, Second=\"\"):\n",
    "    sum = str(First) + Second\n",
    "    print (sum)\n",
    "\n",
    "def div1(First, Second=\"\"):\n",
    "    sum = First + Second\n",
    "    print (sum)"
   ]
  },
  {
   "cell_type": "code",
   "execution_count": 40,
   "metadata": {},
   "outputs": [
    {
     "ename": "TypeError",
     "evalue": "unsupported operand type(s) for +: 'int' and 'str'",
     "output_type": "error",
     "traceback": [
      "\u001b[1;31m---------------------------------------------------------------------------\u001b[0m",
      "\u001b[1;31mTypeError\u001b[0m                                 Traceback (most recent call last)",
      "Cell \u001b[1;32mIn[40], line 1\u001b[0m\n\u001b[1;32m----> 1\u001b[0m \u001b[43mdiv1\u001b[49m\u001b[43m(\u001b[49m\u001b[38;5;241;43m1\u001b[39;49m\u001b[43m)\u001b[49m\n",
      "Cell \u001b[1;32mIn[39], line 6\u001b[0m, in \u001b[0;36mdiv1\u001b[1;34m(First, Second)\u001b[0m\n\u001b[0;32m      5\u001b[0m \u001b[38;5;28;01mdef\u001b[39;00m\u001b[38;5;250m \u001b[39m\u001b[38;5;21mdiv1\u001b[39m(First, Second\u001b[38;5;241m=\u001b[39m\u001b[38;5;124m\"\u001b[39m\u001b[38;5;124m\"\u001b[39m):\n\u001b[1;32m----> 6\u001b[0m     \u001b[38;5;28msum\u001b[39m \u001b[38;5;241m=\u001b[39m \u001b[43mFirst\u001b[49m\u001b[43m \u001b[49m\u001b[38;5;241;43m+\u001b[39;49m\u001b[43m \u001b[49m\u001b[43mSecond\u001b[49m\n\u001b[0;32m      7\u001b[0m     \u001b[38;5;28mprint\u001b[39m (\u001b[38;5;28msum\u001b[39m)\n",
      "\u001b[1;31mTypeError\u001b[0m: unsupported operand type(s) for +: 'int' and 'str'"
     ]
    }
   ],
   "source": [
    "div1(1)"
   ]
  },
  {
   "cell_type": "markdown",
   "metadata": {},
   "source": [
    "исключение возникло из за того, что с значениями разных типов нельзя производить операции"
   ]
  },
  {
   "cell_type": "code",
   "execution_count": 8,
   "metadata": {},
   "outputs": [
    {
     "name": "stdout",
     "output_type": "stream",
     "text": [
      "1f\n"
     ]
    }
   ],
   "source": [
    "div(1,Second=\"f\")"
   ]
  },
  {
   "cell_type": "code",
   "execution_count": 6,
   "metadata": {},
   "outputs": [
    {
     "ename": "NameError",
     "evalue": "name 'ivan' is not defined",
     "output_type": "error",
     "traceback": [
      "\u001b[1;31m---------------------------------------------------------------------------\u001b[0m",
      "\u001b[1;31mNameError\u001b[0m                                 Traceback (most recent call last)",
      "Cell \u001b[1;32mIn[6], line 1\u001b[0m\n\u001b[1;32m----> 1\u001b[0m div(\u001b[43mivan\u001b[49m,Second\u001b[38;5;241m=\u001b[39m\u001b[38;5;124m\"\u001b[39m\u001b[38;5;124mf\u001b[39m\u001b[38;5;124m\"\u001b[39m)\n",
      "\u001b[1;31mNameError\u001b[0m: name 'ivan' is not defined"
     ]
    }
   ],
   "source": [
    "div(ivan,Second=\"f\")"
   ]
  },
  {
   "cell_type": "markdown",
   "metadata": {},
   "source": [
    "исключение возникло из за того, что тк аргумент не в \"\", то ожидалось число, но аргумент с типом инт выглядит как строка"
   ]
  },
  {
   "cell_type": "code",
   "execution_count": 7,
   "metadata": {},
   "outputs": [
    {
     "name": "stdout",
     "output_type": "stream",
     "text": [
      "ivanf\n"
     ]
    }
   ],
   "source": [
    "div(\"ivan\",Second=\"f\")"
   ]
  },
  {
   "cell_type": "code",
   "execution_count": 3,
   "metadata": {},
   "outputs": [
    {
     "ename": "TypeError",
     "evalue": "can only concatenate str (not \"int\") to str",
     "output_type": "error",
     "traceback": [
      "\u001b[1;31m---------------------------------------------------------------------------\u001b[0m",
      "\u001b[1;31mTypeError\u001b[0m                                 Traceback (most recent call last)",
      "Cell \u001b[1;32mIn[3], line 1\u001b[0m\n\u001b[1;32m----> 1\u001b[0m \u001b[43mdiv\u001b[49m\u001b[43m(\u001b[49m\u001b[38;5;124;43m\"\u001b[39;49m\u001b[38;5;124;43mivan\u001b[39;49m\u001b[38;5;124;43m\"\u001b[39;49m\u001b[43m,\u001b[49m\u001b[43mSecond\u001b[49m\u001b[38;5;241;43m=\u001b[39;49m\u001b[38;5;241;43m1\u001b[39;49m\u001b[43m)\u001b[49m\n",
      "Cell \u001b[1;32mIn[1], line 2\u001b[0m, in \u001b[0;36mdiv\u001b[1;34m(First, Second)\u001b[0m\n\u001b[0;32m      1\u001b[0m \u001b[38;5;28;01mdef\u001b[39;00m\u001b[38;5;250m \u001b[39m\u001b[38;5;21mdiv\u001b[39m(First, Second\u001b[38;5;241m=\u001b[39m\u001b[38;5;124m\"\u001b[39m\u001b[38;5;124m\"\u001b[39m):\n\u001b[1;32m----> 2\u001b[0m     \u001b[38;5;28msum\u001b[39m \u001b[38;5;241m=\u001b[39m \u001b[38;5;28;43mstr\u001b[39;49m\u001b[43m(\u001b[49m\u001b[43mFirst\u001b[49m\u001b[43m)\u001b[49m\u001b[43m \u001b[49m\u001b[38;5;241;43m+\u001b[39;49m\u001b[43m \u001b[49m\u001b[43mSecond\u001b[49m\n\u001b[0;32m      3\u001b[0m     \u001b[38;5;28mprint\u001b[39m (\u001b[38;5;28msum\u001b[39m)\n",
      "\u001b[1;31mTypeError\u001b[0m: can only concatenate str (not \"int\") to str"
     ]
    }
   ],
   "source": [
    "div(\"ivan\",Second=1)"
   ]
  },
  {
   "cell_type": "markdown",
   "metadata": {},
   "source": [
    "исключение возникло из за того, что строки можно объеденять только со строками"
   ]
  },
  {
   "cell_type": "markdown",
   "metadata": {},
   "source": [
    "\n",
    "\n",
    "\n",
    "\n",
    "\n",
    "\n",
    "\n",
    "\n",
    "-------------------\n",
    "\n",
    "\n",
    "Доброго времени суток!\n",
    "Подготовил домашнее задание, постарался учесть все ваши рекомендации. К слову про исключения. \n",
    "Я ведь с ними конечно же сталкиваюсь🙂, даже если их не проставляю в конечном виде.\n",
    "Просто я думал что какой смыл в том что я правлю мелкие вещи которые и так очевидны.\n",
    "\n",
    "------------------------------\n",
    "\n",
    "```python\n",
    "queryset = Book.objects.filter(title__startswith=\"M\")\n",
    "\n",
    "queryset - ссылается на значение справа\n",
    "Book - имя класса\n",
    "objects - имя аттрибута класса Book\n",
    "filter - имя метода которое пренадлежит аттрибуту objects\n",
    "title__startswith=\"M\" - параметр который передается в метод filter.\n",
    "\n",
    "Возможно аттрибут objects ссылается на объект имеющий метод filter, например:\n",
    "```"
   ]
  },
  {
   "cell_type": "code",
   "execution_count": 1,
   "metadata": {},
   "outputs": [],
   "source": [
    "class A:\n",
    "    def __init__(self, param):\n",
    "        self.param = param\n",
    "\n",
    "    def main(param, param2, param3):\n",
    "        param = param2 + param3\n",
    "        return param\n",
    "    "
   ]
  },
  {
   "cell_type": "code",
   "execution_count": 2,
   "metadata": {},
   "outputs": [],
   "source": [
    "a = A"
   ]
  },
  {
   "cell_type": "code",
   "execution_count": 3,
   "metadata": {},
   "outputs": [
    {
     "ename": "TypeError",
     "evalue": "A.__init__() missing 1 required positional argument: 'param'",
     "output_type": "error",
     "traceback": [
      "\u001b[0;31m---------------------------------------------------------------------------\u001b[0m",
      "\u001b[0;31mTypeError\u001b[0m                                 Traceback (most recent call last)",
      "Cell \u001b[0;32mIn[3], line 1\u001b[0m\n\u001b[0;32m----> 1\u001b[0m b \u001b[38;5;241m=\u001b[39m \u001b[43mA\u001b[49m\u001b[43m(\u001b[49m\u001b[43m)\u001b[49m\n",
      "\u001b[0;31mTypeError\u001b[0m: A.__init__() missing 1 required positional argument: 'param'"
     ]
    }
   ],
   "source": [
    "b = A()"
   ]
  },
  {
   "cell_type": "code",
   "execution_count": 7,
   "metadata": {},
   "outputs": [],
   "source": [
    "b = A(2)"
   ]
  },
  {
   "cell_type": "code",
   "execution_count": 4,
   "metadata": {},
   "outputs": [
    {
     "data": {
      "text/plain": [
       "__main__.A"
      ]
     },
     "execution_count": 4,
     "metadata": {},
     "output_type": "execute_result"
    }
   ],
   "source": [
    "a"
   ]
  },
  {
   "cell_type": "code",
   "execution_count": 8,
   "metadata": {},
   "outputs": [
    {
     "data": {
      "text/plain": [
       "<__main__.A at 0x7d5a0cd271d0>"
      ]
     },
     "execution_count": 8,
     "metadata": {},
     "output_type": "execute_result"
    }
   ],
   "source": [
    "b"
   ]
  },
  {
   "cell_type": "code",
   "execution_count": 12,
   "metadata": {},
   "outputs": [
    {
     "data": {
      "text/plain": [
       "<function __main__.A.main(param, param2, param3)>"
      ]
     },
     "execution_count": 12,
     "metadata": {},
     "output_type": "execute_result"
    }
   ],
   "source": [
    "a.main"
   ]
  },
  {
   "cell_type": "code",
   "execution_count": 9,
   "metadata": {},
   "outputs": [
    {
     "ename": "TypeError",
     "evalue": "'A' object is not callable",
     "output_type": "error",
     "traceback": [
      "\u001b[0;31m---------------------------------------------------------------------------\u001b[0m",
      "\u001b[0;31mTypeError\u001b[0m                                 Traceback (most recent call last)",
      "Cell \u001b[0;32mIn[9], line 1\u001b[0m\n\u001b[0;32m----> 1\u001b[0m \u001b[43mb\u001b[49m\u001b[43m(\u001b[49m\u001b[43m)\u001b[49m\n",
      "\u001b[0;31mTypeError\u001b[0m: 'A' object is not callable"
     ]
    }
   ],
   "source": [
    "b()"
   ]
  },
  {
   "cell_type": "code",
   "execution_count": 10,
   "metadata": {},
   "outputs": [
    {
     "ename": "TypeError",
     "evalue": "A.main() missing 3 required positional arguments: 'param', 'param2', and 'param3'",
     "output_type": "error",
     "traceback": [
      "\u001b[0;31m---------------------------------------------------------------------------\u001b[0m",
      "\u001b[0;31mTypeError\u001b[0m                                 Traceback (most recent call last)",
      "Cell \u001b[0;32mIn[10], line 1\u001b[0m\n\u001b[0;32m----> 1\u001b[0m \u001b[43ma\u001b[49m\u001b[38;5;241;43m.\u001b[39;49m\u001b[43mmain\u001b[49m\u001b[43m(\u001b[49m\u001b[43m)\u001b[49m\n",
      "\u001b[0;31mTypeError\u001b[0m: A.main() missing 3 required positional arguments: 'param', 'param2', and 'param3'"
     ]
    }
   ],
   "source": [
    "a.main()"
   ]
  },
  {
   "cell_type": "code",
   "execution_count": 11,
   "metadata": {},
   "outputs": [
    {
     "data": {
      "text/plain": [
       "<bound method A.main of <__main__.A object at 0x7d5a0cd271d0>>"
      ]
     },
     "execution_count": 11,
     "metadata": {},
     "output_type": "execute_result"
    }
   ],
   "source": [
    "b.main"
   ]
  },
  {
   "cell_type": "code",
   "execution_count": 13,
   "metadata": {},
   "outputs": [
    {
     "ename": "TypeError",
     "evalue": "A.main() missing 2 required positional arguments: 'param2' and 'param3'",
     "output_type": "error",
     "traceback": [
      "\u001b[0;31m---------------------------------------------------------------------------\u001b[0m",
      "\u001b[0;31mTypeError\u001b[0m                                 Traceback (most recent call last)",
      "Cell \u001b[0;32mIn[13], line 1\u001b[0m\n\u001b[0;32m----> 1\u001b[0m \u001b[43mb\u001b[49m\u001b[38;5;241;43m.\u001b[39;49m\u001b[43mmain\u001b[49m\u001b[43m(\u001b[49m\u001b[43m)\u001b[49m\n",
      "\u001b[0;31mTypeError\u001b[0m: A.main() missing 2 required positional arguments: 'param2' and 'param3'"
     ]
    }
   ],
   "source": [
    "b.main()"
   ]
  },
  {
   "cell_type": "code",
   "execution_count": 14,
   "metadata": {},
   "outputs": [
    {
     "ename": "TypeError",
     "evalue": "A.main() takes 3 positional arguments but 4 were given",
     "output_type": "error",
     "traceback": [
      "\u001b[0;31m---------------------------------------------------------------------------\u001b[0m",
      "\u001b[0;31mTypeError\u001b[0m                                 Traceback (most recent call last)",
      "Cell \u001b[0;32mIn[14], line 1\u001b[0m\n\u001b[0;32m----> 1\u001b[0m \u001b[43mb\u001b[49m\u001b[38;5;241;43m.\u001b[39;49m\u001b[43mmain\u001b[49m\u001b[43m(\u001b[49m\u001b[38;5;241;43m1\u001b[39;49m\u001b[43m,\u001b[49m\u001b[43m \u001b[49m\u001b[38;5;241;43m5\u001b[39;49m\u001b[43m,\u001b[49m\u001b[43m \u001b[49m\u001b[38;5;241;43m17\u001b[39;49m\u001b[43m)\u001b[49m\n",
      "\u001b[0;31mTypeError\u001b[0m: A.main() takes 3 positional arguments but 4 were given"
     ]
    }
   ],
   "source": [
    "b.main(1, 5, 17)"
   ]
  },
  {
   "cell_type": "markdown",
   "metadata": {},
   "source": [
    "Здравствуйте. Спасибо за видео и пояснения. Опыт написания понятного\n",
    "кода - нарабатывается и Ваши замечания очень для меня ценны! Обид не\n",
    "может быть!! Тут нужно ногами пинать ))\n",
    "Возьму за образец Django и Toga. Картинка с пояснениями.\n",
    "И еще один ужас шлю )) Код рабочий. Вот тут он и для меня полный\n",
    "кошмар )) Хотя старался его писать, но он понятен только для писателя\n",
    ")) и то пока не отвернулся ))\n",
    "Как его запустить напишу в следующий раз."
   ]
  },
  {
   "cell_type": "markdown",
   "metadata": {},
   "source": [
    "# Задание от 05.02.2025"
   ]
  },
  {
   "cell_type": "markdown",
   "metadata": {},
   "source": [
    "### Задание 1.\n",
    "\n",
    "`__main__`\n",
    "\n",
    "https://docs.python.org/3/library/__main__.html\n",
    "\n",
    "Разобрать конструкцию:\n",
    "\n",
    "`if __name__ == \"__main__\":`\n",
    "\n",
    "https://docs.python.org/3/library/stdtypes.html#definition.__name__\n",
    "\n",
    "`__name__` это функция, которая выводит имя класса, функции, метода , дескриптора или экземпляра генератора  =>если функция с выводом имени имеет значение `\"__main__\"`, то это значит, что код в среде верхнего уровня программы и можно проводить операции, отталкиваясь от этого\n",
    "\n",
    "Соответственно, эта запись звучит так: Если это верхний уровень программы, то выполнить: .....\n",
    "\n",
    "\n",
    "\n",
    "### Задание 2.\n",
    "\n",
    "\n",
    "•Объект\n",
    "участок памяти, в котором хранится значения определенного типа.\n",
    "\n",
    "https://docs.python.org/3/reference/datamodel.html#objects-values-and-types\n",
    "\n",
    "### Задание 3.\n",
    "\n",
    "https://github.com/django/django/blob/stable/5.1.x/django/shortcuts.py#L65\n",
    "\n",
    "def get_object_or_404(klass, *args, **kwargs): - прочитать праметры и сделать выводы.\n",
    "\n",
    "у параметра klass нет знака присвоения, значит он обязательный и позиционный\n",
    "\n",
    "https://docs.python.org/3/tutorial/controlflow.html#arbitrary-argument-lists\n",
    "\n",
    "А остальные два параметра ,как вы говорили, это поиск остальных данных , который может даже не увенчаться успехом\n",
    "\n",
    "*args -собирает все остальные аргументы, которые передаются в функцию(они должны быть именованными)\n",
    "\n",
    "**kwargs - параметр словаря \n",
    "\n",
    "https://docs.python.org/3/library/functions.html#hasattr\n",
    "\n",
    "hasattr() - рассказать о ней и написать пример.\n",
    "\n",
    "Аргументы — объект и строка. Результат — True если строка является именем одного из атрибутов объекта, False если нет. (Это реализуется путем вызова и проверки того, вызывается ли исключение или нет.)getattr(object, name)AttributeError\n",
    "hasattr() имеет вот такой синтаксис синтаксис :\n",
    "\n",
    " hasattr(object, name)\n",
    "\n",
    "Где:\n",
    "- object: \n",
    "- name: имя с типом строка\n",
    "\n",
    "Эта функция возвращает true,если строка является именем объекта , и false, если нет "
   ]
  },
  {
   "cell_type": "code",
   "execution_count": 1,
   "metadata": {},
   "outputs": [
    {
     "ename": "NameError",
     "evalue": "name 'name' is not defined",
     "output_type": "error",
     "traceback": [
      "\u001b[1;31m---------------------------------------------------------------------------\u001b[0m",
      "\u001b[1;31mNameError\u001b[0m                                 Traceback (most recent call last)",
      "Cell \u001b[1;32mIn[1], line 1\u001b[0m\n\u001b[1;32m----> 1\u001b[0m \u001b[38;5;28mhasattr\u001b[39m(\u001b[38;5;28mobject\u001b[39m, \u001b[43mname\u001b[49m)\n",
      "\u001b[1;31mNameError\u001b[0m: name 'name' is not defined"
     ]
    }
   ],
   "source": [
    "hasattr(object, name)"
   ]
  },
  {
   "cell_type": "markdown",
   "metadata": {},
   "source": [
    "исключение вышло из за того, что второй объект должен быть строкой"
   ]
  },
  {
   "cell_type": "code",
   "execution_count": 52,
   "metadata": {},
   "outputs": [],
   "source": [
    "\n",
    "\n",
    "def test1(cool=\"cool\"):\n",
    "    if hasattr(cool, \"cool\"):\n",
    "        print (\"ok\")\n",
    "    else:\n",
    "        print (\"not ok\")"
   ]
  },
  {
   "cell_type": "code",
   "execution_count": 54,
   "metadata": {},
   "outputs": [
    {
     "name": "stdout",
     "output_type": "stream",
     "text": [
      "not ok\n"
     ]
    }
   ],
   "source": [
    "test1(cool=\"cool\")"
   ]
  },
  {
   "cell_type": "markdown",
   "metadata": {},
   "source": [
    "после этого всего , что я перепробывал, чтобы мне не выдало результат true или false, я не выдержал и полез в поисковик, посмотрел на примеры, они все через class пусть я не знаю, что такое класс(на дилетантский взгляд, это \"контейнер для переменных, функций и тд\"), но таким образом я хотя бы смог показать функцию"
   ]
  },
  {
   "cell_type": "code",
   "execution_count": 57,
   "metadata": {},
   "outputs": [
    {
     "data": {
      "text/plain": [
       "True"
      ]
     },
     "execution_count": 57,
     "metadata": {},
     "output_type": "execute_result"
    }
   ],
   "source": [
    "class a:\n",
    "    age=1 \n",
    "\n",
    "hasattr (a, \"age\")"
   ]
  },
  {
   "cell_type": "code",
   "execution_count": 58,
   "metadata": {},
   "outputs": [
    {
     "data": {
      "text/plain": [
       "False"
      ]
     },
     "execution_count": 58,
     "metadata": {},
     "output_type": "execute_result"
    }
   ],
   "source": [
    "hasattr (a, \"age1\")"
   ]
  },
  {
   "cell_type": "code",
   "execution_count": 59,
   "metadata": {},
   "outputs": [
    {
     "ename": "NameError",
     "evalue": "name 'a1' is not defined",
     "output_type": "error",
     "traceback": [
      "\u001b[1;31m---------------------------------------------------------------------------\u001b[0m",
      "\u001b[1;31mNameError\u001b[0m                                 Traceback (most recent call last)",
      "Cell \u001b[1;32mIn[59], line 1\u001b[0m\n\u001b[1;32m----> 1\u001b[0m \u001b[38;5;28mhasattr\u001b[39m (\u001b[43ma1\u001b[49m, \u001b[38;5;124m\"\u001b[39m\u001b[38;5;124mage\u001b[39m\u001b[38;5;124m\"\u001b[39m)\n",
      "\u001b[1;31mNameError\u001b[0m: name 'a1' is not defined"
     ]
    }
   ],
   "source": [
    "hasattr (a1, \"age\")"
   ]
  },
  {
   "cell_type": "code",
   "execution_count": null,
   "metadata": {},
   "outputs": [],
   "source": [
    "исключение вылезло из за того, что нет такого объекта"
   ]
  },
  {
   "cell_type": "markdown",
   "metadata": {},
   "source": [
    "\n",
    " \n",
    "\n",
    "### Задание 4.\n",
    "\n",
    "https://docs.python.org/3/faq/programming.html#what-is-a-method\n",
    "\n",
    "Метод что это?\n",
    "\n",
    "Так называется функция , которая находится в классе\n",
    "\n",
    "https://cplusplus.com/doc/tutorial/functions/\n",
    "Функкция что это?\n",
    "\n",
    "функция это группа значений, с которыми выполняются действия прописаные в теле функции . Она имеет имя и ее можно вызвать из любого места программы \n",
    "\n",
    "Отличия.\n",
    "\n",
    "Метод  это фукнция, которая хранится в классе . Если метод вызван как атрибут экземпляра этого класса, он получит объект экземпляра в качестве своего первого аргумента (который обычно называется self)(я это не понимаю, но как будто тут основная разница ). А функция это группа значений, с которыми выполняются действия прописаные в теле функции . Она имеет имя и ее можно вызвать из любого места программы \n",
    "\n",
    "\n",
    "\n",
    "\n",
    "\n",
    "\n",
    "\n",
    "\n"
   ]
  },
  {
   "cell_type": "markdown",
   "metadata": {},
   "source": [
    "# Задание от 12.02.2025"
   ]
  },
  {
   "cell_type": "markdown",
   "metadata": {},
   "source": [
    "### Задание 1\n",
    "\n",
    "модули\n",
    "https://docs.python.org/3/tutorial/modules.html#tut-modules\n",
    "\n",
    "модуль это файл .py , в котором содержатся функции и переменные. Функции или переменные из модуля можно импортировать в другой файл. Это делается через from и import, который пишется в начале каждого файла.\n",
    "\n",
    "Из модуля можно импортировать , как файл в целом, так и его конкретную функцию"
   ]
  },
  {
   "cell_type": "code",
   "execution_count": 29,
   "metadata": {},
   "outputs": [
    {
     "ename": "ModuleNotFoundError",
     "evalue": "No module named 'fibo'",
     "output_type": "error",
     "traceback": [
      "\u001b[1;31m---------------------------------------------------------------------------\u001b[0m",
      "\u001b[1;31mModuleNotFoundError\u001b[0m                       Traceback (most recent call last)",
      "Cell \u001b[1;32mIn[29], line 1\u001b[0m\n\u001b[1;32m----> 1\u001b[0m \u001b[38;5;28;01mfrom\u001b[39;00m\u001b[38;5;250m \u001b[39m\u001b[38;5;21;01mfibo\u001b[39;00m\u001b[38;5;250m \u001b[39m\u001b[38;5;28;01mimport\u001b[39;00m fib1\n",
      "\u001b[1;31mModuleNotFoundError\u001b[0m: No module named 'fibo'"
     ]
    }
   ],
   "source": [
    "from fibo import fib1"
   ]
  },
  {
   "cell_type": "markdown",
   "metadata": {},
   "source": [
    "исключение возникло, тк нет файла fibo.py"
   ]
  },
  {
   "cell_type": "markdown",
   "metadata": {},
   "source": [
    "чтобы скопировать файл полностью, нужно написать : from \"файл\" import *, но без имен, которые начинаются с нижнего подчеркивания, тк оно вводит неизвестный набор имен в интерпритатор\n",
    "\n",
    "Некоторые модули изначально встроены в пайтон, их можно найти тут https://docs.python.org/3/library/index.html\n",
    "\n",
    "некоторые встроены в интерпритатор(например sys)"
   ]
  },
  {
   "cell_type": "code",
   "execution_count": 5,
   "metadata": {},
   "outputs": [],
   "source": [
    "import sys"
   ]
  },
  {
   "cell_type": "code",
   "execution_count": 6,
   "metadata": {},
   "outputs": [],
   "source": [
    "sys.ps1 = 'C> '"
   ]
  },
  {
   "cell_type": "code",
   "execution_count": 7,
   "metadata": {},
   "outputs": [
    {
     "data": {
      "text/plain": [
       "'C> '"
      ]
     },
     "execution_count": 7,
     "metadata": {},
     "output_type": "execute_result"
    }
   ],
   "source": [
    "sys.ps1 "
   ]
  },
  {
   "cell_type": "code",
   "execution_count": 8,
   "metadata": {},
   "outputs": [
    {
     "data": {
      "text/plain": [
       "'Out: '"
      ]
     },
     "execution_count": 8,
     "metadata": {},
     "output_type": "execute_result"
    }
   ],
   "source": [
    "sys.ps3"
   ]
  },
  {
   "cell_type": "code",
   "execution_count": 9,
   "metadata": {},
   "outputs": [
    {
     "ename": "AttributeError",
     "evalue": "module 'sys' has no attribute 'ps4'",
     "output_type": "error",
     "traceback": [
      "\u001b[0;31m---------------------------------------------------------------------------\u001b[0m",
      "\u001b[0;31mAttributeError\u001b[0m                            Traceback (most recent call last)",
      "Cell \u001b[0;32mIn[9], line 1\u001b[0m\n\u001b[0;32m----> 1\u001b[0m \u001b[43msys\u001b[49m\u001b[38;5;241;43m.\u001b[39;49m\u001b[43mps4\u001b[49m\n",
      "\u001b[0;31mAttributeError\u001b[0m: module 'sys' has no attribute 'ps4'"
     ]
    }
   ],
   "source": [
    "sys.ps4"
   ]
  },
  {
   "cell_type": "code",
   "execution_count": 8,
   "metadata": {},
   "outputs": [
    {
     "name": "stdout",
     "output_type": "stream",
     "text": [
      "linux\n"
     ]
    }
   ],
   "source": [
    "print (sys.platform)"
   ]
  },
  {
   "cell_type": "code",
   "execution_count": 11,
   "metadata": {},
   "outputs": [
    {
     "data": {
      "text/plain": [
       "'C> '"
      ]
     },
     "execution_count": 11,
     "metadata": {},
     "output_type": "execute_result"
    }
   ],
   "source": [
    "sys.ps1\n"
   ]
  },
  {
   "cell_type": "markdown",
   "metadata": {},
   "source": [
    "я заглядывал через ctrl в  sys __init__, там нет ps3(ps1 есть и я даже могу на него перейти через ctrl), но на ps3 не возникает ошибка, а на ps4 возникает, не понял почему"
   ]
  },
  {
   "cell_type": "markdown",
   "metadata": {},
   "source": [
    "функция dir показывает, какие имена есть в модуле и выдает их список"
   ]
  },
  {
   "cell_type": "code",
   "execution_count": 38,
   "metadata": {},
   "outputs": [
    {
     "data": {
      "text/plain": [
       "['__breakpointhook__',\n",
       " '__displayhook__',\n",
       " '__doc__',\n",
       " '__excepthook__',\n",
       " '__interactivehook__',\n",
       " '__loader__',\n",
       " '__name__',\n",
       " '__package__',\n",
       " '__spec__',\n",
       " '__stderr__',\n",
       " '__stdin__',\n",
       " '__stdout__',\n",
       " '__unraisablehook__',\n",
       " '_base_executable',\n",
       " '_clear_type_cache',\n",
       " '_current_exceptions',\n",
       " '_current_frames',\n",
       " '_debugmallocstats',\n",
       " '_enablelegacywindowsfsencoding',\n",
       " '_framework',\n",
       " '_getframe',\n",
       " '_getframemodulename',\n",
       " '_git',\n",
       " '_home',\n",
       " '_setprofileallthreads',\n",
       " '_settraceallthreads',\n",
       " '_stdlib_dir',\n",
       " '_vpath',\n",
       " '_xoptions',\n",
       " 'activate_stack_trampoline',\n",
       " 'addaudithook',\n",
       " 'api_version',\n",
       " 'argv',\n",
       " 'audit',\n",
       " 'base_exec_prefix',\n",
       " 'base_prefix',\n",
       " 'breakpointhook',\n",
       " 'builtin_module_names',\n",
       " 'byteorder',\n",
       " 'call_tracing',\n",
       " 'copyright',\n",
       " 'deactivate_stack_trampoline',\n",
       " 'displayhook',\n",
       " 'dllhandle',\n",
       " 'dont_write_bytecode',\n",
       " 'exc_info',\n",
       " 'excepthook',\n",
       " 'exception',\n",
       " 'exec_prefix',\n",
       " 'executable',\n",
       " 'exit',\n",
       " 'flags',\n",
       " 'float_info',\n",
       " 'float_repr_style',\n",
       " 'get_asyncgen_hooks',\n",
       " 'get_coroutine_origin_tracking_depth',\n",
       " 'get_int_max_str_digits',\n",
       " 'getallocatedblocks',\n",
       " 'getdefaultencoding',\n",
       " 'getfilesystemencodeerrors',\n",
       " 'getfilesystemencoding',\n",
       " 'getprofile',\n",
       " 'getrecursionlimit',\n",
       " 'getrefcount',\n",
       " 'getsizeof',\n",
       " 'getswitchinterval',\n",
       " 'gettrace',\n",
       " 'getunicodeinternedsize',\n",
       " 'getwindowsversion',\n",
       " 'hash_info',\n",
       " 'hexversion',\n",
       " 'implementation',\n",
       " 'int_info',\n",
       " 'intern',\n",
       " 'is_finalizing',\n",
       " 'is_stack_trampoline_active',\n",
       " 'last_exc',\n",
       " 'last_traceback',\n",
       " 'last_type',\n",
       " 'last_value',\n",
       " 'maxsize',\n",
       " 'maxunicode',\n",
       " 'meta_path',\n",
       " 'modules',\n",
       " 'monitoring',\n",
       " 'orig_argv',\n",
       " 'path',\n",
       " 'path_hooks',\n",
       " 'path_importer_cache',\n",
       " 'platform',\n",
       " 'platlibdir',\n",
       " 'prefix',\n",
       " 'ps1',\n",
       " 'ps2',\n",
       " 'ps3',\n",
       " 'pycache_prefix',\n",
       " 'set_asyncgen_hooks',\n",
       " 'set_coroutine_origin_tracking_depth',\n",
       " 'set_int_max_str_digits',\n",
       " 'setprofile',\n",
       " 'setrecursionlimit',\n",
       " 'setswitchinterval',\n",
       " 'settrace',\n",
       " 'stderr',\n",
       " 'stdin',\n",
       " 'stdlib_module_names',\n",
       " 'stdout',\n",
       " 'thread_info',\n",
       " 'unraisablehook',\n",
       " 'version',\n",
       " 'version_info',\n",
       " 'warnoptions',\n",
       " 'winver']"
      ]
     },
     "execution_count": 38,
     "metadata": {},
     "output_type": "execute_result"
    }
   ],
   "source": [
    "dir(sys)"
   ]
  },
  {
   "cell_type": "markdown",
   "metadata": {},
   "source": [
    "Без аргументов dir()выводит список имен, которые  определены в данный момент:"
   ]
  },
  {
   "cell_type": "code",
   "execution_count": 40,
   "metadata": {},
   "outputs": [
    {
     "data": {
      "text/plain": [
       "['In',\n",
       " 'Out',\n",
       " '_',\n",
       " '_31',\n",
       " '_32',\n",
       " '_36',\n",
       " '_38',\n",
       " '_39',\n",
       " '__',\n",
       " '___',\n",
       " '__builtin__',\n",
       " '__builtins__',\n",
       " '__doc__',\n",
       " '__loader__',\n",
       " '__name__',\n",
       " '__package__',\n",
       " '__spec__',\n",
       " '__vsc_ipynb_file__',\n",
       " '_dh',\n",
       " '_i',\n",
       " '_i1',\n",
       " '_i10',\n",
       " '_i11',\n",
       " '_i12',\n",
       " '_i13',\n",
       " '_i14',\n",
       " '_i15',\n",
       " '_i16',\n",
       " '_i17',\n",
       " '_i18',\n",
       " '_i19',\n",
       " '_i2',\n",
       " '_i20',\n",
       " '_i21',\n",
       " '_i22',\n",
       " '_i23',\n",
       " '_i24',\n",
       " '_i25',\n",
       " '_i26',\n",
       " '_i27',\n",
       " '_i28',\n",
       " '_i29',\n",
       " '_i3',\n",
       " '_i30',\n",
       " '_i31',\n",
       " '_i32',\n",
       " '_i33',\n",
       " '_i34',\n",
       " '_i35',\n",
       " '_i36',\n",
       " '_i37',\n",
       " '_i38',\n",
       " '_i39',\n",
       " '_i4',\n",
       " '_i40',\n",
       " '_i5',\n",
       " '_i6',\n",
       " '_i7',\n",
       " '_i8',\n",
       " '_i9',\n",
       " '_ih',\n",
       " '_ii',\n",
       " '_iii',\n",
       " '_oh',\n",
       " 'd',\n",
       " 'div',\n",
       " 'e',\n",
       " 'exit',\n",
       " 'get_ipython',\n",
       " 'minus',\n",
       " 'open',\n",
       " 'quit',\n",
       " 'sum',\n",
       " 'sys']"
      ]
     },
     "execution_count": 40,
     "metadata": {},
     "output_type": "execute_result"
    }
   ],
   "source": [
    "dir()"
   ]
  },
  {
   "cell_type": "markdown",
   "metadata": {},
   "source": [
    "так же существуют пакеты с подмодулями, которые позволяют не беспокоится о дублировании имен переменных(модуля и подмодуля)\n",
    "\n",
    "например:"
   ]
  },
  {
   "cell_type": "code",
   "execution_count": null,
   "metadata": {},
   "outputs": [],
   "source": [
    "sound/                          Top-level package\n",
    "      __init__.py               Initialize the sound package\n",
    "      formats/                  Subpackage for file format conversions\n",
    "              __init__.py\n",
    "              wavread.py\n",
    "              wavwrite.py\n",
    "              aiffread.py\n",
    "              aiffwrite.py\n",
    "              auread.py\n",
    "              auwrite.py\n",
    "              ...\n",
    "      effects/                  Subpackage for sound effects\n",
    "              __init__.py\n",
    "              echo.py\n",
    "              surround.py\n",
    "              reverse.py\n",
    "              ...\n",
    "      filters/                  Subpackage for filters\n",
    "              __init__.py\n",
    "              equalizer.py\n",
    "              vocoder.py\n",
    "              karaoke.py\n",
    "              ..."
   ]
  },
  {
   "cell_type": "markdown",
   "metadata": {},
   "source": [
    "в этом случае, чтобы импортировать echo.py нужно :"
   ]
  },
  {
   "cell_type": "code",
   "execution_count": null,
   "metadata": {},
   "outputs": [],
   "source": [
    "import sound.effects.echo"
   ]
  },
  {
   "cell_type": "markdown",
   "metadata": {},
   "source": [
    "\n",
    "\n",
    "### Задание 2.\n",
    "Написать код и вывести тип\n",
    "попробуйте получить исключения.(проджелайте действия над числом и строкой, разделите их)\n",
    "https://docs.python.org/3/reference/datamodel.html#objects-values-and-types\n",
    "\n",
    "* Тип определяет набор возможных значений и операций, выполняемых над\n",
    "объектом.\n",
    "\n",
    "* Объект — участок памяти, в котором хранится значение определенного типа."
   ]
  },
  {
   "cell_type": "code",
   "execution_count": 27,
   "metadata": {},
   "outputs": [],
   "source": [
    "d=\"hel\"\n",
    "e=\"lo\"\n",
    "\n",
    "def div (a,b):\n",
    "    c= a/b\n",
    "    print(c,\"тип:\",type(c))\n",
    "\n",
    "def sum (a,b):\n",
    "    c= a+b\n",
    "    print(c,\"тип:\",type(c))"
   ]
  },
  {
   "cell_type": "code",
   "execution_count": 17,
   "metadata": {},
   "outputs": [
    {
     "name": "stdout",
     "output_type": "stream",
     "text": [
      "0.5 тип: <class 'float'>\n"
     ]
    }
   ],
   "source": [
    "div(1,2)"
   ]
  },
  {
   "cell_type": "code",
   "execution_count": 18,
   "metadata": {},
   "outputs": [
    {
     "ename": "TypeError",
     "evalue": "unsupported operand type(s) for /: 'str' and 'str'",
     "output_type": "error",
     "traceback": [
      "\u001b[1;31m---------------------------------------------------------------------------\u001b[0m",
      "\u001b[1;31mTypeError\u001b[0m                                 Traceback (most recent call last)",
      "Cell \u001b[1;32mIn[18], line 1\u001b[0m\n\u001b[1;32m----> 1\u001b[0m \u001b[43mdiv\u001b[49m\u001b[43m \u001b[49m\u001b[43m(\u001b[49m\u001b[38;5;124;43m\"\u001b[39;49m\u001b[38;5;124;43m1\u001b[39;49m\u001b[38;5;124;43m\"\u001b[39;49m\u001b[43m,\u001b[49m\u001b[38;5;124;43m\"\u001b[39;49m\u001b[38;5;124;43m2\u001b[39;49m\u001b[38;5;124;43m\"\u001b[39;49m\u001b[43m)\u001b[49m\n",
      "Cell \u001b[1;32mIn[16], line 2\u001b[0m, in \u001b[0;36mdiv\u001b[1;34m(a, b)\u001b[0m\n\u001b[0;32m      1\u001b[0m \u001b[38;5;28;01mdef\u001b[39;00m\u001b[38;5;250m \u001b[39m\u001b[38;5;21mdiv\u001b[39m (a,b):\n\u001b[1;32m----> 2\u001b[0m     c\u001b[38;5;241m=\u001b[39m \u001b[43ma\u001b[49m\u001b[38;5;241;43m/\u001b[39;49m\u001b[43mb\u001b[49m\n\u001b[0;32m      3\u001b[0m     \u001b[38;5;28mprint\u001b[39m(c,\u001b[38;5;124m\"\u001b[39m\u001b[38;5;124mтип:\u001b[39m\u001b[38;5;124m\"\u001b[39m,\u001b[38;5;28mtype\u001b[39m(c))\n",
      "\u001b[1;31mTypeError\u001b[0m: unsupported operand type(s) for /: 'str' and 'str'"
     ]
    }
   ],
   "source": [
    "div (\"1\",\"2\")"
   ]
  },
  {
   "cell_type": "markdown",
   "metadata": {},
   "source": [
    "исключение возникло, потому что нельзя разделить строку на строку(как и в реальной жизни)"
   ]
  },
  {
   "cell_type": "code",
   "execution_count": 19,
   "metadata": {},
   "outputs": [
    {
     "ename": "TypeError",
     "evalue": "unsupported operand type(s) for /: 'int' and 'str'",
     "output_type": "error",
     "traceback": [
      "\u001b[1;31m---------------------------------------------------------------------------\u001b[0m",
      "\u001b[1;31mTypeError\u001b[0m                                 Traceback (most recent call last)",
      "Cell \u001b[1;32mIn[19], line 1\u001b[0m\n\u001b[1;32m----> 1\u001b[0m \u001b[43mdiv\u001b[49m\u001b[43m \u001b[49m\u001b[43m(\u001b[49m\u001b[38;5;241;43m1\u001b[39;49m\u001b[43m,\u001b[49m\u001b[38;5;124;43m\"\u001b[39;49m\u001b[38;5;124;43m2\u001b[39;49m\u001b[38;5;124;43m\"\u001b[39;49m\u001b[43m)\u001b[49m\n",
      "Cell \u001b[1;32mIn[16], line 2\u001b[0m, in \u001b[0;36mdiv\u001b[1;34m(a, b)\u001b[0m\n\u001b[0;32m      1\u001b[0m \u001b[38;5;28;01mdef\u001b[39;00m\u001b[38;5;250m \u001b[39m\u001b[38;5;21mdiv\u001b[39m (a,b):\n\u001b[1;32m----> 2\u001b[0m     c\u001b[38;5;241m=\u001b[39m \u001b[43ma\u001b[49m\u001b[38;5;241;43m/\u001b[39;49m\u001b[43mb\u001b[49m\n\u001b[0;32m      3\u001b[0m     \u001b[38;5;28mprint\u001b[39m(c,\u001b[38;5;124m\"\u001b[39m\u001b[38;5;124mтип:\u001b[39m\u001b[38;5;124m\"\u001b[39m,\u001b[38;5;28mtype\u001b[39m(c))\n",
      "\u001b[1;31mTypeError\u001b[0m: unsupported operand type(s) for /: 'int' and 'str'"
     ]
    }
   ],
   "source": [
    "div (1,\"2\")"
   ]
  },
  {
   "cell_type": "markdown",
   "metadata": {},
   "source": [
    "исключение возникло, потому что нельзя разделить тип данных числа, на тип данных строка (хотел бы написать, как и в реальной жизни, но слово \"привет\", разделить на 2 составные части я смогу)"
   ]
  },
  {
   "cell_type": "code",
   "execution_count": 20,
   "metadata": {},
   "outputs": [
    {
     "ename": "NameError",
     "evalue": "name 'a' is not defined",
     "output_type": "error",
     "traceback": [
      "\u001b[1;31m---------------------------------------------------------------------------\u001b[0m",
      "\u001b[1;31mNameError\u001b[0m                                 Traceback (most recent call last)",
      "Cell \u001b[1;32mIn[20], line 1\u001b[0m\n\u001b[1;32m----> 1\u001b[0m \u001b[38;5;28msum\u001b[39m(\u001b[43ma\u001b[49m,b)\n",
      "\u001b[1;31mNameError\u001b[0m: name 'a' is not defined"
     ]
    }
   ],
   "source": [
    "sum(a,b)"
   ]
  },
  {
   "cell_type": "markdown",
   "metadata": {},
   "source": [
    "исключение возникло, потому что объекта не существует"
   ]
  },
  {
   "cell_type": "code",
   "execution_count": 28,
   "metadata": {},
   "outputs": [
    {
     "name": "stdout",
     "output_type": "stream",
     "text": [
      "hello тип: <class 'str'>\n"
     ]
    }
   ],
   "source": [
    "sum(d,e)"
   ]
  },
  {
   "cell_type": "code",
   "execution_count": 23,
   "metadata": {},
   "outputs": [
    {
     "name": "stdout",
     "output_type": "stream",
     "text": [
      "ab тип: <class 'str'>\n"
     ]
    }
   ],
   "source": [
    "sum(\"a\",\"b\")"
   ]
  },
  {
   "cell_type": "code",
   "execution_count": 23,
   "metadata": {},
   "outputs": [
    {
     "name": "stdout",
     "output_type": "stream",
     "text": [
      "\n"
     ]
    },
    {
     "data": {
      "text/plain": [
       "NoneType"
      ]
     },
     "execution_count": 23,
     "metadata": {},
     "output_type": "execute_result"
    }
   ],
   "source": [
    "type(print())"
   ]
  },
  {
   "cell_type": "markdown",
   "metadata": {},
   "source": [
    "\n",
    "\n",
    "### Задание 3.\n",
    "ведро с шариками.\n",
    "соты - к списку.\n",
    "соты но с шарами\n",
    "несколько операций\n",
    "\n",
    "list\n",
    "\n",
    "\n",
    "обязательно проверьте на тип.\n",
    "\n",
    "\n",
    "https://docs.python.org/3/library/stdtypes.html#lists\n",
    "\n",
    "https://docs.python.org/3/tutorial/introduction.html#lists"
   ]
  },
  {
   "cell_type": "code",
   "execution_count": 9,
   "metadata": {},
   "outputs": [
    {
     "ename": "TypeError",
     "evalue": "list expected at most 1 argument, got 3",
     "output_type": "error",
     "traceback": [
      "\u001b[0;31m---------------------------------------------------------------------------\u001b[0m",
      "\u001b[0;31mTypeError\u001b[0m                                 Traceback (most recent call last)",
      "Cell \u001b[0;32mIn[9], line 1\u001b[0m\n\u001b[0;32m----> 1\u001b[0m \u001b[38;5;28;43mlist\u001b[39;49m\u001b[43m(\u001b[49m\u001b[38;5;241;43m1\u001b[39;49m\u001b[43m,\u001b[49m\u001b[38;5;241;43m2\u001b[39;49m\u001b[43m,\u001b[49m\u001b[38;5;241;43m3\u001b[39;49m\u001b[43m)\u001b[49m\n",
      "\u001b[0;31mTypeError\u001b[0m: list expected at most 1 argument, got 3"
     ]
    }
   ],
   "source": [
    "list(1,2,3)"
   ]
  },
  {
   "cell_type": "markdown",
   "metadata": {},
   "source": [
    "исключение возникло из за того, что лист выводиться только одним объектом"
   ]
  },
  {
   "cell_type": "code",
   "execution_count": 8,
   "metadata": {},
   "outputs": [
    {
     "data": {
      "text/plain": [
       "[1, 2, 3]"
      ]
     },
     "execution_count": 8,
     "metadata": {},
     "output_type": "execute_result"
    }
   ],
   "source": [
    "list((1,2,3))"
   ]
  },
  {
   "cell_type": "code",
   "execution_count": 13,
   "metadata": {},
   "outputs": [
    {
     "data": {
      "text/plain": [
       "[1, 'two', 3]"
      ]
     },
     "execution_count": 13,
     "metadata": {},
     "output_type": "execute_result"
    }
   ],
   "source": [
    "list((1,\"two\",3))"
   ]
  },
  {
   "cell_type": "code",
   "execution_count": 36,
   "metadata": {},
   "outputs": [
    {
     "data": {
      "text/plain": [
       "list"
      ]
     },
     "execution_count": 36,
     "metadata": {},
     "output_type": "execute_result"
    }
   ],
   "source": [
    "type(list((1,\"two\",3)))"
   ]
  },
  {
   "cell_type": "markdown",
   "metadata": {},
   "source": [
    "тут я наткнулся, но разницы не понял между тем, что ниже"
   ]
  },
  {
   "cell_type": "code",
   "execution_count": 35,
   "metadata": {},
   "outputs": [
    {
     "name": "stdout",
     "output_type": "stream",
     "text": [
      "<class 'list'>\n"
     ]
    }
   ],
   "source": [
    "a=list((1,\"two\",3))\n",
    "print(type(a))"
   ]
  },
  {
   "cell_type": "markdown",
   "metadata": {},
   "source": [
    "тут я наткнулся, но разницы не понял между тем, что выше"
   ]
  },
  {
   "cell_type": "code",
   "execution_count": 15,
   "metadata": {},
   "outputs": [
    {
     "name": "stdout",
     "output_type": "stream",
     "text": [
      "[1, 'two', 3, 3, 'two', 1]\n"
     ]
    }
   ],
   "source": [
    "a=list((1,\"two\",3))\n",
    "b=list((3,\"two\",1))\n",
    "c=a+b\n",
    "print (c)"
   ]
  },
  {
   "cell_type": "code",
   "execution_count": 37,
   "metadata": {},
   "outputs": [
    {
     "ename": "TypeError",
     "evalue": "can only concatenate list (not \"int\") to list",
     "output_type": "error",
     "traceback": [
      "\u001b[0;31m---------------------------------------------------------------------------\u001b[0m",
      "\u001b[0;31mTypeError\u001b[0m                                 Traceback (most recent call last)",
      "Cell \u001b[0;32mIn[37], line 2\u001b[0m\n\u001b[1;32m      1\u001b[0m a\u001b[38;5;241m=\u001b[39m\u001b[38;5;28mlist\u001b[39m((\u001b[38;5;241m1\u001b[39m,\u001b[38;5;124m\"\u001b[39m\u001b[38;5;124mtwo\u001b[39m\u001b[38;5;124m\"\u001b[39m,\u001b[38;5;241m3\u001b[39m))\n\u001b[0;32m----> 2\u001b[0m c\u001b[38;5;241m=\u001b[39m\u001b[43ma\u001b[49m\u001b[38;5;241;43m+\u001b[39;49m\u001b[38;5;241;43m1\u001b[39;49m\n\u001b[1;32m      3\u001b[0m \u001b[38;5;28mprint\u001b[39m (c)\n",
      "\u001b[0;31mTypeError\u001b[0m: can only concatenate list (not \"int\") to list"
     ]
    }
   ],
   "source": [
    "a=list((1,\"two\",3))\n",
    "c=a+1\n",
    "print (c)"
   ]
  },
  {
   "cell_type": "markdown",
   "metadata": {},
   "source": [
    "исключение состоит в том, что нельзя проводить операции типа лист с типом инт"
   ]
  },
  {
   "cell_type": "code",
   "execution_count": 17,
   "metadata": {},
   "outputs": [
    {
     "ename": "TypeError",
     "evalue": "unsupported operand type(s) for /: 'list' and 'list'",
     "output_type": "error",
     "traceback": [
      "\u001b[0;31m---------------------------------------------------------------------------\u001b[0m",
      "\u001b[0;31mTypeError\u001b[0m                                 Traceback (most recent call last)",
      "Cell \u001b[0;32mIn[17], line 3\u001b[0m\n\u001b[1;32m      1\u001b[0m a\u001b[38;5;241m=\u001b[39m\u001b[38;5;28mlist\u001b[39m((\u001b[38;5;241m1\u001b[39m,\u001b[38;5;124m\"\u001b[39m\u001b[38;5;124mtwo\u001b[39m\u001b[38;5;124m\"\u001b[39m,\u001b[38;5;241m3\u001b[39m))\n\u001b[1;32m      2\u001b[0m b\u001b[38;5;241m=\u001b[39m\u001b[38;5;28mlist\u001b[39m((\u001b[38;5;241m3\u001b[39m,\u001b[38;5;124m\"\u001b[39m\u001b[38;5;124mtwo\u001b[39m\u001b[38;5;124m\"\u001b[39m,\u001b[38;5;241m1\u001b[39m))\n\u001b[0;32m----> 3\u001b[0m c\u001b[38;5;241m=\u001b[39m\u001b[43ma\u001b[49m\u001b[38;5;241;43m/\u001b[39;49m\u001b[43mb\u001b[49m\n\u001b[1;32m      4\u001b[0m \u001b[38;5;28mprint\u001b[39m (c)\n",
      "\u001b[0;31mTypeError\u001b[0m: unsupported operand type(s) for /: 'list' and 'list'"
     ]
    }
   ],
   "source": [
    "a=list((1,\"two\",3))\n",
    "b=list((3,\"two\",1))\n",
    "c=a/b\n",
    "print (c)"
   ]
  },
  {
   "cell_type": "markdown",
   "metadata": {},
   "source": [
    "исключение состоит в том, что тип лист не поддерживает деление "
   ]
  },
  {
   "cell_type": "code",
   "execution_count": 18,
   "metadata": {},
   "outputs": [
    {
     "ename": "TypeError",
     "evalue": "unsupported operand type(s) for -: 'list' and 'list'",
     "output_type": "error",
     "traceback": [
      "\u001b[0;31m---------------------------------------------------------------------------\u001b[0m",
      "\u001b[0;31mTypeError\u001b[0m                                 Traceback (most recent call last)",
      "Cell \u001b[0;32mIn[18], line 3\u001b[0m\n\u001b[1;32m      1\u001b[0m a\u001b[38;5;241m=\u001b[39m\u001b[38;5;28mlist\u001b[39m((\u001b[38;5;241m1\u001b[39m,\u001b[38;5;124m\"\u001b[39m\u001b[38;5;124mtwo\u001b[39m\u001b[38;5;124m\"\u001b[39m,\u001b[38;5;241m3\u001b[39m))\n\u001b[1;32m      2\u001b[0m b\u001b[38;5;241m=\u001b[39m\u001b[38;5;28mlist\u001b[39m((\u001b[38;5;241m3\u001b[39m,\u001b[38;5;124m\"\u001b[39m\u001b[38;5;124mtwo\u001b[39m\u001b[38;5;124m\"\u001b[39m,\u001b[38;5;241m1\u001b[39m))\n\u001b[0;32m----> 3\u001b[0m c\u001b[38;5;241m=\u001b[39m\u001b[43ma\u001b[49m\u001b[38;5;241;43m-\u001b[39;49m\u001b[43mb\u001b[49m\n\u001b[1;32m      4\u001b[0m \u001b[38;5;28mprint\u001b[39m (c)\n",
      "\u001b[0;31mTypeError\u001b[0m: unsupported operand type(s) for -: 'list' and 'list'"
     ]
    }
   ],
   "source": [
    "a=list((1,\"two\",3))\n",
    "b=list((3,\"two\",1))\n",
    "c=a-b\n",
    "print (c)"
   ]
  },
  {
   "cell_type": "markdown",
   "metadata": {},
   "source": [
    "исключение состоит в том, что тип лист не поддерживает вычитание"
   ]
  },
  {
   "cell_type": "code",
   "execution_count": 32,
   "metadata": {},
   "outputs": [
    {
     "name": "stdout",
     "output_type": "stream",
     "text": [
      "['1', '2', '3', 'z', 'x', 'c']\n"
     ]
    }
   ],
   "source": [
    "a=list('zxc')\n",
    "b=list(\"123\")\n",
    "print (b+a)"
   ]
  },
  {
   "cell_type": "code",
   "execution_count": 38,
   "metadata": {},
   "outputs": [
    {
     "data": {
      "text/plain": [
       "[]"
      ]
     },
     "execution_count": 38,
     "metadata": {},
     "output_type": "execute_result"
    }
   ],
   "source": [
    "list()"
   ]
  },
  {
   "cell_type": "code",
   "execution_count": 48,
   "metadata": {},
   "outputs": [
    {
     "name": "stdout",
     "output_type": "stream",
     "text": [
      "1\n"
     ]
    }
   ],
   "source": [
    "squares = [1, 4, 9, 16, 25]\n",
    "print (squares[0])"
   ]
  },
  {
   "cell_type": "code",
   "execution_count": 2,
   "metadata": {},
   "outputs": [
    {
     "name": "stdout",
     "output_type": "stream",
     "text": [
      "9\n",
      "<class 'list'>\n"
     ]
    }
   ],
   "source": [
    "squares = [1, 4, 9, 16, 25]\n",
    "print (squares[-3])\n",
    "print(type(squares))"
   ]
  },
  {
   "cell_type": "code",
   "execution_count": 51,
   "metadata": {},
   "outputs": [
    {
     "name": "stdout",
     "output_type": "stream",
     "text": [
      "[9, 16, 25]\n"
     ]
    }
   ],
   "source": [
    "squares = [1, 4, 9, 16, 25]\n",
    "print (squares[-3:])"
   ]
  },
  {
   "cell_type": "code",
   "execution_count": 6,
   "metadata": {},
   "outputs": [
    {
     "name": "stdout",
     "output_type": "stream",
     "text": [
      "[1, 4]\n"
     ]
    }
   ],
   "source": [
    "squares = [1, 4, 9, 16, 25]\n",
    "print (squares[:-3])"
   ]
  },
  {
   "cell_type": "code",
   "execution_count": 52,
   "metadata": {},
   "outputs": [
    {
     "name": "stdout",
     "output_type": "stream",
     "text": [
      "[1, 4, 9, 16, 25]\n"
     ]
    }
   ],
   "source": [
    "squares = [1, 4, 9, 16, 25]\n",
    "print (squares[:])"
   ]
  },
  {
   "cell_type": "code",
   "execution_count": 5,
   "metadata": {},
   "outputs": [
    {
     "name": "stdout",
     "output_type": "stream",
     "text": [
      "[1, 4, 9, 16, 25]\n"
     ]
    }
   ],
   "source": [
    "squares = [1, 4, 9, 16, 25]\n",
    "print (squares)"
   ]
  },
  {
   "cell_type": "code",
   "execution_count": 8,
   "metadata": {},
   "outputs": [
    {
     "name": "stdout",
     "output_type": "stream",
     "text": [
      "[1, 4, 9, 16, 25, 'abc']\n"
     ]
    }
   ],
   "source": [
    "squares = [1, 4, 9, 16, 25]\n",
    "squares1 = [\"abc\"]\n",
    "print (squares+squares1)"
   ]
  },
  {
   "cell_type": "code",
   "execution_count": 10,
   "metadata": {},
   "outputs": [
    {
     "name": "stdout",
     "output_type": "stream",
     "text": [
      "[1, 4, 9, 16, 25, 'a', 'b', 'c']\n"
     ]
    }
   ],
   "source": [
    "squares = [1, 4, 9, 16, 25]\n",
    "squares1 = [\"a\",\"b\",\"c\"]\n",
    "print (squares+squares1)"
   ]
  },
  {
   "cell_type": "code",
   "execution_count": 11,
   "metadata": {},
   "outputs": [
    {
     "name": "stdout",
     "output_type": "stream",
     "text": [
      "[1, 4, 'abc', 16, 25]\n"
     ]
    }
   ],
   "source": [
    "squares = [1, 4, 9, 16, 25]\n",
    "squares1 = [\"abc\"]\n",
    "squares[2:3] = squares1\n",
    "print (squares)"
   ]
  },
  {
   "cell_type": "code",
   "execution_count": 14,
   "metadata": {},
   "outputs": [
    {
     "name": "stdout",
     "output_type": "stream",
     "text": [
      "[1, 4, 'abc']\n"
     ]
    }
   ],
   "source": [
    "squares = [1, 4, 9, 16, 25]\n",
    "squares1 = [\"abc\"]\n",
    "squares[2:] = squares1\n",
    "print (squares)"
   ]
  },
  {
   "cell_type": "code",
   "execution_count": 17,
   "metadata": {},
   "outputs": [
    {
     "ename": "TypeError",
     "evalue": "list indices must be integers or slices, not float",
     "output_type": "error",
     "traceback": [
      "\u001b[1;31m---------------------------------------------------------------------------\u001b[0m",
      "\u001b[1;31mTypeError\u001b[0m                                 Traceback (most recent call last)",
      "Cell \u001b[1;32mIn[17], line 3\u001b[0m\n\u001b[0;32m      1\u001b[0m squares \u001b[38;5;241m=\u001b[39m [\u001b[38;5;241m1\u001b[39m, \u001b[38;5;241m4\u001b[39m, \u001b[38;5;241m9\u001b[39m, \u001b[38;5;241m16\u001b[39m, \u001b[38;5;241m25\u001b[39m]\n\u001b[0;32m      2\u001b[0m squares1 \u001b[38;5;241m=\u001b[39m [\u001b[38;5;124m\"\u001b[39m\u001b[38;5;124mabc\u001b[39m\u001b[38;5;124m\"\u001b[39m]\n\u001b[1;32m----> 3\u001b[0m \u001b[43msquares\u001b[49m\u001b[43m[\u001b[49m\u001b[38;5;241;43m2.5\u001b[39;49m\u001b[43m]\u001b[49m \u001b[38;5;241m=\u001b[39m squares1\n\u001b[0;32m      4\u001b[0m \u001b[38;5;28mprint\u001b[39m (squares)\n",
      "\u001b[1;31mTypeError\u001b[0m: list indices must be integers or slices, not float"
     ]
    }
   ],
   "source": [
    "squares = [1, 4, 9, 16, 25]\n",
    "squares1 = [\"abc\"]\n",
    "squares[2.5] = squares1\n",
    "print (squares)"
   ]
  },
  {
   "cell_type": "markdown",
   "metadata": {},
   "source": [
    "исключение возникло из за того, что лист не может быть типа float"
   ]
  },
  {
   "cell_type": "code",
   "execution_count": null,
   "metadata": {},
   "outputs": [],
   "source": [
    "squares = [1, 4, 9, 16, 25]\n",
    "squares1 = [\"abc\"]\n",
    "squares[2:3] = squares1\n",
    "print (squares)"
   ]
  },
  {
   "cell_type": "code",
   "execution_count": 54,
   "metadata": {},
   "outputs": [
    {
     "ename": "TypeError",
     "evalue": "list indices must be integers or slices, not str",
     "output_type": "error",
     "traceback": [
      "\u001b[0;31m---------------------------------------------------------------------------\u001b[0m",
      "\u001b[0;31mTypeError\u001b[0m                                 Traceback (most recent call last)",
      "Cell \u001b[0;32mIn[54], line 2\u001b[0m\n\u001b[1;32m      1\u001b[0m squares \u001b[38;5;241m=\u001b[39m [\u001b[38;5;241m1\u001b[39m, \u001b[38;5;241m4\u001b[39m, \u001b[38;5;241m9\u001b[39m, \u001b[38;5;241m16\u001b[39m, \u001b[38;5;241m25\u001b[39m]\n\u001b[0;32m----> 2\u001b[0m \u001b[38;5;28mprint\u001b[39m (\u001b[43msquares\u001b[49m\u001b[43m[\u001b[49m\u001b[38;5;124;43m\"\u001b[39;49m\u001b[38;5;124;43m\"\u001b[39;49m\u001b[43m]\u001b[49m)\n",
      "\u001b[0;31mTypeError\u001b[0m: list indices must be integers or slices, not str"
     ]
    }
   ],
   "source": [
    "squares = [1, 4, 9, 16, 25]\n",
    "print (squares[\"\"])"
   ]
  },
  {
   "cell_type": "markdown",
   "metadata": {},
   "source": [
    "исключение возникло , потому что лист не может быть строкой"
   ]
  },
  {
   "cell_type": "markdown",
   "metadata": {},
   "source": [
    "Присваивание в Python не копирует данные,когда присваивается список переменной, то переменная ссылается на существующий список "
   ]
  },
  {
   "cell_type": "code",
   "execution_count": 57,
   "metadata": {},
   "outputs": [
    {
     "name": "stdout",
     "output_type": "stream",
     "text": [
      "['Red', 'Green', 'Blue', 'Alph']\n"
     ]
    }
   ],
   "source": [
    "rgb = [\"Red\", \"Green\", \"Blue\"]\n",
    "\n",
    "rgba = rgb\n",
    "\n",
    "rgba.append(\"Alph\")\n",
    "\n",
    "print(rgb)"
   ]
  },
  {
   "cell_type": "code",
   "execution_count": 59,
   "metadata": {},
   "outputs": [
    {
     "name": "stdout",
     "output_type": "stream",
     "text": [
      "['Red', 'GREEN', 'BLUE', 'Blue', 'Black']\n"
     ]
    }
   ],
   "source": [
    "rgb = [\"Red\", \"Green\", \"Blue\", \"Black\"]\n",
    "\n",
    "rgb[1:2]= [\"GREEN\", \"BLUE\"]\n",
    "\n",
    "print(rgb)"
   ]
  },
  {
   "cell_type": "code",
   "execution_count": 1,
   "metadata": {},
   "outputs": [
    {
     "name": "stdout",
     "output_type": "stream",
     "text": [
      "['Red', 'GREEN', 1, 'Blue', 'Black']\n"
     ]
    }
   ],
   "source": [
    "rgb = [\"Red\", \"Green\", \"Blue\", \"Black\"]\n",
    "\n",
    "rgb[1:2]= [\"GREEN\", 1]\n",
    "\n",
    "print(rgb)"
   ]
  },
  {
   "cell_type": "code",
   "execution_count": 3,
   "metadata": {},
   "outputs": [
    {
     "name": "stdout",
     "output_type": "stream",
     "text": [
      "['Red', 'Blue', 'Black']\n"
     ]
    }
   ],
   "source": [
    "rgb = [\"Red\", \"Green\", \"Blue\", \"Black\"]\n",
    "\n",
    "rgb[1:2]= []\n",
    "\n",
    "print(rgb)"
   ]
  },
  {
   "cell_type": "code",
   "execution_count": 27,
   "metadata": {},
   "outputs": [
    {
     "name": "stdout",
     "output_type": "stream",
     "text": [
      "<class 'list'>\n",
      "[[1, 2, 3], ['a', 'b']]\n",
      "2\n"
     ]
    }
   ],
   "source": [
    "list1=[1,2,3]\n",
    "list2=[\"a\",\"b\"]\n",
    "listsum=[list1,list2]\n",
    "print(type(listsum))\n",
    "print(listsum)\n",
    "print(listsum[0][1])"
   ]
  },
  {
   "cell_type": "markdown",
   "metadata": {},
   "source": [
    "### Задание 4\n",
    "\n",
    "https://docs.python.org/3/library/functions.html#isinstance\n",
    "\n",
    "\n",
    "isinstance это проверка типа. Функция возвращает true , если второй параметр совпадает с типом первого параметра, иначе, результат будет false.\n",
    "\n",
    " Cинтаксис этой функции вот такой : isinstance(object, classinfo)\n",
    "\n",
    "isinstance()\n",
    "с исключениями.\n"
   ]
  },
  {
   "cell_type": "code",
   "execution_count": 29,
   "metadata": {},
   "outputs": [],
   "source": [
    "class v:\n",
    "    age=int(1)"
   ]
  },
  {
   "cell_type": "code",
   "execution_count": 44,
   "metadata": {},
   "outputs": [
    {
     "data": {
      "text/plain": [
       "type"
      ]
     },
     "execution_count": 44,
     "metadata": {},
     "output_type": "execute_result"
    }
   ],
   "source": [
    "type(v)"
   ]
  },
  {
   "cell_type": "code",
   "execution_count": 45,
   "metadata": {},
   "outputs": [
    {
     "data": {
      "text/plain": [
       "True"
      ]
     },
     "execution_count": 45,
     "metadata": {},
     "output_type": "execute_result"
    }
   ],
   "source": [
    "isinstance(v, type )"
   ]
  },
  {
   "cell_type": "code",
   "execution_count": 30,
   "metadata": {},
   "outputs": [
    {
     "data": {
      "text/plain": [
       "False"
      ]
     },
     "execution_count": 30,
     "metadata": {},
     "output_type": "execute_result"
    }
   ],
   "source": [
    "isinstance(v, int)"
   ]
  },
  {
   "cell_type": "code",
   "execution_count": 31,
   "metadata": {},
   "outputs": [
    {
     "ename": "TypeError",
     "evalue": "isinstance() arg 2 must be a type, a tuple of types, or a union",
     "output_type": "error",
     "traceback": [
      "\u001b[1;31m---------------------------------------------------------------------------\u001b[0m",
      "\u001b[1;31mTypeError\u001b[0m                                 Traceback (most recent call last)",
      "Cell \u001b[1;32mIn[31], line 1\u001b[0m\n\u001b[1;32m----> 1\u001b[0m \u001b[38;5;28;43misinstance\u001b[39;49m\u001b[43m(\u001b[49m\u001b[43mv\u001b[49m\u001b[43m,\u001b[49m\u001b[43m \u001b[49m\u001b[38;5;241;43m1\u001b[39;49m\u001b[43m)\u001b[49m\n",
      "\u001b[1;31mTypeError\u001b[0m: isinstance() arg 2 must be a type, a tuple of types, or a union"
     ]
    }
   ],
   "source": [
    "isinstance(v, 1)"
   ]
  },
  {
   "cell_type": "markdown",
   "metadata": {},
   "source": [
    "исключение возникло, тк второй аргумент это не тип"
   ]
  },
  {
   "cell_type": "code",
   "execution_count": 33,
   "metadata": {},
   "outputs": [],
   "source": [
    "to=\"str\""
   ]
  },
  {
   "cell_type": "code",
   "execution_count": 34,
   "metadata": {},
   "outputs": [
    {
     "data": {
      "text/plain": [
       "True"
      ]
     },
     "execution_count": 34,
     "metadata": {},
     "output_type": "execute_result"
    }
   ],
   "source": [
    "isinstance(to,str)"
   ]
  },
  {
   "cell_type": "code",
   "execution_count": 35,
   "metadata": {},
   "outputs": [
    {
     "data": {
      "text/plain": [
       "True"
      ]
     },
     "execution_count": 35,
     "metadata": {},
     "output_type": "execute_result"
    }
   ],
   "source": [
    "isinstance(\"to\",str)"
   ]
  },
  {
   "cell_type": "code",
   "execution_count": 36,
   "metadata": {},
   "outputs": [
    {
     "data": {
      "text/plain": [
       "True"
      ]
     },
     "execution_count": 36,
     "metadata": {},
     "output_type": "execute_result"
    }
   ],
   "source": [
    "isinstance(str,type)"
   ]
  },
  {
   "cell_type": "markdown",
   "metadata": {},
   "source": [
    "у меня нет в голове понимания, как можно поломать эту функцию, кроме как засунуть во второй аргумент не тип или не существующий объект в первый аргумент . Буду рад, если вы откроете мне глаза."
   ]
  },
  {
   "cell_type": "code",
   "execution_count": 1,
   "metadata": {},
   "outputs": [],
   "source": [
    "def main(param):\n",
    "    pass"
   ]
  },
  {
   "cell_type": "code",
   "execution_count": 2,
   "metadata": {},
   "outputs": [
    {
     "data": {
      "text/plain": [
       "<function __main__.main(param)>"
      ]
     },
     "execution_count": 2,
     "metadata": {},
     "output_type": "execute_result"
    }
   ],
   "source": [
    "main"
   ]
  },
  {
   "cell_type": "code",
   "execution_count": 3,
   "metadata": {},
   "outputs": [
    {
     "ename": "NameError",
     "evalue": "name 'get' is not defined",
     "output_type": "error",
     "traceback": [
      "\u001b[0;31m---------------------------------------------------------------------------\u001b[0m",
      "\u001b[0;31mNameError\u001b[0m                                 Traceback (most recent call last)",
      "Cell \u001b[0;32mIn[3], line 1\u001b[0m\n\u001b[0;32m----> 1\u001b[0m \u001b[43mget\u001b[49m\n",
      "\u001b[0;31mNameError\u001b[0m: name 'get' is not defined"
     ]
    }
   ],
   "source": [
    "get"
   ]
  },
  {
   "cell_type": "code",
   "execution_count": 4,
   "metadata": {},
   "outputs": [
    {
     "data": {
      "text/plain": [
       "'get'"
      ]
     },
     "execution_count": 4,
     "metadata": {},
     "output_type": "execute_result"
    }
   ],
   "source": [
    "\"get\""
   ]
  },
  {
   "cell_type": "code",
   "execution_count": 5,
   "metadata": {},
   "outputs": [],
   "source": [
    "a = \"get\""
   ]
  },
  {
   "cell_type": "code",
   "execution_count": 6,
   "metadata": {},
   "outputs": [
    {
     "data": {
      "text/plain": [
       "'get'"
      ]
     },
     "execution_count": 6,
     "metadata": {},
     "output_type": "execute_result"
    }
   ],
   "source": [
    "a"
   ]
  },
  {
   "cell_type": "code",
   "execution_count": 7,
   "metadata": {},
   "outputs": [
    {
     "data": {
      "text/plain": [
       "str"
      ]
     },
     "execution_count": 7,
     "metadata": {},
     "output_type": "execute_result"
    }
   ],
   "source": [
    "type(a)"
   ]
  },
  {
   "cell_type": "code",
   "execution_count": 8,
   "metadata": {},
   "outputs": [
    {
     "data": {
      "text/plain": [
       "type"
      ]
     },
     "execution_count": 8,
     "metadata": {},
     "output_type": "execute_result"
    }
   ],
   "source": [
    "type(str)"
   ]
  },
  {
   "cell_type": "code",
   "execution_count": 11,
   "metadata": {},
   "outputs": [],
   "source": [
    "class A:\n",
    "    def __init__(self, param1):\n",
    "        self.param1 = param1\n",
    "\n",
    "    def first(self,param, param2):\n",
    "        a = param + param2\n",
    "        return a\n",
    "\n",
    "    def two(param1, param2, parm3):\n",
    "        param1 = param2 + parm3\n",
    "        return param1\n",
    "\n",
    "    def tt():\n",
    "        pass\n",
    "        \n",
    "    def tt2(sss):\n",
    "        \n",
    "        pass"
   ]
  },
  {
   "cell_type": "code",
   "execution_count": 12,
   "metadata": {},
   "outputs": [
    {
     "ename": "TypeError",
     "evalue": "A.__init__() missing 1 required positional argument: 'param1'",
     "output_type": "error",
     "traceback": [
      "\u001b[0;31m---------------------------------------------------------------------------\u001b[0m",
      "\u001b[0;31mTypeError\u001b[0m                                 Traceback (most recent call last)",
      "Cell \u001b[0;32mIn[12], line 1\u001b[0m\n\u001b[0;32m----> 1\u001b[0m a \u001b[38;5;241m=\u001b[39m \u001b[43mA\u001b[49m\u001b[43m(\u001b[49m\u001b[43m)\u001b[49m\n",
      "\u001b[0;31mTypeError\u001b[0m: A.__init__() missing 1 required positional argument: 'param1'"
     ]
    }
   ],
   "source": [
    "a = A()"
   ]
  },
  {
   "cell_type": "code",
   "execution_count": 14,
   "metadata": {},
   "outputs": [],
   "source": [
    "a1 = A"
   ]
  },
  {
   "cell_type": "code",
   "execution_count": 15,
   "metadata": {},
   "outputs": [],
   "source": [
    "a = A(1)"
   ]
  },
  {
   "cell_type": "code",
   "execution_count": 16,
   "metadata": {},
   "outputs": [
    {
     "data": {
      "text/plain": [
       "<bound method A.first of <__main__.A object at 0x73e4fa4c9250>>"
      ]
     },
     "execution_count": 16,
     "metadata": {},
     "output_type": "execute_result"
    }
   ],
   "source": [
    "a.first"
   ]
  },
  {
   "cell_type": "code",
   "execution_count": 17,
   "metadata": {},
   "outputs": [
    {
     "data": {
      "text/plain": [
       "<function __main__.A.first(self, param, param2)>"
      ]
     },
     "execution_count": 17,
     "metadata": {},
     "output_type": "execute_result"
    }
   ],
   "source": [
    "a1.first"
   ]
  },
  {
   "cell_type": "code",
   "execution_count": 18,
   "metadata": {},
   "outputs": [
    {
     "ename": "TypeError",
     "evalue": "A.first() missing 2 required positional arguments: 'param' and 'param2'",
     "output_type": "error",
     "traceback": [
      "\u001b[0;31m---------------------------------------------------------------------------\u001b[0m",
      "\u001b[0;31mTypeError\u001b[0m                                 Traceback (most recent call last)",
      "Cell \u001b[0;32mIn[18], line 1\u001b[0m\n\u001b[0;32m----> 1\u001b[0m \u001b[43ma\u001b[49m\u001b[38;5;241;43m.\u001b[39;49m\u001b[43mfirst\u001b[49m\u001b[43m(\u001b[49m\u001b[43m)\u001b[49m\n",
      "\u001b[0;31mTypeError\u001b[0m: A.first() missing 2 required positional arguments: 'param' and 'param2'"
     ]
    }
   ],
   "source": [
    "a.first()"
   ]
  },
  {
   "cell_type": "code",
   "execution_count": 19,
   "metadata": {},
   "outputs": [
    {
     "ename": "TypeError",
     "evalue": "A.two() missing 2 required positional arguments: 'param2' and 'parm3'",
     "output_type": "error",
     "traceback": [
      "\u001b[0;31m---------------------------------------------------------------------------\u001b[0m",
      "\u001b[0;31mTypeError\u001b[0m                                 Traceback (most recent call last)",
      "Cell \u001b[0;32mIn[19], line 1\u001b[0m\n\u001b[0;32m----> 1\u001b[0m \u001b[43ma\u001b[49m\u001b[38;5;241;43m.\u001b[39;49m\u001b[43mtwo\u001b[49m\u001b[43m(\u001b[49m\u001b[43m)\u001b[49m\n",
      "\u001b[0;31mTypeError\u001b[0m: A.two() missing 2 required positional arguments: 'param2' and 'parm3'"
     ]
    }
   ],
   "source": [
    "a.two()"
   ]
  },
  {
   "cell_type": "code",
   "execution_count": 20,
   "metadata": {},
   "outputs": [
    {
     "data": {
      "text/plain": [
       "3"
      ]
     },
     "execution_count": 20,
     "metadata": {},
     "output_type": "execute_result"
    }
   ],
   "source": [
    "a.two(1, 2)"
   ]
  },
  {
   "cell_type": "code",
   "execution_count": 21,
   "metadata": {},
   "outputs": [
    {
     "ename": "TypeError",
     "evalue": "A.two() takes 3 positional arguments but 4 were given",
     "output_type": "error",
     "traceback": [
      "\u001b[0;31m---------------------------------------------------------------------------\u001b[0m",
      "\u001b[0;31mTypeError\u001b[0m                                 Traceback (most recent call last)",
      "Cell \u001b[0;32mIn[21], line 1\u001b[0m\n\u001b[0;32m----> 1\u001b[0m \u001b[43ma\u001b[49m\u001b[38;5;241;43m.\u001b[39;49m\u001b[43mtwo\u001b[49m\u001b[43m(\u001b[49m\u001b[38;5;241;43m0\u001b[39;49m\u001b[43m,\u001b[49m\u001b[43m \u001b[49m\u001b[38;5;241;43m1\u001b[39;49m\u001b[43m,\u001b[49m\u001b[43m \u001b[49m\u001b[38;5;241;43m2\u001b[39;49m\u001b[43m)\u001b[49m\n",
      "\u001b[0;31mTypeError\u001b[0m: A.two() takes 3 positional arguments but 4 were given"
     ]
    }
   ],
   "source": [
    "a.two(0, 1, 2)"
   ]
  },
  {
   "cell_type": "markdown",
   "metadata": {},
   "source": [
    "# Задание от 19.02.2025\n",
    "\n",
    "# Задание 1\n",
    "Нижние подчёркивания в питон.\n",
    "https://docs.python.org/3/tutorial/classes.html#private-variables\n",
    "\n",
    "Нижние подчеркивания придуманы для \"теневой копии\". То есть, любой метод, функцию, или значение можно \"клонировать\" для того, чтобы избежать конфликтов имен с именами, определенными подклассами...."
   ]
  },
  {
   "cell_type": "code",
   "execution_count": 2,
   "metadata": {},
   "outputs": [
    {
     "name": "stdout",
     "output_type": "stream",
     "text": [
      "16\n",
      "15\n"
     ]
    }
   ],
   "source": [
    "a=15\n",
    "__a=a\n",
    "a=16\n",
    "print(a)\n",
    "print(__a)"
   ]
  },
  {
   "cell_type": "markdown",
   "metadata": {},
   "source": [
    "\n",
    "\n",
    "# Задание 2.\n",
    "Написать функцию по принципу ( одна функция использует другую.)\n",
    "https://github.com/django/django/blob/stable/5.1.x/django/shortcuts.py#L65\n",
    "задействовать как можно больше конструкций, особое внимание уделить выволу исключений.\n",
    "Вывести среди функции тип и значение в разные моменты времени.\n",
    "Описать, что вы делаете именно в выводе.\n",
    "\n",
    "Там используются части джанго, вы используйте обучные списки, строки , словари или множества."
   ]
  },
  {
   "cell_type": "code",
   "execution_count": 15,
   "metadata": {},
   "outputs": [],
   "source": [
    "def sum (a,b):\n",
    "    c=a+b\n",
    "    return c\n",
    "\n",
    "def checksum(a,c):\n",
    "    __sum = sum(a,b)\n",
    "    if isinstance(__sum,int):\n",
    "        print ('right')\n",
    "    else:\n",
    "        print ('incomplite')"
   ]
  },
  {
   "cell_type": "code",
   "execution_count": 16,
   "metadata": {},
   "outputs": [
    {
     "ename": "NameError",
     "evalue": "name 'b' is not defined",
     "output_type": "error",
     "traceback": [
      "\u001b[1;31m---------------------------------------------------------------------------\u001b[0m",
      "\u001b[1;31mNameError\u001b[0m                                 Traceback (most recent call last)",
      "Cell \u001b[1;32mIn[16], line 1\u001b[0m\n\u001b[1;32m----> 1\u001b[0m \u001b[43mchecksum\u001b[49m\u001b[43m(\u001b[49m\u001b[38;5;241;43m1.2\u001b[39;49m\u001b[43m,\u001b[49m\u001b[38;5;241;43m2\u001b[39;49m\u001b[43m)\u001b[49m\n\u001b[0;32m      2\u001b[0m checksum(\u001b[38;5;241m2\u001b[39m,\u001b[38;5;241m2\u001b[39m)\n",
      "Cell \u001b[1;32mIn[15], line 6\u001b[0m, in \u001b[0;36mchecksum\u001b[1;34m(a, c)\u001b[0m\n\u001b[0;32m      5\u001b[0m \u001b[38;5;28;01mdef\u001b[39;00m\u001b[38;5;250m \u001b[39m\u001b[38;5;21mchecksum\u001b[39m(a,c):\n\u001b[1;32m----> 6\u001b[0m     __sum \u001b[38;5;241m=\u001b[39m \u001b[38;5;28msum\u001b[39m(a,\u001b[43mb\u001b[49m)\n\u001b[0;32m      7\u001b[0m     \u001b[38;5;28;01mif\u001b[39;00m \u001b[38;5;28misinstance\u001b[39m(__sum,\u001b[38;5;28mint\u001b[39m):\n\u001b[0;32m      8\u001b[0m         \u001b[38;5;28mprint\u001b[39m (\u001b[38;5;124m'\u001b[39m\u001b[38;5;124mright\u001b[39m\u001b[38;5;124m'\u001b[39m)\n",
      "\u001b[1;31mNameError\u001b[0m: name 'b' is not defined"
     ]
    }
   ],
   "source": [
    "checksum(1.2,2)\n",
    "checksum(2,2)\n"
   ]
  },
  {
   "cell_type": "markdown",
   "metadata": {},
   "source": [
    "исключение появилось из за того, что в \"родительской\" функции(основной функции, которая вызывает функцию внутри самой себя), нет параметра b => параметры в таких функциях  вызываемый внутренней функцией параметр  должн быть один и тот же с начальной функцией"
   ]
  },
  {
   "cell_type": "code",
   "execution_count": 17,
   "metadata": {},
   "outputs": [],
   "source": [
    "def sum (a,b):\n",
    "    c=a+b\n",
    "    return c\n",
    "\n",
    "def checksum(a,b):\n",
    "    __sum = sum(a,b)\n",
    "    if isinstance(__sum,int):\n",
    "        print ('right')\n",
    "    else:\n",
    "        print ('incomplite')"
   ]
  },
  {
   "cell_type": "code",
   "execution_count": 18,
   "metadata": {},
   "outputs": [
    {
     "name": "stdout",
     "output_type": "stream",
     "text": [
      "incomplite\n",
      "right\n"
     ]
    }
   ],
   "source": [
    "checksum(1.2,2)\n",
    "checksum(2,2)\n"
   ]
  },
  {
   "cell_type": "code",
   "execution_count": 9,
   "metadata": {},
   "outputs": [],
   "source": [
    "def listcheck(a):\n",
    "    \"\"\"\n",
    "    проверка на то, что введен лист\n",
    "    \"\"\"\n",
    "    if isinstance(a, list) and hasattr(a,'__add__'):\n",
    "        return a\n",
    "    else:\n",
    "        raise TypeError(\"введен не тип данных лист или нельзя провести операцию сложения\")\n",
    "    \n",
    "\n",
    "def listlen(a):\n",
    "    \"\"\"\n",
    "    сложение листа с изначальной проверкой на тип лист \n",
    "    \"\"\"\n",
    "    some = listcheck\n",
    "\n",
    "    print ('это',type(some))\n",
    "    if not isinstance (some, list):\n",
    "        raise NameError(\"Имя объекта не лист\")\n",
    "    try:\n",
    "        return len(some)\n",
    "    except:\n",
    "        raise(\"что то пошло не так\")\n",
    "\n"
   ]
  },
  {
   "cell_type": "code",
   "execution_count": 20,
   "metadata": {},
   "outputs": [
    {
     "name": "stdout",
     "output_type": "stream",
     "text": [
      "Операции доступные результату['__add__', '__class__', '__class_getitem__', '__contains__', '__delattr__', '__delitem__', '__dir__', '__doc__', '__eq__', '__format__', '__ge__', '__getattribute__', '__getitem__', '__getstate__', '__gt__', '__hash__', '__iadd__', '__imul__', '__init__', '__init_subclass__', '__iter__', '__le__', '__len__', '__lt__', '__mul__', '__ne__', '__new__', '__reduce__', '__reduce_ex__', '__repr__', '__reversed__', '__rmul__', '__setattr__', '__setitem__', '__sizeof__', '__str__', '__subclasshook__', 'append', 'clear', 'copy', 'count', 'extend', 'index', 'insert', 'pop', 'remove', 'reverse', 'sort']\n"
     ]
    }
   ],
   "source": [
    "print(f'Операции доступные результату{dir(listcheck([1]))}')"
   ]
  },
  {
   "cell_type": "code",
   "execution_count": 11,
   "metadata": {},
   "outputs": [
    {
     "data": {
      "text/plain": [
       "list"
      ]
     },
     "execution_count": 11,
     "metadata": {},
     "output_type": "execute_result"
    }
   ],
   "source": [
    "type(listcheck([1, 2 , 3]))"
   ]
  },
  {
   "cell_type": "code",
   "execution_count": 12,
   "metadata": {},
   "outputs": [
    {
     "name": "stdout",
     "output_type": "stream",
     "text": [
      "это <class 'function'>\n"
     ]
    },
    {
     "ename": "NameError",
     "evalue": "Имя объекта не лист",
     "output_type": "error",
     "traceback": [
      "\u001b[1;31m---------------------------------------------------------------------------\u001b[0m",
      "\u001b[1;31mNameError\u001b[0m                                 Traceback (most recent call last)",
      "Cell \u001b[1;32mIn[12], line 1\u001b[0m\n\u001b[1;32m----> 1\u001b[0m \u001b[38;5;28mtype\u001b[39m(\u001b[43mlistlen\u001b[49m\u001b[43m(\u001b[49m\u001b[43m[\u001b[49m\u001b[38;5;241;43m1\u001b[39;49m\u001b[43m,\u001b[49m\u001b[43m \u001b[49m\u001b[38;5;241;43m2\u001b[39;49m\u001b[43m \u001b[49m\u001b[43m,\u001b[49m\u001b[43m \u001b[49m\u001b[38;5;241;43m3\u001b[39;49m\u001b[43m]\u001b[49m\u001b[43m)\u001b[49m)\n",
      "Cell \u001b[1;32mIn[9], line 19\u001b[0m, in \u001b[0;36mlistlen\u001b[1;34m(a)\u001b[0m\n\u001b[0;32m     17\u001b[0m \u001b[38;5;28mprint\u001b[39m (\u001b[38;5;124m'\u001b[39m\u001b[38;5;124mэто\u001b[39m\u001b[38;5;124m'\u001b[39m,\u001b[38;5;28mtype\u001b[39m(some))\n\u001b[0;32m     18\u001b[0m \u001b[38;5;28;01mif\u001b[39;00m \u001b[38;5;129;01mnot\u001b[39;00m \u001b[38;5;28misinstance\u001b[39m (some, \u001b[38;5;28mstr\u001b[39m):\n\u001b[1;32m---> 19\u001b[0m     \u001b[38;5;28;01mraise\u001b[39;00m \u001b[38;5;167;01mNameError\u001b[39;00m(\u001b[38;5;124m\"\u001b[39m\u001b[38;5;124mИмя объекта не лист\u001b[39m\u001b[38;5;124m\"\u001b[39m)\n\u001b[0;32m     20\u001b[0m \u001b[38;5;28;01mtry\u001b[39;00m:\n\u001b[0;32m     21\u001b[0m     \u001b[38;5;28;01mreturn\u001b[39;00m \u001b[38;5;28mlen\u001b[39m(some)\n",
      "\u001b[1;31mNameError\u001b[0m: Имя объекта не лист"
     ]
    }
   ],
   "source": [
    "type(listlen([1, 2 , 3]))"
   ]
  },
  {
   "cell_type": "code",
   "execution_count": null,
   "metadata": {},
   "outputs": [
    {
     "name": "stdout",
     "output_type": "stream",
     "text": [
      "Операции доступные результату ['__add__', '__class__', '__class_getitem__', '__contains__', '__delattr__', '__delitem__', '__dir__', '__doc__', '__eq__', '__format__', '__ge__', '__getattribute__', '__getitem__', '__getstate__', '__gt__', '__hash__', '__iadd__', '__imul__', '__init__', '__init_subclass__', '__iter__', '__le__', '__len__', '__lt__', '__mul__', '__ne__', '__new__', '__reduce__', '__reduce_ex__', '__repr__', '__reversed__', '__rmul__', '__setattr__', '__setitem__', '__sizeof__', '__str__', '__subclasshook__', 'append', 'clear', 'copy', 'count', 'extend', 'index', 'insert', 'pop', 'remove', 'reverse', 'sort']\n"
     ]
    }
   ],
   "source": [
    "print(f'Операции доступные результату {dir(list)}')"
   ]
  },
  {
   "cell_type": "markdown",
   "metadata": {},
   "source": [
    "\n",
    "# Задание 3\n",
    "Строка 65.\n",
    "\n",
    "def get_object_or_404(klass, *args, **kwargs):\n",
    "https://github.com/django/django/blob/stable/5.1.x/django/shortcuts.py#L65\n",
    "и\n",
    "строка 76\n",
    "https://github.com/django/django/blob/stable/5.1.x/django/shortcuts.py#L76\n",
    "параметр klass один и тот же?\n",
    "\n",
    "Я считаю, что нет потому что :(после кода новый вариант)"
   ]
  },
  {
   "cell_type": "code",
   "execution_count": null,
   "metadata": {},
   "outputs": [],
   "source": [
    "def _get_queryset(klass): #### отдельная функция => для нее нужно задавать отдельный параметр klass\n",
    "    \"\"\"\n",
    "    Return a QuerySet or a Manager.\n",
    "    Duck typing in action: any class with a `get()` method (for\n",
    "    get_object_or_404) or a `filter()` method (for get_list_or_404) might do\n",
    "    the job.\n",
    "    \"\"\"\n",
    "    # If it is a model class or anything else with ._default_manager\n",
    "    if hasattr(klass, \"_default_manager\"):\n",
    "        return klass._default_manager.all()\n",
    "    return klass\n",
    "\n",
    "\n",
    "def get_object_or_404(klass, *args, **kwargs): ##### отдельная функция => для нее нужно задавать отдельный параметр klass\n",
    "    \"\"\"\n",
    "    Use get() to return an object, or raise an Http404 exception if the object\n",
    "    does not exist.\n",
    "\n",
    "    klass may be a Model, Manager, or QuerySet object. All other passed\n",
    "    arguments and keyword arguments are used in the get() query.\n",
    "\n",
    "    Like with QuerySet.get(), MultipleObjectsReturned is raised if more than\n",
    "    one object is found.\n",
    "    \"\"\"\n",
    "    queryset = _get_queryset(klass) ### присвоение переменной, функции в самом начале этого отрезка кода=> параметр klass будет браться из функции _get_queryset, а не из  функции get_object_or_404\n",
    "    if not hasattr(queryset, \"get\"):\n",
    "        klass__name = (\n",
    "            klass.__name__ if isinstance(klass, type) else klass.__class__.__name__\n",
    "        )\n",
    "        raise ValueError(\n",
    "            \"First argument to get_object_or_404() must be a Model, Manager, \"\n",
    "            \"or QuerySet, not '%s'.\" % klass__name\n",
    "        )\n",
    "    try:\n",
    "        return queryset.get(*args, **kwargs)\n",
    "    except queryset.model.DoesNotExist:\n",
    "        raise Http404(\n",
    "            \"No %s matches the given query.\" % queryset.model._meta.object_name\n",
    "        )"
   ]
  },
  {
   "cell_type": "markdown",
   "metadata": {},
   "source": [
    "##### ВАЖНАЯ ПОМЕТКА, СНАЧАЛА Я ПОДУМАЛ НАД 3 ЗАДАНИЕМ, А ПОТОМ СДЕЛАЛ ВТОРОЕ И ПРОДУБЛИРУЮ СВОЕ МНЕНИЕ ПОСЛЕ :\n",
    "\n",
    "в \"родительской\" функции(основной функции, которая вызывает функцию внутри самой себя) параметры должны совпадать тк иначе параметр не будет объявлен=> параметр klass один и тот же "
   ]
  },
  {
   "cell_type": "markdown",
   "metadata": {},
   "source": [
    "## Основные этапы:\n",
    "\n",
    "\n",
    "\n",
    "### `Третий Этап`.\n",
    "\n",
    "**Разработка проекта и использование знаний.**\n",
    "\n",
    "-------------------------------------------------\n",
    "\n",
    "### `Этап второй.`\n",
    "\n",
    " **Берётся `реальный проект` и человек пишет реальный код.**\n",
    "\n",
    " **Работа `с реальным профессиональным кодом`.**\n",
    "\n",
    "**Работа `с абстракциями`.**\n",
    "\n",
    "**Работа над `оттачиваем технологий`.**\n",
    "\n",
    "\n",
    " **`Моя работа`: Я ставлю вопросы.**\n",
    "\n",
    "**`Почему работает`? - все проходит через мозги и опыт обучаемого.**\n",
    "\n",
    "--------------------------------------\n",
    "\n",
    "\n",
    "###  `Этап первый.`\n",
    "\n",
    "**`Как к этому этапу подойти?`**\n",
    "\n",
    "**Правильное, чтение, понимание, использование документация.**\n",
    "\n",
    "**Чтение и понимание Исходный кода.**\n",
    "\n",
    "**Написать код c головы, обязательное условие.**\n",
    "\n",
    "\n",
    "\n",
    "\n",
    "**400 вопросов и 7000 строк кода написано.**\n",
    "\n",
    "\n",
    "\n",
    "\n",
    "**Добиваться результата не формально, а реально, то есть подтвердить чтением в коде.**\n",
    "\n",
    "**Разные ЯП.**\n",
    "\n",
    "**У нас есть 4 контсрукции всего:**\n",
    "\n",
    "- Функция\n",
    "\n",
    "- Класс\n",
    "\n",
    "- Метод\n",
    "\n",
    "- Экземпляр"
   ]
  }
 ],
 "metadata": {
  "kernelspec": {
   "display_name": "Python 3",
   "language": "python",
   "name": "python3"
  },
  "language_info": {
   "codemirror_mode": {
    "name": "ipython",
    "version": 3
   },
   "file_extension": ".py",
   "mimetype": "text/x-python",
   "name": "python",
   "nbconvert_exporter": "python",
   "pygments_lexer": "ipython3",
   "version": "3.12.5"
  }
 },
 "nbformat": 4,
 "nbformat_minor": 4
}
